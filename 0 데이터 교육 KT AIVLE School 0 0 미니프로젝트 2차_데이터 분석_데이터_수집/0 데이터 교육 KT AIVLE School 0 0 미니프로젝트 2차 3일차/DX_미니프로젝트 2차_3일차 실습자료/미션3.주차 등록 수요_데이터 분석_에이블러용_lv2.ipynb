{
 "cells": [
  {
   "cell_type": "markdown",
   "metadata": {
    "id": "mJlY5pHkC2AM"
   },
   "source": [
    "# **Mission 3_주차 등록 수요 데이터 분석**"
   ]
  },
  {
   "cell_type": "markdown",
   "metadata": {},
   "source": [
    "## <미션>"
   ]
  },
  {
   "cell_type": "markdown",
   "metadata": {},
   "source": [
    "* 1. 데이터 기초 정보 확인하기\n",
    "    - 기초 통계량, NaN 값 확인 등 기본 분석 수행\n",
    "* 2. 단변량 분석 \n",
    "    - 수치형, 범주형 데이터\n",
    "    - 단일 변수로 분석 : 등록차량수, 총세대수, 버스정류장수, 지하철역수, 공가수, 임대료, 보증금\n",
    "    - 여러 변수를 묶어서 분석 : 건물구분, 공급유형\n",
    "* 3. 이변량 분석\n",
    "    - 수치형 vs 수치형\n",
    "        - 전체 상관계수를 구하고 시각화\n",
    "        - 상관계수가 높은 변수에 대한 산점도를 구하기\n",
    "    - 범주형 vs 수치형\n",
    "        - 범주 그룹간에 평균의 차이가 있는지 검증\n",
    "        - bar 그래프를 통해 평균의 차이를 시각화"
   ]
  },
  {
   "cell_type": "markdown",
   "metadata": {
    "id": "dWToio0hXNVS"
   },
   "source": [
    "## <환경설정 >"
   ]
  },
  {
   "cell_type": "markdown",
   "metadata": {
    "id": "KnzVh2LmkLDU"
   },
   "source": [
    "### &nbsp;&nbsp; 1) 라이브러리 불러오기"
   ]
  },
  {
   "cell_type": "markdown",
   "metadata": {},
   "source": [
    "* 기본적으로 필요한 라이브러리를 import 하도록 코드가 작성되어 있습니다.\n",
    "* 필요하다고 판단되는 라이브러리를 추가하세요."
   ]
  },
  {
   "cell_type": "code",
   "execution_count": null,
   "metadata": {
    "executionInfo": {
     "elapsed": 907,
     "status": "ok",
     "timestamp": 1672557593520,
     "user": {
      "displayName": "한기영",
      "userId": "13049187003176135487"
     },
     "user_tz": -540
    },
    "id": "3rsQerEaELwI"
   },
   "outputs": [],
   "source": [
    "import pandas as pd\n",
    "import numpy as np\n",
    "import matplotlib.pyplot as plt\n",
    "import seaborn as sns\n",
    "\n",
    "# 아래 필요한 라이브러리, 함수를 추가하시오.\n",
    "## 코드 입력\n",
    "\n"
   ]
  },
  {
   "cell_type": "markdown",
   "metadata": {},
   "source": [
    "### &nbsp;&nbsp; 2) 한글 폰트 설정하기"
   ]
  },
  {
   "cell_type": "code",
   "execution_count": null,
   "metadata": {
    "executionInfo": {
     "elapsed": 15,
     "status": "ok",
     "timestamp": 1672557593521,
     "user": {
      "displayName": "한기영",
      "userId": "13049187003176135487"
     },
     "user_tz": -540
    },
    "id": "44iV0nhcTkWx"
   },
   "outputs": [],
   "source": [
    "plt.rc('font', family='Malgun Gothic')\n",
    "plt.rcParams['axes.unicode_minus'] = False"
   ]
  },
  {
   "cell_type": "markdown",
   "metadata": {
    "id": "_i8MdGxwXWO7"
   },
   "source": [
    "### &nbsp;&nbsp; 3) 데이터 불러오기"
   ]
  },
  {
   "cell_type": "markdown",
   "metadata": {
    "id": "xgqYC01Azveq"
   },
   "source": [
    "* 파일명 : registerd_parking_preprocessed.csv\n",
    "* data 변수에 저장하기 "
   ]
  },
  {
   "cell_type": "code",
   "execution_count": null,
   "metadata": {
    "executionInfo": {
     "elapsed": 1310,
     "status": "ok",
     "timestamp": 1672558410670,
     "user": {
      "displayName": "한기영",
      "userId": "13049187003176135487"
     },
     "user_tz": -540
    },
    "id": "5UAfaN2SXCnD"
   },
   "outputs": [],
   "source": [
    "## 코드 입력\n",
    "\n"
   ]
  },
  {
   "cell_type": "markdown",
   "metadata": {
    "id": "OQsk3V6hXSjE"
   },
   "source": [
    "## 1. 데이터 기초 정보 확인하기"
   ]
  },
  {
   "cell_type": "markdown",
   "metadata": {
    "id": "wz7yC0Ys9B0c"
   },
   "source": [
    "- 데이터의 양, 컬럼명, 데이터 타입 확인하기\n",
    "- 데이터프레임 전체에 대한 기초통계량 구하기\n",
    "- 결측치가 있는지 확인하고, 결측치가 있는 경우 조치하기\n",
    "\n"
   ]
  },
  {
   "cell_type": "markdown",
   "metadata": {},
   "source": [
    "#### &nbsp;&nbsp; 1-1) 데이터프레임 크기 확인"
   ]
  },
  {
   "cell_type": "code",
   "execution_count": null,
   "metadata": {},
   "outputs": [],
   "source": [
    "## shape\n",
    "## 코드 입력\n",
    "\n",
    "\n"
   ]
  },
  {
   "cell_type": "markdown",
   "metadata": {},
   "source": [
    "#### &nbsp;&nbsp; 1-2) 컬럼명, 데이터 개수, 데이터 타입 확인"
   ]
  },
  {
   "cell_type": "code",
   "execution_count": null,
   "metadata": {},
   "outputs": [],
   "source": [
    "## info\n",
    "## 코드 입력\n",
    "\n"
   ]
  },
  {
   "cell_type": "markdown",
   "metadata": {},
   "source": [
    "#### &nbsp;&nbsp; 1-3) 기초통계 확인"
   ]
  },
  {
   "cell_type": "code",
   "execution_count": null,
   "metadata": {
    "colab": {
     "base_uri": "https://localhost:8080/",
     "height": 739
    },
    "executionInfo": {
     "elapsed": 424,
     "status": "ok",
     "timestamp": 1672558415790,
     "user": {
      "displayName": "한기영",
      "userId": "13049187003176135487"
     },
     "user_tz": -540
    },
    "id": "oDHLSjMK9Llc",
    "outputId": "deb80b60-850e-4fc2-96d6-8f86bb565956"
   },
   "outputs": [],
   "source": [
    "## describe\n",
    "## 코드 입력\n"
   ]
  },
  {
   "cell_type": "markdown",
   "metadata": {},
   "source": [
    "#### &nbsp;&nbsp; 1-4) 결측치(N/A) 개수 확인"
   ]
  },
  {
   "cell_type": "code",
   "execution_count": null,
   "metadata": {
    "colab": {
     "base_uri": "https://localhost:8080/"
    },
    "executionInfo": {
     "elapsed": 5,
     "status": "ok",
     "timestamp": 1672558418889,
     "user": {
      "displayName": "한기영",
      "userId": "13049187003176135487"
     },
     "user_tz": -540
    },
    "id": "d6Drzg0V9LhN",
    "outputId": "9012dc8b-5b2c-4d22-e0bd-3ee7c8a34e26"
   },
   "outputs": [],
   "source": [
    "## 결측치가 있는지 확인하기 : isna\n",
    "## 코드 입력\n",
    "\n"
   ]
  },
  {
   "cell_type": "code",
   "execution_count": null,
   "metadata": {},
   "outputs": [],
   "source": [
    "## 결측치가 있는 컬럼은 무엇인가요?\n"
   ]
  },
  {
   "cell_type": "code",
   "execution_count": null,
   "metadata": {
    "executionInfo": {
     "elapsed": 477,
     "status": "ok",
     "timestamp": 1672558422390,
     "user": {
      "displayName": "한기영",
      "userId": "13049187003176135487"
     },
     "user_tz": -540
    },
    "id": "npeLMuZ99Ldf"
   },
   "outputs": [],
   "source": [
    "## 결측치 처리 : dropna, fillna\n",
    "## 코드 입력\n",
    "\n"
   ]
  },
  {
   "cell_type": "code",
   "execution_count": null,
   "metadata": {},
   "outputs": [],
   "source": [
    "## 결측치 처리 결과 확인하기 : info\n",
    "## 코드 입력\n",
    "\n"
   ]
  },
  {
   "cell_type": "markdown",
   "metadata": {},
   "source": [
    "<br><br><hr>"
   ]
  },
  {
   "cell_type": "markdown",
   "metadata": {
    "id": "jImSiMfNOZVV"
   },
   "source": [
    "##  2. 단변량 분석\n",
    "\n"
   ]
  },
  {
   "cell_type": "markdown",
   "metadata": {},
   "source": [
    "#### &nbsp;&nbsp; 2-1)  등록 차량수"
   ]
  },
  {
   "cell_type": "code",
   "execution_count": null,
   "metadata": {},
   "outputs": [],
   "source": [
    "## '등록차량수' 변수의 기초통계량 확인\n",
    "## 코드 입력\n",
    "\n",
    "\n",
    "## 2행 1열 그래프 그리기\n",
    "## '등록차량수' 변수의 histplot그리기\n",
    "## 코드 입력\n",
    "\n",
    "\n",
    "\n",
    "## '등록차량수' 변수의 boxplot 그리기\n",
    "## 코드 입력\n",
    "\n",
    "\n"
   ]
  },
  {
   "cell_type": "code",
   "execution_count": null,
   "metadata": {},
   "outputs": [],
   "source": [
    "## boxplot의 whiskers 값 구하기\n",
    "## 코드 입력\n",
    "\n"
   ]
  },
  {
   "cell_type": "markdown",
   "metadata": {
    "id": "BP8iBi7We3AI"
   },
   "source": [
    "#### &nbsp;&nbsp; 2-2) 수치형 데이터"
   ]
  },
  {
   "cell_type": "markdown",
   "metadata": {
    "id": "xfgLLlNcg6s9"
   },
   "source": [
    "* 기초 통계량 분석\n",
    "* 그래프 : boxplot, histplot"
   ]
  },
  {
   "cell_type": "markdown",
   "metadata": {},
   "source": [
    "##### &nbsp; &nbsp; &nbsp; &nbsp; 2-2-1) 총 세대수"
   ]
  },
  {
   "cell_type": "code",
   "execution_count": null,
   "metadata": {},
   "outputs": [],
   "source": [
    "## 기초통계량 확인\n",
    "## 코드 입력\n",
    "\n",
    "\n",
    "##  histplot\n",
    "## 코드 입력\n",
    "\n",
    "\n",
    "## boxplot \n",
    "## 코드 입력\n",
    "\n",
    "\n"
   ]
  },
  {
   "cell_type": "markdown",
   "metadata": {
    "id": "3it-o0L2Ug-2"
   },
   "source": [
    "##### &nbsp; &nbsp; &nbsp; &nbsp; 2-2-2) 공가수"
   ]
  },
  {
   "cell_type": "code",
   "execution_count": null,
   "metadata": {},
   "outputs": [],
   "source": [
    "## 기초통계량 확인\n",
    "## 코드 입력\n",
    "\n",
    "\n",
    "##  histplot\n",
    "## 코드 입력\n",
    "\n",
    "\n",
    "\n",
    "## boxplot \n",
    "## 코드 입력\n",
    "\n",
    "\n"
   ]
  },
  {
   "cell_type": "markdown",
   "metadata": {
    "id": "eoDd-ZD4Q8Iv"
   },
   "source": [
    "##### &nbsp; &nbsp; &nbsp; &nbsp; 2-2-3) 지하철역 수"
   ]
  },
  {
   "cell_type": "code",
   "execution_count": null,
   "metadata": {},
   "outputs": [],
   "source": [
    "## 기초통계량 확인\n",
    "## 코드 입력\n",
    "\n",
    "\n",
    "\n",
    "##  histplot\n",
    "## 코드 입력\n",
    "\n",
    "\n",
    "\n",
    "## boxplot \n",
    "## 코드 입력\n",
    "\n",
    "\n"
   ]
  },
  {
   "cell_type": "markdown",
   "metadata": {
    "id": "uxm1le7aRLu7"
   },
   "source": [
    "##### &nbsp; &nbsp; &nbsp; &nbsp; 2-2-4) 버스정류장수"
   ]
  },
  {
   "cell_type": "code",
   "execution_count": null,
   "metadata": {},
   "outputs": [],
   "source": [
    "## 기초통계량 확인\n",
    "## 코드 입력\n",
    "\n",
    "\n",
    "##  histplot\n",
    "## 코드 입력\n",
    "\n",
    "\n",
    "## boxplot \n",
    "## 코드 입력\n",
    "\n",
    "\n"
   ]
  },
  {
   "cell_type": "markdown",
   "metadata": {
    "id": "M0gzkeIiRdgH"
   },
   "source": [
    "##### &nbsp; &nbsp; &nbsp; &nbsp; 2-2-5) 임대료"
   ]
  },
  {
   "cell_type": "code",
   "execution_count": null,
   "metadata": {},
   "outputs": [],
   "source": [
    "## 기초통계량 확인\n",
    "## 코드 입력\n",
    "\n",
    "\n",
    "##  histplot\n",
    "## 코드 입력\n",
    "\n",
    "\n",
    "## boxplot \n",
    "## 코드 입력\n",
    "\n",
    "\n"
   ]
  },
  {
   "cell_type": "markdown",
   "metadata": {
    "id": "GNay5QOfRldG"
   },
   "source": [
    "##### &nbsp; &nbsp; &nbsp; &nbsp; 2-2-6) 임대보증금"
   ]
  },
  {
   "cell_type": "code",
   "execution_count": null,
   "metadata": {},
   "outputs": [],
   "source": [
    "## 기초통계량 확인\n",
    "## 코드 입력\n",
    "\n",
    "\n",
    "##  histplot\n",
    "## 코드 입력\n",
    "\n",
    "\n",
    "\n",
    "## boxplot \n",
    "## 코드 입력\n",
    "\n",
    "\n"
   ]
  },
  {
   "cell_type": "markdown",
   "metadata": {},
   "source": [
    "#### &nbsp;&nbsp; 2-3) 수치형 데이터 - pivot 테이블로 구성된 데이터를 재구성하여 분석하기"
   ]
  },
  {
   "cell_type": "markdown",
   "metadata": {},
   "source": [
    "* pd.melt 활용\n",
    "    * pivot table 형태로 구성된 데이터프레임을 구분자(variable)와 값(value)로 재구성하기\n",
    "    * pd.melt(dataframe명, id_vars = [identifier로 사용될 컬럼명], value_vars = [구분자로 쓰일 컬럼명] )\n",
    "* 기초 통계량 분석\n",
    "* 그래프 : boxplot, barplot"
   ]
  },
  {
   "cell_type": "markdown",
   "metadata": {
    "id": "15Cf-ZNPR5s2"
   },
   "source": [
    "##### &nbsp; &nbsp; &nbsp; &nbsp; 2-3-1) 전용면적 구간별 세대수"
   ]
  },
  {
   "cell_type": "code",
   "execution_count": null,
   "metadata": {},
   "outputs": [],
   "source": [
    "data.columns"
   ]
  },
  {
   "cell_type": "code",
   "execution_count": null,
   "metadata": {
    "executionInfo": {
     "elapsed": 405,
     "status": "ok",
     "timestamp": 1672559476029,
     "user": {
      "displayName": "한기영",
      "userId": "13049187003176135487"
     },
     "user_tz": -540
    },
    "id": "UZe6adOoT8I6"
   },
   "outputs": [],
   "source": [
    "## 단지코드와 전용면적에 관련된 column 추출하기 \n",
    "## area_data 변수에 저장\n",
    "## 코드 입력\n",
    "\n"
   ]
  },
  {
   "cell_type": "code",
   "execution_count": null,
   "metadata": {
    "colab": {
     "base_uri": "https://localhost:8080/",
     "height": 206
    },
    "executionInfo": {
     "elapsed": 5,
     "status": "ok",
     "timestamp": 1672559720604,
     "user": {
      "displayName": "한기영",
      "userId": "13049187003176135487"
     },
     "user_tz": -540
    },
    "id": "Ci4gBWD6TSbH",
    "outputId": "51d285de-c5aa-42db-99e8-c904de2795b9"
   },
   "outputs": [],
   "source": [
    "## 전용면적에 관련된 컬럼들을 pd.melt로 재구성하기\n",
    "## melt_area_data 변수에 저장\n",
    "## column명 변경하기 : 'variable' : '전용면적구간', 'value' : '세대수'\n",
    "## 코드 입력\n",
    "\n",
    "\n"
   ]
  },
  {
   "cell_type": "code",
   "execution_count": null,
   "metadata": {},
   "outputs": [],
   "source": [
    "## 기초통계량 확인\n",
    "## 코드 입력\n",
    "\n",
    "\n",
    "##  histplot\n",
    "## 코드 입력\n",
    "\n",
    "\n",
    "\n",
    "## boxplot \n",
    "## 코드 입력\n",
    "\n",
    "\n"
   ]
  },
  {
   "cell_type": "markdown",
   "metadata": {},
   "source": [
    "##### &nbsp; &nbsp; &nbsp; &nbsp; 2-3-2) 건물구분별 면적 비율"
   ]
  },
  {
   "cell_type": "code",
   "execution_count": null,
   "metadata": {},
   "outputs": [],
   "source": [
    "data.columns"
   ]
  },
  {
   "cell_type": "code",
   "execution_count": null,
   "metadata": {
    "executionInfo": {
     "elapsed": 473,
     "status": "ok",
     "timestamp": 1672559875613,
     "user": {
      "displayName": "한기영",
      "userId": "13049187003176135487"
     },
     "user_tz": -540
    },
    "id": "qoihzzNPVWxl"
   },
   "outputs": [],
   "source": [
    "## 단지코드와  건물구분(상가, 아파트)에 관련된 column 추출하기 \n",
    "## building_data 변수에 저장\n",
    "## 코드 입력\n",
    "\n"
   ]
  },
  {
   "cell_type": "code",
   "execution_count": null,
   "metadata": {
    "colab": {
     "base_uri": "https://localhost:8080/",
     "height": 206
    },
    "executionInfo": {
     "elapsed": 4,
     "status": "ok",
     "timestamp": 1672559876191,
     "user": {
      "displayName": "한기영",
      "userId": "13049187003176135487"
     },
     "user_tz": -540
    },
    "id": "5FfcLdeNVWxl",
    "outputId": "223379ea-af65-4fea-f4ba-7812de2fc50d"
   },
   "outputs": [],
   "source": [
    "## 건물구분에 관련된 컬럼들을 pd.melt로 재구성하기\n",
    "## melt_building_data 변수에 저장\n",
    "## column명 변경하기 : {'variable' : '건물구분', 'value' : '면적비율'}\n",
    "## 코드 입력\n",
    "\n",
    "\n"
   ]
  },
  {
   "cell_type": "code",
   "execution_count": null,
   "metadata": {},
   "outputs": [],
   "source": [
    "## melt_building_data의 '면적비율'에 대한 기초통계량 확인\n",
    "## 코드 입력\n",
    "\n",
    "\n",
    "## 범주별(상가/아파트) '면적비율' 기초 통계량 확인\n",
    "## 코드 입력\n",
    "\n"
   ]
  },
  {
   "cell_type": "code",
   "execution_count": null,
   "metadata": {},
   "outputs": [],
   "source": [
    "## 그래프 분석 \n",
    "##  histplot\n",
    "## 코드 입력\n",
    "\n",
    "\n",
    "\n",
    "## boxplot \n",
    "## 코드 입력\n",
    "\n",
    "\n",
    "\n"
   ]
  },
  {
   "cell_type": "markdown",
   "metadata": {
    "id": "R5cr6cr2VsiY"
   },
   "source": [
    "##### &nbsp; &nbsp; &nbsp; &nbsp; 2-3-3) 공급유형별 면적 비율"
   ]
  },
  {
   "cell_type": "code",
   "execution_count": null,
   "metadata": {
    "colab": {
     "base_uri": "https://localhost:8080/"
    },
    "executionInfo": {
     "elapsed": 380,
     "status": "ok",
     "timestamp": 1672559845458,
     "user": {
      "displayName": "한기영",
      "userId": "13049187003176135487"
     },
     "user_tz": -540
    },
    "id": "yCUV3RiIVsiZ",
    "outputId": "d1880221-ac67-4ce6-e2dc-ac21a75b67bb"
   },
   "outputs": [],
   "source": [
    "data.columns"
   ]
  },
  {
   "cell_type": "code",
   "execution_count": null,
   "metadata": {
    "executionInfo": {
     "elapsed": 527,
     "status": "ok",
     "timestamp": 1672559956523,
     "user": {
      "displayName": "한기영",
      "userId": "13049187003176135487"
     },
     "user_tz": -540
    },
    "id": "eSJCiVXKVsiZ"
   },
   "outputs": [],
   "source": [
    "## 단지코드와  공급유형에 관련된 column 추출하기 \n",
    "## supply_data 변수에 저장\n",
    "## 코드 입력\n",
    "\n"
   ]
  },
  {
   "cell_type": "code",
   "execution_count": null,
   "metadata": {
    "colab": {
     "base_uri": "https://localhost:8080/",
     "height": 206
    },
    "executionInfo": {
     "elapsed": 4,
     "status": "ok",
     "timestamp": 1672559958200,
     "user": {
      "displayName": "한기영",
      "userId": "13049187003176135487"
     },
     "user_tz": -540
    },
    "id": "eVZsn7PoVsiZ",
    "outputId": "cdadaf33-5b5e-4035-e789-5b6dc69a1015"
   },
   "outputs": [],
   "source": [
    "## 건물구분에 관련된 컬럼들을 pd.melt로 재구성하기\n",
    "## melt_supply_data 변수에 저장\n",
    "## column명 변경하기 : {'variable' : '공급유형', 'value' : '면적비율'}\n",
    "## 코드 입력\n",
    "\n"
   ]
  },
  {
   "cell_type": "code",
   "execution_count": null,
   "metadata": {},
   "outputs": [],
   "source": [
    "## 기초통계량 확인\n",
    "## 코드 입력\n",
    "\n",
    "\n",
    "##  histplot\n",
    "## 코드 입력\n",
    "\n",
    "\n",
    "## boxplot \n",
    "## 코드 입력\n",
    "\n"
   ]
  },
  {
   "cell_type": "markdown",
   "metadata": {},
   "source": [
    "#### &nbsp;&nbsp; 2-4) 범주형 데이터 "
   ]
  },
  {
   "cell_type": "markdown",
   "metadata": {},
   "source": [
    "   * 분석 방법 : 범주별 빈도수, countplot"
   ]
  },
  {
   "cell_type": "markdown",
   "metadata": {},
   "source": [
    "##### &nbsp; &nbsp; &nbsp; &nbsp; 2-4-1) 지역"
   ]
  },
  {
   "cell_type": "code",
   "execution_count": null,
   "metadata": {},
   "outputs": [],
   "source": [
    "## 범주형 변수의 범주별 빈도수 확인하기 : value_counts()\n",
    "## 코드 입력\n",
    "\n",
    "\n",
    "\n",
    "## 그래프 분석하기 : countplot()\n",
    "## 코드 입력\n",
    "\n"
   ]
  },
  {
   "cell_type": "markdown",
   "metadata": {},
   "source": [
    "## [정리] 단변량 분석을 통해 파악된 비즈니스 인사이트는 무엇인가요?"
   ]
  },
  {
   "cell_type": "code",
   "execution_count": null,
   "metadata": {},
   "outputs": [],
   "source": []
  },
  {
   "cell_type": "markdown",
   "metadata": {},
   "source": [
    "<br><br><hr>"
   ]
  },
  {
   "cell_type": "markdown",
   "metadata": {
    "id": "fOQ962HoVhn_"
   },
   "source": [
    "## 3. 이변량 분석"
   ]
  },
  {
   "cell_type": "markdown",
   "metadata": {},
   "source": [
    "- 수치형 feature --> 수치형 target\n",
    "    - 전체 변수들 간의 상관관계 구하기\n",
    "        * 범주형 변수를 제외한 데이터셋을 이용하여\n",
    "        * .corr() + sns.heatmap() 으로 전체 상관계수를 시각화\n",
    "    - 상관계수 상위 몇개에 대해서 feature와 target에 대해 \n",
    "        * 상관분석을 통해 상관계수가 유의미함을 분석\n",
    "        * 산점도를 통해 상관관계를 시각화하여 분석\n",
    "- 범주형 feature --> 수치형 target\n",
    "    * 범주간에 target의 평균의 차이가 있는지 분석\n",
    "    * 범주별 barplot으로 평균의 차이를 시각화하여 분석"
   ]
  },
  {
   "cell_type": "markdown",
   "metadata": {
    "id": "xSiZUWH-adt3"
   },
   "source": [
    "#### &nbsp;&nbsp; 3-1) 수치형 feature --> 수치형 target"
   ]
  },
  {
   "cell_type": "markdown",
   "metadata": {},
   "source": [
    "##### &nbsp; &nbsp; &nbsp; &nbsp; 3-1-1) 전체 수치형 변수들 간의 상관관계 분석"
   ]
  },
  {
   "cell_type": "markdown",
   "metadata": {},
   "source": [
    "* 숫자형 데이터의 상호 상관관계"
   ]
  },
  {
   "cell_type": "code",
   "execution_count": null,
   "metadata": {},
   "outputs": [],
   "source": [
    "# 수치형 변수 리스트 정의\n",
    "## 코드 입력\n",
    "\n"
   ]
  },
  {
   "cell_type": "markdown",
   "metadata": {},
   "source": [
    "* 숫자형 데이터의 상호 상관관계"
   ]
  },
  {
   "cell_type": "code",
   "execution_count": null,
   "metadata": {},
   "outputs": [],
   "source": [
    "## 데이터 프레임의 상관계수 도출하기 : corr\n",
    "## 코드 입력\n",
    "\n"
   ]
  },
  {
   "cell_type": "markdown",
   "metadata": {},
   "source": [
    "* 상관계수 시각화 "
   ]
  },
  {
   "cell_type": "code",
   "execution_count": null,
   "metadata": {
    "colab": {
     "base_uri": "https://localhost:8080/",
     "height": 787
    },
    "executionInfo": {
     "elapsed": 2514,
     "status": "ok",
     "timestamp": 1672560412569,
     "user": {
      "displayName": "한기영",
      "userId": "13049187003176135487"
     },
     "user_tz": -540
    },
    "id": "-1rK0YyKVoGt",
    "outputId": "b4f83ee8-5792-46fa-8689-c1fa344f7073"
   },
   "outputs": [],
   "source": [
    "## 각 컬럼간 상관계수에 대한 heatmap 그래프 분석\n",
    "## 코드 입력\n",
    "\n"
   ]
  },
  {
   "cell_type": "markdown",
   "metadata": {},
   "source": [
    "* <span style=\"color:green\"> 질문) Target 등록차량수와 상관 관계가 높은 Feature 컬럼은 무엇인가? (7개 선택)"
   ]
  },
  {
   "cell_type": "code",
   "execution_count": null,
   "metadata": {},
   "outputs": [],
   "source": []
  },
  {
   "cell_type": "markdown",
   "metadata": {},
   "source": [
    "### target과 상관계수 상위 5개 살펴보기"
   ]
  },
  {
   "cell_type": "markdown",
   "metadata": {
    "id": "h08diU34eG-K"
   },
   "source": [
    "##### &nbsp; &nbsp; &nbsp; &nbsp; 3-1-2) 수치형 vs 수치형 (등록차량수) 분석"
   ]
  },
  {
   "cell_type": "markdown",
   "metadata": {},
   "source": [
    "* 통계 분석 : 상관분석\n",
    "* 그래프 분석 : regplot"
   ]
  },
  {
   "cell_type": "code",
   "execution_count": null,
   "metadata": {},
   "outputs": [],
   "source": [
    "## 가설 수립\n",
    "## 귀무 가설(H0) :\n",
    "## 대립 가설(H1) : "
   ]
  },
  {
   "cell_type": "code",
   "execution_count": null,
   "metadata": {},
   "outputs": [],
   "source": [
    "# 상위 5개 변수 정의\n",
    "## 코드 입력\n",
    "\n"
   ]
  },
  {
   "cell_type": "code",
   "execution_count": null,
   "metadata": {},
   "outputs": [],
   "source": [
    "## 코드 입력\n",
    "\n",
    "for feature in :\n",
    "\n",
    "    print(f\"[{feature}] 통계 분석 및 그래프 분석\")\n",
    "\n",
    "    # 통계 분석 : 통계 분석\n",
    "\n",
    "    print(\"   ***** 통계 분석 *****\")\n",
    "    ## 코드 입력\n",
    "    \n",
    "    print(feature, \" vs \", target, \" 상관 분석: \",    )\n",
    "    \n",
    "    if result[1] > 0.05:\n",
    "        print(f\"통계분석 결과 : {feature}는 등록차량수에 영향을 주지 않는다\")\n",
    "    else:\n",
    "        print(f\"통계분석 결과 : {feature}는 등록차량수에 영향을 준다\")\n",
    "\n",
    "    # 그래프 분석 : regplot\n",
    "\n",
    "    # plt.figure(figsize = (12,8))\n",
    "    print(\"   ***** 그래프 분석 *****\")\n",
    "    ## 코드 입력\n",
    "    \n",
    "    \n",
    "    print(\"\")\n",
    "    print(\"-\"*50)\n",
    "    "
   ]
  },
  {
   "cell_type": "markdown",
   "metadata": {
    "id": "YnTQ6L_ZYruP"
   },
   "source": [
    "#### &nbsp;&nbsp; 3-2) 범주형 feature -> 수치형 target"
   ]
  },
  {
   "cell_type": "markdown",
   "metadata": {},
   "source": [
    "##### &nbsp; &nbsp; &nbsp; &nbsp; 3-2-1) 지역"
   ]
  },
  {
   "cell_type": "code",
   "execution_count": null,
   "metadata": {},
   "outputs": [],
   "source": [
    "## 가설 수립\n",
    "## 귀무 가설(H0) :\n",
    "## 대립 가설(H1) : "
   ]
  },
  {
   "cell_type": "code",
   "execution_count": null,
   "metadata": {
    "colab": {
     "base_uri": "https://localhost:8080/",
     "height": 500
    },
    "executionInfo": {
     "elapsed": 1685,
     "status": "ok",
     "timestamp": 1672560772821,
     "user": {
      "displayName": "한기영",
      "userId": "13049187003176135487"
     },
     "user_tz": -540
    },
    "id": "t_9FhPODiNHy",
    "outputId": "28f4a266-29c9-4819-b182-7078dc6c6efd"
   },
   "outputs": [],
   "source": [
    "## 그래프 분석 : barplot\n",
    "## 코드 입력\n",
    "\n"
   ]
  },
  {
   "cell_type": "code",
   "execution_count": null,
   "metadata": {},
   "outputs": [],
   "source": [
    "# 분산 분석\n",
    "## 코드 입력\n",
    "\n",
    "\n"
   ]
  },
  {
   "cell_type": "markdown",
   "metadata": {},
   "source": [
    "## [정리] 이변량 분석을 통해 파악된 비즈니스 인사이트는 무엇인가요?"
   ]
  },
  {
   "cell_type": "code",
   "execution_count": null,
   "metadata": {},
   "outputs": [],
   "source": []
  },
  {
   "cell_type": "markdown",
   "metadata": {},
   "source": [
    "## <font color=\"orange\">**4. 도전 미션** </font> "
   ]
  },
  {
   "cell_type": "markdown",
   "metadata": {},
   "source": [
    "#### &nbsp;&nbsp; target을 '등록차량수_비율'로 바꿔 분석하기"
   ]
  },
  {
   "cell_type": "markdown",
   "metadata": {},
   "source": [
    "  - 데이터프레임을 re_data에 복사하고, '등록차량수_비율' 열 추가 : '등록차량수' / '총세대수'\n",
    "  - '등록차량수_비율'에 대한 단변량 분석\n",
    "  - 전체 수치형 데이터에 대한 상관 관계 분석\n",
    "  - Target '등록차량수_비율'에 영향을 미치는 상위 5개 선정 및 이변량 분석\n",
    "  - 비즈니스 인사이트 도출"
   ]
  },
  {
   "cell_type": "markdown",
   "metadata": {},
   "source": [
    "##### &nbsp; &nbsp; &nbsp; &nbsp; 4-1) '등록차량수_비율' 열 추가"
   ]
  },
  {
   "cell_type": "code",
   "execution_count": null,
   "metadata": {},
   "outputs": [],
   "source": [
    "## 코드 입력\n",
    "\n"
   ]
  },
  {
   "cell_type": "markdown",
   "metadata": {},
   "source": [
    "##### &nbsp; &nbsp; &nbsp; &nbsp; 4-2) '등록차량수_비율'에 대한 단변량 분석"
   ]
  },
  {
   "cell_type": "code",
   "execution_count": null,
   "metadata": {},
   "outputs": [],
   "source": [
    "## '등록차량수' 변수의 기초통계량 확인\n",
    "## 코드 입력\n",
    "\n",
    "\n",
    "## 2행 1열 그래프 그리기\n",
    "\n",
    "## '등록차량수' 변수의 histplot그리기\n",
    "## 코드 입력\n",
    "\n",
    "\n",
    "## '등록차량수' 변수의 boxplot 그리기\n",
    "## 코드 입력\n",
    "\n"
   ]
  },
  {
   "cell_type": "markdown",
   "metadata": {},
   "source": [
    "##### &nbsp; &nbsp; &nbsp; &nbsp; 4-3) 모든 수치형 데이터에 대한 상관관계 분석"
   ]
  },
  {
   "cell_type": "code",
   "execution_count": null,
   "metadata": {},
   "outputs": [],
   "source": [
    "## 코드 입력\n",
    "\n",
    "\n"
   ]
  },
  {
   "cell_type": "markdown",
   "metadata": {},
   "source": [
    "##### &nbsp; &nbsp; &nbsp; &nbsp; 4-4) 상위 5개 선정 및 이변량 분석 "
   ]
  },
  {
   "cell_type": "code",
   "execution_count": null,
   "metadata": {},
   "outputs": [],
   "source": [
    "## 코드 입력\n",
    "\n",
    "\n",
    "for feature in analyze_features:\n",
    "\n",
    "   ## 코드 입력\n",
    "\n",
    "    "
   ]
  },
  {
   "cell_type": "markdown",
   "metadata": {},
   "source": [
    "## [정리] 새로운 Target에 대한 데이터 분석을 통해 파악된 비즈니스 인사이트는 무엇인가요?"
   ]
  },
  {
   "cell_type": "code",
   "execution_count": null,
   "metadata": {},
   "outputs": [],
   "source": []
  },
  {
   "cell_type": "markdown",
   "metadata": {},
   "source": [
    "## <font color=\"green\"> **Mission Clear** </font> &nbsp; &nbsp; 수고하셨습니다!!"
   ]
  }
 ],
 "metadata": {
  "colab": {
   "collapsed_sections": [
    "BP8iBi7We3AI",
    "IQABwmxtQzVO",
    "3it-o0L2Ug-2",
    "eoDd-ZD4Q8Iv",
    "GNay5QOfRldG",
    "15Cf-ZNPR5s2",
    "EPL23eckVWxk"
   ],
   "provenance": [],
   "toc_visible": true
  },
  "kernelspec": {
   "display_name": "Python 3 (ipykernel)",
   "language": "python",
   "name": "python3"
  },
  "language_info": {
   "codemirror_mode": {
    "name": "ipython",
    "version": 3
   },
   "file_extension": ".py",
   "mimetype": "text/x-python",
   "name": "python",
   "nbconvert_exporter": "python",
   "pygments_lexer": "ipython3",
   "version": "3.11.3"
  }
 },
 "nbformat": 4,
 "nbformat_minor": 4
}
