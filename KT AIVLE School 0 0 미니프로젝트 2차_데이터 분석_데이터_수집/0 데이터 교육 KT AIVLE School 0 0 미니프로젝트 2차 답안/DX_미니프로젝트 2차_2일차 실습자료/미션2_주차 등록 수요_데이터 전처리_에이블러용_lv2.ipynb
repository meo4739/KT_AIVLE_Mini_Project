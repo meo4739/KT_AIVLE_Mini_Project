{
 "cells": [
  {
   "cell_type": "markdown",
   "metadata": {
    "id": "mJlY5pHkC2AM"
   },
   "source": [
    "# **Mission 2_주차 등록 수요 데이터 전처리**"
   ]
  },
  {
   "cell_type": "markdown",
   "metadata": {},
   "source": [
    "## <미션>"
   ]
  },
  {
   "cell_type": "markdown",
   "metadata": {
    "id": "7Mnp40gLnyM5"
   },
   "source": [
    " 1) [단지별 공통 정보]와 [단지 상세 정보]를 분리하기\n",
    " 2) 범주형 변수의 category 수 줄이기\n",
    " 3) [단지별 공통 정보]의 중복행 제거\n",
    " 4) [단지 상세 정보] 집계를 통해 단지별 정보 구하기 \n",
    "      * 전용면적 구간별 총 세대수\n",
    "      * 단지별 임대보증금, 임대료\n",
    "      * 임대건물구분 비율 (면적 비율)\n",
    "      * 공급 유형 비율 (면적 비율)\n",
    " 5) [단지별 공통 정보]와 [단지 상세 정보]의 집계 내용을 합치기 "
   ]
  },
  {
   "cell_type": "code",
   "execution_count": null,
   "metadata": {},
   "outputs": [],
   "source": []
  },
  {
   "cell_type": "markdown",
   "metadata": {
    "id": "dWToio0hXNVS"
   },
   "source": [
    "## <환경설정>"
   ]
  },
  {
   "cell_type": "markdown",
   "metadata": {
    "id": "KnzVh2LmkLDU"
   },
   "source": [
    "### &nbsp;&nbsp; 1) 라이브러리 불러오기"
   ]
  },
  {
   "cell_type": "markdown",
   "metadata": {
    "id": "I_rCs78QJZmI"
   },
   "source": [
    "* 기본적으로 필요한 라이브러리를 import 하도록 코드가 작성되어 있습니다.\n",
    "* 필요하다고 판단되는 라이브러리를 추가하세요."
   ]
  },
  {
   "cell_type": "code",
   "execution_count": 1,
   "metadata": {
    "id": "3rsQerEaELwI"
   },
   "outputs": [],
   "source": [
    "import pandas as pd\n",
    "import numpy as np\n",
    "import matplotlib.pyplot as plt\n",
    "import seaborn as sns\n",
    "\n",
    "# 아래 필요한 라이브러리, 함수를 추가하시오.\n"
   ]
  },
  {
   "cell_type": "markdown",
   "metadata": {},
   "source": [
    "### &nbsp;&nbsp; 2) 한글 폰트 설정하기"
   ]
  },
  {
   "cell_type": "code",
   "execution_count": 2,
   "metadata": {},
   "outputs": [],
   "source": [
    "plt.rc('font', family='Malgun Gothic')\n",
    "plt.rcParams['axes.unicode_minus'] = False"
   ]
  },
  {
   "cell_type": "markdown",
   "metadata": {
    "id": "bA-eHXdwBDCz"
   },
   "source": [
    "### &nbsp;&nbsp; 3) 데이터 불러오기"
   ]
  },
  {
   "cell_type": "markdown",
   "metadata": {
    "id": "9OkifR5rnr2D"
   },
   "source": [
    "* 파일명 : registered_parking_car.csv\n",
    "* data 변수에 저장하기 "
   ]
  },
  {
   "cell_type": "code",
   "execution_count": 3,
   "metadata": {
    "colab": {
     "base_uri": "https://localhost:8080/",
     "height": 206
    },
    "executionInfo": {
     "elapsed": 808,
     "status": "ok",
     "timestamp": 1672566187814,
     "user": {
      "displayName": "한기영",
      "userId": "13049187003176135487"
     },
     "user_tz": -540
    },
    "id": "5UAfaN2SXCnD",
    "outputId": "3477911d-58a9-4fee-e24a-2e60fb3d7580"
   },
   "outputs": [
    {
     "data": {
      "text/html": [
       "<div>\n",
       "<style scoped>\n",
       "    .dataframe tbody tr th:only-of-type {\n",
       "        vertical-align: middle;\n",
       "    }\n",
       "\n",
       "    .dataframe tbody tr th {\n",
       "        vertical-align: top;\n",
       "    }\n",
       "\n",
       "    .dataframe thead th {\n",
       "        text-align: right;\n",
       "    }\n",
       "</style>\n",
       "<table border=\"1\" class=\"dataframe\">\n",
       "  <thead>\n",
       "    <tr style=\"text-align: right;\">\n",
       "      <th></th>\n",
       "      <th>단지코드</th>\n",
       "      <th>총세대수</th>\n",
       "      <th>임대건물구분</th>\n",
       "      <th>지역</th>\n",
       "      <th>공급유형</th>\n",
       "      <th>전용면적</th>\n",
       "      <th>전용면적별세대수</th>\n",
       "      <th>공가수</th>\n",
       "      <th>자격유형</th>\n",
       "      <th>임대보증금</th>\n",
       "      <th>임대료</th>\n",
       "      <th>도보 10분거리 내 지하철역 수(환승노선 수 반영)</th>\n",
       "      <th>도보 10분거리 내 버스정류장 수</th>\n",
       "      <th>단지내주차면수</th>\n",
       "      <th>등록차량수</th>\n",
       "    </tr>\n",
       "  </thead>\n",
       "  <tbody>\n",
       "    <tr>\n",
       "      <th>0</th>\n",
       "      <td>C2483</td>\n",
       "      <td>900</td>\n",
       "      <td>아파트</td>\n",
       "      <td>경상북도</td>\n",
       "      <td>국민임대</td>\n",
       "      <td>39.72</td>\n",
       "      <td>134</td>\n",
       "      <td>38.0</td>\n",
       "      <td>A</td>\n",
       "      <td>15667000</td>\n",
       "      <td>103680</td>\n",
       "      <td>0.0</td>\n",
       "      <td>3.0</td>\n",
       "      <td>1425.0</td>\n",
       "      <td>1015.0</td>\n",
       "    </tr>\n",
       "    <tr>\n",
       "      <th>1</th>\n",
       "      <td>C2483</td>\n",
       "      <td>900</td>\n",
       "      <td>아파트</td>\n",
       "      <td>경상북도</td>\n",
       "      <td>국민임대</td>\n",
       "      <td>39.72</td>\n",
       "      <td>15</td>\n",
       "      <td>38.0</td>\n",
       "      <td>A</td>\n",
       "      <td>15667000</td>\n",
       "      <td>103680</td>\n",
       "      <td>0.0</td>\n",
       "      <td>3.0</td>\n",
       "      <td>1425.0</td>\n",
       "      <td>1015.0</td>\n",
       "    </tr>\n",
       "    <tr>\n",
       "      <th>2</th>\n",
       "      <td>C2483</td>\n",
       "      <td>900</td>\n",
       "      <td>아파트</td>\n",
       "      <td>경상북도</td>\n",
       "      <td>국민임대</td>\n",
       "      <td>51.93</td>\n",
       "      <td>385</td>\n",
       "      <td>38.0</td>\n",
       "      <td>A</td>\n",
       "      <td>27304000</td>\n",
       "      <td>184330</td>\n",
       "      <td>0.0</td>\n",
       "      <td>3.0</td>\n",
       "      <td>1425.0</td>\n",
       "      <td>1015.0</td>\n",
       "    </tr>\n",
       "    <tr>\n",
       "      <th>3</th>\n",
       "      <td>C2483</td>\n",
       "      <td>900</td>\n",
       "      <td>아파트</td>\n",
       "      <td>경상북도</td>\n",
       "      <td>국민임대</td>\n",
       "      <td>51.93</td>\n",
       "      <td>15</td>\n",
       "      <td>38.0</td>\n",
       "      <td>A</td>\n",
       "      <td>27304000</td>\n",
       "      <td>184330</td>\n",
       "      <td>0.0</td>\n",
       "      <td>3.0</td>\n",
       "      <td>1425.0</td>\n",
       "      <td>1015.0</td>\n",
       "    </tr>\n",
       "    <tr>\n",
       "      <th>4</th>\n",
       "      <td>C2483</td>\n",
       "      <td>900</td>\n",
       "      <td>아파트</td>\n",
       "      <td>경상북도</td>\n",
       "      <td>국민임대</td>\n",
       "      <td>51.93</td>\n",
       "      <td>41</td>\n",
       "      <td>38.0</td>\n",
       "      <td>A</td>\n",
       "      <td>27304000</td>\n",
       "      <td>184330</td>\n",
       "      <td>0.0</td>\n",
       "      <td>3.0</td>\n",
       "      <td>1425.0</td>\n",
       "      <td>1015.0</td>\n",
       "    </tr>\n",
       "  </tbody>\n",
       "</table>\n",
       "</div>"
      ],
      "text/plain": [
       "    단지코드  총세대수 임대건물구분    지역  공급유형   전용면적  전용면적별세대수   공가수 자격유형     임대보증금  \\\n",
       "0  C2483   900    아파트  경상북도  국민임대  39.72       134  38.0    A  15667000   \n",
       "1  C2483   900    아파트  경상북도  국민임대  39.72        15  38.0    A  15667000   \n",
       "2  C2483   900    아파트  경상북도  국민임대  51.93       385  38.0    A  27304000   \n",
       "3  C2483   900    아파트  경상북도  국민임대  51.93        15  38.0    A  27304000   \n",
       "4  C2483   900    아파트  경상북도  국민임대  51.93        41  38.0    A  27304000   \n",
       "\n",
       "      임대료  도보 10분거리 내 지하철역 수(환승노선 수 반영)  도보 10분거리 내 버스정류장 수  단지내주차면수   등록차량수  \n",
       "0  103680                           0.0                 3.0   1425.0  1015.0  \n",
       "1  103680                           0.0                 3.0   1425.0  1015.0  \n",
       "2  184330                           0.0                 3.0   1425.0  1015.0  \n",
       "3  184330                           0.0                 3.0   1425.0  1015.0  \n",
       "4  184330                           0.0                 3.0   1425.0  1015.0  "
      ]
     },
     "execution_count": 3,
     "metadata": {},
     "output_type": "execute_result"
    }
   ],
   "source": [
    "## 코드 입력\n",
    "\n",
    "\n",
    "data.head()"
   ]
  },
  {
   "cell_type": "markdown",
   "metadata": {},
   "source": [
    "<br><br><hr>"
   ]
  },
  {
   "cell_type": "markdown",
   "metadata": {
    "id": "JsX1zLaIXwbo"
   },
   "source": [
    "## 1. 기본정보 확인하기\n"
   ]
  },
  {
   "cell_type": "markdown",
   "metadata": {
    "id": "8Z6Fmjg7oizl"
   },
   "source": [
    "* **세부 요구사항**\n",
    "    - 불러온 데이터의 형태, 기초통계량, 정보 등을 확인합니다.\n",
    "    - 특히 .info() 를 통해서 각 변수별 데이터타입이 적절한지 확안합니다."
   ]
  },
  {
   "cell_type": "markdown",
   "metadata": {},
   "source": [
    "### &nbsp;&nbsp; 1-1) 전체 데이터의 행, 열 개수 확인"
   ]
  },
  {
   "cell_type": "code",
   "execution_count": null,
   "metadata": {
    "colab": {
     "base_uri": "https://localhost:8080/"
    },
    "executionInfo": {
     "elapsed": 6,
     "status": "ok",
     "timestamp": 1672447585433,
     "user": {
      "displayName": "한기영",
      "userId": "13049187003176135487"
     },
     "user_tz": -540
    },
    "id": "t2GW6WTJE60s",
    "outputId": "d9bcb591-5411-452c-a532-afbfea163e5d"
   },
   "outputs": [],
   "source": [
    "## shape\n",
    "## 코드 입력\n"
   ]
  },
  {
   "cell_type": "markdown",
   "metadata": {},
   "source": [
    "### &nbsp;&nbsp; 1-2) 전체 데이터의 상위 5개 행 확인"
   ]
  },
  {
   "cell_type": "code",
   "execution_count": null,
   "metadata": {
    "colab": {
     "base_uri": "https://localhost:8080/",
     "height": 354
    },
    "executionInfo": {
     "elapsed": 8,
     "status": "ok",
     "timestamp": 1672447585746,
     "user": {
      "displayName": "한기영",
      "userId": "13049187003176135487"
     },
     "user_tz": -540
    },
    "id": "1ePaMVD6FKLP",
    "outputId": "48d63afb-77c0-4305-c07d-d2c312cbd68a"
   },
   "outputs": [],
   "source": [
    "## head\n",
    "## 코드 입력\n"
   ]
  },
  {
   "cell_type": "markdown",
   "metadata": {},
   "source": [
    "### &nbsp;&nbsp; 1-3) 전체 데이터의 모든 변수명 (columns) 확인"
   ]
  },
  {
   "cell_type": "code",
   "execution_count": null,
   "metadata": {
    "colab": {
     "base_uri": "https://localhost:8080/"
    },
    "executionInfo": {
     "elapsed": 317,
     "status": "ok",
     "timestamp": 1672447592923,
     "user": {
      "displayName": "한기영",
      "userId": "13049187003176135487"
     },
     "user_tz": -540
    },
    "id": "6AE1REEhFQT3",
    "outputId": "b00c81cc-eade-429d-ed30-728735c63c68"
   },
   "outputs": [],
   "source": [
    "## columns\n",
    "## 코드 입력\n",
    "\n"
   ]
  },
  {
   "cell_type": "markdown",
   "metadata": {},
   "source": [
    "### &nbsp;&nbsp; 1-4) 결측치 (N/A) 존재 여부 확인, 각 컬럼의 데이터 타입 확인"
   ]
  },
  {
   "cell_type": "code",
   "execution_count": null,
   "metadata": {
    "colab": {
     "base_uri": "https://localhost:8080/"
    },
    "executionInfo": {
     "elapsed": 6,
     "status": "ok",
     "timestamp": 1672447596646,
     "user": {
      "displayName": "한기영",
      "userId": "13049187003176135487"
     },
     "user_tz": -540
    },
    "id": "Nrv3NIlZ08dt",
    "outputId": "ff081338-982e-4bb2-9a08-b9c74f3e9bed"
   },
   "outputs": [],
   "source": [
    "## info, isna\n",
    "## 코드 입력\n",
    "\n"
   ]
  },
  {
   "cell_type": "markdown",
   "metadata": {},
   "source": [
    "<br><br><hr>"
   ]
  },
  {
   "cell_type": "markdown",
   "metadata": {
    "id": "OQsk3V6hXSjE"
   },
   "source": [
    "## 2. [단지별 공통 정보]와 [단지 상세 정보] 분리 및 중복 제거"
   ]
  },
  {
   "cell_type": "markdown",
   "metadata": {},
   "source": [
    "### &nbsp;&nbsp; 3-1) 공통정보/상세정보 분리"
   ]
  },
  {
   "cell_type": "markdown",
   "metadata": {
    "id": "vQgxpsGvspLH"
   },
   "source": [
    " * [단지별 공통 정보] \n",
    "    * 대상 컬럼 : 단지코드, 총 세대수, 지역, 공가수, 도보 10분거리 내 지하철역 수(환승노선 수 반영), 도보 10분거리 내 버스정류장 수, 등록 차량수\n",
    "    * 변수명 : danji_main\n",
    " * [단지 상세 정보] \n",
    "    * 대상 컬럼 : 단지 코드, 임대건물구분, 공급유형, 전용면적, 전용면적별세대수, 임대보증금, 임대료\n",
    "    * 변수명 : danji_detail\n",
    "  "
   ]
  },
  {
   "cell_type": "code",
   "execution_count": 8,
   "metadata": {},
   "outputs": [],
   "source": [
    "## 단지별 공통 정보 \n",
    "## 코드 입력\n",
    "\n",
    "## 단지 상세 정보\n",
    "## 코드 입력\n",
    "\n"
   ]
  },
  {
   "cell_type": "markdown",
   "metadata": {},
   "source": [
    "### &nbsp;&nbsp; 3-2) 전체 데이터의 모든 변수명 (columns) 확인 긴 글자로 된 column명 변경하기"
   ]
  },
  {
   "cell_type": "markdown",
   "metadata": {},
   "source": [
    " -  '도보 10분거리 내 지하철역 수(환승노선 수 반영)'  ==> '지하철역수'\n",
    " - '도보 10분거리 내 버스정류장 수'  ==> '버스정류장수'"
   ]
  },
  {
   "cell_type": "code",
   "execution_count": null,
   "metadata": {},
   "outputs": [],
   "source": [
    "##  컬럼 변경 하기 : rename\n",
    "## 코드 입력\n",
    "\n"
   ]
  },
  {
   "cell_type": "markdown",
   "metadata": {},
   "source": [
    "### &nbsp;&nbsp; 3-3) [단지별 공통 정보]의 중복행 제거하기"
   ]
  },
  {
   "cell_type": "code",
   "execution_count": null,
   "metadata": {},
   "outputs": [],
   "source": [
    "## 중복행 제거 : drop_duplicates\n",
    "## 코드 입력\n",
    "\n"
   ]
  },
  {
   "cell_type": "code",
   "execution_count": null,
   "metadata": {},
   "outputs": [],
   "source": [
    "# 단지 코드별 행 개수를 체크하여 중복 제거가 잘 되었는지 확인  : groupby 활용\n",
    "# groupby로 count한 값이 1보다 큰 출력값은 중복임\n",
    "\n",
    "\n",
    "## '단지코드'별로 그룹핑하여 '총세대수' 열의 개수를 세기 (count)\n",
    "## unique_check 변수에 저장하기\n",
    "## 코드 입력\n",
    "\n",
    "# unique_check 데이터프레임의 컬럼명을 ['단지코드','count']로 컬럼 이름 바꾸기 \n",
    "## 코드 입력\n",
    "\n",
    "# unique_check 데이터프레임 중 'count'열이 1보다 큰 경우를 조회하기\n",
    "## 코드 입력\n",
    "\n"
   ]
  },
  {
   "cell_type": "markdown",
   "metadata": {
    "id": "jImSiMfNOZVV"
   },
   "source": [
    "## 4. 범주형 변수의 category 수 줄이기, 숫자형 변수 확인하기 "
   ]
  },
  {
   "cell_type": "markdown",
   "metadata": {
    "id": "vkQ3ayaUtIME"
   },
   "source": [
    "### &nbsp;&nbsp; 4-1) ‘공급유형’: ‘공공임대(10년)’, ‘공공임대(5년)’…등으로 나뉜 것을 하나의 범주 값인 ‘공공임대’ 로 통합하기"
   ]
  },
  {
   "cell_type": "code",
   "execution_count": null,
   "metadata": {},
   "outputs": [],
   "source": [
    "## [단지 상세 정보] '공급유형'의 category 확인하기 : value_counts\n",
    "## 코드 입력\n",
    "\n"
   ]
  },
  {
   "cell_type": "code",
   "execution_count": null,
   "metadata": {
    "id": "k3icSrpDCj8E"
   },
   "outputs": [],
   "source": [
    "## ['공공임대(10년)', '공공임대(50년)', '공공임대(5년)', '공공임대(분납)'] ==> '공공임대'로 수정\n",
    "## 코드 입력\n",
    "\n",
    "\n",
    "## 확인 : value_counts()\n",
    "## 코드 입력\n",
    "\n"
   ]
  },
  {
   "cell_type": "markdown",
   "metadata": {
    "id": "S2uIppDhwRjf"
   },
   "source": [
    "### &nbsp;&nbsp; 4-2) 숫자가 입력되어야 하는 컬럼에 문자 ‘-’가 입력된 경우를 찾아, 숫자로 변환하기"
   ]
  },
  {
   "cell_type": "markdown",
   "metadata": {},
   "source": [
    "* 대상 컬럼 찾기 \n",
    "* object 타입을 int64나 float64로 변환"
   ]
  },
  {
   "cell_type": "code",
   "execution_count": null,
   "metadata": {},
   "outputs": [],
   "source": [
    "## [단지 상세 정보]에서 숫자형이어야 하는데 object형으로 보이는 컬럼은 무엇인가요? : info()\n",
    "## 코드 입력\n"
   ]
  },
  {
   "cell_type": "code",
   "execution_count": null,
   "metadata": {},
   "outputs": [],
   "source": [
    "## 숫자가 아닌 데이터를 찾고 있는 행 찾기\n",
    "## 코드 입력\n",
    "\n"
   ]
  },
  {
   "cell_type": "code",
   "execution_count": null,
   "metadata": {},
   "outputs": [],
   "source": [
    "## 숫자가 아닌 데이터를 찾고 있는 행 찾기\n",
    "## 코드 입력\n",
    "\n"
   ]
  },
  {
   "cell_type": "code",
   "execution_count": 18,
   "metadata": {},
   "outputs": [],
   "source": [
    "## 숫자가 아닌 데이터가 있는 열을 0으로 대체하기\n",
    "\n",
    "## loc를 활용하는 경우\n",
    "## 코드 입력\n",
    "\n",
    "\n",
    "## replace를 활용하는 경우\n",
    "## 코드 입력\n",
    "\n"
   ]
  },
  {
   "cell_type": "code",
   "execution_count": null,
   "metadata": {},
   "outputs": [],
   "source": [
    "## 해당 칼럼에  데이터 중 '-' 가 있는지 확인하기\n",
    "## 코드 입력\n",
    "\n"
   ]
  },
  {
   "cell_type": "code",
   "execution_count": null,
   "metadata": {},
   "outputs": [],
   "source": [
    "## 해당 칼럼의 dtype을 object --> float로 수정하기 : astype\n",
    "## 코드 입력\n",
    "\n",
    "\n",
    "## 확인하기 : info\n",
    "## 코드 입력\n",
    "\n"
   ]
  },
  {
   "cell_type": "markdown",
   "metadata": {},
   "source": [
    "<br><br><hr>"
   ]
  },
  {
   "cell_type": "markdown",
   "metadata": {
    "id": "mIEkKxmcekVO"
   },
   "source": [
    "## 5. [단지 상세 정보] 집계를 통해 단지별 정보 구하기"
   ]
  },
  {
   "cell_type": "markdown",
   "metadata": {},
   "source": [
    "### &nbsp;&nbsp; 5-1) 전용면적 구간별 총 세대수 구하기"
   ]
  },
  {
   "cell_type": "markdown",
   "metadata": {},
   "source": [
    "* [단지 상세 정보]에서 단지코드, 전용면적, 전용면적별세대수 만을 추출하여 base_5_1 에 저장하기\n",
    "* 전용면적 구간별 세대 수 집계 (groupby)\n",
    "* 단지 코드를 index로, 전용면적 구간을 컬럼(열)으로 하여 전용면적별세대수 구하기 (pivot)"
   ]
  },
  {
   "cell_type": "code",
   "execution_count": 21,
   "metadata": {},
   "outputs": [],
   "source": [
    "## [단지 상세 정보]에서 단지코드, 전용면적, 전용면적별세대수 만을 추출하여 base_5_1 에 저장하기\n",
    "## 코드 입력\n",
    "\n"
   ]
  },
  {
   "cell_type": "code",
   "execution_count": null,
   "metadata": {},
   "outputs": [],
   "source": [
    "# base_5_1['전용면적'] 데이터의 기초 통계량 확인\n",
    "## 코드 입력\n",
    "\n",
    "\n",
    "# base_5_1['전용면적]' 데이터 분포 시각화 확인 (sns.histplot)\n",
    "## 코드 입력\n",
    "\n"
   ]
  },
  {
   "cell_type": "code",
   "execution_count": null,
   "metadata": {},
   "outputs": [],
   "source": [
    "## 전용 면적을 의미있는 구분할 수 있는 구간 나눠보고, 그에 맞는 라벨 설정하기\n",
    "## 코드 입력\n",
    "\n",
    "\n",
    "## base_5_1 '전용면적'을 정해진 bins/labels 기준으로 나누고, '전용면적구간'이름으로 추가하기\n",
    "## 코드 입력\n",
    "\n",
    "\n"
   ]
  },
  {
   "cell_type": "code",
   "execution_count": null,
   "metadata": {
    "colab": {
     "base_uri": "https://localhost:8080/",
     "height": 424
    },
    "executionInfo": {
     "elapsed": 305,
     "status": "ok",
     "timestamp": 1671451117682,
     "user": {
      "displayName": "한기영",
      "userId": "13049187003176135487"
     },
     "user_tz": -540
    },
    "id": "C6FA58WFi1R3",
    "outputId": "7ee668ef-ae3f-40a1-8676-4cb271b186b2"
   },
   "outputs": [],
   "source": [
    "## 전용면적 구간별 세대수 집계하기 : groupby\n",
    "## 결과를 group_5_1에 저장하기\n",
    "## 코드 입력\n",
    "\n",
    "\n",
    "## group_5_1 값 확인하기\n",
    "## 코드 입력\n",
    "\n"
   ]
  },
  {
   "cell_type": "code",
   "execution_count": null,
   "metadata": {
    "colab": {
     "base_uri": "https://localhost:8080/",
     "height": 206
    },
    "executionInfo": {
     "elapsed": 301,
     "status": "ok",
     "timestamp": 1671451132774,
     "user": {
      "displayName": "한기영",
      "userId": "13049187003176135487"
     },
     "user_tz": -540
    },
    "id": "lDitciXijr64",
    "outputId": "67eedb6f-0e9b-41a8-aab1-4e65fc68b1dd"
   },
   "outputs": [],
   "source": [
    "## 단지 코드를 index로, 전용면적 구간을 컬럼(열)으로 하여 전용면적별세대수 구하기 (pivot)\n",
    "## 결과를 result_5_1 저장\n",
    "## 단지 코드를 index --> 컬럼으로 변경하기 : reset_index, drop=False, inplace=True\n",
    "## 코드 입력\n",
    "\n",
    "\n"
   ]
  },
  {
   "cell_type": "markdown",
   "metadata": {},
   "source": [
    "### &nbsp;&nbsp; 5-2) 단지별 임대보증금, 임대료 구하기 (평균, 중앙값)"
   ]
  },
  {
   "cell_type": "markdown",
   "metadata": {},
   "source": [
    "* 단지별 임대보증금, 임대료의 전체 평균/중앙값 구하기"
   ]
  },
  {
   "cell_type": "code",
   "execution_count": 26,
   "metadata": {},
   "outputs": [],
   "source": [
    "## [단지 상세 정보]에서 단지코드, 임대보증금, 임대료 정보 추출하기 : base_5_2 에 저장\n",
    "## 코드 입력\n",
    "\n"
   ]
  },
  {
   "cell_type": "code",
   "execution_count": null,
   "metadata": {
    "id": "565MNEylnaQH"
   },
   "outputs": [],
   "source": [
    "## 단지별 임대보증금, 임대료 평균값 구하기 : groupby, mean\n",
    "## group_5_2_mean 저장\n",
    "## 코드 입력\n",
    "\n"
   ]
  },
  {
   "cell_type": "code",
   "execution_count": null,
   "metadata": {},
   "outputs": [],
   "source": [
    "## 단지별 임대보증금, 임대료 중앙값 구하기  : groupby, median\n",
    "## group_5_2_median 저장\n",
    "## 코드 입력\n",
    "\n",
    "\n"
   ]
  },
  {
   "cell_type": "markdown",
   "metadata": {},
   "source": [
    "### &nbsp;&nbsp; <font color=\"orange\">**[도전 미션]** </font>  단지별 임대보증금, 임대료의 가중 평균 구하기"
   ]
  },
  {
   "cell_type": "markdown",
   "metadata": {},
   "source": [
    "   * 1) 임대보증금 * 세대수, 임대료 * 세대수 구하기 (전용면적별 총 임대보증금, 총 임대료)\n",
    "   * 2) 단지별 총 임대보증금, 총 임대료, 총 세대수 구하기 (groupby)\n",
    "   * 3) 임대보증금 가중 평균 = 총 임대보증금 / 총 세대수, 임대료 가중 평균 = 총 임대료 / 총 세대수"
   ]
  },
  {
   "cell_type": "code",
   "execution_count": null,
   "metadata": {},
   "outputs": [],
   "source": [
    "## [임대보증금, 임대료]  * 전용면적별세대수 ==> [세대수X임대보증금, 세대수X임대료] 구하기\n",
    "## 코드 입력\n",
    "\n",
    "\n",
    "## 단지별 [세대수X임대보증금, total_임대료] 합계 구하기 : groupby\n",
    "## group_5_2_weighted_mean 에 저장\n",
    "## 코드 입력\n",
    "\n",
    "\n",
    "## 단지별 [total_임대보증금, total_임대료] 합계를 단지별 총 전용면적별세대수로 나눠 가중 평균 구하기\n",
    "## 코드 입력\n",
    "\n"
   ]
  },
  {
   "cell_type": "markdown",
   "metadata": {},
   "source": [
    "* 평균/중앙값/가중 평균 중 대표값 선정하기\n",
    "*  <font color='red'> **도전 미션을 하지 않아도 평균/중앙값 중에서 대표값 선정해야 함!!!!! [필수]** </font>"
   ]
  },
  {
   "cell_type": "code",
   "execution_count": null,
   "metadata": {},
   "outputs": [],
   "source": [
    "## danji_main 데이터에 합칠 정보는 무엇인가? \n",
    "## 1) 평균     2) 중앙값    3) 가중평균\n",
    "## 선택된 정보를 result_5_2 저장하기\n",
    "## 코드 입력\n",
    "\n"
   ]
  },
  {
   "cell_type": "markdown",
   "metadata": {
    "id": "CZU5ewA-qdEL"
   },
   "source": [
    "### &nbsp;&nbsp; <font color=\"orange\">**[도전 미션]** </font>  5-3) 임대건물구분 비율 구하기"
   ]
  },
  {
   "cell_type": "markdown",
   "metadata": {},
   "source": [
    "* 임대건물구분 비율, 공급유형 비율 집계에 필요한 정보만 추출\n",
    "* 전용면적에 세대수를 반영하여 총면적 열 추가"
   ]
  },
  {
   "cell_type": "code",
   "execution_count": 32,
   "metadata": {},
   "outputs": [],
   "source": [
    "## [단지 상세 정보]의 ['단지코드', '임대건물구분', '공급유형', '전용면적', '전용면적별세대수'] 열을 base_5_3 변수에 저장\n",
    "## 코드 입력\n",
    "\n",
    "\n",
    "## 전용면적 * 전용면적별세대수 구하기 (열 이름 : 세대수X전용면적)\n",
    "## 코드 입력\n"
   ]
  },
  {
   "cell_type": "markdown",
   "metadata": {
    "id": "7v28BwxF_YFL"
   },
   "source": [
    "* 임대건물구분별 면적 비율\n",
    "    * 단지별 임대건물구분(상가,아파트)별 총 면적 계산\n",
    "    * 비율로 변환\n"
   ]
  },
  {
   "cell_type": "code",
   "execution_count": null,
   "metadata": {
    "colab": {
     "base_uri": "https://localhost:8080/",
     "height": 424
    },
    "executionInfo": {
     "elapsed": 5,
     "status": "ok",
     "timestamp": 1671451156554,
     "user": {
      "displayName": "한기영",
      "userId": "13049187003176135487"
     },
     "user_tz": -540
    },
    "id": "4Xj324ljqhVt",
    "outputId": "2b6ccb0a-8f14-454d-d054-a044bb59247e"
   },
   "outputs": [],
   "source": [
    "## 단지코드와 임대건물구분으로 '세대수X전용면적' 집계하기\n",
    "## group_5_3에 저장\n",
    "## 코드 입력\n",
    "\n"
   ]
  },
  {
   "cell_type": "code",
   "execution_count": null,
   "metadata": {
    "colab": {
     "base_uri": "https://localhost:8080/",
     "height": 206
    },
    "executionInfo": {
     "elapsed": 5,
     "status": "ok",
     "timestamp": 1671451170407,
     "user": {
      "displayName": "한기영",
      "userId": "13049187003176135487"
     },
     "user_tz": -540
    },
    "id": "ZbxbkOQO8Tba",
    "outputId": "c6666983-d868-42ad-e9e4-2644af7bcf86"
   },
   "outputs": [],
   "source": [
    "## 단지코드를 index로 임대건물구분을 열로, 총 면적을 값으로 pivot table 구하기\n",
    "## pivot_5_3 에 저장\n",
    "p## 코드 입력\n",
    "\n",
    "\n",
    "## index로 적용된 단지코드를 열로 변경 : reset_index\n",
    "## 코드 입력\n",
    "\n"
   ]
  },
  {
   "cell_type": "code",
   "execution_count": null,
   "metadata": {},
   "outputs": [],
   "source": [
    "## pivlot table의 NaN값으로 0으로 대체하기\n",
    "## 코드 입력\n",
    "\n"
   ]
  },
  {
   "cell_type": "code",
   "execution_count": null,
   "metadata": {},
   "outputs": [],
   "source": [
    "## pivlot table에서 단지별 총 면적 구하기 : 상가면적 + 아파트 면적\n",
    "## 코드 입력\n",
    "\n",
    "\n",
    "## pivlot table에서 상가비율, 아파트비율 구하기 : 상가면적 / (상가+아파트), 아파트면적 / (상가+아파트)\n",
    "## 코드 입력\n",
    "\n",
    "\n",
    "## pivot table의 ['단지코드', '상가비율', '아파트비율'] 정보를 result_5_3에 저장하기\n",
    "## 코드 입력\n",
    "\n"
   ]
  },
  {
   "cell_type": "markdown",
   "metadata": {},
   "source": [
    "### &nbsp;&nbsp; <font color=\"orange\">**[도전 미션]** </font>  5-4) 공급유형 비율 구하기"
   ]
  },
  {
   "cell_type": "markdown",
   "metadata": {
    "id": "elPZg5oMB6z1"
   },
   "source": [
    "* 5-4) 에서 저장된 base_5_3 변수를 이용하여 집계\n"
   ]
  },
  {
   "cell_type": "code",
   "execution_count": null,
   "metadata": {
    "colab": {
     "base_uri": "https://localhost:8080/",
     "height": 424
    },
    "executionInfo": {
     "elapsed": 4,
     "status": "ok",
     "timestamp": 1671451179749,
     "user": {
      "displayName": "한기영",
      "userId": "13049187003176135487"
     },
     "user_tz": -540
    },
    "id": "J-GSk9BJB6z2",
    "outputId": "670c66a2-45d7-4fa5-8cfa-78a0c58118ce"
   },
   "outputs": [],
   "source": [
    "## 단지코드와 공급유형별로 총면적 집계하기\n",
    "## group_5_4 저장\n",
    "## 코드 입력\n",
    "\n"
   ]
  },
  {
   "cell_type": "code",
   "execution_count": null,
   "metadata": {
    "colab": {
     "base_uri": "https://localhost:8080/",
     "height": 206
    },
    "executionInfo": {
     "elapsed": 4,
     "status": "ok",
     "timestamp": 1671451182369,
     "user": {
      "displayName": "한기영",
      "userId": "13049187003176135487"
     },
     "user_tz": -540
    },
    "id": "1_JOhI6MB6z2",
    "outputId": "b8cca332-6621-45d9-9d59-9bae9ece48d6"
   },
   "outputs": [],
   "source": [
    "## 단지코드를 index로 공급유형을 열로, '세대수X전용면적'을 값으로 pivot table 구하기\n",
    "## pivot_5_4 저장\n",
    "## 코드 입력\n",
    "\n",
    "\n",
    "# index에 적용된 단지코드를 컬럼으로 변경하기 : reset_index\n",
    "## 코드 입력\n",
    "\n"
   ]
  },
  {
   "cell_type": "code",
   "execution_count": null,
   "metadata": {
    "id": "Z5cZLh86DZQi"
   },
   "outputs": [],
   "source": [
    "## pivlot table의 NaN값으로 0으로 대체하기\n",
    "## 코드 입력\n",
    "\n"
   ]
  },
  {
   "cell_type": "code",
   "execution_count": null,
   "metadata": {
    "colab": {
     "base_uri": "https://localhost:8080/",
     "height": 206
    },
    "executionInfo": {
     "elapsed": 4,
     "status": "ok",
     "timestamp": 1671451185287,
     "user": {
      "displayName": "한기영",
      "userId": "13049187003176135487"
     },
     "user_tz": -540
    },
    "id": "SCTbcn4qB6z3",
    "outputId": "d9d9de20-5e04-4fa9-905d-85b8eedc2a5a"
   },
   "outputs": [],
   "source": [
    "## pivot table의 공급유형별 면적을 모두 더해 '총면적' 구하기\n",
    "## 코드 입력\n",
    "\n",
    "\n",
    "## pivot_5_4에서 공규유형별 면적 비율 구하기 : 각 면적 / 총면적\n",
    "## 코드 입력\n",
    "\n",
    "\n",
    "## 단지 코드의 공급유형별 면적 비율을 result_5_4에 저장하기 \n",
    "## 코드 입력\n",
    "\n"
   ]
  },
  {
   "cell_type": "markdown",
   "metadata": {},
   "source": [
    "<br><br><hr>"
   ]
  },
  {
   "cell_type": "markdown",
   "metadata": {
    "id": "8LI02peGmXPd"
   },
   "source": [
    "## 6. [단지별 공통 정보]에 [단지 상세 정보] 집계 내용을 합치기 "
   ]
  },
  {
   "cell_type": "markdown",
   "metadata": {
    "id": "tRk4JNgPxkJz"
   },
   "source": [
    "* [단지별 공통 정보] : **danji_main**\n",
    "* [단지 상세 정보] 집계\n",
    "   * 전용 면적 구간별 세대수 : **result_5_1**\n",
    "   * 임대보증금/임대료 : **result_5_2\n",
    "   * 임대건물구분별 면적 비율 : **result_5_3**\n",
    "   * 공급유형별 면적 비율 : **result_5_4**\n",
    "* 합치기 :  merge를 사용할 때, **how = 'left', on = '단지코드'** 옵션 이용"
   ]
  },
  {
   "cell_type": "markdown",
   "metadata": {
    "id": "OHLb4_fym4ur"
   },
   "source": [
    "### 6-1) 단지별 공통 정보 + 전용면적 구간별 세대수"
   ]
  },
  {
   "cell_type": "code",
   "execution_count": null,
   "metadata": {
    "id": "_M9tkElxlgQZ"
   },
   "outputs": [],
   "source": [
    "## result 변수에 저장하기\n",
    "## 코드 입력\n",
    "\n"
   ]
  },
  {
   "cell_type": "markdown",
   "metadata": {},
   "source": [
    "### 6-2)  result + 임대보증금/임대료"
   ]
  },
  {
   "cell_type": "code",
   "execution_count": null,
   "metadata": {
    "colab": {
     "base_uri": "https://localhost:8080/",
     "height": 206
    },
    "executionInfo": {
     "elapsed": 694,
     "status": "ok",
     "timestamp": 1671451233398,
     "user": {
      "displayName": "한기영",
      "userId": "13049187003176135487"
     },
     "user_tz": -540
    },
    "id": "_5qICFjHm3DE",
    "outputId": "5df7aa00-c1e7-4f1d-e99a-5f7de633a766"
   },
   "outputs": [],
   "source": [
    "## 코드 입력\n",
    "\n"
   ]
  },
  {
   "cell_type": "markdown",
   "metadata": {
    "id": "oDrVm2SJp3wa"
   },
   "source": [
    "### 6-3) result + 임대건물구분별 면적 비율 (도전 미션 완료 시)"
   ]
  },
  {
   "cell_type": "code",
   "execution_count": null,
   "metadata": {
    "colab": {
     "base_uri": "https://localhost:8080/",
     "height": 206
    },
    "executionInfo": {
     "elapsed": 5,
     "status": "ok",
     "timestamp": 1671451233702,
     "user": {
      "displayName": "한기영",
      "userId": "13049187003176135487"
     },
     "user_tz": -540
    },
    "id": "ZLUq3ufLp2zV",
    "outputId": "ce6046a7-a776-4a2f-88b4-f4703bae52cf"
   },
   "outputs": [],
   "source": [
    "## 코드 입력\n",
    "\n"
   ]
  },
  {
   "cell_type": "markdown",
   "metadata": {
    "id": "Y_BsPCm8Bq93"
   },
   "source": [
    "### 6-4) 공급유형별 면적 비율 (도전 미션 완료 시)"
   ]
  },
  {
   "cell_type": "code",
   "execution_count": null,
   "metadata": {
    "colab": {
     "base_uri": "https://localhost:8080/",
     "height": 285
    },
    "executionInfo": {
     "elapsed": 5,
     "status": "ok",
     "timestamp": 1671451236901,
     "user": {
      "displayName": "한기영",
      "userId": "13049187003176135487"
     },
     "user_tz": -540
    },
    "id": "znB1nVfCBVfP",
    "outputId": "214b559a-c680-4a10-c441-ec02f038d86a"
   },
   "outputs": [],
   "source": [
    "## 코드 입력\n",
    "\n"
   ]
  },
  {
   "cell_type": "markdown",
   "metadata": {
    "id": "DFVvSdhGQ4N_"
   },
   "source": [
    "##  7. 데이터셋 저장하기"
   ]
  },
  {
   "cell_type": "markdown",
   "metadata": {
    "id": "rPKwF9wlyK0D"
   },
   "source": [
    "* registerd_parking_preprocessed.csv 파일로 저장하기"
   ]
  },
  {
   "cell_type": "code",
   "execution_count": 46,
   "metadata": {
    "colab": {
     "base_uri": "https://localhost:8080/"
    },
    "executionInfo": {
     "elapsed": 3,
     "status": "ok",
     "timestamp": 1671451486105,
     "user": {
      "displayName": "한기영",
      "userId": "13049187003176135487"
     },
     "user_tz": -540
    },
    "id": "rsPMYAnPBo4k",
    "outputId": "3250c2ee-390b-46c0-f768-17e19a07e6fd"
   },
   "outputs": [],
   "source": [
    "## 코드 입력\n",
    "\n"
   ]
  },
  {
   "cell_type": "markdown",
   "metadata": {},
   "source": [
    "## <font color=\"green\"> **Mission Clear** </font> &nbsp; &nbsp; 수고하셨습니다!!"
   ]
  }
 ],
 "metadata": {
  "colab": {
   "collapsed_sections": [
    "DFHkWYLke5fG"
   ],
   "provenance": [],
   "toc_visible": true
  },
  "kernelspec": {
   "display_name": "Python 3 (ipykernel)",
   "language": "python",
   "name": "python3"
  },
  "language_info": {
   "codemirror_mode": {
    "name": "ipython",
    "version": 3
   },
   "file_extension": ".py",
   "mimetype": "text/x-python",
   "name": "python",
   "nbconvert_exporter": "python",
   "pygments_lexer": "ipython3",
   "version": "3.11.3"
  },
  "vscode": {
   "interpreter": {
    "hash": "f08154012ddadd8e950e6e9e035c7a7b32c136e7647e9b7c77e02eb723a8bedb"
   }
  }
 },
 "nbformat": 4,
 "nbformat_minor": 4
}
