{
 "cells": [
  {
   "cell_type": "markdown",
   "metadata": {
    "id": "mJlY5pHkC2AM"
   },
   "source": [
    "# **Mission_1 토익 점수 데이터 분석**\n"
   ]
  },
  {
   "cell_type": "markdown",
   "metadata": {
    "id": "-FPypzell2uc"
   },
   "source": [
    "## <미션>"
   ]
  },
  {
   "cell_type": "markdown",
   "metadata": {
    "id": "SIB0IcbdD_aj"
   },
   "source": [
    "최종 차수 점수 변화(Score_diff_total)와 feature들간의 관계를 분석하기 위한 가설 검증 수행\n",
    "* 전처리 단계에서 생성한 데이터에 대한 탐색적 데이터 분석을 수행해봅시다.\n",
    "* 개별 변수 및 개별 변수들 간의 관계에 대해 분석합니다.\n",
    "* [도전 미션] 새로운 변수를 추가하여 데이터에 대한 탐색적 데이터 분석을 수행해봅시다."
   ]
  },
  {
   "cell_type": "markdown",
   "metadata": {
    "id": "dWToio0hXNVS"
   },
   "source": [
    "## <환경설정>"
   ]
  },
  {
   "cell_type": "markdown",
   "metadata": {
    "id": "KnzVh2LmkLDU"
   },
   "source": [
    "### &nbsp;&nbsp; 1) 라이브러리 불러오기"
   ]
  },
  {
   "cell_type": "markdown",
   "metadata": {
    "id": "x0hDrsO5DE1_"
   },
   "source": [
    "* **세부 요구사항**\n",
    "    - 기본적으로 필요한 라이브러리를 import 하도록 코드가 작성되어 있습니다.\n",
    "    - 필요하다고 판단되는 라이브러리를 추가하세요."
   ]
  },
  {
   "cell_type": "code",
   "execution_count": 1,
   "metadata": {
    "id": "3rsQerEaELwI",
    "tags": []
   },
   "outputs": [],
   "source": [
    "import pandas as pd\n",
    "import numpy as np\n",
    "import matplotlib.pyplot as plt\n",
    "import seaborn as sns\n",
    "\n",
    "# 아래 필요한 라이브러리, 함수를 추가하시오.\n",
    "## 코드 입력\n",
    "\n"
   ]
  },
  {
   "cell_type": "markdown",
   "metadata": {},
   "source": [
    "### &nbsp;&nbsp; 2) 한글 폰트 설정하기"
   ]
  },
  {
   "cell_type": "code",
   "execution_count": 2,
   "metadata": {
    "id": "44iV0nhcTkWx",
    "tags": []
   },
   "outputs": [],
   "source": [
    "plt.rc('font', family='Malgun Gothic')\n",
    "plt.rcParams['axes.unicode_minus'] = False"
   ]
  },
  {
   "cell_type": "markdown",
   "metadata": {
    "id": "L8ROQsZuekw8"
   },
   "source": [
    "### &nbsp;&nbsp; 3) 데이터 불러오기\n",
    "    * toeic_preprocessed_data.csv"
   ]
  },
  {
   "cell_type": "code",
   "execution_count": 3,
   "metadata": {
    "id": "r9RnmjVqgfU6",
    "tags": []
   },
   "outputs": [],
   "source": [
    "## 코드 입력\n",
    "file = 'toeic_preprocessed_data.csv'\n",
    "base_data = "
   ]
  },
  {
   "cell_type": "markdown",
   "metadata": {},
   "source": [
    "<br><br><hr>"
   ]
  },
  {
   "cell_type": "markdown",
   "metadata": {
    "id": "4fsU7ZoM89ii"
   },
   "source": [
    "## 1. 기본 분석"
   ]
  },
  {
   "cell_type": "markdown",
   "metadata": {
    "id": "wz7yC0Ys9B0c"
   },
   "source": [
    "\n",
    "  - 데이터프레임의 크기를 확인\n",
    "  - 데이터프레임의 컬럼명과 컬렴별 데이터 개수, 데이터 타입을 확인\n",
    "  - 데이터프레임 전체에 대한 기초통계량 확인\n",
    "  - 결측치(NaN) 확인\n",
    "    * 결측치(NaN)가 존재한다면 적절하게 조치합니다."
   ]
  },
  {
   "cell_type": "markdown",
   "metadata": {},
   "source": [
    "#### &nbsp;&nbsp; 1-1) 데이터프레임 크기 확인"
   ]
  },
  {
   "cell_type": "code",
   "execution_count": null,
   "metadata": {},
   "outputs": [],
   "source": [
    "## 코드 입력"
   ]
  },
  {
   "cell_type": "markdown",
   "metadata": {},
   "source": [
    "#### &nbsp;&nbsp; 1-2) 컬럼명, 데이터 개수, 데이터 타입 확인"
   ]
  },
  {
   "cell_type": "code",
   "execution_count": null,
   "metadata": {},
   "outputs": [],
   "source": [
    "## 코드 입력"
   ]
  },
  {
   "cell_type": "markdown",
   "metadata": {},
   "source": [
    "#### &nbsp;&nbsp; 1-3) 기초통계량 확인"
   ]
  },
  {
   "cell_type": "code",
   "execution_count": null,
   "metadata": {},
   "outputs": [],
   "source": [
    "## 코드 입력\n"
   ]
  },
  {
   "cell_type": "markdown",
   "metadata": {},
   "source": [
    "#### &nbsp;&nbsp; 1-4) 결측치(N/A) 개수 확인"
   ]
  },
  {
   "cell_type": "code",
   "execution_count": null,
   "metadata": {
    "colab": {
     "base_uri": "https://localhost:8080/"
    },
    "executionInfo": {
     "elapsed": 516,
     "status": "ok",
     "timestamp": 1682304586139,
     "user": {
      "displayName": "허신 - Business Intelligence",
      "userId": "11511914061488776232"
     },
     "user_tz": -540
    },
    "id": "d6Drzg0V9LhN",
    "outputId": "ff955003-ce97-4ac0-f77a-bab8480f7128"
   },
   "outputs": [],
   "source": [
    "## isna\n",
    "## 코드 입력"
   ]
  },
  {
   "cell_type": "markdown",
   "metadata": {},
   "source": [
    "<br><br><hr>"
   ]
  },
  {
   "cell_type": "markdown",
   "metadata": {
    "id": "jImSiMfNOZVV"
   },
   "source": [
    "## 2. 단변량 분석\n"
   ]
  },
  {
   "cell_type": "markdown",
   "metadata": {
    "id": "Alrep64H48M0"
   },
   "source": [
    "- 주요 변수들의 분포를 살펴보며 비즈니스를 파악합시다.\n",
    "- 단일 변수로 분석\n",
    "    * 숫자형 변수 : 기초통계량, 히스토그램, kdeplot, 박스플롯\n",
    "    * 범주형 변수 : 범주별 빈도수, 바 플롯"
   ]
  },
  {
   "cell_type": "markdown",
   "metadata": {
    "id": "BP8iBi7We3AI"
   },
   "source": [
    "#### &nbsp;&nbsp; 2-1) 최종 차수 점수 변화(Score_diff_total)"
   ]
  },
  {
   "cell_type": "code",
   "execution_count": 5,
   "metadata": {
    "colab": {
     "base_uri": "https://localhost:8080/",
     "height": 763
    },
    "executionInfo": {
     "elapsed": 1209,
     "status": "ok",
     "timestamp": 1682304592969,
     "user": {
      "displayName": "허신 - Business Intelligence",
      "userId": "11511914061488776232"
     },
     "user_tz": -540
    },
    "id": "ecE18WsSFfN0",
    "outputId": "959fb8fc-79c8-462b-a269-f43e0ae7688c",
    "tags": []
   },
   "outputs": [
    {
     "data": {
      "text/html": [
       "<div>\n",
       "<style scoped>\n",
       "    .dataframe tbody tr th:only-of-type {\n",
       "        vertical-align: middle;\n",
       "    }\n",
       "\n",
       "    .dataframe tbody tr th {\n",
       "        vertical-align: top;\n",
       "    }\n",
       "\n",
       "    .dataframe thead th {\n",
       "        text-align: right;\n",
       "    }\n",
       "</style>\n",
       "<table border=\"1\" class=\"dataframe\">\n",
       "  <thead>\n",
       "    <tr style=\"text-align: right;\">\n",
       "      <th></th>\n",
       "      <th>count</th>\n",
       "      <th>mean</th>\n",
       "      <th>std</th>\n",
       "      <th>min</th>\n",
       "      <th>25%</th>\n",
       "      <th>50%</th>\n",
       "      <th>75%</th>\n",
       "      <th>max</th>\n",
       "    </tr>\n",
       "  </thead>\n",
       "  <tbody>\n",
       "    <tr>\n",
       "      <th>Score_diff_total</th>\n",
       "      <td>500.0</td>\n",
       "      <td>61.514</td>\n",
       "      <td>39.739051</td>\n",
       "      <td>0.0</td>\n",
       "      <td>30.0</td>\n",
       "      <td>63.0</td>\n",
       "      <td>83.0</td>\n",
       "      <td>281.0</td>\n",
       "    </tr>\n",
       "  </tbody>\n",
       "</table>\n",
       "</div>"
      ],
      "text/plain": [
       "                  count    mean        std  min   25%   50%   75%    max\n",
       "Score_diff_total  500.0  61.514  39.739051  0.0  30.0  63.0  83.0  281.0"
      ]
     },
     "metadata": {},
     "output_type": "display_data"
    },
    {
     "data": {
      "image/png": "[encoded data removed]",
      "text/plain": [
       "<Figure size 1200x800 with 2 Axes>"
      ]
     },
     "metadata": {},
     "output_type": "display_data"
    }
   ],
   "source": [
    "## 'Score_diff_total' 변수의 기초통계량 확인\n",
    "## 코드 입력\n",
    "\n",
    "\n",
    "plt.figure(figsize = (12,8))\n",
    "plt.subplot(2,1,1)\n",
    "\n",
    "## 'Score_diff_total' 변수의 histplot그리기\n",
    "## 코드 입력\n",
    "\n",
    "plt.grid()\n",
    "\n",
    "plt.subplot(2,1,2)\n",
    "\n",
    "## 'Score_diff_total' 변수의 boxplot 그리기\n",
    "## 코드 입력\n",
    "\n",
    "plt.grid()\n",
    "\n",
    "plt.show()\n",
    "\n"
   ]
  },
  {
   "cell_type": "code",
   "execution_count": 6,
   "metadata": {
    "tags": []
   },
   "outputs": [
    {
     "data": {
      "image/png": "[encoded data removed]",
      "text/plain": [
       "<Figure size 640x480 with 1 Axes>"
      ]
     },
     "metadata": {},
     "output_type": "display_data"
    }
   ],
   "source": [
    "## 'Score_diff_total' 변수의 kdeplot 그리기\n",
    "## 코드 입력\n",
    "\n",
    "\n",
    "plt.grid()\n",
    "\n",
    "plt.show()"
   ]
  },
  {
   "cell_type": "markdown",
   "metadata": {
    "id": "umrFANTTpPoY"
   },
   "source": [
    "#### &nbsp;&nbsp; 2-2) 범주형 변수\n",
    "   * 분석 방법 : 범주별 빈도수, countplot\n",
    "   * 대상 변수 : Gender, 학습목표, 학습방법, 강의 학습 교재 유형, 학습빈도, 취약분야 인지 여부"
   ]
  },
  {
   "cell_type": "markdown",
   "metadata": {},
   "source": [
    "##### &nbsp; &nbsp; &nbsp; &nbsp; 2-2-1) 'Gender'"
   ]
  },
  {
   "cell_type": "code",
   "execution_count": 7,
   "metadata": {
    "colab": {
     "base_uri": "https://localhost:8080/",
     "height": 577
    },
    "executionInfo": {
     "elapsed": 531,
     "status": "ok",
     "timestamp": 1682304609705,
     "user": {
      "displayName": "허신 - Business Intelligence",
      "userId": "11511914061488776232"
     },
     "user_tz": -540
    },
    "id": "bUb1WT5BW0QD",
    "outputId": "2486b7c3-dff7-46fa-e847-79c813ee6b76",
    "tags": []
   },
   "outputs": [
    {
     "name": "stdout",
     "output_type": "stream",
     "text": [
      "M    250\n",
      "F    250\n",
      "Name: Gender, dtype: int64\n",
      "M    0.5\n",
      "F    0.5\n",
      "Name: Gender, dtype: float64\n"
     ]
    },
    {
     "data": {
      "image/png": "[encoded data removed]",
      "text/plain": [
       "<Figure size 800x500 with 1 Axes>"
      ]
     },
     "metadata": {},
     "output_type": "display_data"
    }
   ],
   "source": [
    "## 범주형 변수의 범주별 빈도수 확인하기 : value_counts()\n",
    "## 코드 입력\n",
    "\n",
    "## 범주형 변수의 범주별 빈도 비율 확인하기 : value_counts() / df.shape[0]\n",
    "## 코드 입력\n",
    "\n",
    "\n",
    "## 그래프 분석하기 : countplot()\n",
    "\n",
    "## 코드 입력\n",
    "\n"
   ]
  },
  {
   "cell_type": "markdown",
   "metadata": {
    "id": "Py-fsDa-f3gr"
   },
   "source": [
    "##### &nbsp; &nbsp; &nbsp; &nbsp; 2-2-2) 학습목표"
   ]
  },
  {
   "cell_type": "code",
   "execution_count": null,
   "metadata": {
    "colab": {
     "base_uri": "https://localhost:8080/",
     "height": 658
    },
    "executionInfo": {
     "elapsed": 463,
     "status": "ok",
     "timestamp": 1682304636054,
     "user": {
      "displayName": "허신 - Business Intelligence",
      "userId": "11511914061488776232"
     },
     "user_tz": -540
    },
    "id": "aGeYxzXqYXtQ",
    "outputId": "96eb73c6-3348-4f88-fb77-fae91ed386cb"
   },
   "outputs": [],
   "source": [
    "## 범주형 변수의 범주별 빈도수 확인하기 : value_counts()\n",
    "## 코드 입력\n",
    "\n",
    "\n",
    "## 범주형 변수의 범주별 빈도 비율 확인하기 : value_counts() / df.shape[0]\n",
    "## 코드 입력\n",
    "\n",
    "## 그래프 분석하기 : countplot()\n",
    "## 코드 입력\n"
   ]
  },
  {
   "cell_type": "markdown",
   "metadata": {
    "id": "MULklzbIgKaX"
   },
   "source": [
    "##### &nbsp; &nbsp; &nbsp; &nbsp; 2-2-3) 학습방법"
   ]
  },
  {
   "cell_type": "code",
   "execution_count": null,
   "metadata": {
    "colab": {
     "base_uri": "https://localhost:8080/",
     "height": 621
    },
    "executionInfo": {
     "elapsed": 790,
     "status": "ok",
     "timestamp": 1682304641873,
     "user": {
      "displayName": "허신 - Business Intelligence",
      "userId": "11511914061488776232"
     },
     "user_tz": -540
    },
    "id": "H0426M3AYgZz",
    "outputId": "38155712-2d68-4894-bdff-1c37052a1677"
   },
   "outputs": [],
   "source": [
    "## 범주형 변수의 범주별 빈도수 확인하기 : value_counts()\n",
    "## 코드 입력\n",
    "\n",
    "\n",
    "## 범주형 변수의 범주별 빈도 비율 확인하기 : value_counts() / df.shape[0]\n",
    "## 코드 입력\n",
    "\n",
    "\n",
    "## 그래프 분석하기 : countplot()\n",
    "## 코드 입력\n"
   ]
  },
  {
   "cell_type": "markdown",
   "metadata": {
    "id": "MHQs29pnvGg3"
   },
   "source": [
    "##### &nbsp; &nbsp; &nbsp; &nbsp; 2-2-4) 강의 학습 교재 유형 "
   ]
  },
  {
   "cell_type": "code",
   "execution_count": null,
   "metadata": {
    "colab": {
     "base_uri": "https://localhost:8080/",
     "height": 665
    },
    "executionInfo": {
     "elapsed": 390,
     "status": "ok",
     "timestamp": 1682304646718,
     "user": {
      "displayName": "허신 - Business Intelligence",
      "userId": "11511914061488776232"
     },
     "user_tz": -540
    },
    "id": "CPmcMsIQYm7a",
    "outputId": "f6872f9b-53e5-43f9-d4ca-c9d9cb05daa3"
   },
   "outputs": [],
   "source": [
    "## 범주형 변수의 범주별 빈도수 확인하기 : value_counts()\n",
    "## 코드 입력\n",
    "\n",
    "\n",
    "## 범주형 변수의 범주별 빈도 비율 확인하기 : value_counts() / df.shape[0]\n",
    "## 코드 입력\n",
    "\n",
    "## 그래프 분석하기 : countplot()\n",
    "## 코드 입력\n",
    "\n"
   ]
  },
  {
   "cell_type": "markdown",
   "metadata": {
    "id": "blaRhb3KvXY4"
   },
   "source": [
    "##### &nbsp; &nbsp; &nbsp; &nbsp; 2-2-5) 학습빈도 "
   ]
  },
  {
   "cell_type": "code",
   "execution_count": null,
   "metadata": {
    "colab": {
     "base_uri": "https://localhost:8080/",
     "height": 665
    },
    "executionInfo": {
     "elapsed": 541,
     "status": "ok",
     "timestamp": 1682304652623,
     "user": {
      "displayName": "허신 - Business Intelligence",
      "userId": "11511914061488776232"
     },
     "user_tz": -540
    },
    "id": "JvlbTV-3Yv8j",
    "outputId": "a978c57f-b954-4087-e4e8-1889375c4265"
   },
   "outputs": [],
   "source": [
    "## 범주형 변수의 범주별 빈도수 확인하기 : value_counts()\n",
    "## 코드 입력\n",
    "\n",
    "## 범주형 변수의 범주별 빈도 비율 확인하기 : value_counts() / df.shape[0]\n",
    "## 코드 입력\n",
    "\n",
    "## 그래프 분석하기 : countplot()\n",
    "## 코드 입력\n",
    "\n"
   ]
  },
  {
   "cell_type": "markdown",
   "metadata": {
    "id": "BS_4XRVHv9VR"
   },
   "source": [
    "##### &nbsp; &nbsp; &nbsp; &nbsp; 2-2-6) 취약분야 인지 여부"
   ]
  },
  {
   "cell_type": "code",
   "execution_count": null,
   "metadata": {
    "colab": {
     "base_uri": "https://localhost:8080/",
     "height": 577
    },
    "executionInfo": {
     "elapsed": 4,
     "status": "ok",
     "timestamp": 1682304660665,
     "user": {
      "displayName": "허신 - Business Intelligence",
      "userId": "11511914061488776232"
     },
     "user_tz": -540
    },
    "id": "S_iOCuVjZBQi",
    "outputId": "ea00bf08-22fe-442e-95c2-6a29e311a25d"
   },
   "outputs": [],
   "source": [
    "## 범주형 변수의 범주별 빈도수 확인하기 : value_counts()\n",
    "## 코드 입력\n",
    "\n",
    "## 범주형 변수의 범주별 빈도 비율 확인하기 : value_counts() / df.shape[0]\n",
    "## 코드 입력\n",
    "\n",
    "## 그래프 분석하기 : countplot()\n",
    "## 코드 입력\n"
   ]
  },
  {
   "cell_type": "markdown",
   "metadata": {},
   "source": [
    "#### &nbsp;&nbsp; 2-3) 수치형 변수\n",
    "   * 분석 방법 : 기초 통계, 히스토그램, boxplot\n",
    "   * 대상 변수 : 'Birth_Year', '기출문제 공부 횟수','토익 모의테스트 횟수',  '1st_Total_Score', '2st_Total_Score'\n",
    "             "
   ]
  },
  {
   "cell_type": "markdown",
   "metadata": {},
   "source": [
    "##### &nbsp; &nbsp; &nbsp; &nbsp; 2-3-1) Bitrh_Year"
   ]
  },
  {
   "cell_type": "code",
   "execution_count": 8,
   "metadata": {
    "tags": []
   },
   "outputs": [
    {
     "data": {
      "text/html": [
       "<div>\n",
       "<style scoped>\n",
       "    .dataframe tbody tr th:only-of-type {\n",
       "        vertical-align: middle;\n",
       "    }\n",
       "\n",
       "    .dataframe tbody tr th {\n",
       "        vertical-align: top;\n",
       "    }\n",
       "\n",
       "    .dataframe thead th {\n",
       "        text-align: right;\n",
       "    }\n",
       "</style>\n",
       "<table border=\"1\" class=\"dataframe\">\n",
       "  <thead>\n",
       "    <tr style=\"text-align: right;\">\n",
       "      <th></th>\n",
       "      <th>count</th>\n",
       "      <th>mean</th>\n",
       "      <th>std</th>\n",
       "      <th>min</th>\n",
       "      <th>25%</th>\n",
       "      <th>50%</th>\n",
       "      <th>75%</th>\n",
       "      <th>max</th>\n",
       "    </tr>\n",
       "  </thead>\n",
       "  <tbody>\n",
       "    <tr>\n",
       "      <th>Birth_Year</th>\n",
       "      <td>500.0</td>\n",
       "      <td>1992.906</td>\n",
       "      <td>8.224381</td>\n",
       "      <td>1973.0</td>\n",
       "      <td>1986.75</td>\n",
       "      <td>1992.5</td>\n",
       "      <td>2000.0</td>\n",
       "      <td>2007.0</td>\n",
       "    </tr>\n",
       "  </tbody>\n",
       "</table>\n",
       "</div>"
      ],
      "text/plain": [
       "            count      mean       std     min      25%     50%     75%     max\n",
       "Birth_Year  500.0  1992.906  8.224381  1973.0  1986.75  1992.5  2000.0  2007.0"
      ]
     },
     "metadata": {},
     "output_type": "display_data"
    },
    {
     "data": {
      "image/png": "[encoded data removed]",
      "text/plain": [
       "<Figure size 1200x800 with 2 Axes>"
      ]
     },
     "metadata": {},
     "output_type": "display_data"
    }
   ],
   "source": [
    "## 수치형 변수의 기초 통계량 확인 : describe\n",
    "## 코드 입력\n",
    "\n",
    "## 그래프 분석 : histplot, boxplot\n",
    "## 코드 입력\n",
    "\n"
   ]
  },
  {
   "cell_type": "markdown",
   "metadata": {},
   "source": [
    "##### &nbsp; &nbsp; &nbsp; &nbsp; 2-3-2) 기출문제 공부 횟수"
   ]
  },
  {
   "cell_type": "code",
   "execution_count": null,
   "metadata": {},
   "outputs": [],
   "source": [
    "## 수치형 변수의 기초 통계량 확인 : describe\n",
    "## 코드 입력\n",
    "\n",
    "## 그래프 분석 : histplot, boxplot\n",
    "## 코드 입력\n",
    "\n"
   ]
  },
  {
   "cell_type": "markdown",
   "metadata": {},
   "source": [
    "##### &nbsp; &nbsp; &nbsp; &nbsp; 2-3-3) 토익 모의테스트 횟수"
   ]
  },
  {
   "cell_type": "code",
   "execution_count": null,
   "metadata": {},
   "outputs": [],
   "source": [
    "## 수치형 변수의 기초 통계량 확인 : describe\n",
    "## 코드 입력\n",
    "\n",
    "## 그래프 분석 : histplot, boxplot\n",
    "## 코드 입력\n"
   ]
  },
  {
   "cell_type": "markdown",
   "metadata": {},
   "source": [
    "##### &nbsp; &nbsp; &nbsp; &nbsp; 2-3-4) 1st_Total_Score"
   ]
  },
  {
   "cell_type": "code",
   "execution_count": null,
   "metadata": {},
   "outputs": [],
   "source": [
    "## 수치형 변수의 기초 통계량 확인 : describe\n",
    "## 코드 입력\n",
    "\n",
    "## 그래프 분석 : histplot, boxplot\n",
    "## 코드 입력 \n",
    "\n",
    "\n"
   ]
  },
  {
   "cell_type": "markdown",
   "metadata": {},
   "source": [
    "##### &nbsp; &nbsp; &nbsp; &nbsp; 2-3-5) 2nd_Total_Score"
   ]
  },
  {
   "cell_type": "code",
   "execution_count": null,
   "metadata": {},
   "outputs": [],
   "source": [
    "## 수치형 변수의 기초 통계량 확인 : describe\n",
    "## 코드 입력\n",
    "\n",
    "\n",
    "## 그래프 분석 : histplot, boxplot\n",
    "## 코드 입력\n",
    "\n"
   ]
  },
  {
   "cell_type": "markdown",
   "metadata": {},
   "source": [
    "## [정리] 단변량 분석을 통해 파악된 비즈니스 인사이트는 무엇인가요?"
   ]
  },
  {
   "cell_type": "code",
   "execution_count": null,
   "metadata": {},
   "outputs": [],
   "source": []
  },
  {
   "cell_type": "markdown",
   "metadata": {},
   "source": [
    "<br><br><hr><br><br>"
   ]
  },
  {
   "cell_type": "markdown",
   "metadata": {
    "id": "fOQ962HoVhn_"
   },
   "source": [
    "## 3. 이변량 분석"
   ]
  },
  {
   "cell_type": "markdown",
   "metadata": {
    "id": "lTtyXryFW8GX"
   },
   "source": [
    "- 수치형 feature --> 수치형 target\n",
    "    - 전체 변수들 간의 상관관계 구하기\n",
    "        * 범주형 변수를 제외한 데이터셋을 이용하여\n",
    "        * .corr() + sns.heatmap() 으로 전체 상관계수를 시각화\n",
    "    - 상관계수 상위 몇개에 대해서 feature와 target에 대해 \n",
    "        * 상관분석을 통해 상관계수가 유의미함을 분석\n",
    "        * 산점도를 통해 상관관계를 시각화하여 분석\n",
    "- 범주형 feature --> 수치형 target\n",
    "    * 범주간에 target의 평균의 차이가 있는지 분석\n",
    "    * 범주별 barplot으로 평균의 차이를 시각화하여 분석"
   ]
  },
  {
   "cell_type": "markdown",
   "metadata": {
    "id": "xSiZUWH-adt3"
   },
   "source": [
    "#### &nbsp;&nbsp; 3-1) 수치형 feature --> 수치형 target\n"
   ]
  },
  {
   "cell_type": "markdown",
   "metadata": {
    "id": "_0QLr9Rjd4Z6"
   },
   "source": [
    "##### &nbsp; &nbsp; &nbsp; &nbsp; 3-1-1) 전체 수치형 변수들 간의 상관관계 분석"
   ]
  },
  {
   "cell_type": "markdown",
   "metadata": {
    "id": "LFQooJGZd67n"
   },
   "source": [
    "* 수치형 변수 리스트 만들기"
   ]
  },
  {
   "cell_type": "code",
   "execution_count": 9,
   "metadata": {
    "id": "QSYeYlZKZlE8",
    "tags": []
   },
   "outputs": [],
   "source": [
    "# 수치형 변수 리스트 정의\n",
    "\n",
    "col_num = ['Birth_Year','3rd_LC_Score','3rd_RC_Score','3rd_Total_Score', '기출문제 공부 횟수','토익 모의테스트 횟수', '1st_LC_Score', '1st_RC_Score', '1st_Total_Score',\n",
    "            '2nd_LC_Score', '2nd_RC_Score', '2nd_Total_Score', 'Score_diff_total']"
   ]
  },
  {
   "cell_type": "code",
   "execution_count": 10,
   "metadata": {
    "colab": {
     "base_uri": "https://localhost:8080/",
     "height": 579
    },
    "executionInfo": {
     "elapsed": 5,
     "status": "ok",
     "timestamp": 1682304670572,
     "user": {
      "displayName": "허신 - Business Intelligence",
      "userId": "11511914061488776232"
     },
     "user_tz": -540
    },
    "id": "x5B80vXYTFVg",
    "outputId": "4da8e072-31ef-423b-c1c2-5b6bceea7860",
    "tags": []
   },
   "outputs": [
    {
     "data": {
      "text/html": [
       "<div>\n",
       "<style scoped>\n",
       "    .dataframe tbody tr th:only-of-type {\n",
       "        vertical-align: middle;\n",
       "    }\n",
       "\n",
       "    .dataframe tbody tr th {\n",
       "        vertical-align: top;\n",
       "    }\n",
       "\n",
       "    .dataframe thead th {\n",
       "        text-align: right;\n",
       "    }\n",
       "</style>\n",
       "<table border=\"1\" class=\"dataframe\">\n",
       "  <thead>\n",
       "    <tr style=\"text-align: right;\">\n",
       "      <th></th>\n",
       "      <th>Birth_Year</th>\n",
       "      <th>3rd_LC_Score</th>\n",
       "      <th>3rd_RC_Score</th>\n",
       "      <th>3rd_Total_Score</th>\n",
       "      <th>기출문제 공부 횟수</th>\n",
       "      <th>토익 모의테스트 횟수</th>\n",
       "      <th>1st_LC_Score</th>\n",
       "      <th>1st_RC_Score</th>\n",
       "      <th>1st_Total_Score</th>\n",
       "      <th>2nd_LC_Score</th>\n",
       "      <th>2nd_RC_Score</th>\n",
       "      <th>2nd_Total_Score</th>\n",
       "      <th>Score_diff_total</th>\n",
       "    </tr>\n",
       "  </thead>\n",
       "  <tbody>\n",
       "    <tr>\n",
       "      <th>0</th>\n",
       "      <td>1973</td>\n",
       "      <td>345</td>\n",
       "      <td>336</td>\n",
       "      <td>681</td>\n",
       "      <td>7</td>\n",
       "      <td>10</td>\n",
       "      <td>181</td>\n",
       "      <td>173</td>\n",
       "      <td>354</td>\n",
       "      <td>227</td>\n",
       "      <td>213</td>\n",
       "      <td>440</td>\n",
       "      <td>241</td>\n",
       "    </tr>\n",
       "    <tr>\n",
       "      <th>1</th>\n",
       "      <td>1982</td>\n",
       "      <td>380</td>\n",
       "      <td>368</td>\n",
       "      <td>748</td>\n",
       "      <td>4</td>\n",
       "      <td>14</td>\n",
       "      <td>330</td>\n",
       "      <td>290</td>\n",
       "      <td>620</td>\n",
       "      <td>354</td>\n",
       "      <td>339</td>\n",
       "      <td>693</td>\n",
       "      <td>55</td>\n",
       "    </tr>\n",
       "    <tr>\n",
       "      <th>2</th>\n",
       "      <td>1995</td>\n",
       "      <td>416</td>\n",
       "      <td>382</td>\n",
       "      <td>798</td>\n",
       "      <td>4</td>\n",
       "      <td>4</td>\n",
       "      <td>367</td>\n",
       "      <td>309</td>\n",
       "      <td>676</td>\n",
       "      <td>396</td>\n",
       "      <td>365</td>\n",
       "      <td>761</td>\n",
       "      <td>37</td>\n",
       "    </tr>\n",
       "    <tr>\n",
       "      <th>3</th>\n",
       "      <td>1987</td>\n",
       "      <td>495</td>\n",
       "      <td>397</td>\n",
       "      <td>892</td>\n",
       "      <td>9</td>\n",
       "      <td>8</td>\n",
       "      <td>470</td>\n",
       "      <td>285</td>\n",
       "      <td>755</td>\n",
       "      <td>495</td>\n",
       "      <td>341</td>\n",
       "      <td>836</td>\n",
       "      <td>56</td>\n",
       "    </tr>\n",
       "    <tr>\n",
       "      <th>4</th>\n",
       "      <td>1994</td>\n",
       "      <td>398</td>\n",
       "      <td>437</td>\n",
       "      <td>835</td>\n",
       "      <td>6</td>\n",
       "      <td>4</td>\n",
       "      <td>273</td>\n",
       "      <td>372</td>\n",
       "      <td>645</td>\n",
       "      <td>314</td>\n",
       "      <td>426</td>\n",
       "      <td>740</td>\n",
       "      <td>95</td>\n",
       "    </tr>\n",
       "    <tr>\n",
       "      <th>...</th>\n",
       "      <td>...</td>\n",
       "      <td>...</td>\n",
       "      <td>...</td>\n",
       "      <td>...</td>\n",
       "      <td>...</td>\n",
       "      <td>...</td>\n",
       "      <td>...</td>\n",
       "      <td>...</td>\n",
       "      <td>...</td>\n",
       "      <td>...</td>\n",
       "      <td>...</td>\n",
       "      <td>...</td>\n",
       "      <td>...</td>\n",
       "    </tr>\n",
       "    <tr>\n",
       "      <th>495</th>\n",
       "      <td>2006</td>\n",
       "      <td>364</td>\n",
       "      <td>336</td>\n",
       "      <td>700</td>\n",
       "      <td>10</td>\n",
       "      <td>13</td>\n",
       "      <td>347</td>\n",
       "      <td>315</td>\n",
       "      <td>662</td>\n",
       "      <td>349</td>\n",
       "      <td>321</td>\n",
       "      <td>670</td>\n",
       "      <td>30</td>\n",
       "    </tr>\n",
       "    <tr>\n",
       "      <th>496</th>\n",
       "      <td>1988</td>\n",
       "      <td>187</td>\n",
       "      <td>252</td>\n",
       "      <td>439</td>\n",
       "      <td>9</td>\n",
       "      <td>17</td>\n",
       "      <td>112</td>\n",
       "      <td>250</td>\n",
       "      <td>362</td>\n",
       "      <td>120</td>\n",
       "      <td>251</td>\n",
       "      <td>371</td>\n",
       "      <td>68</td>\n",
       "    </tr>\n",
       "    <tr>\n",
       "      <th>497</th>\n",
       "      <td>2006</td>\n",
       "      <td>255</td>\n",
       "      <td>167</td>\n",
       "      <td>422</td>\n",
       "      <td>2</td>\n",
       "      <td>4</td>\n",
       "      <td>252</td>\n",
       "      <td>150</td>\n",
       "      <td>402</td>\n",
       "      <td>254</td>\n",
       "      <td>158</td>\n",
       "      <td>412</td>\n",
       "      <td>10</td>\n",
       "    </tr>\n",
       "    <tr>\n",
       "      <th>498</th>\n",
       "      <td>1990</td>\n",
       "      <td>422</td>\n",
       "      <td>370</td>\n",
       "      <td>792</td>\n",
       "      <td>4</td>\n",
       "      <td>7</td>\n",
       "      <td>371</td>\n",
       "      <td>324</td>\n",
       "      <td>695</td>\n",
       "      <td>378</td>\n",
       "      <td>326</td>\n",
       "      <td>704</td>\n",
       "      <td>88</td>\n",
       "    </tr>\n",
       "    <tr>\n",
       "      <th>499</th>\n",
       "      <td>1984</td>\n",
       "      <td>235</td>\n",
       "      <td>226</td>\n",
       "      <td>461</td>\n",
       "      <td>7</td>\n",
       "      <td>15</td>\n",
       "      <td>169</td>\n",
       "      <td>188</td>\n",
       "      <td>357</td>\n",
       "      <td>172</td>\n",
       "      <td>190</td>\n",
       "      <td>362</td>\n",
       "      <td>99</td>\n",
       "    </tr>\n",
       "  </tbody>\n",
       "</table>\n",
       "<p>500 rows × 13 columns</p>\n",
       "</div>"
      ],
      "text/plain": [
       "     Birth_Year  3rd_LC_Score  3rd_RC_Score  3rd_Total_Score  기출문제 공부 횟수  \\\n",
       "0          1973           345           336              681           7   \n",
       "1          1982           380           368              748           4   \n",
       "2          1995           416           382              798           4   \n",
       "3          1987           495           397              892           9   \n",
       "4          1994           398           437              835           6   \n",
       "..          ...           ...           ...              ...         ...   \n",
       "495        2006           364           336              700          10   \n",
       "496        1988           187           252              439           9   \n",
       "497        2006           255           167              422           2   \n",
       "498        1990           422           370              792           4   \n",
       "499        1984           235           226              461           7   \n",
       "\n",
       "     토익 모의테스트 횟수  1st_LC_Score  1st_RC_Score  1st_Total_Score  2nd_LC_Score  \\\n",
       "0             10           181           173              354           227   \n",
       "1             14           330           290              620           354   \n",
       "2              4           367           309              676           396   \n",
       "3              8           470           285              755           495   \n",
       "4              4           273           372              645           314   \n",
       "..           ...           ...           ...              ...           ...   \n",
       "495           13           347           315              662           349   \n",
       "496           17           112           250              362           120   \n",
       "497            4           252           150              402           254   \n",
       "498            7           371           324              695           378   \n",
       "499           15           169           188              357           172   \n",
       "\n",
       "     2nd_RC_Score  2nd_Total_Score  Score_diff_total  \n",
       "0             213              440               241  \n",
       "1             339              693                55  \n",
       "2             365              761                37  \n",
       "3             341              836                56  \n",
       "4             426              740                95  \n",
       "..            ...              ...               ...  \n",
       "495           321              670                30  \n",
       "496           251              371                68  \n",
       "497           158              412                10  \n",
       "498           326              704                88  \n",
       "499           190              362                99  \n",
       "\n",
       "[500 rows x 13 columns]"
      ]
     },
     "execution_count": 10,
     "metadata": {},
     "output_type": "execute_result"
    }
   ],
   "source": [
    "## 수치형 변수들의 데이터 확인\n",
    "\n",
    "base_data[col_num]"
   ]
  },
  {
   "cell_type": "markdown",
   "metadata": {
    "id": "Wx398uUXd-CB"
   },
   "source": [
    "* 숫자형 데이터의 상호 상관관계"
   ]
  },
  {
   "cell_type": "code",
   "execution_count": 11,
   "metadata": {
    "colab": {
     "base_uri": "https://localhost:8080/",
     "height": 669
    },
    "executionInfo": {
     "elapsed": 4,
     "status": "ok",
     "timestamp": 1682304670572,
     "user": {
      "displayName": "허신 - Business Intelligence",
      "userId": "11511914061488776232"
     },
     "user_tz": -540
    },
    "id": "ftdxjJOpUg-_",
    "outputId": "c4f7dc7f-b11b-4af6-9839-52e8aacff120",
    "tags": []
   },
   "outputs": [
    {
     "data": {
      "text/html": [
       "<div>\n",
       "<style scoped>\n",
       "    .dataframe tbody tr th:only-of-type {\n",
       "        vertical-align: middle;\n",
       "    }\n",
       "\n",
       "    .dataframe tbody tr th {\n",
       "        vertical-align: top;\n",
       "    }\n",
       "\n",
       "    .dataframe thead th {\n",
       "        text-align: right;\n",
       "    }\n",
       "</style>\n",
       "<table border=\"1\" class=\"dataframe\">\n",
       "  <thead>\n",
       "    <tr style=\"text-align: right;\">\n",
       "      <th></th>\n",
       "      <th>Birth_Year</th>\n",
       "      <th>3rd_LC_Score</th>\n",
       "      <th>3rd_RC_Score</th>\n",
       "      <th>3rd_Total_Score</th>\n",
       "      <th>기출문제 공부 횟수</th>\n",
       "      <th>토익 모의테스트 횟수</th>\n",
       "      <th>1st_LC_Score</th>\n",
       "      <th>1st_RC_Score</th>\n",
       "      <th>1st_Total_Score</th>\n",
       "      <th>2nd_LC_Score</th>\n",
       "      <th>2nd_RC_Score</th>\n",
       "      <th>2nd_Total_Score</th>\n",
       "      <th>Score_diff_total</th>\n",
       "    </tr>\n",
       "  </thead>\n",
       "  <tbody>\n",
       "    <tr>\n",
       "      <th>Birth_Year</th>\n",
       "      <td>1.000000</td>\n",
       "      <td>0.034871</td>\n",
       "      <td>0.027302</td>\n",
       "      <td>0.032645</td>\n",
       "      <td>0.000754</td>\n",
       "      <td>-0.010049</td>\n",
       "      <td>0.065178</td>\n",
       "      <td>0.051614</td>\n",
       "      <td>0.067610</td>\n",
       "      <td>0.058882</td>\n",
       "      <td>0.060268</td>\n",
       "      <td>0.065340</td>\n",
       "      <td>-0.123791</td>\n",
       "    </tr>\n",
       "    <tr>\n",
       "      <th>3rd_LC_Score</th>\n",
       "      <td>0.034871</td>\n",
       "      <td>1.000000</td>\n",
       "      <td>0.810450</td>\n",
       "      <td>0.951776</td>\n",
       "      <td>0.042070</td>\n",
       "      <td>0.009477</td>\n",
       "      <td>0.892739</td>\n",
       "      <td>0.641789</td>\n",
       "      <td>0.888068</td>\n",
       "      <td>0.951131</td>\n",
       "      <td>0.725373</td>\n",
       "      <td>0.919824</td>\n",
       "      <td>0.188377</td>\n",
       "    </tr>\n",
       "    <tr>\n",
       "      <th>3rd_RC_Score</th>\n",
       "      <td>0.027302</td>\n",
       "      <td>0.810450</td>\n",
       "      <td>1.000000</td>\n",
       "      <td>0.951058</td>\n",
       "      <td>0.035350</td>\n",
       "      <td>0.012057</td>\n",
       "      <td>0.651576</td>\n",
       "      <td>0.892840</td>\n",
       "      <td>0.895484</td>\n",
       "      <td>0.729434</td>\n",
       "      <td>0.948760</td>\n",
       "      <td>0.920256</td>\n",
       "      <td>0.183897</td>\n",
       "    </tr>\n",
       "    <tr>\n",
       "      <th>3rd_Total_Score</th>\n",
       "      <td>0.032645</td>\n",
       "      <td>0.951776</td>\n",
       "      <td>0.951058</td>\n",
       "      <td>1.000000</td>\n",
       "      <td>0.040950</td>\n",
       "      <td>0.011285</td>\n",
       "      <td>0.812176</td>\n",
       "      <td>0.806150</td>\n",
       "      <td>0.937450</td>\n",
       "      <td>0.883673</td>\n",
       "      <td>0.879439</td>\n",
       "      <td>0.967091</td>\n",
       "      <td>0.195372</td>\n",
       "    </tr>\n",
       "    <tr>\n",
       "      <th>기출문제 공부 횟수</th>\n",
       "      <td>0.000754</td>\n",
       "      <td>0.042070</td>\n",
       "      <td>0.035350</td>\n",
       "      <td>0.040950</td>\n",
       "      <td>1.000000</td>\n",
       "      <td>0.822999</td>\n",
       "      <td>-0.001871</td>\n",
       "      <td>-0.010960</td>\n",
       "      <td>-0.007464</td>\n",
       "      <td>-0.013591</td>\n",
       "      <td>-0.012960</td>\n",
       "      <td>-0.014495</td>\n",
       "      <td>0.216523</td>\n",
       "    </tr>\n",
       "    <tr>\n",
       "      <th>토익 모의테스트 횟수</th>\n",
       "      <td>-0.010049</td>\n",
       "      <td>0.009477</td>\n",
       "      <td>0.012057</td>\n",
       "      <td>0.011285</td>\n",
       "      <td>0.822999</td>\n",
       "      <td>1.000000</td>\n",
       "      <td>-0.020741</td>\n",
       "      <td>-0.035071</td>\n",
       "      <td>-0.032380</td>\n",
       "      <td>-0.033481</td>\n",
       "      <td>-0.025364</td>\n",
       "      <td>-0.032288</td>\n",
       "      <td>0.168731</td>\n",
       "    </tr>\n",
       "    <tr>\n",
       "      <th>1st_LC_Score</th>\n",
       "      <td>0.065178</td>\n",
       "      <td>0.892739</td>\n",
       "      <td>0.651576</td>\n",
       "      <td>0.812176</td>\n",
       "      <td>-0.001871</td>\n",
       "      <td>-0.020741</td>\n",
       "      <td>1.000000</td>\n",
       "      <td>0.489982</td>\n",
       "      <td>0.861374</td>\n",
       "      <td>0.951472</td>\n",
       "      <td>0.569375</td>\n",
       "      <td>0.834647</td>\n",
       "      <td>-0.030968</td>\n",
       "    </tr>\n",
       "    <tr>\n",
       "      <th>1st_RC_Score</th>\n",
       "      <td>0.051614</td>\n",
       "      <td>0.641789</td>\n",
       "      <td>0.892840</td>\n",
       "      <td>0.806150</td>\n",
       "      <td>-0.010960</td>\n",
       "      <td>-0.035071</td>\n",
       "      <td>0.489982</td>\n",
       "      <td>1.000000</td>\n",
       "      <td>0.864873</td>\n",
       "      <td>0.568388</td>\n",
       "      <td>0.956994</td>\n",
       "      <td>0.836292</td>\n",
       "      <td>-0.060947</td>\n",
       "    </tr>\n",
       "    <tr>\n",
       "      <th>1st_Total_Score</th>\n",
       "      <td>0.067610</td>\n",
       "      <td>0.888068</td>\n",
       "      <td>0.895484</td>\n",
       "      <td>0.937450</td>\n",
       "      <td>-0.007464</td>\n",
       "      <td>-0.032380</td>\n",
       "      <td>0.861374</td>\n",
       "      <td>0.864873</td>\n",
       "      <td>1.000000</td>\n",
       "      <td>0.879117</td>\n",
       "      <td>0.885532</td>\n",
       "      <td>0.967955</td>\n",
       "      <td>-0.053348</td>\n",
       "    </tr>\n",
       "    <tr>\n",
       "      <th>2nd_LC_Score</th>\n",
       "      <td>0.058882</td>\n",
       "      <td>0.951131</td>\n",
       "      <td>0.729434</td>\n",
       "      <td>0.883673</td>\n",
       "      <td>-0.013591</td>\n",
       "      <td>-0.033481</td>\n",
       "      <td>0.951472</td>\n",
       "      <td>0.568388</td>\n",
       "      <td>0.879117</td>\n",
       "      <td>1.000000</td>\n",
       "      <td>0.661840</td>\n",
       "      <td>0.911918</td>\n",
       "      <td>-0.048322</td>\n",
       "    </tr>\n",
       "    <tr>\n",
       "      <th>2nd_RC_Score</th>\n",
       "      <td>0.060268</td>\n",
       "      <td>0.725373</td>\n",
       "      <td>0.948760</td>\n",
       "      <td>0.879439</td>\n",
       "      <td>-0.012960</td>\n",
       "      <td>-0.025364</td>\n",
       "      <td>0.569375</td>\n",
       "      <td>0.956994</td>\n",
       "      <td>0.885532</td>\n",
       "      <td>0.661840</td>\n",
       "      <td>1.000000</td>\n",
       "      <td>0.911175</td>\n",
       "      <td>-0.062073</td>\n",
       "    </tr>\n",
       "    <tr>\n",
       "      <th>2nd_Total_Score</th>\n",
       "      <td>0.065340</td>\n",
       "      <td>0.919824</td>\n",
       "      <td>0.920256</td>\n",
       "      <td>0.967091</td>\n",
       "      <td>-0.014495</td>\n",
       "      <td>-0.032288</td>\n",
       "      <td>0.834647</td>\n",
       "      <td>0.836292</td>\n",
       "      <td>0.967955</td>\n",
       "      <td>0.911918</td>\n",
       "      <td>0.911175</td>\n",
       "      <td>1.000000</td>\n",
       "      <td>-0.060585</td>\n",
       "    </tr>\n",
       "    <tr>\n",
       "      <th>Score_diff_total</th>\n",
       "      <td>-0.123791</td>\n",
       "      <td>0.188377</td>\n",
       "      <td>0.183897</td>\n",
       "      <td>0.195372</td>\n",
       "      <td>0.216523</td>\n",
       "      <td>0.168731</td>\n",
       "      <td>-0.030968</td>\n",
       "      <td>-0.060947</td>\n",
       "      <td>-0.053348</td>\n",
       "      <td>-0.048322</td>\n",
       "      <td>-0.062073</td>\n",
       "      <td>-0.060585</td>\n",
       "      <td>1.000000</td>\n",
       "    </tr>\n",
       "  </tbody>\n",
       "</table>\n",
       "</div>"
      ],
      "text/plain": [
       "                  Birth_Year  3rd_LC_Score  3rd_RC_Score  3rd_Total_Score  \\\n",
       "Birth_Year          1.000000      0.034871      0.027302         0.032645   \n",
       "3rd_LC_Score        0.034871      1.000000      0.810450         0.951776   \n",
       "3rd_RC_Score        0.027302      0.810450      1.000000         0.951058   \n",
       "3rd_Total_Score     0.032645      0.951776      0.951058         1.000000   \n",
       "기출문제 공부 횟수          0.000754      0.042070      0.035350         0.040950   \n",
       "토익 모의테스트 횟수        -0.010049      0.009477      0.012057         0.011285   \n",
       "1st_LC_Score        0.065178      0.892739      0.651576         0.812176   \n",
       "1st_RC_Score        0.051614      0.641789      0.892840         0.806150   \n",
       "1st_Total_Score     0.067610      0.888068      0.895484         0.937450   \n",
       "2nd_LC_Score        0.058882      0.951131      0.729434         0.883673   \n",
       "2nd_RC_Score        0.060268      0.725373      0.948760         0.879439   \n",
       "2nd_Total_Score     0.065340      0.919824      0.920256         0.967091   \n",
       "Score_diff_total   -0.123791      0.188377      0.183897         0.195372   \n",
       "\n",
       "                  기출문제 공부 횟수  토익 모의테스트 횟수  1st_LC_Score  1st_RC_Score  \\\n",
       "Birth_Year          0.000754    -0.010049      0.065178      0.051614   \n",
       "3rd_LC_Score        0.042070     0.009477      0.892739      0.641789   \n",
       "3rd_RC_Score        0.035350     0.012057      0.651576      0.892840   \n",
       "3rd_Total_Score     0.040950     0.011285      0.812176      0.806150   \n",
       "기출문제 공부 횟수          1.000000     0.822999     -0.001871     -0.010960   \n",
       "토익 모의테스트 횟수         0.822999     1.000000     -0.020741     -0.035071   \n",
       "1st_LC_Score       -0.001871    -0.020741      1.000000      0.489982   \n",
       "1st_RC_Score       -0.010960    -0.035071      0.489982      1.000000   \n",
       "1st_Total_Score    -0.007464    -0.032380      0.861374      0.864873   \n",
       "2nd_LC_Score       -0.013591    -0.033481      0.951472      0.568388   \n",
       "2nd_RC_Score       -0.012960    -0.025364      0.569375      0.956994   \n",
       "2nd_Total_Score    -0.014495    -0.032288      0.834647      0.836292   \n",
       "Score_diff_total    0.216523     0.168731     -0.030968     -0.060947   \n",
       "\n",
       "                  1st_Total_Score  2nd_LC_Score  2nd_RC_Score  \\\n",
       "Birth_Year               0.067610      0.058882      0.060268   \n",
       "3rd_LC_Score             0.888068      0.951131      0.725373   \n",
       "3rd_RC_Score             0.895484      0.729434      0.948760   \n",
       "3rd_Total_Score          0.937450      0.883673      0.879439   \n",
       "기출문제 공부 횟수              -0.007464     -0.013591     -0.012960   \n",
       "토익 모의테스트 횟수             -0.032380     -0.033481     -0.025364   \n",
       "1st_LC_Score             0.861374      0.951472      0.569375   \n",
       "1st_RC_Score             0.864873      0.568388      0.956994   \n",
       "1st_Total_Score          1.000000      0.879117      0.885532   \n",
       "2nd_LC_Score             0.879117      1.000000      0.661840   \n",
       "2nd_RC_Score             0.885532      0.661840      1.000000   \n",
       "2nd_Total_Score          0.967955      0.911918      0.911175   \n",
       "Score_diff_total        -0.053348     -0.048322     -0.062073   \n",
       "\n",
       "                  2nd_Total_Score  Score_diff_total  \n",
       "Birth_Year               0.065340         -0.123791  \n",
       "3rd_LC_Score             0.919824          0.188377  \n",
       "3rd_RC_Score             0.920256          0.183897  \n",
       "3rd_Total_Score          0.967091          0.195372  \n",
       "기출문제 공부 횟수              -0.014495          0.216523  \n",
       "토익 모의테스트 횟수             -0.032288          0.168731  \n",
       "1st_LC_Score             0.834647         -0.030968  \n",
       "1st_RC_Score             0.836292         -0.060947  \n",
       "1st_Total_Score          0.967955         -0.053348  \n",
       "2nd_LC_Score             0.911918         -0.048322  \n",
       "2nd_RC_Score             0.911175         -0.062073  \n",
       "2nd_Total_Score          1.000000         -0.060585  \n",
       "Score_diff_total        -0.060585          1.000000  "
      ]
     },
     "execution_count": 11,
     "metadata": {},
     "output_type": "execute_result"
    }
   ],
   "source": [
    "## 데이터 프레임의 상관계수 도출하기 : corr\n",
    "## 코드 입력\n"
   ]
  },
  {
   "cell_type": "markdown",
   "metadata": {
    "id": "3dqyXuqWeAqE"
   },
   "source": [
    "* 상관계수 시각화 "
   ]
  },
  {
   "cell_type": "code",
   "execution_count": 12,
   "metadata": {
    "colab": {
     "base_uri": "https://localhost:8080/",
     "height": 1000
    },
    "executionInfo": {
     "elapsed": 1905,
     "status": "ok",
     "timestamp": 1682304672473,
     "user": {
      "displayName": "허신 - Business Intelligence",
      "userId": "11511914061488776232"
     },
     "user_tz": -540
    },
    "id": "-1rK0YyKVoGt",
    "outputId": "96324586-46e6-40d7-e6e2-27b37f2d30d7",
    "tags": []
   },
   "outputs": [
    {
     "data": {
      "image/png": "[encoded data removed]",
      "text/plain": [
       "<Figure size 1200x1200 with 2 Axes>"
      ]
     },
     "metadata": {},
     "output_type": "display_data"
    }
   ],
   "source": [
    "## 상관계수값을 heatmap을 이용하여 시각화 : heatmap\n",
    "## 코드 입력\n"
   ]
  },
  {
   "cell_type": "markdown",
   "metadata": {
    "id": "WjkQCDAsMFHA"
   },
   "source": [
    "### target과 상관계수 상위 3개 살펴보기"
   ]
  },
  {
   "cell_type": "markdown",
   "metadata": {
    "id": "d2QI0Im9eORm"
   },
   "source": [
    "##### &nbsp; &nbsp; &nbsp; &nbsp; 3-1-2) 기출문제 공부 횟수"
   ]
  },
  {
   "cell_type": "code",
   "execution_count": 102,
   "metadata": {},
   "outputs": [],
   "source": [
    "## 가설 수립\n",
    "## 귀무 가설(H0) :\n",
    "## 대립 가설(H1) : "
   ]
  },
  {
   "cell_type": "code",
   "execution_count": 13,
   "metadata": {
    "tags": []
   },
   "outputs": [
    {
     "data": {
      "text/plain": [
       "PearsonRResult(statistic=0.21652328806766585, pvalue=1.020785279200108e-06)"
      ]
     },
     "execution_count": 13,
     "metadata": {},
     "output_type": "execute_result"
    }
   ],
   "source": [
    "# 상관분석 (pearsonr)\n",
    "## 코드 입력\n"
   ]
  },
  {
   "cell_type": "code",
   "execution_count": 14,
   "metadata": {
    "colab": {
     "base_uri": "https://localhost:8080/",
     "height": 694
    },
    "executionInfo": {
     "elapsed": 1337,
     "status": "ok",
     "timestamp": 1682304673807,
     "user": {
      "displayName": "허신 - Business Intelligence",
      "userId": "11511914061488776232"
     },
     "user_tz": -540
    },
    "id": "D5QjkXpvMPzC",
    "outputId": "f1e6245b-aa1e-40b9-f95d-daf382cd7049",
    "tags": []
   },
   "outputs": [
    {
     "data": {
      "image/png": "[encoded data removed]",
      "text/plain": [
       "<Figure size 1200x800 with 1 Axes>"
      ]
     },
     "metadata": {},
     "output_type": "display_data"
    }
   ],
   "source": [
    "# regplot으로 시각화\n",
    "## 코드 입력\n",
    "\n"
   ]
  },
  {
   "cell_type": "markdown",
   "metadata": {
    "id": "tS1-5dCjl8Bq"
   },
   "source": [
    "##### &nbsp; &nbsp; &nbsp; &nbsp; 3-1-3) 토익 모의테스트 횟수"
   ]
  },
  {
   "cell_type": "code",
   "execution_count": 105,
   "metadata": {},
   "outputs": [],
   "source": [
    "## 가설 수립\n",
    "## 귀무 가설(H0) :\n",
    "## 대립 가설(H1) : "
   ]
  },
  {
   "cell_type": "code",
   "execution_count": null,
   "metadata": {},
   "outputs": [],
   "source": [
    "## 상관분석 (pearsonr)\n",
    "## 코드 입력"
   ]
  },
  {
   "cell_type": "code",
   "execution_count": null,
   "metadata": {
    "colab": {
     "base_uri": "https://localhost:8080/",
     "height": 694
    },
    "executionInfo": {
     "elapsed": 5,
     "status": "ok",
     "timestamp": 1682304673807,
     "user": {
      "displayName": "허신 - Business Intelligence",
      "userId": "11511914061488776232"
     },
     "user_tz": -540
    },
    "id": "_Z_kL2G5q4mv",
    "outputId": "e8af8940-46f7-467c-8182-87a5b48f1e9b"
   },
   "outputs": [],
   "source": [
    "## regplot으로 시각화\n",
    "## 코드 입력"
   ]
  },
  {
   "cell_type": "markdown",
   "metadata": {},
   "source": [
    "##### &nbsp; &nbsp; &nbsp; &nbsp; 3-1-4) 2차 종합점수"
   ]
  },
  {
   "cell_type": "code",
   "execution_count": 108,
   "metadata": {},
   "outputs": [],
   "source": [
    "## 가설 수립\n",
    "## 귀무 가설(H0) :\n",
    "## 대립 가설(H1) : "
   ]
  },
  {
   "cell_type": "code",
   "execution_count": null,
   "metadata": {},
   "outputs": [],
   "source": [
    "## 상관분석 (pearsonr)\n",
    "## 코드 입력"
   ]
  },
  {
   "cell_type": "code",
   "execution_count": null,
   "metadata": {},
   "outputs": [],
   "source": [
    "## regplot으로 시각화\n",
    "## 코드 입력"
   ]
  },
  {
   "cell_type": "markdown",
   "metadata": {
    "id": "K9e6P45jY-Ex"
   },
   "source": [
    "#### &nbsp;&nbsp; 3-2) 범주형 feature -> 수치형 target\n",
    "\n"
   ]
  },
  {
   "cell_type": "code",
   "execution_count": 111,
   "metadata": {},
   "outputs": [],
   "source": [
    "## 범주형 feature\n",
    "\n",
    "## 'Gender', '학습목표', '학습방법', '강의 학습 교재 유형', '학습빈도', '취약분야 인지 여부', 'age_group', "
   ]
  },
  {
   "cell_type": "markdown",
   "metadata": {},
   "source": [
    "##### &nbsp; &nbsp; &nbsp; &nbsp; 3-2-1) Gender "
   ]
  },
  {
   "cell_type": "code",
   "execution_count": 112,
   "metadata": {},
   "outputs": [],
   "source": [
    "## 가설 수립\n",
    "## 귀무 가설(H0) :\n",
    "## 대립 가설(H1) : "
   ]
  },
  {
   "cell_type": "code",
   "execution_count": 15,
   "metadata": {
    "tags": []
   },
   "outputs": [
    {
     "data": {
      "image/png": "[encoded data removed]",
      "text/plain": [
       "<Figure size 1500x800 with 1 Axes>"
      ]
     },
     "metadata": {},
     "output_type": "display_data"
    }
   ],
   "source": [
    "## 그래프 분석 : barplot\n",
    "## 코드 입력\n",
    "\n"
   ]
  },
  {
   "cell_type": "code",
   "execution_count": 16,
   "metadata": {
    "tags": []
   },
   "outputs": [
    {
     "data": {
      "text/plain": [
       "M    250\n",
       "F    250\n",
       "Name: Gender, dtype: int64"
      ]
     },
     "execution_count": 16,
     "metadata": {},
     "output_type": "execute_result"
    }
   ],
   "source": [
    "## 범주 데이터 확인 : value_counts()\n",
    "## 코드 입력\n"
   ]
  },
  {
   "cell_type": "code",
   "execution_count": 17,
   "metadata": {
    "tags": []
   },
   "outputs": [
    {
     "data": {
      "text/plain": [
       "Ttest_indResult(statistic=0.2822086676965537, pvalue=0.7779007564857058)"
      ]
     },
     "execution_count": 17,
     "metadata": {},
     "output_type": "execute_result"
    }
   ],
   "source": [
    "## 평균 분석 : ttest_ind\n",
    "## 코드 입력\n",
    "\n"
   ]
  },
  {
   "cell_type": "markdown",
   "metadata": {
    "id": "MtyCkCFjmEOD"
   },
   "source": [
    "##### &nbsp; &nbsp; &nbsp; &nbsp; 3-2-2) 학습목표"
   ]
  },
  {
   "cell_type": "code",
   "execution_count": 116,
   "metadata": {},
   "outputs": [],
   "source": [
    "## 가설 수립\n",
    "## 귀무 가설(H0) :\n",
    "## 대립 가설(H1) : "
   ]
  },
  {
   "cell_type": "code",
   "execution_count": null,
   "metadata": {
    "colab": {
     "base_uri": "https://localhost:8080/",
     "height": 694
    },
    "executionInfo": {
     "elapsed": 6,
     "status": "ok",
     "timestamp": 1682304674745,
     "user": {
      "displayName": "허신 - Business Intelligence",
      "userId": "11511914061488776232"
     },
     "user_tz": -540
    },
    "id": "R0F8t32prEbF",
    "outputId": "97ade931-964f-450d-b111-6da5d59549fe",
    "tags": []
   },
   "outputs": [],
   "source": [
    "# 그래프 분석 : barplot\n",
    "## 코드 입력\n",
    "\n"
   ]
  },
  {
   "cell_type": "code",
   "execution_count": null,
   "metadata": {},
   "outputs": [],
   "source": [
    "## 범주 데이터 확인 : value_counts()\n",
    "## 코드 입력\n"
   ]
  },
  {
   "cell_type": "code",
   "execution_count": null,
   "metadata": {},
   "outputs": [],
   "source": [
    "## 분산 분석 : f_oneway\n",
    "## 코드 입력\n",
    "\n"
   ]
  },
  {
   "cell_type": "markdown",
   "metadata": {
    "id": "RAQ9y_9xmOU_"
   },
   "source": [
    "##### &nbsp; &nbsp; &nbsp; &nbsp; 3-2-3) 학습방법 "
   ]
  },
  {
   "cell_type": "code",
   "execution_count": 120,
   "metadata": {},
   "outputs": [],
   "source": [
    "## 가설 수립\n",
    "## 귀무 가설(H0) :\n",
    "## 대립 가설(H1) : "
   ]
  },
  {
   "cell_type": "code",
   "execution_count": null,
   "metadata": {
    "colab": {
     "base_uri": "https://localhost:8080/",
     "height": 694
    },
    "executionInfo": {
     "elapsed": 767,
     "status": "ok",
     "timestamp": 1682304675507,
     "user": {
      "displayName": "허신 - Business Intelligence",
      "userId": "11511914061488776232"
     },
     "user_tz": -540
    },
    "id": "jlEVnCnPrWVQ",
    "outputId": "83fb1eef-ecb5-4c19-e255-9dd6fec6eb9f"
   },
   "outputs": [],
   "source": [
    "## 그래프 분석 : barplot\n",
    "## 코드 입력\n"
   ]
  },
  {
   "cell_type": "code",
   "execution_count": null,
   "metadata": {},
   "outputs": [],
   "source": [
    "## 범주 데이터 확인 : value_counts()\n",
    "## 코드 입력"
   ]
  },
  {
   "cell_type": "code",
   "execution_count": null,
   "metadata": {},
   "outputs": [],
   "source": [
    "## 분산 분석 : f_oneway\n",
    "## 코드 입력\n"
   ]
  },
  {
   "cell_type": "markdown",
   "metadata": {
    "id": "iqCFM3knmTZ5"
   },
   "source": [
    "##### &nbsp; &nbsp; &nbsp; &nbsp; 3-2-4) 강의 학습 교재 유형"
   ]
  },
  {
   "cell_type": "code",
   "execution_count": 124,
   "metadata": {},
   "outputs": [],
   "source": [
    "## 가설 수립\n",
    "## 귀무 가설(H0) :\n",
    "## 대립 가설(H1) : "
   ]
  },
  {
   "cell_type": "code",
   "execution_count": null,
   "metadata": {
    "colab": {
     "base_uri": "https://localhost:8080/",
     "height": 695
    },
    "executionInfo": {
     "elapsed": 7,
     "status": "ok",
     "timestamp": 1682304675507,
     "user": {
      "displayName": "허신 - Business Intelligence",
      "userId": "11511914061488776232"
     },
     "user_tz": -540
    },
    "id": "YumKV3WurvRk",
    "outputId": "d5defeb3-2291-483e-c0e9-73cf0b6419c0"
   },
   "outputs": [],
   "source": [
    "## 그래프 분석 : barplot\n",
    "## 코드 입력\n",
    "\n"
   ]
  },
  {
   "cell_type": "code",
   "execution_count": null,
   "metadata": {},
   "outputs": [],
   "source": [
    "## 범주 데이터 확인 : value_counts()\n",
    "## 코드 입력\n"
   ]
  },
  {
   "cell_type": "code",
   "execution_count": null,
   "metadata": {},
   "outputs": [],
   "source": [
    "## 분산 분석 : f_oneway\n",
    "## 코드 입력\n"
   ]
  },
  {
   "cell_type": "markdown",
   "metadata": {
    "id": "2qry0uKPmfBV"
   },
   "source": [
    "##### &nbsp; &nbsp; &nbsp; &nbsp; 3-2-5) 학습빈도"
   ]
  },
  {
   "cell_type": "code",
   "execution_count": 128,
   "metadata": {},
   "outputs": [],
   "source": [
    "## 가설 수립\n",
    "## 귀무 가설(H0) :\n",
    "## 대립 가설(H1) : "
   ]
  },
  {
   "cell_type": "code",
   "execution_count": null,
   "metadata": {
    "colab": {
     "base_uri": "https://localhost:8080/",
     "height": 695
    },
    "executionInfo": {
     "elapsed": 6,
     "status": "ok",
     "timestamp": 1682304675507,
     "user": {
      "displayName": "허신 - Business Intelligence",
      "userId": "11511914061488776232"
     },
     "user_tz": -540
    },
    "id": "pZXboceSrzN_",
    "outputId": "9d40ba27-1858-49cd-a91c-05342ea30e7b"
   },
   "outputs": [],
   "source": [
    "## 그래프 분석 : barplot\n",
    "## 코드 입력\n",
    "\n"
   ]
  },
  {
   "cell_type": "code",
   "execution_count": null,
   "metadata": {},
   "outputs": [],
   "source": [
    "## 범주 데이터 확인 : value_counts()\n",
    "## 코드 입력\n"
   ]
  },
  {
   "cell_type": "code",
   "execution_count": null,
   "metadata": {},
   "outputs": [],
   "source": [
    "## 분산 분석 : f_oneway\n",
    "## 코드 입력\n",
    "\n"
   ]
  },
  {
   "cell_type": "markdown",
   "metadata": {
    "id": "yOpiRiu0mlkq"
   },
   "source": [
    "##### &nbsp; &nbsp; &nbsp; &nbsp; 3-2-6) 취약분야 인지 여부"
   ]
  },
  {
   "cell_type": "code",
   "execution_count": 132,
   "metadata": {},
   "outputs": [],
   "source": [
    "## 가설 수립\n",
    "## 귀무 가설(H0) :\n",
    "## 대립 가설(H1) : "
   ]
  },
  {
   "cell_type": "code",
   "execution_count": null,
   "metadata": {
    "colab": {
     "base_uri": "https://localhost:8080/",
     "height": 698
    },
    "executionInfo": {
     "elapsed": 676,
     "status": "ok",
     "timestamp": 1682304676178,
     "user": {
      "displayName": "허신 - Business Intelligence",
      "userId": "11511914061488776232"
     },
     "user_tz": -540
    },
    "id": "iHsq6viOr1kj",
    "outputId": "72b324ff-0462-42e8-83a6-b654e9fbf724"
   },
   "outputs": [],
   "source": [
    "## 그래프 분석 : barplot\n",
    "## 코드 입력\n",
    "\n"
   ]
  },
  {
   "cell_type": "code",
   "execution_count": null,
   "metadata": {},
   "outputs": [],
   "source": [
    "## 범주 데이터 확인 : value_counts()\n",
    "## 코드 입력\n"
   ]
  },
  {
   "cell_type": "code",
   "execution_count": null,
   "metadata": {},
   "outputs": [],
   "source": [
    "## 평균 분석 : ttest_ind\n",
    "## 코드 입력\n",
    "\n"
   ]
  },
  {
   "cell_type": "markdown",
   "metadata": {},
   "source": [
    "## [정리] 이변량 분석을 통해 파악된 비즈니스 인사이트는 무엇인가요?"
   ]
  },
  {
   "cell_type": "code",
   "execution_count": null,
   "metadata": {},
   "outputs": [],
   "source": []
  },
  {
   "cell_type": "markdown",
   "metadata": {},
   "source": [
    "<br><br><hr><br><br>"
   ]
  },
  {
   "cell_type": "markdown",
   "metadata": {
    "id": "TN4EjsbtNV4W"
   },
   "source": [
    "## <font color=\"orange\">**4. 도전 미션** </font>"
   ]
  },
  {
   "cell_type": "markdown",
   "metadata": {},
   "source": [
    "#### &nbsp;&nbsp; 4-1)  나이, 나이대 정보 추가 및 데이터 분석"
   ]
  },
  {
   "cell_type": "markdown",
   "metadata": {},
   "source": [
    "  - 생년월일을 나이로 변경하여 **열(age)**을 추가하세요.\n",
    "  - 나이로 변경한 열을 아래의 예시를 참고하여 연령대로 구분하여 **열(age group)**을 추가하세요.\n",
    "    - 연령 구분 예시 : 20세 이하, 21세-25세, 26세-30세, 31세-35세, 36세-40세, 41세-45세, 46세-50세, 50세 이상\n",
    "  - 나이, 나이대 데이터 특성에 맞는 단변량, 이변량 분석을 하세요."
   ]
  },
  {
   "cell_type": "markdown",
   "metadata": {},
   "source": [
    "##### &nbsp; &nbsp; &nbsp; &nbsp; 4-1-1) 나이(age) 열 추가"
   ]
  },
  {
   "cell_type": "code",
   "execution_count": null,
   "metadata": {},
   "outputs": [],
   "source": [
    "# 라이브러리 불러오기\n",
    "from datetime import datetime\n",
    "\n",
    "# 현재 날짜 구하기\n",
    "## 코드 입력\n",
    "now = \n",
    "\n",
    "# 데이터프레임에서 Birth_Year 열의 값으로부터 현재 날짜(2023년도) 기준 나이 계산 \n",
    "# 'age'열에 값 추가하기\n",
    "## 코드 입력\n",
    "\n",
    "# 확인\n",
    "## 코드 입력"
   ]
  },
  {
   "cell_type": "markdown",
   "metadata": {},
   "source": [
    "##### &nbsp; &nbsp; &nbsp; &nbsp; 4-1-2) 나이(age) 단변량 분석"
   ]
  },
  {
   "cell_type": "code",
   "execution_count": null,
   "metadata": {},
   "outputs": [],
   "source": [
    "# age 데이터의 기초 통계량 확인\n",
    "## 코드 입력\n",
    "\n",
    "# age 데이터 분포 시각화 확인\n",
    "## 코드 입력\n",
    "\n"
   ]
  },
  {
   "cell_type": "markdown",
   "metadata": {},
   "source": [
    "##### &nbsp; &nbsp; &nbsp; &nbsp; 4-1-3) 나이대(age_group) 열 추가"
   ]
  },
  {
   "cell_type": "code",
   "execution_count": null,
   "metadata": {},
   "outputs": [],
   "source": [
    "## cut() 함수를 활용하여 나이 연령대 계산\n",
    "\n",
    "## 각 나이 연령대 구간의 경계(bins) 정의\n",
    "## 코드 입력\n",
    "bins = \n",
    "\n",
    "## labels: 각 구간에 붙일 라벨\n",
    "## 코드 입력\n",
    "labels = \n",
    "\n",
    "## cut 함수 사용\n",
    "## 코드 입력\n",
    "base_data['age_group'] = \n",
    "\n",
    "## 데이터 확인\n",
    "base_data"
   ]
  },
  {
   "cell_type": "markdown",
   "metadata": {},
   "source": [
    "##### &nbsp; &nbsp; &nbsp; &nbsp; 4-1-4) 나이대(age_group) 단변량 분석"
   ]
  },
  {
   "cell_type": "code",
   "execution_count": null,
   "metadata": {},
   "outputs": [],
   "source": [
    "## 범주형 변수의 범주별 빈도수 확인하기 : value_counts()\n",
    "## 코드 입력\n",
    "\n",
    "\n",
    "## 범주형 변수의 범주별 빈도 비율 확인하기 : value_counts() / df.shape[0]\n",
    "## 코드 입력\n",
    "\n",
    "# age_group 기준으로 데이터 분포 시각화 확인 : countplot()\n",
    "## 코드 입력"
   ]
  },
  {
   "cell_type": "markdown",
   "metadata": {},
   "source": [
    "##### &nbsp; &nbsp; &nbsp; &nbsp; 4-1-5) 나이(age) -> Target 이변량 분석"
   ]
  },
  {
   "cell_type": "code",
   "execution_count": 140,
   "metadata": {},
   "outputs": [],
   "source": [
    "## 가설 수립\n",
    "## 귀무 가설(H0) :\n",
    "## 대립 가설(H1) : "
   ]
  },
  {
   "cell_type": "code",
   "execution_count": null,
   "metadata": {},
   "outputs": [],
   "source": [
    "## 상관분석 (pearsonr)\n",
    "## 코드 입력\n",
    "\n",
    "\n",
    "## regplot으로 시각화\n",
    "## 코드 입력"
   ]
  },
  {
   "cell_type": "markdown",
   "metadata": {},
   "source": [
    "##### &nbsp; &nbsp; &nbsp; &nbsp; 4-1-6) 나이대(age_group) -> Target 이변량 분석"
   ]
  },
  {
   "cell_type": "code",
   "execution_count": null,
   "metadata": {},
   "outputs": [],
   "source": [
    "## barplot 시각화\n",
    "## 코드 입력\n"
   ]
  },
  {
   "cell_type": "code",
   "execution_count": null,
   "metadata": {},
   "outputs": [],
   "source": [
    "## 범주 데이터 확인\n",
    "## 코드 입력"
   ]
  },
  {
   "cell_type": "code",
   "execution_count": null,
   "metadata": {},
   "outputs": [],
   "source": [
    "## 분산 분석 : f_oneway\n",
    "## 코드 입력\n"
   ]
  },
  {
   "cell_type": "markdown",
   "metadata": {},
   "source": [
    "#### &nbsp;&nbsp; 4-2) 1,2회차 점수 차이 정보 추가 및 데이터 분석"
   ]
  },
  {
   "cell_type": "markdown",
   "metadata": {},
   "source": [
    "* **세부요구사항**\n",
    "    - 1,2회차 점수 차이 ( 2회차 점수 - 1회차 점수)를 구하여 **열(Score_diff_total_2_1)**을 추가하세요.\n",
    "    - 1,2회차 점수 차이 데이터 특성에 맞는 단변량, 이변량 분석을 하세요."
   ]
  },
  {
   "cell_type": "markdown",
   "metadata": {},
   "source": [
    "##### &nbsp; &nbsp; &nbsp; &nbsp; 4-2-1) 1,2회 점수 차 (Score_diff_total_2_1) 열 추가"
   ]
  },
  {
   "cell_type": "code",
   "execution_count": 145,
   "metadata": {
    "id": "u0lhTA48NypG"
   },
   "outputs": [],
   "source": [
    "## 'Score_diff_total_2_1' = '2nd_Total_Score' - '1st_Total_Score'\n",
    "## 코드 입력\n"
   ]
  },
  {
   "cell_type": "markdown",
   "metadata": {},
   "source": [
    "##### &nbsp; &nbsp; &nbsp; &nbsp; 4-2-2) Score_diff_total_2_1 단변량 분석"
   ]
  },
  {
   "cell_type": "code",
   "execution_count": null,
   "metadata": {},
   "outputs": [],
   "source": [
    "## Score_diff_total_2_1 데이터의 기초 통계량 확인\n",
    "## 코드 입력\n",
    "\n",
    "## Score_diff_total_2_1  데이터 분포 시각화 확인\n",
    "## 코드 입력"
   ]
  },
  {
   "cell_type": "markdown",
   "metadata": {},
   "source": [
    "##### &nbsp; &nbsp; &nbsp; &nbsp; 4-2-3) Score_diff_2_1 -> Target 이변량 분석"
   ]
  },
  {
   "cell_type": "code",
   "execution_count": null,
   "metadata": {},
   "outputs": [],
   "source": [
    "## 상관분석 (pearsonr)\n",
    "## 코드 입력\n",
    "\n",
    "## regplot으로 시각화\n",
    "## 코드 입력\n"
   ]
  },
  {
   "cell_type": "markdown",
   "metadata": {},
   "source": [
    "#### &nbsp;&nbsp; 4-3) 추가하고 싶은 정보를 생성하고, 이에 대한 단변량/이변량 분석을 수행"
   ]
  },
  {
   "cell_type": "code",
   "execution_count": 150,
   "metadata": {},
   "outputs": [],
   "source": [
    "## 열(데이터) 추가\n",
    "## 코드 입력"
   ]
  },
  {
   "cell_type": "code",
   "execution_count": null,
   "metadata": {},
   "outputs": [],
   "source": [
    "## 단변량 분석\n",
    "\n",
    "# 기초 통계량 확인\n",
    "## 코드 입력\n",
    "\n",
    "\n",
    "# 데이터 분포 시각화 확인\n",
    "## 코드 입력"
   ]
  },
  {
   "cell_type": "code",
   "execution_count": null,
   "metadata": {},
   "outputs": [],
   "source": [
    "## 이변량 분석\n",
    "\n",
    "# 상관분석 (pearsonr)\n",
    "## 코드 입력\n",
    "\n",
    "# regplot으로 시각화\n",
    "## 코드 입력"
   ]
  },
  {
   "cell_type": "markdown",
   "metadata": {},
   "source": [
    "## [정리] 3가지 추가 feature를 통해 파악된 비즈니스 인사이트는 무엇인가요?"
   ]
  },
  {
   "cell_type": "code",
   "execution_count": null,
   "metadata": {},
   "outputs": [],
   "source": []
  },
  {
   "cell_type": "markdown",
   "metadata": {},
   "source": [
    "## <font color=\"green\"> **Mission Clear** </font> &nbsp; &nbsp; 수고하셨습니다!!"
   ]
  },
  {
   "cell_type": "markdown",
   "metadata": {},
   "source": []
  }
 ],
 "metadata": {
  "colab": {
   "provenance": [],
   "toc_visible": true
  },
  "kernelspec": {
   "display_name": "Python 3 (ipykernel)",
   "language": "python",
   "name": "python3"
  },
  "language_info": {
   "codemirror_mode": {
    "name": "ipython",
    "version": 3
   },
   "file_extension": ".py",
   "mimetype": "text/x-python",
   "name": "python",
   "nbconvert_exporter": "python",
   "pygments_lexer": "ipython3",
   "version": "3.11.3"
  }
 },
 "nbformat": 4,
 "nbformat_minor": 4
}
