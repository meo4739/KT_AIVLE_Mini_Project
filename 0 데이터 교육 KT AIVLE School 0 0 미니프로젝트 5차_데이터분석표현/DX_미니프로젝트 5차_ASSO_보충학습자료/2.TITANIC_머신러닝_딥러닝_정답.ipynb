{
 "cells": [
  {
   "cell_type": "markdown",
   "metadata": {
    "id": "JEYaVs-2FZbG"
   },
   "source": [
    "# 머신러닝, 딥러닝 TITANIC템플릿"
   ]
  },
  {
   "cell_type": "markdown",
   "metadata": {
    "id": "YXy59gFnGy91"
   },
   "source": [
    "## > 머신러닝, 딥러닝 TITANIC템플릿 목적\n",
    "- 간단하게 쉽게 머신러닝, 딥러닝 모델링 만들기\n",
    "- 잘 몰라도 아래 순서에 맞게 , 이런식으로 실행하면 되겠구나 느끼기\n",
    "- 여러분이 처음 한다고 생각하고 템플릿 작성함"
   ]
  },
  {
   "cell_type": "markdown",
   "metadata": {
    "id": "38_o3kptFiCu"
   },
   "source": [
    "## > 모델링 프로세스\n",
    "1. 데이터 가져오기\n",
    "2. 데이터 분석\n",
    "3. 전처리\n",
    "4. X, y 나누기\n",
    "5. Train , Test 데이터셋 나누기\n",
    "6. 머신러닝 모델링\n",
    "7. 딥러닝 모델링\n",
    "8. 딥러닝 성능 평가"
   ]
  },
  {
   "cell_type": "markdown",
   "metadata": {
    "id": "ClCquuufGhTN"
   },
   "source": [
    "---"
   ]
  },
  {
   "cell_type": "markdown",
   "metadata": {
    "id": "lZV4wkNeGdMI"
   },
   "source": [
    "# 1. 데이터 가져오기\n",
    "- 먼저, 데이터가 있어야 모델링을 만들수 있다.\n",
    "- 데이터 가져오는 방법에는 여러가지 있다.\n",
    " - 본인 데이터를 직접 올리는 방법\n",
    " - 기존에 제공하는 데이터 가져다 쓰는 방법"
   ]
  },
  {
   "cell_type": "code",
   "execution_count": 1,
   "metadata": {
    "executionInfo": {
     "elapsed": 1175,
     "status": "ok",
     "timestamp": 1653456869163,
     "user": {
      "displayName": "yunwoo oh",
      "userId": "01035531558844683999"
     },
     "user_tz": -540
    },
    "id": "bVGzC0YIFQR7"
   },
   "outputs": [],
   "source": [
    "# 필요한 라이브러리 가져오기\n",
    "# 그냥 무조건 가져온다고 생각하자 : pandas, numpy, seaborn, matplotlib.pyplot\n",
    "# seaborn 설치가 되어 있지 않으면 라이브러리는 설치 필요 : !pip install seaborn\n",
    "# !pip install seaborn\n",
    "\n",
    "import pandas as pd\n",
    "import numpy as np\n",
    "import seaborn as sns\n",
    "import matplotlib.pyplot as plt"
   ]
  },
  {
   "cell_type": "code",
   "execution_count": 2,
   "metadata": {
    "colab": {
     "base_uri": "https://localhost:8080/"
    },
    "executionInfo": {
     "elapsed": 718,
     "status": "ok",
     "timestamp": 1653456875729,
     "user": {
      "displayName": "yunwoo oh",
      "userId": "01035531558844683999"
     },
     "user_tz": -540
    },
    "id": "GGckugMNFYRv",
    "outputId": "97fed74f-a53b-49a6-dc76-e8bf11354539"
   },
   "outputs": [
    {
     "data": {
      "text/plain": [
       "['anagrams',\n",
       " 'anscombe',\n",
       " 'attention',\n",
       " 'brain_networks',\n",
       " 'car_crashes',\n",
       " 'diamonds',\n",
       " 'dots',\n",
       " 'dowjones',\n",
       " 'exercise',\n",
       " 'flights',\n",
       " 'fmri',\n",
       " 'geyser',\n",
       " 'glue',\n",
       " 'healthexp',\n",
       " 'iris',\n",
       " 'mpg',\n",
       " 'penguins',\n",
       " 'planets',\n",
       " 'seaice',\n",
       " 'taxis',\n",
       " 'tips',\n",
       " 'titanic']"
      ]
     },
     "execution_count": 2,
     "metadata": {},
     "output_type": "execute_result"
    }
   ],
   "source": [
    "# Seaborn에서 제공하는 데이터셋 확인하기\n",
    "sns.get_dataset_names()"
   ]
  },
  {
   "cell_type": "markdown",
   "metadata": {
    "id": "7nj878hWLE7j"
   },
   "source": [
    "#### 타이타닉 데이터셋 가져오기"
   ]
  },
  {
   "cell_type": "markdown",
   "metadata": {
    "id": "tp4PpWSaE5eV"
   },
   "source": [
    "![타이타닉](https://encrypted-tbn0.gstatic.com/images?q=tbn:ANd9GcQav_aQ5prV7GD__U3dvOt8mkxzA6LAGd8Gfg&usqp=CAU)"
   ]
  },
  {
   "cell_type": "code",
   "execution_count": 3,
   "metadata": {
    "executionInfo": {
     "elapsed": 289,
     "status": "ok",
     "timestamp": 1653456892199,
     "user": {
      "displayName": "yunwoo oh",
      "userId": "01035531558844683999"
     },
     "user_tz": -540
    },
    "id": "EyIKpYwnK4ns"
   },
   "outputs": [],
   "source": [
    "# 많이 사용하는 데이터는 'iris' , 'tips' , 'titanic'\n",
    "# 이번에 titanic 데이터셋 가져오기 \n",
    "# seaborn load_dataset('titanic') 함수 활용 : 결과 titanic 저장\n",
    "\n",
    "titanic = sns.load_dataset('titanic')"
   ]
  },
  {
   "cell_type": "code",
   "execution_count": 4,
   "metadata": {
    "colab": {
     "base_uri": "https://localhost:8080/",
     "height": 506
    },
    "executionInfo": {
     "elapsed": 265,
     "status": "ok",
     "timestamp": 1653456896164,
     "user": {
      "displayName": "yunwoo oh",
      "userId": "01035531558844683999"
     },
     "user_tz": -540
    },
    "id": "KMu3akWsK4i0",
    "outputId": "4dc82d61-e8b7-4125-dfa3-bf79321cb84c"
   },
   "outputs": [
    {
     "name": "stdout",
     "output_type": "stream",
     "text": [
      "<class 'pandas.core.frame.DataFrame'>\n"
     ]
    },
    {
     "data": {
      "text/html": [
       "<div>\n",
       "<style scoped>\n",
       "    .dataframe tbody tr th:only-of-type {\n",
       "        vertical-align: middle;\n",
       "    }\n",
       "\n",
       "    .dataframe tbody tr th {\n",
       "        vertical-align: top;\n",
       "    }\n",
       "\n",
       "    .dataframe thead th {\n",
       "        text-align: right;\n",
       "    }\n",
       "</style>\n",
       "<table border=\"1\" class=\"dataframe\">\n",
       "  <thead>\n",
       "    <tr style=\"text-align: right;\">\n",
       "      <th></th>\n",
       "      <th>survived</th>\n",
       "      <th>pclass</th>\n",
       "      <th>sex</th>\n",
       "      <th>age</th>\n",
       "      <th>sibsp</th>\n",
       "      <th>parch</th>\n",
       "      <th>fare</th>\n",
       "      <th>embarked</th>\n",
       "      <th>class</th>\n",
       "      <th>who</th>\n",
       "      <th>adult_male</th>\n",
       "      <th>deck</th>\n",
       "      <th>embark_town</th>\n",
       "      <th>alive</th>\n",
       "      <th>alone</th>\n",
       "    </tr>\n",
       "  </thead>\n",
       "  <tbody>\n",
       "    <tr>\n",
       "      <th>0</th>\n",
       "      <td>0</td>\n",
       "      <td>3</td>\n",
       "      <td>male</td>\n",
       "      <td>22.0</td>\n",
       "      <td>1</td>\n",
       "      <td>0</td>\n",
       "      <td>7.2500</td>\n",
       "      <td>S</td>\n",
       "      <td>Third</td>\n",
       "      <td>man</td>\n",
       "      <td>True</td>\n",
       "      <td>NaN</td>\n",
       "      <td>Southampton</td>\n",
       "      <td>no</td>\n",
       "      <td>False</td>\n",
       "    </tr>\n",
       "    <tr>\n",
       "      <th>1</th>\n",
       "      <td>1</td>\n",
       "      <td>1</td>\n",
       "      <td>female</td>\n",
       "      <td>38.0</td>\n",
       "      <td>1</td>\n",
       "      <td>0</td>\n",
       "      <td>71.2833</td>\n",
       "      <td>C</td>\n",
       "      <td>First</td>\n",
       "      <td>woman</td>\n",
       "      <td>False</td>\n",
       "      <td>C</td>\n",
       "      <td>Cherbourg</td>\n",
       "      <td>yes</td>\n",
       "      <td>False</td>\n",
       "    </tr>\n",
       "    <tr>\n",
       "      <th>2</th>\n",
       "      <td>1</td>\n",
       "      <td>3</td>\n",
       "      <td>female</td>\n",
       "      <td>26.0</td>\n",
       "      <td>0</td>\n",
       "      <td>0</td>\n",
       "      <td>7.9250</td>\n",
       "      <td>S</td>\n",
       "      <td>Third</td>\n",
       "      <td>woman</td>\n",
       "      <td>False</td>\n",
       "      <td>NaN</td>\n",
       "      <td>Southampton</td>\n",
       "      <td>yes</td>\n",
       "      <td>True</td>\n",
       "    </tr>\n",
       "    <tr>\n",
       "      <th>3</th>\n",
       "      <td>1</td>\n",
       "      <td>1</td>\n",
       "      <td>female</td>\n",
       "      <td>35.0</td>\n",
       "      <td>1</td>\n",
       "      <td>0</td>\n",
       "      <td>53.1000</td>\n",
       "      <td>S</td>\n",
       "      <td>First</td>\n",
       "      <td>woman</td>\n",
       "      <td>False</td>\n",
       "      <td>C</td>\n",
       "      <td>Southampton</td>\n",
       "      <td>yes</td>\n",
       "      <td>False</td>\n",
       "    </tr>\n",
       "    <tr>\n",
       "      <th>4</th>\n",
       "      <td>0</td>\n",
       "      <td>3</td>\n",
       "      <td>male</td>\n",
       "      <td>35.0</td>\n",
       "      <td>0</td>\n",
       "      <td>0</td>\n",
       "      <td>8.0500</td>\n",
       "      <td>S</td>\n",
       "      <td>Third</td>\n",
       "      <td>man</td>\n",
       "      <td>True</td>\n",
       "      <td>NaN</td>\n",
       "      <td>Southampton</td>\n",
       "      <td>no</td>\n",
       "      <td>True</td>\n",
       "    </tr>\n",
       "    <tr>\n",
       "      <th>...</th>\n",
       "      <td>...</td>\n",
       "      <td>...</td>\n",
       "      <td>...</td>\n",
       "      <td>...</td>\n",
       "      <td>...</td>\n",
       "      <td>...</td>\n",
       "      <td>...</td>\n",
       "      <td>...</td>\n",
       "      <td>...</td>\n",
       "      <td>...</td>\n",
       "      <td>...</td>\n",
       "      <td>...</td>\n",
       "      <td>...</td>\n",
       "      <td>...</td>\n",
       "      <td>...</td>\n",
       "    </tr>\n",
       "    <tr>\n",
       "      <th>886</th>\n",
       "      <td>0</td>\n",
       "      <td>2</td>\n",
       "      <td>male</td>\n",
       "      <td>27.0</td>\n",
       "      <td>0</td>\n",
       "      <td>0</td>\n",
       "      <td>13.0000</td>\n",
       "      <td>S</td>\n",
       "      <td>Second</td>\n",
       "      <td>man</td>\n",
       "      <td>True</td>\n",
       "      <td>NaN</td>\n",
       "      <td>Southampton</td>\n",
       "      <td>no</td>\n",
       "      <td>True</td>\n",
       "    </tr>\n",
       "    <tr>\n",
       "      <th>887</th>\n",
       "      <td>1</td>\n",
       "      <td>1</td>\n",
       "      <td>female</td>\n",
       "      <td>19.0</td>\n",
       "      <td>0</td>\n",
       "      <td>0</td>\n",
       "      <td>30.0000</td>\n",
       "      <td>S</td>\n",
       "      <td>First</td>\n",
       "      <td>woman</td>\n",
       "      <td>False</td>\n",
       "      <td>B</td>\n",
       "      <td>Southampton</td>\n",
       "      <td>yes</td>\n",
       "      <td>True</td>\n",
       "    </tr>\n",
       "    <tr>\n",
       "      <th>888</th>\n",
       "      <td>0</td>\n",
       "      <td>3</td>\n",
       "      <td>female</td>\n",
       "      <td>NaN</td>\n",
       "      <td>1</td>\n",
       "      <td>2</td>\n",
       "      <td>23.4500</td>\n",
       "      <td>S</td>\n",
       "      <td>Third</td>\n",
       "      <td>woman</td>\n",
       "      <td>False</td>\n",
       "      <td>NaN</td>\n",
       "      <td>Southampton</td>\n",
       "      <td>no</td>\n",
       "      <td>False</td>\n",
       "    </tr>\n",
       "    <tr>\n",
       "      <th>889</th>\n",
       "      <td>1</td>\n",
       "      <td>1</td>\n",
       "      <td>male</td>\n",
       "      <td>26.0</td>\n",
       "      <td>0</td>\n",
       "      <td>0</td>\n",
       "      <td>30.0000</td>\n",
       "      <td>C</td>\n",
       "      <td>First</td>\n",
       "      <td>man</td>\n",
       "      <td>True</td>\n",
       "      <td>C</td>\n",
       "      <td>Cherbourg</td>\n",
       "      <td>yes</td>\n",
       "      <td>True</td>\n",
       "    </tr>\n",
       "    <tr>\n",
       "      <th>890</th>\n",
       "      <td>0</td>\n",
       "      <td>3</td>\n",
       "      <td>male</td>\n",
       "      <td>32.0</td>\n",
       "      <td>0</td>\n",
       "      <td>0</td>\n",
       "      <td>7.7500</td>\n",
       "      <td>Q</td>\n",
       "      <td>Third</td>\n",
       "      <td>man</td>\n",
       "      <td>True</td>\n",
       "      <td>NaN</td>\n",
       "      <td>Queenstown</td>\n",
       "      <td>no</td>\n",
       "      <td>True</td>\n",
       "    </tr>\n",
       "  </tbody>\n",
       "</table>\n",
       "<p>891 rows × 15 columns</p>\n",
       "</div>"
      ],
      "text/plain": [
       "     survived  pclass     sex   age  sibsp  parch     fare embarked   class  \\\n",
       "0           0       3    male  22.0      1      0   7.2500        S   Third   \n",
       "1           1       1  female  38.0      1      0  71.2833        C   First   \n",
       "2           1       3  female  26.0      0      0   7.9250        S   Third   \n",
       "3           1       1  female  35.0      1      0  53.1000        S   First   \n",
       "4           0       3    male  35.0      0      0   8.0500        S   Third   \n",
       "..        ...     ...     ...   ...    ...    ...      ...      ...     ...   \n",
       "886         0       2    male  27.0      0      0  13.0000        S  Second   \n",
       "887         1       1  female  19.0      0      0  30.0000        S   First   \n",
       "888         0       3  female   NaN      1      2  23.4500        S   Third   \n",
       "889         1       1    male  26.0      0      0  30.0000        C   First   \n",
       "890         0       3    male  32.0      0      0   7.7500        Q   Third   \n",
       "\n",
       "       who  adult_male deck  embark_town alive  alone  \n",
       "0      man        True  NaN  Southampton    no  False  \n",
       "1    woman       False    C    Cherbourg   yes  False  \n",
       "2    woman       False  NaN  Southampton   yes   True  \n",
       "3    woman       False    C  Southampton   yes  False  \n",
       "4      man        True  NaN  Southampton    no   True  \n",
       "..     ...         ...  ...          ...   ...    ...  \n",
       "886    man        True  NaN  Southampton    no   True  \n",
       "887  woman       False    B  Southampton   yes   True  \n",
       "888  woman       False  NaN  Southampton    no  False  \n",
       "889    man        True    C    Cherbourg   yes   True  \n",
       "890    man        True  NaN   Queenstown    no   True  \n",
       "\n",
       "[891 rows x 15 columns]"
      ]
     },
     "execution_count": 4,
     "metadata": {},
     "output_type": "execute_result"
    }
   ],
   "source": [
    "# 가져온 titanic 데이터 확인 하기\n",
    "# 자동으로 판다스 데이터프레임 형식으로 읽어짐\n",
    "print(type(titanic))\n",
    "titanic"
   ]
  },
  {
   "cell_type": "code",
   "execution_count": 5,
   "metadata": {
    "colab": {
     "base_uri": "https://localhost:8080/"
    },
    "executionInfo": {
     "elapsed": 260,
     "status": "ok",
     "timestamp": 1653456928244,
     "user": {
      "displayName": "yunwoo oh",
      "userId": "01035531558844683999"
     },
     "user_tz": -540
    },
    "id": "ELBizUYLGdOx",
    "outputId": "07a6a222-09d7-409f-dbb5-d8420e6e939b"
   },
   "outputs": [
    {
     "name": "stdout",
     "output_type": "stream",
     "text": [
      "<class 'pandas.core.frame.DataFrame'>\n",
      "RangeIndex: 891 entries, 0 to 890\n",
      "Data columns (total 15 columns):\n",
      " #   Column       Non-Null Count  Dtype   \n",
      "---  ------       --------------  -----   \n",
      " 0   survived     891 non-null    int64   \n",
      " 1   pclass       891 non-null    int64   \n",
      " 2   sex          891 non-null    object  \n",
      " 3   age          714 non-null    float64 \n",
      " 4   sibsp        891 non-null    int64   \n",
      " 5   parch        891 non-null    int64   \n",
      " 6   fare         891 non-null    float64 \n",
      " 7   embarked     889 non-null    object  \n",
      " 8   class        891 non-null    category\n",
      " 9   who          891 non-null    object  \n",
      " 10  adult_male   891 non-null    bool    \n",
      " 11  deck         203 non-null    category\n",
      " 12  embark_town  889 non-null    object  \n",
      " 13  alive        891 non-null    object  \n",
      " 14  alone        891 non-null    bool    \n",
      "dtypes: bool(2), category(2), float64(2), int64(4), object(5)\n",
      "memory usage: 80.7+ KB\n"
     ]
    }
   ],
   "source": [
    "# 타이타닉 데이터에 대한 전체적인 정보 보기 : info 함수\n",
    "\n",
    "titanic.info()"
   ]
  },
  {
   "cell_type": "markdown",
   "metadata": {
    "id": "e22J-MZ9Lxb7"
   },
   "source": [
    "#### 타이타닉 Data Dictionary\n",
    "- survived : 생존=1, 죽음=0\n",
    "- pclass : 승객 등급. 1등급=1, 2등급=2, 3등급=3\n",
    "- sibsp : 함께 탑승한 형제 또는 배우자 수\n",
    "- parch : 함께 탑승한 부모 또는 자녀 수\n",
    "- ticket : 티켓 번호\n",
    "- cabin : 선실 번호\n",
    "- embarked : 탑승장소 S=Southhampton, C=Cherbourg, Q=Queenstown\n"
   ]
  },
  {
   "cell_type": "markdown",
   "metadata": {
    "id": "gtGYasrCJlMV"
   },
   "source": [
    "# 2. 데이터 분석\n",
    "- 눈으로 데이터 수치를 보고 어떤 흐름인지 파악할수 있지만,\n",
    "- 시각화를 통한다면 쉽게 흐름을 파악할수 있으니, 할수 있으면 사용해라.\n",
    "- 여러분에게는 어려울수 있으니, 아, 이렇게 데이터를 가지고 시각화를 할수 있구나 느낀면 된다."
   ]
  },
  {
   "cell_type": "code",
   "execution_count": 6,
   "metadata": {
    "colab": {
     "base_uri": "https://localhost:8080/"
    },
    "executionInfo": {
     "elapsed": 267,
     "status": "ok",
     "timestamp": 1653456951415,
     "user": {
      "displayName": "yunwoo oh",
      "userId": "01035531558844683999"
     },
     "user_tz": -540
    },
    "id": "QJ1YjKp2FYZu",
    "outputId": "0cfce485-6015-498c-c0cc-f72a77e16d1f"
   },
   "outputs": [
    {
     "data": {
      "text/plain": [
       "0    549\n",
       "1    342\n",
       "Name: survived, dtype: int64"
      ]
     },
     "execution_count": 6,
     "metadata": {},
     "output_type": "execute_result"
    }
   ],
   "source": [
    "# 간단하게 시각화해 보기\n",
    "# 여러분은 잘 모르지만, 나중에 이렇게 시각화를 할수 있구나 알기\n",
    "\n",
    "# 판다스 value_counts 함수 이용해서 survived 컬럼 값 분포 확인\n",
    "\n",
    "titanic['survived'].value_counts()"
   ]
  },
  {
   "cell_type": "code",
   "execution_count": 7,
   "metadata": {
    "colab": {
     "base_uri": "https://localhost:8080/",
     "height": 280
    },
    "executionInfo": {
     "elapsed": 286,
     "status": "ok",
     "timestamp": 1653456959709,
     "user": {
      "displayName": "yunwoo oh",
      "userId": "01035531558844683999"
     },
     "user_tz": -540
    },
    "id": "S6DvrPRZoUfy",
    "outputId": "74d5c7ca-3c81-45fc-c9fc-9c0ef5ab62d3"
   },
   "outputs": [
    {
     "data": {
      "text/plain": [
       "<Axes: >"
      ]
     },
     "execution_count": 7,
     "metadata": {},
     "output_type": "execute_result"
    },
    {
     "data": {
      "image/png": "[encoded data removed]",
      "text/plain": [
       "<Figure size 640x480 with 1 Axes>"
      ]
     },
     "metadata": {},
     "output_type": "display_data"
    }
   ],
   "source": [
    "# survived 컬럼 값 분포 확인에 대한 바차트 그리기\n",
    "\n",
    "titanic['survived'].value_counts().plot(kind='bar')"
   ]
  },
  {
   "cell_type": "code",
   "execution_count": 8,
   "metadata": {
    "colab": {
     "base_uri": "https://localhost:8080/"
    },
    "executionInfo": {
     "elapsed": 293,
     "status": "ok",
     "timestamp": 1653456976739,
     "user": {
      "displayName": "yunwoo oh",
      "userId": "01035531558844683999"
     },
     "user_tz": -540
    },
    "id": "Zs3HRY-vGaJ7",
    "outputId": "d9297980-9e9a-400d-9e48-0c44b2de5e7d"
   },
   "outputs": [
    {
     "data": {
      "text/plain": [
       "3    491\n",
       "1    216\n",
       "2    184\n",
       "Name: pclass, dtype: int64"
      ]
     },
     "execution_count": 8,
     "metadata": {},
     "output_type": "execute_result"
    }
   ],
   "source": [
    "# 판다스 value_counts 함수 이용해서 pclass 값 분포 확인\n",
    "\n",
    "titanic['pclass'].value_counts()"
   ]
  },
  {
   "cell_type": "code",
   "execution_count": 9,
   "metadata": {
    "colab": {
     "base_uri": "https://localhost:8080/",
     "height": 280
    },
    "executionInfo": {
     "elapsed": 549,
     "status": "ok",
     "timestamp": 1653456987163,
     "user": {
      "displayName": "yunwoo oh",
      "userId": "01035531558844683999"
     },
     "user_tz": -540
    },
    "id": "bhMbR8R8GaGY",
    "outputId": "1bddeaed-db8f-4dab-ed8c-83f77441dac9"
   },
   "outputs": [
    {
     "data": {
      "text/plain": [
       "<Axes: >"
      ]
     },
     "execution_count": 9,
     "metadata": {},
     "output_type": "execute_result"
    },
    {
     "data": {
      "image/png": "[encoded data removed]",
      "text/plain": [
       "<Figure size 640x480 with 1 Axes>"
      ]
     },
     "metadata": {},
     "output_type": "display_data"
    }
   ],
   "source": [
    "# 판다스 value_counts 함수 이용해서 pclass 값 분포에 대한 바차트\n",
    "\n",
    "titanic['pclass'].value_counts().plot(kind='bar')"
   ]
  },
  {
   "cell_type": "code",
   "execution_count": 10,
   "metadata": {
    "colab": {
     "base_uri": "https://localhost:8080/",
     "height": 310
    },
    "executionInfo": {
     "elapsed": 266,
     "status": "ok",
     "timestamp": 1653457001060,
     "user": {
      "displayName": "yunwoo oh",
      "userId": "01035531558844683999"
     },
     "user_tz": -540
    },
    "id": "ssreGsJlGaDH",
    "outputId": "0867eac3-1959-4a95-bab8-1246fbf657f0"
   },
   "outputs": [
    {
     "data": {
      "text/plain": [
       "<Axes: >"
      ]
     },
     "execution_count": 10,
     "metadata": {},
     "output_type": "execute_result"
    },
    {
     "data": {
      "image/png": "[encoded data removed]",
      "text/plain": [
       "<Figure size 640x480 with 1 Axes>"
      ]
     },
     "metadata": {},
     "output_type": "display_data"
    }
   ],
   "source": [
    "# 판다스 value_counts 함수 이용해서 sex 값 분포에 대한 바차트\n",
    "\n",
    "titanic['sex'].value_counts().plot(kind='bar')"
   ]
  },
  {
   "cell_type": "code",
   "execution_count": 11,
   "metadata": {
    "colab": {
     "base_uri": "https://localhost:8080/",
     "height": 283
    },
    "executionInfo": {
     "elapsed": 291,
     "status": "ok",
     "timestamp": 1653457011498,
     "user": {
      "displayName": "yunwoo oh",
      "userId": "01035531558844683999"
     },
     "user_tz": -540
    },
    "id": "iHiFcH4pHWnR",
    "outputId": "92dbdb70-c36d-4828-d7ae-d4a18f676089"
   },
   "outputs": [
    {
     "data": {
      "text/plain": [
       "<Axes: >"
      ]
     },
     "execution_count": 11,
     "metadata": {},
     "output_type": "execute_result"
    },
    {
     "data": {
      "image/png": "[encoded data removed]",
      "text/plain": [
       "<Figure size 640x480 with 1 Axes>"
      ]
     },
     "metadata": {},
     "output_type": "display_data"
    }
   ],
   "source": [
    "# age 컬럼에 대한 box 차트\n",
    "# 나이 분포를 볼때 중간값이 26 정도 되며, 전체적으로 나이가 많은쪽으로 넓게 있다.\n",
    "\n",
    "titanic['age'].plot(kind='box')"
   ]
  },
  {
   "cell_type": "code",
   "execution_count": 12,
   "metadata": {
    "colab": {
     "base_uri": "https://localhost:8080/",
     "height": 297
    },
    "executionInfo": {
     "elapsed": 298,
     "status": "ok",
     "timestamp": 1653457040726,
     "user": {
      "displayName": "yunwoo oh",
      "userId": "01035531558844683999"
     },
     "user_tz": -540
    },
    "id": "KJts35UKHdK6",
    "outputId": "74e49ae5-8714-4e36-cb8d-990036772b64"
   },
   "outputs": [
    {
     "data": {
      "text/plain": [
       "<Axes: xlabel='pclass', ylabel='age'>"
      ]
     },
     "execution_count": 12,
     "metadata": {},
     "output_type": "execute_result"
    },
    {
     "data": {
      "image/png": "[encoded data removed]",
      "text/plain": [
       "<Figure size 640x480 with 1 Axes>"
      ]
     },
     "metadata": {},
     "output_type": "display_data"
    }
   ],
   "source": [
    "# seaborn boxplot 이용하여 pclass별로 age 분포 확인.(data=titanic, x='pclass', y='age')\n",
    "# 1등급에 나이 있는 분들이 더 많고 등급이 낮아질수록 나이가 어리다.\n",
    "\n",
    "sns.boxplot(data=titanic, x='pclass', y='age')"
   ]
  },
  {
   "cell_type": "code",
   "execution_count": 13,
   "metadata": {
    "colab": {
     "base_uri": "https://localhost:8080/",
     "height": 297
    },
    "executionInfo": {
     "elapsed": 680,
     "status": "ok",
     "timestamp": 1653457074859,
     "user": {
      "displayName": "yunwoo oh",
      "userId": "01035531558844683999"
     },
     "user_tz": -540
    },
    "id": "X5s51rdHHdHh",
    "outputId": "27b3aed0-ec97-4b6c-fad5-7b10e55d68e0"
   },
   "outputs": [
    {
     "data": {
      "text/plain": [
       "<Axes: xlabel='pclass', ylabel='age'>"
      ]
     },
     "execution_count": 13,
     "metadata": {},
     "output_type": "execute_result"
    },
    {
     "data": {
      "image/png": "[encoded data removed]",
      "text/plain": [
       "<Figure size 640x480 with 1 Axes>"
      ]
     },
     "metadata": {},
     "output_type": "display_data"
    }
   ],
   "source": [
    "# boxplot 이용하여 pclass별로 age 분포 확인. 또한 survived 키로 분류해 보자.(hue='survived')\n",
    "# 1등급에 있는 분들이 다른 등급에 있는 분들보다 더 많이 살아남았음 알수 있따.\n",
    "\n",
    "sns.boxplot(data=titanic, x='pclass', y='age', hue='survived')"
   ]
  },
  {
   "cell_type": "code",
   "execution_count": 14,
   "metadata": {
    "colab": {
     "base_uri": "https://localhost:8080/"
    },
    "executionInfo": {
     "elapsed": 333,
     "status": "ok",
     "timestamp": 1653457104610,
     "user": {
      "displayName": "yunwoo oh",
      "userId": "01035531558844683999"
     },
     "user_tz": -540
    },
    "id": "Z9BlR0rXHdEr",
    "outputId": "a0f22e1b-71ef-4b3e-ef9f-b1cbf916fc11"
   },
   "outputs": [
    {
     "data": {
      "text/plain": [
       "pclass\n",
       "1    0.629630\n",
       "2    0.472826\n",
       "3    0.242363\n",
       "Name: survived, dtype: float64"
      ]
     },
     "execution_count": 14,
     "metadata": {},
     "output_type": "execute_result"
    }
   ],
   "source": [
    "# pclass별로 어느정도 살아 남았는지 확인 : pclass에 대해 groupby 하고 survived 컬럼에 대한 평균값 구하기 \n",
    "# groupby 한 결과를 pclass_grp 변수에 저장하고 출력하기\n",
    "\n",
    "pclass_grp = titanic.groupby('pclass')['survived'].mean()\n",
    "pclass_grp"
   ]
  },
  {
   "cell_type": "code",
   "execution_count": 15,
   "metadata": {
    "colab": {
     "base_uri": "https://localhost:8080/",
     "height": 294
    },
    "executionInfo": {
     "elapsed": 268,
     "status": "ok",
     "timestamp": 1653457147468,
     "user": {
      "displayName": "yunwoo oh",
      "userId": "01035531558844683999"
     },
     "user_tz": -540
    },
    "id": "tWfE_kADHdCf",
    "outputId": "899cdc42-1196-4066-fd6d-464d69bd9281"
   },
   "outputs": [
    {
     "data": {
      "text/plain": [
       "<Axes: xlabel='pclass'>"
      ]
     },
     "execution_count": 15,
     "metadata": {},
     "output_type": "execute_result"
    },
    {
     "data": {
      "image/png": "[encoded data removed]",
      "text/plain": [
       "<Figure size 640x480 with 1 Axes>"
      ]
     },
     "metadata": {},
     "output_type": "display_data"
    }
   ],
   "source": [
    "# pclass_grp 데이터프레임에서 x='pclass', y='survived' 해서 bar 차트 그리기\n",
    "\n",
    "pclass_grp.plot(kind='bar', x='pclass', y='survived')"
   ]
  },
  {
   "cell_type": "markdown",
   "metadata": {
    "id": "oOZzwql-M_RC"
   },
   "source": [
    "---"
   ]
  },
  {
   "cell_type": "markdown",
   "metadata": {
    "id": "UEBIaWYPP_DO"
   },
   "source": [
    "# 3. 전처리\n",
    "- 전처리를 왜 해야 할까요?\n",
    "- 불필요한 컬럼을 삭제하거나, 빈공간을 채우기등\n",
    "- 모든 데이터가 컴퓨터가 이해할수 있는 숫자로 되어야 한다.\n",
    "- 결국, 깔끔하고 깨끗한 숫자형 데이터로 만들어야 한다."
   ]
  },
  {
   "cell_type": "code",
   "execution_count": 16,
   "metadata": {
    "colab": {
     "base_uri": "https://localhost:8080/"
    },
    "executionInfo": {
     "elapsed": 265,
     "status": "ok",
     "timestamp": 1653457178145,
     "user": {
      "displayName": "yunwoo oh",
      "userId": "01035531558844683999"
     },
     "user_tz": -540
    },
    "id": "4WrOMn8JQHSV",
    "outputId": "821cc3c2-5570-4f56-8203-e73911e6c69b"
   },
   "outputs": [
    {
     "name": "stdout",
     "output_type": "stream",
     "text": [
      "<class 'pandas.core.frame.DataFrame'>\n",
      "RangeIndex: 891 entries, 0 to 890\n",
      "Data columns (total 15 columns):\n",
      " #   Column       Non-Null Count  Dtype   \n",
      "---  ------       --------------  -----   \n",
      " 0   survived     891 non-null    int64   \n",
      " 1   pclass       891 non-null    int64   \n",
      " 2   sex          891 non-null    object  \n",
      " 3   age          714 non-null    float64 \n",
      " 4   sibsp        891 non-null    int64   \n",
      " 5   parch        891 non-null    int64   \n",
      " 6   fare         891 non-null    float64 \n",
      " 7   embarked     889 non-null    object  \n",
      " 8   class        891 non-null    category\n",
      " 9   who          891 non-null    object  \n",
      " 10  adult_male   891 non-null    bool    \n",
      " 11  deck         203 non-null    category\n",
      " 12  embark_town  889 non-null    object  \n",
      " 13  alive        891 non-null    object  \n",
      " 14  alone        891 non-null    bool    \n",
      "dtypes: bool(2), category(2), float64(2), int64(4), object(5)\n",
      "memory usage: 80.7+ KB\n"
     ]
    }
   ],
   "source": [
    "# 타이타닉 정보 보기 : info 함수\n",
    "\n",
    "titanic.info()"
   ]
  },
  {
   "cell_type": "code",
   "execution_count": 17,
   "metadata": {
    "executionInfo": {
     "elapsed": 388,
     "status": "ok",
     "timestamp": 1653457192209,
     "user": {
      "displayName": "yunwoo oh",
      "userId": "01035531558844683999"
     },
     "user_tz": -540
    },
    "id": "5MY14s0gQHPP"
   },
   "outputs": [],
   "source": [
    "# 중복 컬럼 삭제 : class, alive \n",
    "# 판다스 drop 함수 활용 : ['class', 'alive'], axis=1, inplace=True\n",
    "\n",
    "titanic.drop(['class', 'alive'], axis=1, inplace=True)"
   ]
  },
  {
   "cell_type": "code",
   "execution_count": 18,
   "metadata": {
    "colab": {
     "base_uri": "https://localhost:8080/"
    },
    "executionInfo": {
     "elapsed": 287,
     "status": "ok",
     "timestamp": 1653457195250,
     "user": {
      "displayName": "yunwoo oh",
      "userId": "01035531558844683999"
     },
     "user_tz": -540
    },
    "id": "3x16ItlCjs0n",
    "outputId": "261fe6d3-1d1a-45ec-df1a-e1d2d04fd29a"
   },
   "outputs": [
    {
     "name": "stdout",
     "output_type": "stream",
     "text": [
      "<class 'pandas.core.frame.DataFrame'>\n",
      "RangeIndex: 891 entries, 0 to 890\n",
      "Data columns (total 13 columns):\n",
      " #   Column       Non-Null Count  Dtype   \n",
      "---  ------       --------------  -----   \n",
      " 0   survived     891 non-null    int64   \n",
      " 1   pclass       891 non-null    int64   \n",
      " 2   sex          891 non-null    object  \n",
      " 3   age          714 non-null    float64 \n",
      " 4   sibsp        891 non-null    int64   \n",
      " 5   parch        891 non-null    int64   \n",
      " 6   fare         891 non-null    float64 \n",
      " 7   embarked     889 non-null    object  \n",
      " 8   who          891 non-null    object  \n",
      " 9   adult_male   891 non-null    bool    \n",
      " 10  deck         203 non-null    category\n",
      " 11  embark_town  889 non-null    object  \n",
      " 12  alone        891 non-null    bool    \n",
      "dtypes: bool(2), category(1), float64(2), int64(4), object(4)\n",
      "memory usage: 72.7+ KB\n"
     ]
    }
   ],
   "source": [
    "titanic.info()"
   ]
  },
  {
   "cell_type": "code",
   "execution_count": 19,
   "metadata": {
    "executionInfo": {
     "elapsed": 267,
     "status": "ok",
     "timestamp": 1653457209293,
     "user": {
      "displayName": "yunwoo oh",
      "userId": "01035531558844683999"
     },
     "user_tz": -540
    },
    "id": "LgS-Od1_QHMY"
   },
   "outputs": [],
   "source": [
    "# 내용을 간단하기 위해서 편의대로 컬럼을 drop함수 활용하여 삭제 : 'embarked', 'who', 'adult_male', 'deck', 'embark_town', 'alone'\n",
    "# 옵션 : axis=1, inplace=True\n",
    "\n",
    "titanic.drop(['embarked', 'who', 'adult_male', 'deck', 'embark_town', 'alone'], axis=1, inplace=True)"
   ]
  },
  {
   "cell_type": "code",
   "execution_count": 20,
   "metadata": {
    "colab": {
     "base_uri": "https://localhost:8080/",
     "height": 206
    },
    "executionInfo": {
     "elapsed": 283,
     "status": "ok",
     "timestamp": 1653457212055,
     "user": {
      "displayName": "yunwoo oh",
      "userId": "01035531558844683999"
     },
     "user_tz": -540
    },
    "id": "u_ax8H4bQHJx",
    "outputId": "329bff35-d709-4b32-d68d-1a09561575f0"
   },
   "outputs": [
    {
     "data": {
      "text/html": [
       "<div>\n",
       "<style scoped>\n",
       "    .dataframe tbody tr th:only-of-type {\n",
       "        vertical-align: middle;\n",
       "    }\n",
       "\n",
       "    .dataframe tbody tr th {\n",
       "        vertical-align: top;\n",
       "    }\n",
       "\n",
       "    .dataframe thead th {\n",
       "        text-align: right;\n",
       "    }\n",
       "</style>\n",
       "<table border=\"1\" class=\"dataframe\">\n",
       "  <thead>\n",
       "    <tr style=\"text-align: right;\">\n",
       "      <th></th>\n",
       "      <th>survived</th>\n",
       "      <th>pclass</th>\n",
       "      <th>sex</th>\n",
       "      <th>age</th>\n",
       "      <th>sibsp</th>\n",
       "      <th>parch</th>\n",
       "      <th>fare</th>\n",
       "    </tr>\n",
       "  </thead>\n",
       "  <tbody>\n",
       "    <tr>\n",
       "      <th>0</th>\n",
       "      <td>0</td>\n",
       "      <td>3</td>\n",
       "      <td>male</td>\n",
       "      <td>22.0</td>\n",
       "      <td>1</td>\n",
       "      <td>0</td>\n",
       "      <td>7.2500</td>\n",
       "    </tr>\n",
       "    <tr>\n",
       "      <th>1</th>\n",
       "      <td>1</td>\n",
       "      <td>1</td>\n",
       "      <td>female</td>\n",
       "      <td>38.0</td>\n",
       "      <td>1</td>\n",
       "      <td>0</td>\n",
       "      <td>71.2833</td>\n",
       "    </tr>\n",
       "    <tr>\n",
       "      <th>2</th>\n",
       "      <td>1</td>\n",
       "      <td>3</td>\n",
       "      <td>female</td>\n",
       "      <td>26.0</td>\n",
       "      <td>0</td>\n",
       "      <td>0</td>\n",
       "      <td>7.9250</td>\n",
       "    </tr>\n",
       "    <tr>\n",
       "      <th>3</th>\n",
       "      <td>1</td>\n",
       "      <td>1</td>\n",
       "      <td>female</td>\n",
       "      <td>35.0</td>\n",
       "      <td>1</td>\n",
       "      <td>0</td>\n",
       "      <td>53.1000</td>\n",
       "    </tr>\n",
       "    <tr>\n",
       "      <th>4</th>\n",
       "      <td>0</td>\n",
       "      <td>3</td>\n",
       "      <td>male</td>\n",
       "      <td>35.0</td>\n",
       "      <td>0</td>\n",
       "      <td>0</td>\n",
       "      <td>8.0500</td>\n",
       "    </tr>\n",
       "  </tbody>\n",
       "</table>\n",
       "</div>"
      ],
      "text/plain": [
       "   survived  pclass     sex   age  sibsp  parch     fare\n",
       "0         0       3    male  22.0      1      0   7.2500\n",
       "1         1       1  female  38.0      1      0  71.2833\n",
       "2         1       3  female  26.0      0      0   7.9250\n",
       "3         1       1  female  35.0      1      0  53.1000\n",
       "4         0       3    male  35.0      0      0   8.0500"
      ]
     },
     "execution_count": 20,
     "metadata": {},
     "output_type": "execute_result"
    }
   ],
   "source": [
    "# 타이타닉 내용 앞 5개 보기 : head 함수\n",
    "\n",
    "titanic.head()"
   ]
  },
  {
   "cell_type": "code",
   "execution_count": 21,
   "metadata": {
    "executionInfo": {
     "elapsed": 256,
     "status": "ok",
     "timestamp": 1653457254045,
     "user": {
      "displayName": "yunwoo oh",
      "userId": "01035531558844683999"
     },
     "user_tz": -540
    },
    "id": "_BeJ6ZN-QHGp"
   },
   "outputs": [],
   "source": [
    "# sex 컬럼에 대해 male : 0 , female : 1로 변환 \n",
    "# 판다스 replace 함수 활용 : ['male', 'female'], [0, 1], inplace=True\n",
    "\n",
    "titanic['sex'].replace(['male', 'female'], [0, 1], inplace=True)"
   ]
  },
  {
   "cell_type": "code",
   "execution_count": 22,
   "metadata": {
    "colab": {
     "base_uri": "https://localhost:8080/",
     "height": 206
    },
    "executionInfo": {
     "elapsed": 267,
     "status": "ok",
     "timestamp": 1653457256200,
     "user": {
      "displayName": "yunwoo oh",
      "userId": "01035531558844683999"
     },
     "user_tz": -540
    },
    "id": "q9A1TWv8QHEH",
    "outputId": "92927d48-eec9-473d-abc7-c753fadf9c8c"
   },
   "outputs": [
    {
     "data": {
      "text/html": [
       "<div>\n",
       "<style scoped>\n",
       "    .dataframe tbody tr th:only-of-type {\n",
       "        vertical-align: middle;\n",
       "    }\n",
       "\n",
       "    .dataframe tbody tr th {\n",
       "        vertical-align: top;\n",
       "    }\n",
       "\n",
       "    .dataframe thead th {\n",
       "        text-align: right;\n",
       "    }\n",
       "</style>\n",
       "<table border=\"1\" class=\"dataframe\">\n",
       "  <thead>\n",
       "    <tr style=\"text-align: right;\">\n",
       "      <th></th>\n",
       "      <th>survived</th>\n",
       "      <th>pclass</th>\n",
       "      <th>sex</th>\n",
       "      <th>age</th>\n",
       "      <th>sibsp</th>\n",
       "      <th>parch</th>\n",
       "      <th>fare</th>\n",
       "    </tr>\n",
       "  </thead>\n",
       "  <tbody>\n",
       "    <tr>\n",
       "      <th>886</th>\n",
       "      <td>0</td>\n",
       "      <td>2</td>\n",
       "      <td>0</td>\n",
       "      <td>27.0</td>\n",
       "      <td>0</td>\n",
       "      <td>0</td>\n",
       "      <td>13.00</td>\n",
       "    </tr>\n",
       "    <tr>\n",
       "      <th>887</th>\n",
       "      <td>1</td>\n",
       "      <td>1</td>\n",
       "      <td>1</td>\n",
       "      <td>19.0</td>\n",
       "      <td>0</td>\n",
       "      <td>0</td>\n",
       "      <td>30.00</td>\n",
       "    </tr>\n",
       "    <tr>\n",
       "      <th>888</th>\n",
       "      <td>0</td>\n",
       "      <td>3</td>\n",
       "      <td>1</td>\n",
       "      <td>NaN</td>\n",
       "      <td>1</td>\n",
       "      <td>2</td>\n",
       "      <td>23.45</td>\n",
       "    </tr>\n",
       "    <tr>\n",
       "      <th>889</th>\n",
       "      <td>1</td>\n",
       "      <td>1</td>\n",
       "      <td>0</td>\n",
       "      <td>26.0</td>\n",
       "      <td>0</td>\n",
       "      <td>0</td>\n",
       "      <td>30.00</td>\n",
       "    </tr>\n",
       "    <tr>\n",
       "      <th>890</th>\n",
       "      <td>0</td>\n",
       "      <td>3</td>\n",
       "      <td>0</td>\n",
       "      <td>32.0</td>\n",
       "      <td>0</td>\n",
       "      <td>0</td>\n",
       "      <td>7.75</td>\n",
       "    </tr>\n",
       "  </tbody>\n",
       "</table>\n",
       "</div>"
      ],
      "text/plain": [
       "     survived  pclass  sex   age  sibsp  parch   fare\n",
       "886         0       2    0  27.0      0      0  13.00\n",
       "887         1       1    1  19.0      0      0  30.00\n",
       "888         0       3    1   NaN      1      2  23.45\n",
       "889         1       1    0  26.0      0      0  30.00\n",
       "890         0       3    0  32.0      0      0   7.75"
      ]
     },
     "execution_count": 22,
     "metadata": {},
     "output_type": "execute_result"
    }
   ],
   "source": [
    "# 타이타닉 내용 뒤 5개 보기 : tail 함수\n",
    "\n",
    "titanic.tail()"
   ]
  },
  {
   "cell_type": "code",
   "execution_count": 23,
   "metadata": {
    "colab": {
     "base_uri": "https://localhost:8080/"
    },
    "executionInfo": {
     "elapsed": 272,
     "status": "ok",
     "timestamp": 1653457272385,
     "user": {
      "displayName": "yunwoo oh",
      "userId": "01035531558844683999"
     },
     "user_tz": -540
    },
    "id": "oXKWqqiiSVOD",
    "outputId": "c4baa33f-900f-4123-956b-db3d2ebd93c8"
   },
   "outputs": [
    {
     "data": {
      "text/plain": [
       "survived      0\n",
       "pclass        0\n",
       "sex           0\n",
       "age         177\n",
       "sibsp         0\n",
       "parch         0\n",
       "fare          0\n",
       "dtype: int64"
      ]
     },
     "execution_count": 23,
     "metadata": {},
     "output_type": "execute_result"
    }
   ],
   "source": [
    "# null 여부 확인 \n",
    "\n",
    "titanic.isnull().sum()"
   ]
  },
  {
   "cell_type": "code",
   "execution_count": 24,
   "metadata": {
    "executionInfo": {
     "elapsed": 252,
     "status": "ok",
     "timestamp": 1653457292578,
     "user": {
      "displayName": "yunwoo oh",
      "userId": "01035531558844683999"
     },
     "user_tz": -540
    },
    "id": "Jl1Uwwg9SVK6"
   },
   "outputs": [],
   "source": [
    "# 1. age컬럼에 대한 평균값 구하고 age_mean 변수에 저장\n",
    "# 2. 판다스 fillna로 age 중간값으로 채우자. (inplace=True)\n",
    "\n",
    "age_mean = titanic['age'].mean()\n",
    "titanic['age'].fillna(age_mean, inplace=True)"
   ]
  },
  {
   "cell_type": "code",
   "execution_count": 25,
   "metadata": {
    "colab": {
     "base_uri": "https://localhost:8080/"
    },
    "executionInfo": {
     "elapsed": 247,
     "status": "ok",
     "timestamp": 1653457305082,
     "user": {
      "displayName": "yunwoo oh",
      "userId": "01035531558844683999"
     },
     "user_tz": -540
    },
    "id": "7aqTsLq0SVIC",
    "outputId": "05b06128-9fa0-475c-9cdd-d62e715c2473"
   },
   "outputs": [
    {
     "data": {
      "text/plain": [
       "survived    0\n",
       "pclass      0\n",
       "sex         0\n",
       "age         0\n",
       "sibsp       0\n",
       "parch       0\n",
       "fare        0\n",
       "dtype: int64"
      ]
     },
     "execution_count": 25,
     "metadata": {},
     "output_type": "execute_result"
    }
   ],
   "source": [
    "# null 여부 다시 확인\n",
    "\n",
    "titanic.isnull().sum()"
   ]
  },
  {
   "cell_type": "markdown",
   "metadata": {
    "id": "Dso_eoKDM_HS"
   },
   "source": [
    "# 4. X, y 나누기\n",
    "- 지도학습 경우 데이터와 정답이 있어야 합니다.\n",
    "- 데이터에 해당하는 X와 정답에 해당하는 y가 있어야 합니다.\n",
    "- 아래와 같이 판다스를 이용하면 X, y를 쉽게 나눌수 있어요"
   ]
  },
  {
   "cell_type": "code",
   "execution_count": 26,
   "metadata": {
    "colab": {
     "base_uri": "https://localhost:8080/",
     "height": 206
    },
    "executionInfo": {
     "elapsed": 268,
     "status": "ok",
     "timestamp": 1653457315365,
     "user": {
      "displayName": "yunwoo oh",
      "userId": "01035531558844683999"
     },
     "user_tz": -540
    },
    "id": "Cv1pnGNEJdcX",
    "outputId": "32341c1d-36ee-4db2-9f87-cfae50c8e447"
   },
   "outputs": [
    {
     "data": {
      "text/html": [
       "<div>\n",
       "<style scoped>\n",
       "    .dataframe tbody tr th:only-of-type {\n",
       "        vertical-align: middle;\n",
       "    }\n",
       "\n",
       "    .dataframe tbody tr th {\n",
       "        vertical-align: top;\n",
       "    }\n",
       "\n",
       "    .dataframe thead th {\n",
       "        text-align: right;\n",
       "    }\n",
       "</style>\n",
       "<table border=\"1\" class=\"dataframe\">\n",
       "  <thead>\n",
       "    <tr style=\"text-align: right;\">\n",
       "      <th></th>\n",
       "      <th>survived</th>\n",
       "      <th>pclass</th>\n",
       "      <th>sex</th>\n",
       "      <th>age</th>\n",
       "      <th>sibsp</th>\n",
       "      <th>parch</th>\n",
       "      <th>fare</th>\n",
       "    </tr>\n",
       "  </thead>\n",
       "  <tbody>\n",
       "    <tr>\n",
       "      <th>0</th>\n",
       "      <td>0</td>\n",
       "      <td>3</td>\n",
       "      <td>0</td>\n",
       "      <td>22.0</td>\n",
       "      <td>1</td>\n",
       "      <td>0</td>\n",
       "      <td>7.2500</td>\n",
       "    </tr>\n",
       "    <tr>\n",
       "      <th>1</th>\n",
       "      <td>1</td>\n",
       "      <td>1</td>\n",
       "      <td>1</td>\n",
       "      <td>38.0</td>\n",
       "      <td>1</td>\n",
       "      <td>0</td>\n",
       "      <td>71.2833</td>\n",
       "    </tr>\n",
       "    <tr>\n",
       "      <th>2</th>\n",
       "      <td>1</td>\n",
       "      <td>3</td>\n",
       "      <td>1</td>\n",
       "      <td>26.0</td>\n",
       "      <td>0</td>\n",
       "      <td>0</td>\n",
       "      <td>7.9250</td>\n",
       "    </tr>\n",
       "    <tr>\n",
       "      <th>3</th>\n",
       "      <td>1</td>\n",
       "      <td>1</td>\n",
       "      <td>1</td>\n",
       "      <td>35.0</td>\n",
       "      <td>1</td>\n",
       "      <td>0</td>\n",
       "      <td>53.1000</td>\n",
       "    </tr>\n",
       "    <tr>\n",
       "      <th>4</th>\n",
       "      <td>0</td>\n",
       "      <td>3</td>\n",
       "      <td>0</td>\n",
       "      <td>35.0</td>\n",
       "      <td>0</td>\n",
       "      <td>0</td>\n",
       "      <td>8.0500</td>\n",
       "    </tr>\n",
       "  </tbody>\n",
       "</table>\n",
       "</div>"
      ],
      "text/plain": [
       "   survived  pclass  sex   age  sibsp  parch     fare\n",
       "0         0       3    0  22.0      1      0   7.2500\n",
       "1         1       1    1  38.0      1      0  71.2833\n",
       "2         1       3    1  26.0      0      0   7.9250\n",
       "3         1       1    1  35.0      1      0  53.1000\n",
       "4         0       3    0  35.0      0      0   8.0500"
      ]
     },
     "execution_count": 26,
     "metadata": {},
     "output_type": "execute_result"
    }
   ],
   "source": [
    "# 다시 한번 타이타닉 데이터셋 보기\n",
    "# 타이타닉 데이터 앞 5개 보기 : head 함수\n",
    "\n",
    "titanic.head()"
   ]
  },
  {
   "cell_type": "code",
   "execution_count": 27,
   "metadata": {
    "executionInfo": {
     "elapsed": 290,
     "status": "ok",
     "timestamp": 1653457325776,
     "user": {
      "displayName": "yunwoo oh",
      "userId": "01035531558844683999"
     },
     "user_tz": -540
    },
    "id": "jezSR6XXJdfF"
   },
   "outputs": [],
   "source": [
    "# X 분리 \n",
    "# 판다스 drop 함수 활용하여 'survived' 컬럼 삭제하고 나머지를 X에 저장\n",
    "\n",
    "X = titanic.drop('survived', axis=1)"
   ]
  },
  {
   "cell_type": "code",
   "execution_count": 28,
   "metadata": {
    "colab": {
     "base_uri": "https://localhost:8080/",
     "height": 206
    },
    "executionInfo": {
     "elapsed": 273,
     "status": "ok",
     "timestamp": 1653457339360,
     "user": {
      "displayName": "yunwoo oh",
      "userId": "01035531558844683999"
     },
     "user_tz": -540
    },
    "id": "Mn-HcV07Jdhk",
    "outputId": "783d030e-c364-4908-bdc0-3521d5c10c14"
   },
   "outputs": [
    {
     "data": {
      "text/html": [
       "<div>\n",
       "<style scoped>\n",
       "    .dataframe tbody tr th:only-of-type {\n",
       "        vertical-align: middle;\n",
       "    }\n",
       "\n",
       "    .dataframe tbody tr th {\n",
       "        vertical-align: top;\n",
       "    }\n",
       "\n",
       "    .dataframe thead th {\n",
       "        text-align: right;\n",
       "    }\n",
       "</style>\n",
       "<table border=\"1\" class=\"dataframe\">\n",
       "  <thead>\n",
       "    <tr style=\"text-align: right;\">\n",
       "      <th></th>\n",
       "      <th>pclass</th>\n",
       "      <th>sex</th>\n",
       "      <th>age</th>\n",
       "      <th>sibsp</th>\n",
       "      <th>parch</th>\n",
       "      <th>fare</th>\n",
       "    </tr>\n",
       "  </thead>\n",
       "  <tbody>\n",
       "    <tr>\n",
       "      <th>0</th>\n",
       "      <td>3</td>\n",
       "      <td>0</td>\n",
       "      <td>22.0</td>\n",
       "      <td>1</td>\n",
       "      <td>0</td>\n",
       "      <td>7.2500</td>\n",
       "    </tr>\n",
       "    <tr>\n",
       "      <th>1</th>\n",
       "      <td>1</td>\n",
       "      <td>1</td>\n",
       "      <td>38.0</td>\n",
       "      <td>1</td>\n",
       "      <td>0</td>\n",
       "      <td>71.2833</td>\n",
       "    </tr>\n",
       "    <tr>\n",
       "      <th>2</th>\n",
       "      <td>3</td>\n",
       "      <td>1</td>\n",
       "      <td>26.0</td>\n",
       "      <td>0</td>\n",
       "      <td>0</td>\n",
       "      <td>7.9250</td>\n",
       "    </tr>\n",
       "    <tr>\n",
       "      <th>3</th>\n",
       "      <td>1</td>\n",
       "      <td>1</td>\n",
       "      <td>35.0</td>\n",
       "      <td>1</td>\n",
       "      <td>0</td>\n",
       "      <td>53.1000</td>\n",
       "    </tr>\n",
       "    <tr>\n",
       "      <th>4</th>\n",
       "      <td>3</td>\n",
       "      <td>0</td>\n",
       "      <td>35.0</td>\n",
       "      <td>0</td>\n",
       "      <td>0</td>\n",
       "      <td>8.0500</td>\n",
       "    </tr>\n",
       "  </tbody>\n",
       "</table>\n",
       "</div>"
      ],
      "text/plain": [
       "   pclass  sex   age  sibsp  parch     fare\n",
       "0       3    0  22.0      1      0   7.2500\n",
       "1       1    1  38.0      1      0  71.2833\n",
       "2       3    1  26.0      0      0   7.9250\n",
       "3       1    1  35.0      1      0  53.1000\n",
       "4       3    0  35.0      0      0   8.0500"
      ]
     },
     "execution_count": 28,
     "metadata": {},
     "output_type": "execute_result"
    }
   ],
   "source": [
    "# 분리된 X 데이터 앞 5개 보기 : head 함수\n",
    "\n",
    "X.head()"
   ]
  },
  {
   "cell_type": "code",
   "execution_count": 29,
   "metadata": {
    "executionInfo": {
     "elapsed": 254,
     "status": "ok",
     "timestamp": 1653457348310,
     "user": {
      "displayName": "yunwoo oh",
      "userId": "01035531558844683999"
     },
     "user_tz": -540
    },
    "id": "hh6e4OZlJdkc"
   },
   "outputs": [],
   "source": [
    "# y 분리 \n",
    "# survived 컬럼값을 y에 저장한다.\n",
    "\n",
    "y = titanic['survived']"
   ]
  },
  {
   "cell_type": "code",
   "execution_count": 30,
   "metadata": {
    "colab": {
     "base_uri": "https://localhost:8080/"
    },
    "executionInfo": {
     "elapsed": 386,
     "status": "ok",
     "timestamp": 1653457354046,
     "user": {
      "displayName": "yunwoo oh",
      "userId": "01035531558844683999"
     },
     "user_tz": -540
    },
    "id": "Ljxia0PhJdnF",
    "outputId": "26c2ced5-b592-4e7f-b6ed-36edf374317e"
   },
   "outputs": [
    {
     "data": {
      "text/plain": [
       "0      0\n",
       "1      1\n",
       "2      1\n",
       "3      1\n",
       "4      0\n",
       "      ..\n",
       "886    0\n",
       "887    1\n",
       "888    0\n",
       "889    1\n",
       "890    0\n",
       "Name: survived, Length: 891, dtype: int64"
      ]
     },
     "execution_count": 30,
     "metadata": {},
     "output_type": "execute_result"
    }
   ],
   "source": [
    "# 분리된 y 확인\n",
    "\n",
    "y"
   ]
  },
  {
   "cell_type": "code",
   "execution_count": 31,
   "metadata": {
    "executionInfo": {
     "elapsed": 273,
     "status": "ok",
     "timestamp": 1653457365985,
     "user": {
      "displayName": "yunwoo oh",
      "userId": "01035531558844683999"
     },
     "user_tz": -540
    },
    "id": "xuKHL_8mwCHg"
   },
   "outputs": [],
   "source": [
    "# Series, DataFrame 형태를 numpy array 변경하기 \n",
    "# 뒤쪽에서 타입이 맞지 않아서 에러 날수 있기 때문에\n",
    "# X.values , y.values --> X , y 입력\n",
    "\n",
    "X = X.values\n",
    "y = y.values"
   ]
  },
  {
   "cell_type": "code",
   "execution_count": 32,
   "metadata": {
    "colab": {
     "base_uri": "https://localhost:8080/"
    },
    "executionInfo": {
     "elapsed": 2,
     "status": "ok",
     "timestamp": 1653457368767,
     "user": {
      "displayName": "yunwoo oh",
      "userId": "01035531558844683999"
     },
     "user_tz": -540
    },
    "id": "MUjrp_fbwmXw",
    "outputId": "2436c307-39f1-444d-9223-49fa54d4a64a"
   },
   "outputs": [
    {
     "name": "stdout",
     "output_type": "stream",
     "text": [
      "[[ 3.      0.     22.      1.      0.      7.25  ]\n",
      " [ 1.      1.     38.      1.      0.     71.2833]]\n",
      "[0 1]\n"
     ]
    }
   ],
   "source": [
    "print(X[:2])\n",
    "print(y[:2])"
   ]
  },
  {
   "cell_type": "markdown",
   "metadata": {
    "id": "1HomJYHgTwhm"
   },
   "source": [
    "---"
   ]
  },
  {
   "cell_type": "markdown",
   "metadata": {
    "id": "yv2O9eSjTwTP"
   },
   "source": [
    "# 5. Train , Test 데이터셋 나누기\n",
    "- 데이터를 가지고 모델을 학습 시키고 나서 모델 평가를 해야 하는데\n",
    "- 모델이 학습한 데이터를 가지고 평가를 하지 않고 \n",
    "- 모델이 모르는 데이터로 평가를 해야 공정하고 평가 결과가 잘 나온다면 배포(일반화) 가능하다."
   ]
  },
  {
   "cell_type": "code",
   "execution_count": 33,
   "metadata": {
    "executionInfo": {
     "elapsed": 664,
     "status": "ok",
     "timestamp": 1653457415959,
     "user": {
      "displayName": "yunwoo oh",
      "userId": "01035531558844683999"
     },
     "user_tz": -540
    },
    "id": "67EKq0wtT-Ip"
   },
   "outputs": [],
   "source": [
    "# Train / Test 데이터셋 나누어주는 함수 : train_test_split\n",
    "\n",
    "from sklearn.model_selection import train_test_split"
   ]
  },
  {
   "cell_type": "code",
   "execution_count": 34,
   "metadata": {
    "executionInfo": {
     "elapsed": 246,
     "status": "ok",
     "timestamp": 1653457481802,
     "user": {
      "displayName": "yunwoo oh",
      "userId": "01035531558844683999"
     },
     "user_tz": -540
    },
    "id": "Nvn0qV7AT-EP"
   },
   "outputs": [],
   "source": [
    "# train_test_split 함수 활용\n",
    "# 입력 : X, y \n",
    "# Train : Test => 8 : 2  비율로 나누기 : test_size=0.2\n",
    "# 매번 같은 결과 나오도록 값 고정 : random_state=42\n",
    "# 결과 저장 : X_train, X_test, y_train, y_test\n",
    "\n",
    "\n",
    "X_train, X_test, y_train, y_test = train_test_split(X, y, test_size=0.2 , random_state=42)"
   ]
  },
  {
   "cell_type": "code",
   "execution_count": 35,
   "metadata": {
    "colab": {
     "base_uri": "https://localhost:8080/"
    },
    "executionInfo": {
     "elapsed": 279,
     "status": "ok",
     "timestamp": 1653457484450,
     "user": {
      "displayName": "yunwoo oh",
      "userId": "01035531558844683999"
     },
     "user_tz": -540
    },
    "id": "XF2C537KT-Bp",
    "outputId": "de739c29-8589-4ccd-8b64-a7c8016d170d"
   },
   "outputs": [
    {
     "data": {
      "text/plain": [
       "((712, 6), (179, 6), (712,), (179,))"
      ]
     },
     "execution_count": 35,
     "metadata": {},
     "output_type": "execute_result"
    }
   ],
   "source": [
    "# Train 과 Test 데이터셋 사이즈 확인\n",
    "# X_train.shape, X_test.shape, y_train.shape, y_test.shape 확인\n",
    "\n",
    "X_train.shape, X_test.shape, y_train.shape, y_test.shape"
   ]
  },
  {
   "cell_type": "markdown",
   "metadata": {
    "id": "D09MIrrx4XPT"
   },
   "source": [
    "---"
   ]
  },
  {
   "cell_type": "markdown",
   "metadata": {
    "id": "fn-wa12h4XkZ"
   },
   "source": [
    "# 6. 머신러닝 모델링\n",
    "- DecisionTree 결정트리\n",
    "- RandomForest 앙상블"
   ]
  },
  {
   "cell_type": "markdown",
   "metadata": {
    "id": "QjxLNoAM9Y48"
   },
   "source": [
    "#### DecisionTree"
   ]
  },
  {
   "cell_type": "markdown",
   "metadata": {
    "id": "U5m8_YDK47kF"
   },
   "source": [
    "![결정트리](http://gavinln.github.io/blog-site/img/decision_trees/tree-depth-2.png)"
   ]
  },
  {
   "cell_type": "code",
   "execution_count": 36,
   "metadata": {
    "executionInfo": {
     "elapsed": 544,
     "status": "ok",
     "timestamp": 1653457515833,
     "user": {
      "displayName": "yunwoo oh",
      "userId": "01035531558844683999"
     },
     "user_tz": -540
    },
    "id": "CcrjpZUJtP9E"
   },
   "outputs": [],
   "source": [
    "# DecisionTree 머신러닝 모델링\n",
    "from sklearn.tree import DecisionTreeClassifier"
   ]
  },
  {
   "cell_type": "code",
   "execution_count": 37,
   "metadata": {
    "colab": {
     "base_uri": "https://localhost:8080/"
    },
    "executionInfo": {
     "elapsed": 260,
     "status": "ok",
     "timestamp": 1653457536346,
     "user": {
      "displayName": "yunwoo oh",
      "userId": "01035531558844683999"
     },
     "user_tz": -540
    },
    "id": "dQ6Up1i6Jdqs",
    "outputId": "695b3afc-73ad-448b-a005-81fb60f4721c"
   },
   "outputs": [
    {
     "data": {
      "text/plain": [
       "0.7597765363128491"
      ]
     },
     "execution_count": 37,
     "metadata": {},
     "output_type": "execute_result"
    }
   ],
   "source": [
    "# 1. DecisionTreeClassifier 모델 정의 -> dt 저장\n",
    "# 2. dt 모델 학습(fit) : X_train, y_train\n",
    "# 3. dt 모델 성능확인(score) : X_test, y_test\n",
    "\n",
    "\n",
    "dt = DecisionTreeClassifier()\n",
    "dt.fit(X_train, y_train)\n",
    "dt.score(X_test, y_test)"
   ]
  },
  {
   "cell_type": "markdown",
   "metadata": {
    "id": "M5rch0yM9c1b"
   },
   "source": [
    "#### RandomForest"
   ]
  },
  {
   "cell_type": "markdown",
   "metadata": {
    "id": "fb45zXH99gzk"
   },
   "source": [
    "![RandomForest](https://img1.daumcdn.net/thumb/R1280x0/?scode=mtistory2&fname=https%3A%2F%2Fblog.kakaocdn.net%2Fdn%2FdDE2Rk%2FbtqvUzlulvU%2F6UbCGO8rHAhDJDCE3dyRr0%2Fimg.png)"
   ]
  },
  {
   "cell_type": "code",
   "execution_count": 38,
   "metadata": {
    "executionInfo": {
     "elapsed": 337,
     "status": "ok",
     "timestamp": 1653457553232,
     "user": {
      "displayName": "yunwoo oh",
      "userId": "01035531558844683999"
     },
     "user_tz": -540
    },
    "id": "FE63-KpUuwfM"
   },
   "outputs": [],
   "source": [
    "# RandomForest 머신러닝 모델링\n",
    "from sklearn.ensemble import RandomForestClassifier"
   ]
  },
  {
   "cell_type": "code",
   "execution_count": 39,
   "metadata": {
    "colab": {
     "base_uri": "https://localhost:8080/"
    },
    "executionInfo": {
     "elapsed": 246,
     "status": "ok",
     "timestamp": 1653457566719,
     "user": {
      "displayName": "yunwoo oh",
      "userId": "01035531558844683999"
     },
     "user_tz": -540
    },
    "id": "zN6yO2Zj9f5D",
    "outputId": "739f795b-0b34-4c44-86b6-e67efb24c229"
   },
   "outputs": [
    {
     "data": {
      "text/plain": [
       "0.8044692737430168"
      ]
     },
     "execution_count": 39,
     "metadata": {},
     "output_type": "execute_result"
    }
   ],
   "source": [
    "# 1. RandomForestClassifier 모델 정의 -> rf 저장\n",
    "# 2. rf 모델 학습(fit) : X_train, y_train\n",
    "# 3. rf 모델 성능확인(score) : X_test, y_test\n",
    "\n",
    "rf = RandomForestClassifier()\n",
    "rf.fit(X_train, y_train)\n",
    "rf.score(X_test, y_test)"
   ]
  },
  {
   "cell_type": "code",
   "execution_count": 40,
   "metadata": {
    "colab": {
     "base_uri": "https://localhost:8080/"
    },
    "executionInfo": {
     "elapsed": 273,
     "status": "ok",
     "timestamp": 1653457590744,
     "user": {
      "displayName": "yunwoo oh",
      "userId": "01035531558844683999"
     },
     "user_tz": -540
    },
    "id": "Y3DiRXasw6fJ",
    "outputId": "03a6444c-b906-4fbc-e539-ffea9833f967"
   },
   "outputs": [
    {
     "data": {
      "text/plain": [
       "array([ 3.        ,  0.        , 29.69911765,  1.        ,  1.        ,\n",
       "       15.2458    ])"
      ]
     },
     "execution_count": 40,
     "metadata": {},
     "output_type": "execute_result"
    }
   ],
   "source": [
    "# X_test 첫번째 데이터 보기\n",
    "\n",
    "X_test[0]"
   ]
  },
  {
   "cell_type": "code",
   "execution_count": 41,
   "metadata": {
    "colab": {
     "base_uri": "https://localhost:8080/"
    },
    "executionInfo": {
     "elapsed": 382,
     "status": "ok",
     "timestamp": 1653457598382,
     "user": {
      "displayName": "yunwoo oh",
      "userId": "01035531558844683999"
     },
     "user_tz": -540
    },
    "id": "P0yLt7db9f2z",
    "outputId": "465a020c-68e9-434e-f073-23fdee3fc504"
   },
   "outputs": [
    {
     "data": {
      "text/plain": [
       "array([0], dtype=int64)"
      ]
     },
     "execution_count": 41,
     "metadata": {},
     "output_type": "execute_result"
    }
   ],
   "source": [
    "# 예측해 보기\n",
    "# rf 모델 predict 함수 활용 \n",
    "# 입력 : 첫번재 데이터 --> [X_test[0]]\n",
    "# 예측 결과를 rf_pred 저장 및 출력\n",
    "\n",
    "rf_pred = rf.predict([X_test[0]])\n",
    "rf_pred"
   ]
  },
  {
   "cell_type": "markdown",
   "metadata": {
    "id": "1U_4IXyG5WJf"
   },
   "source": [
    "---"
   ]
  },
  {
   "cell_type": "markdown",
   "metadata": {
    "id": "9tXPnSlN5WCw"
   },
   "source": [
    "# 7. 딥러닝 모델링"
   ]
  },
  {
   "cell_type": "code",
   "execution_count": 42,
   "metadata": {
    "executionInfo": {
     "elapsed": 2855,
     "status": "ok",
     "timestamp": 1653457620780,
     "user": {
      "displayName": "yunwoo oh",
      "userId": "01035531558844683999"
     },
     "user_tz": -540
    },
    "id": "yGZebTd6FYii"
   },
   "outputs": [],
   "source": [
    "# 딥러닝 필요한 라이브러리 가져오기\n",
    "\n",
    "import tensorflow as tf\n",
    "from tensorflow.keras.models import Sequential\n",
    "from tensorflow.keras.layers import Dense"
   ]
  },
  {
   "cell_type": "markdown",
   "metadata": {
    "id": "TSCCMe-o5gyW"
   },
   "source": [
    "![DNN](https://www.kdnuggets.com/wp-content/uploads/neural-network-input-hidden-output.jpg)"
   ]
  },
  {
   "cell_type": "code",
   "execution_count": 43,
   "metadata": {
    "executionInfo": {
     "elapsed": 800,
     "status": "ok",
     "timestamp": 1653457722809,
     "user": {
      "displayName": "yunwoo oh",
      "userId": "01035531558844683999"
     },
     "user_tz": -540
    },
    "id": "Q9oj9TspFYla"
   },
   "outputs": [],
   "source": [
    "# Sequential 모델 만들기 --> model 변수 저장\n",
    "# input layer : (6, )\n",
    "# hidden layer : 10 unit , activation='relu'\n",
    "# output layer : 2 unit , activation='softmax'\n",
    "\n",
    "model = Sequential()\n",
    "model.add(Dense(10, activation='relu', input_shape=(6,)))\n",
    "model.add(Dense(2, activation='softmax'))"
   ]
  },
  {
   "cell_type": "code",
   "execution_count": 44,
   "metadata": {
    "executionInfo": {
     "elapsed": 303,
     "status": "ok",
     "timestamp": 1653457746396,
     "user": {
      "displayName": "yunwoo oh",
      "userId": "01035531558844683999"
     },
     "user_tz": -540
    },
    "id": "GH1c25hG5lx-"
   },
   "outputs": [],
   "source": [
    "# 모델 컴파일 : compile\n",
    "# loss='sparse_categorical_crossentropy'\n",
    "# optimizer='adam'\n",
    "# metrics=['accuracy']\n",
    "\n",
    "model.compile(loss='sparse_categorical_crossentropy', optimizer='adam', metrics=['accuracy'])"
   ]
  },
  {
   "cell_type": "code",
   "execution_count": 45,
   "metadata": {
    "colab": {
     "base_uri": "https://localhost:8080/"
    },
    "executionInfo": {
     "elapsed": 3530,
     "status": "ok",
     "timestamp": 1653457753763,
     "user": {
      "displayName": "yunwoo oh",
      "userId": "01035531558844683999"
     },
     "user_tz": -540
    },
    "id": "LrOR1yOZyHhr",
    "outputId": "76703693-925d-4661-ef99-423769581101"
   },
   "outputs": [
    {
     "name": "stdout",
     "output_type": "stream",
     "text": [
      "Epoch 1/10\n",
      "89/89 [==============================] - 1s 2ms/step - loss: 3.6632 - accuracy: 0.6784\n",
      "Epoch 2/10\n",
      "89/89 [==============================] - 0s 2ms/step - loss: 1.6223 - accuracy: 0.6770\n",
      "Epoch 3/10\n",
      "89/89 [==============================] - 0s 2ms/step - loss: 0.9478 - accuracy: 0.6784\n",
      "Epoch 4/10\n",
      "89/89 [==============================] - 0s 3ms/step - loss: 0.7656 - accuracy: 0.6812\n",
      "Epoch 5/10\n",
      "89/89 [==============================] - 0s 2ms/step - loss: 0.6413 - accuracy: 0.7051\n",
      "Epoch 6/10\n",
      "89/89 [==============================] - 0s 2ms/step - loss: 0.5922 - accuracy: 0.7149\n",
      "Epoch 7/10\n",
      "89/89 [==============================] - 0s 2ms/step - loss: 0.5603 - accuracy: 0.7388\n",
      "Epoch 8/10\n",
      "89/89 [==============================] - 0s 2ms/step - loss: 0.5375 - accuracy: 0.7500\n",
      "Epoch 9/10\n",
      "89/89 [==============================] - 0s 2ms/step - loss: 0.5359 - accuracy: 0.7570\n",
      "Epoch 10/10\n",
      "89/89 [==============================] - 0s 2ms/step - loss: 0.5202 - accuracy: 0.7753\n"
     ]
    }
   ],
   "source": [
    "# 모델 학습 : fit\n",
    "# X_train, y_train, epochs=10, batch_size=8\n",
    "# 학습결과 저장 : history\n",
    "\n",
    "history = model.fit(X_train, y_train, epochs=10, batch_size=8)"
   ]
  },
  {
   "cell_type": "markdown",
   "metadata": {
    "id": "LKCU29k38hnN"
   },
   "source": [
    "## epochs 늘려 좀더 공부시키자.\n",
    "- 아무리 공부해도 성능이 더 이상 오르지 않는구나"
   ]
  },
  {
   "cell_type": "code",
   "execution_count": 46,
   "metadata": {
    "colab": {
     "base_uri": "https://localhost:8080/"
    },
    "executionInfo": {
     "elapsed": 4682,
     "status": "ok",
     "timestamp": 1653457783352,
     "user": {
      "displayName": "yunwoo oh",
      "userId": "01035531558844683999"
     },
     "user_tz": -540
    },
    "id": "lQVPJjrb8rzb",
    "outputId": "d3d63eae-2747-4e6a-eb79-3e2cdb3b5f5d"
   },
   "outputs": [
    {
     "name": "stdout",
     "output_type": "stream",
     "text": [
      "Epoch 1/30\n",
      "89/89 [==============================] - 0s 2ms/step - loss: 0.5370 - accuracy: 0.7472\n",
      "Epoch 2/30\n",
      "89/89 [==============================] - 0s 2ms/step - loss: 0.5077 - accuracy: 0.7865\n",
      "Epoch 3/30\n",
      "89/89 [==============================] - 0s 2ms/step - loss: 0.5092 - accuracy: 0.7753\n",
      "Epoch 4/30\n",
      "89/89 [==============================] - 0s 2ms/step - loss: 0.4980 - accuracy: 0.7893\n",
      "Epoch 5/30\n",
      "89/89 [==============================] - 0s 2ms/step - loss: 0.4945 - accuracy: 0.7851\n",
      "Epoch 6/30\n",
      "89/89 [==============================] - 0s 2ms/step - loss: 0.4806 - accuracy: 0.7935\n",
      "Epoch 7/30\n",
      "89/89 [==============================] - 0s 2ms/step - loss: 0.4844 - accuracy: 0.7978\n",
      "Epoch 8/30\n",
      "89/89 [==============================] - 0s 2ms/step - loss: 0.4802 - accuracy: 0.7823\n",
      "Epoch 9/30\n",
      "89/89 [==============================] - 0s 2ms/step - loss: 0.4693 - accuracy: 0.8048\n",
      "Epoch 10/30\n",
      "89/89 [==============================] - 0s 2ms/step - loss: 0.4664 - accuracy: 0.7921\n",
      "Epoch 11/30\n",
      "89/89 [==============================] - 0s 2ms/step - loss: 0.4675 - accuracy: 0.8076\n",
      "Epoch 12/30\n",
      "89/89 [==============================] - 0s 2ms/step - loss: 0.4706 - accuracy: 0.7978\n",
      "Epoch 13/30\n",
      "89/89 [==============================] - 0s 2ms/step - loss: 0.4649 - accuracy: 0.7907\n",
      "Epoch 14/30\n",
      "89/89 [==============================] - 0s 2ms/step - loss: 0.4589 - accuracy: 0.8020\n",
      "Epoch 15/30\n",
      "89/89 [==============================] - 0s 2ms/step - loss: 0.4590 - accuracy: 0.8104\n",
      "Epoch 16/30\n",
      "89/89 [==============================] - 0s 2ms/step - loss: 0.4573 - accuracy: 0.8062\n",
      "Epoch 17/30\n",
      "89/89 [==============================] - 0s 2ms/step - loss: 0.4551 - accuracy: 0.8062\n",
      "Epoch 18/30\n",
      "89/89 [==============================] - 0s 2ms/step - loss: 0.4585 - accuracy: 0.7949\n",
      "Epoch 19/30\n",
      "89/89 [==============================] - 0s 2ms/step - loss: 0.4647 - accuracy: 0.7921\n",
      "Epoch 20/30\n",
      "89/89 [==============================] - 0s 2ms/step - loss: 0.4737 - accuracy: 0.7935\n",
      "Epoch 21/30\n",
      "89/89 [==============================] - 0s 2ms/step - loss: 0.4494 - accuracy: 0.8174\n",
      "Epoch 22/30\n",
      "89/89 [==============================] - 0s 2ms/step - loss: 0.4785 - accuracy: 0.7992\n",
      "Epoch 23/30\n",
      "89/89 [==============================] - 0s 2ms/step - loss: 0.4466 - accuracy: 0.8104\n",
      "Epoch 24/30\n",
      "89/89 [==============================] - 0s 2ms/step - loss: 0.4565 - accuracy: 0.8132\n",
      "Epoch 25/30\n",
      "89/89 [==============================] - 0s 2ms/step - loss: 0.4459 - accuracy: 0.8118\n",
      "Epoch 26/30\n",
      "89/89 [==============================] - 0s 2ms/step - loss: 0.4639 - accuracy: 0.8048\n",
      "Epoch 27/30\n",
      "89/89 [==============================] - 0s 2ms/step - loss: 0.4457 - accuracy: 0.8132\n",
      "Epoch 28/30\n",
      "89/89 [==============================] - 0s 2ms/step - loss: 0.4573 - accuracy: 0.7963\n",
      "Epoch 29/30\n",
      "89/89 [==============================] - 0s 2ms/step - loss: 0.4451 - accuracy: 0.8076\n",
      "Epoch 30/30\n",
      "89/89 [==============================] - 0s 2ms/step - loss: 0.4393 - accuracy: 0.8146\n"
     ]
    }
   ],
   "source": [
    "# epochs 횟수 증가하여 모델 학습 : fit\n",
    "# X_train, y_train, epochs=30, batch_size=8 --> epochs 30으로 변경\n",
    "# 학습결과 저장 : history\n",
    "\n",
    "history = model.fit(X_train, y_train, epochs=30, batch_size=8)"
   ]
  },
  {
   "cell_type": "markdown",
   "metadata": {
    "id": "LNT10AV60Gnm"
   },
   "source": [
    "## 히든 레이어 더 쌓아 학습해 보자"
   ]
  },
  {
   "cell_type": "markdown",
   "metadata": {
    "id": "9NyuhjCa0aM_"
   },
   "source": [
    "![레이어추가](https://cdn.educba.com/academy/wp-content/uploads/2020/03/DNN-Neural-Network-1.png.webp)"
   ]
  },
  {
   "cell_type": "code",
   "execution_count": 47,
   "metadata": {
    "executionInfo": {
     "elapsed": 283,
     "status": "ok",
     "timestamp": 1653457840422,
     "user": {
      "displayName": "yunwoo oh",
      "userId": "01035531558844683999"
     },
     "user_tz": -540
    },
    "id": "9laMtozc0Fnq"
   },
   "outputs": [],
   "source": [
    "# Sequential 모델 만들기 --> model 변수 저장\n",
    "# input layer : (6, )\n",
    "# hidden layer : 32 unit , activation='relu'\n",
    "# hidden layer : 16 unit , activation='relu'\n",
    "# output layer : 2 unit , activation='softmax'\n",
    "\n",
    "model = Sequential()\n",
    "model.add(Dense(32, activation='relu', input_shape=(6,)))\n",
    "model.add(Dense(16, activation='relu'))\n",
    "model.add(Dense(2, activation='softmax'))"
   ]
  },
  {
   "cell_type": "code",
   "execution_count": 48,
   "metadata": {
    "executionInfo": {
     "elapsed": 298,
     "status": "ok",
     "timestamp": 1653457843183,
     "user": {
      "displayName": "yunwoo oh",
      "userId": "01035531558844683999"
     },
     "user_tz": -540
    },
    "id": "zD7bT9nk0Fh8"
   },
   "outputs": [],
   "source": [
    "# 모델 컴파일 : compile\n",
    "# loss='sparse_categorical_crossentropy'\n",
    "# optimizer='adam'\n",
    "# metrics=['accuracy']\n",
    "\n",
    "model.compile(loss='sparse_categorical_crossentropy', optimizer='adam', metrics=['accuracy'])"
   ]
  },
  {
   "cell_type": "code",
   "execution_count": 49,
   "metadata": {
    "colab": {
     "base_uri": "https://localhost:8080/"
    },
    "executionInfo": {
     "elapsed": 10942,
     "status": "ok",
     "timestamp": 1653457856088,
     "user": {
      "displayName": "yunwoo oh",
      "userId": "01035531558844683999"
     },
     "user_tz": -540
    },
    "id": "uSL1tasi0FeI",
    "outputId": "c32ceb17-25b2-471e-a1af-0a20b6967298"
   },
   "outputs": [
    {
     "name": "stdout",
     "output_type": "stream",
     "text": [
      "Epoch 1/30\n",
      "89/89 [==============================] - 1s 2ms/step - loss: 0.9746 - accuracy: 0.5969\n",
      "Epoch 2/30\n",
      "89/89 [==============================] - 0s 2ms/step - loss: 0.7020 - accuracy: 0.6489\n",
      "Epoch 3/30\n",
      "89/89 [==============================] - 0s 2ms/step - loss: 0.6469 - accuracy: 0.6503\n",
      "Epoch 4/30\n",
      "89/89 [==============================] - 0s 2ms/step - loss: 0.6578 - accuracy: 0.6685\n",
      "Epoch 5/30\n",
      "89/89 [==============================] - 0s 2ms/step - loss: 0.6470 - accuracy: 0.6896\n",
      "Epoch 6/30\n",
      "89/89 [==============================] - 0s 2ms/step - loss: 0.6706 - accuracy: 0.6826\n",
      "Epoch 7/30\n",
      "89/89 [==============================] - 0s 2ms/step - loss: 0.6413 - accuracy: 0.6938\n",
      "Epoch 8/30\n",
      "89/89 [==============================] - 0s 2ms/step - loss: 0.6117 - accuracy: 0.6966\n",
      "Epoch 9/30\n",
      "89/89 [==============================] - 0s 2ms/step - loss: 0.5765 - accuracy: 0.7037\n",
      "Epoch 10/30\n",
      "89/89 [==============================] - 0s 2ms/step - loss: 0.5615 - accuracy: 0.7121\n",
      "Epoch 11/30\n",
      "89/89 [==============================] - 0s 2ms/step - loss: 0.5341 - accuracy: 0.7388\n",
      "Epoch 12/30\n",
      "89/89 [==============================] - 0s 2ms/step - loss: 0.5392 - accuracy: 0.7416\n",
      "Epoch 13/30\n",
      "89/89 [==============================] - 0s 2ms/step - loss: 0.5087 - accuracy: 0.7669\n",
      "Epoch 14/30\n",
      "89/89 [==============================] - 0s 2ms/step - loss: 0.5075 - accuracy: 0.7612\n",
      "Epoch 15/30\n",
      "89/89 [==============================] - 0s 2ms/step - loss: 0.4975 - accuracy: 0.7598\n",
      "Epoch 16/30\n",
      "89/89 [==============================] - 0s 2ms/step - loss: 0.4842 - accuracy: 0.7879\n",
      "Epoch 17/30\n",
      "89/89 [==============================] - 0s 2ms/step - loss: 0.5083 - accuracy: 0.7683\n",
      "Epoch 18/30\n",
      "89/89 [==============================] - 0s 2ms/step - loss: 0.4883 - accuracy: 0.7963\n",
      "Epoch 19/30\n",
      "89/89 [==============================] - 0s 2ms/step - loss: 0.4716 - accuracy: 0.7978\n",
      "Epoch 20/30\n",
      "89/89 [==============================] - 0s 2ms/step - loss: 0.4745 - accuracy: 0.7949\n",
      "Epoch 21/30\n",
      "89/89 [==============================] - 0s 2ms/step - loss: 0.4600 - accuracy: 0.7907\n",
      "Epoch 22/30\n",
      "89/89 [==============================] - 0s 2ms/step - loss: 0.4740 - accuracy: 0.7837\n",
      "Epoch 23/30\n",
      "89/89 [==============================] - 0s 2ms/step - loss: 0.4993 - accuracy: 0.7837\n",
      "Epoch 24/30\n",
      "89/89 [==============================] - 0s 2ms/step - loss: 0.4889 - accuracy: 0.7809\n",
      "Epoch 25/30\n",
      "89/89 [==============================] - 0s 2ms/step - loss: 0.4734 - accuracy: 0.7879\n",
      "Epoch 26/30\n",
      "89/89 [==============================] - 0s 2ms/step - loss: 0.4493 - accuracy: 0.8006\n",
      "Epoch 27/30\n",
      "89/89 [==============================] - 0s 2ms/step - loss: 0.4929 - accuracy: 0.7781\n",
      "Epoch 28/30\n",
      "89/89 [==============================] - 0s 2ms/step - loss: 0.4695 - accuracy: 0.7893\n",
      "Epoch 29/30\n",
      "89/89 [==============================] - 0s 2ms/step - loss: 0.4848 - accuracy: 0.7978\n",
      "Epoch 30/30\n",
      "89/89 [==============================] - 0s 2ms/step - loss: 0.4646 - accuracy: 0.7893\n"
     ]
    }
   ],
   "source": [
    "# 모델 학습 : fit\n",
    "# X_train, y_train, epochs=30, batch_size=8\n",
    "# 학습결과 저장 : history\n",
    "\n",
    "history = model.fit(X_train, y_train, epochs=30, batch_size=8)"
   ]
  },
  {
   "cell_type": "markdown",
   "metadata": {
    "id": "SBBUlGfr1wK2"
   },
   "source": [
    "## DNN 학습때 학습이 잘되는지 보기 위해 모르는 데이터(valid data)로 평가해 보자"
   ]
  },
  {
   "cell_type": "code",
   "execution_count": 50,
   "metadata": {
    "executionInfo": {
     "elapsed": 259,
     "status": "ok",
     "timestamp": 1653457872410,
     "user": {
      "displayName": "yunwoo oh",
      "userId": "01035531558844683999"
     },
     "user_tz": -540
    },
    "id": "M8DqRwZ_25La"
   },
   "outputs": [],
   "source": [
    "# Sequential 모델 만들기 --> model 변수 저장\n",
    "# input layer : (6, )\n",
    "# hidden layer : 32 unit , activation='relu'\n",
    "# hidden layer : 16 unit , activation='relu'\n",
    "# output layer : 2 unit , activation='softmax'\n",
    "\n",
    "model = Sequential()\n",
    "model.add(Dense(32, activation='relu', input_shape=(6,)))\n",
    "model.add(Dense(16, activation='relu'))\n",
    "model.add(Dense(2, activation='softmax'))"
   ]
  },
  {
   "cell_type": "code",
   "execution_count": 51,
   "metadata": {
    "executionInfo": {
     "elapsed": 303,
     "status": "ok",
     "timestamp": 1653457875746,
     "user": {
      "displayName": "yunwoo oh",
      "userId": "01035531558844683999"
     },
     "user_tz": -540
    },
    "id": "JLGdzDTa25Ga"
   },
   "outputs": [],
   "source": [
    "# 모델 컴파일 : compile\n",
    "# loss='sparse_categorical_crossentropy'\n",
    "# optimizer='adam'\n",
    "# metrics=['accuracy']\n",
    "\n",
    "model.compile(loss='sparse_categorical_crossentropy', optimizer='adam', metrics=['accuracy'])"
   ]
  },
  {
   "cell_type": "code",
   "execution_count": 52,
   "metadata": {
    "colab": {
     "base_uri": "https://localhost:8080/"
    },
    "executionInfo": {
     "elapsed": 7940,
     "status": "ok",
     "timestamp": 1653457913818,
     "user": {
      "displayName": "yunwoo oh",
      "userId": "01035531558844683999"
     },
     "user_tz": -540
    },
    "id": "8ZIdzv_u1_nN",
    "outputId": "09d09251-f908-472c-f171-ae3b2704146c"
   },
   "outputs": [
    {
     "name": "stdout",
     "output_type": "stream",
     "text": [
      "Epoch 1/30\n",
      "89/89 [==============================] - 1s 4ms/step - loss: 0.8544 - accuracy: 0.6096 - val_loss: 0.5595 - val_accuracy: 0.7374\n",
      "Epoch 2/30\n",
      "89/89 [==============================] - 0s 2ms/step - loss: 0.6261 - accuracy: 0.6924 - val_loss: 0.7293 - val_accuracy: 0.6034\n",
      "Epoch 3/30\n",
      "89/89 [==============================] - 0s 2ms/step - loss: 0.6650 - accuracy: 0.6657 - val_loss: 0.5729 - val_accuracy: 0.7821\n",
      "Epoch 4/30\n",
      "89/89 [==============================] - 0s 3ms/step - loss: 0.5715 - accuracy: 0.7289 - val_loss: 0.4920 - val_accuracy: 0.7765\n",
      "Epoch 5/30\n",
      "89/89 [==============================] - 0s 2ms/step - loss: 0.5382 - accuracy: 0.7388 - val_loss: 0.5082 - val_accuracy: 0.7765\n",
      "Epoch 6/30\n",
      "89/89 [==============================] - 0s 2ms/step - loss: 0.5387 - accuracy: 0.7528 - val_loss: 0.5070 - val_accuracy: 0.7542\n",
      "Epoch 7/30\n",
      "89/89 [==============================] - 0s 2ms/step - loss: 0.5397 - accuracy: 0.7669 - val_loss: 0.5222 - val_accuracy: 0.7877\n",
      "Epoch 8/30\n",
      "89/89 [==============================] - 0s 2ms/step - loss: 0.5248 - accuracy: 0.7584 - val_loss: 0.5133 - val_accuracy: 0.7821\n",
      "Epoch 9/30\n",
      "89/89 [==============================] - 0s 2ms/step - loss: 0.5431 - accuracy: 0.7360 - val_loss: 0.7872 - val_accuracy: 0.6369\n",
      "Epoch 10/30\n",
      "89/89 [==============================] - 0s 3ms/step - loss: 0.6078 - accuracy: 0.7247 - val_loss: 0.5539 - val_accuracy: 0.7151\n",
      "Epoch 11/30\n",
      "89/89 [==============================] - 0s 2ms/step - loss: 0.4905 - accuracy: 0.7697 - val_loss: 0.4500 - val_accuracy: 0.8045\n",
      "Epoch 12/30\n",
      "89/89 [==============================] - 0s 3ms/step - loss: 0.4999 - accuracy: 0.7837 - val_loss: 0.4468 - val_accuracy: 0.8045\n",
      "Epoch 13/30\n",
      "89/89 [==============================] - 0s 3ms/step - loss: 0.4894 - accuracy: 0.7893 - val_loss: 0.4358 - val_accuracy: 0.7933\n",
      "Epoch 14/30\n",
      "89/89 [==============================] - 0s 2ms/step - loss: 0.4903 - accuracy: 0.7809 - val_loss: 0.6082 - val_accuracy: 0.7374\n",
      "Epoch 15/30\n",
      "89/89 [==============================] - 0s 2ms/step - loss: 0.4759 - accuracy: 0.7767 - val_loss: 0.4462 - val_accuracy: 0.7821\n",
      "Epoch 16/30\n",
      "89/89 [==============================] - 0s 3ms/step - loss: 0.4627 - accuracy: 0.7949 - val_loss: 0.4592 - val_accuracy: 0.7821\n",
      "Epoch 17/30\n",
      "89/89 [==============================] - 0s 2ms/step - loss: 0.4694 - accuracy: 0.7809 - val_loss: 0.5700 - val_accuracy: 0.7542\n",
      "Epoch 18/30\n",
      "89/89 [==============================] - 0s 3ms/step - loss: 0.4903 - accuracy: 0.7781 - val_loss: 0.4567 - val_accuracy: 0.7989\n",
      "Epoch 19/30\n",
      "89/89 [==============================] - 0s 3ms/step - loss: 0.4919 - accuracy: 0.7935 - val_loss: 0.4469 - val_accuracy: 0.7821\n",
      "Epoch 20/30\n",
      "89/89 [==============================] - 0s 3ms/step - loss: 0.5036 - accuracy: 0.7907 - val_loss: 0.4480 - val_accuracy: 0.7765\n",
      "Epoch 21/30\n",
      "89/89 [==============================] - 0s 3ms/step - loss: 0.4893 - accuracy: 0.7865 - val_loss: 0.4456 - val_accuracy: 0.8045\n",
      "Epoch 22/30\n",
      "89/89 [==============================] - 0s 3ms/step - loss: 0.4608 - accuracy: 0.7935 - val_loss: 0.4978 - val_accuracy: 0.7765\n",
      "Epoch 23/30\n",
      "89/89 [==============================] - 0s 2ms/step - loss: 0.4841 - accuracy: 0.7879 - val_loss: 0.4509 - val_accuracy: 0.7709\n",
      "Epoch 24/30\n",
      "89/89 [==============================] - 0s 3ms/step - loss: 0.4909 - accuracy: 0.7781 - val_loss: 0.4630 - val_accuracy: 0.7542\n",
      "Epoch 25/30\n",
      "89/89 [==============================] - 0s 3ms/step - loss: 0.4939 - accuracy: 0.7823 - val_loss: 0.4223 - val_accuracy: 0.7933\n",
      "Epoch 26/30\n",
      "89/89 [==============================] - 0s 3ms/step - loss: 0.4742 - accuracy: 0.7795 - val_loss: 0.4191 - val_accuracy: 0.7933\n",
      "Epoch 27/30\n",
      "89/89 [==============================] - 0s 3ms/step - loss: 0.4599 - accuracy: 0.7851 - val_loss: 0.5006 - val_accuracy: 0.7765\n",
      "Epoch 28/30\n",
      "89/89 [==============================] - 0s 3ms/step - loss: 0.4664 - accuracy: 0.7935 - val_loss: 0.4341 - val_accuracy: 0.7933\n",
      "Epoch 29/30\n",
      "89/89 [==============================] - 0s 3ms/step - loss: 0.4533 - accuracy: 0.8034 - val_loss: 0.4746 - val_accuracy: 0.7989\n",
      "Epoch 30/30\n",
      "89/89 [==============================] - 0s 3ms/step - loss: 0.4731 - accuracy: 0.8006 - val_loss: 0.4526 - val_accuracy: 0.8212\n"
     ]
    }
   ],
   "source": [
    "# 모델 학습 : fit\n",
    "# X_train, y_train, epochs=30, batch_size=8, validation_data=(X_test, y_test)\n",
    "# 학습결과 저장 : history\n",
    "\n",
    "# validation_data 옵션을 추가해서 모델 학습에 대한 평가를 할수 있다.\n",
    "# 즉, 모르는 데이터에 대해 성능평가 잘 나온다면 좋은것이다. \n",
    "\n",
    "history = model.fit(X_train, y_train, epochs=30, batch_size=8, validation_data=(X_test, y_test))"
   ]
  },
  {
   "cell_type": "markdown",
   "metadata": {
    "id": "lXayjZaA515j"
   },
   "source": [
    "---"
   ]
  },
  {
   "cell_type": "markdown",
   "metadata": {
    "id": "-368-McM51w8"
   },
   "source": [
    "# 8. 딥러닝 성능 평가"
   ]
  },
  {
   "cell_type": "code",
   "execution_count": 53,
   "metadata": {
    "colab": {
     "base_uri": "https://localhost:8080/"
    },
    "executionInfo": {
     "elapsed": 7,
     "status": "ok",
     "timestamp": 1649060061957,
     "user": {
      "displayName": "yunwoo oh",
      "userId": "01035531558844683999"
     },
     "user_tz": -540
    },
    "id": "M3XEaVEP2o1T",
    "outputId": "f0e95891-8dd6-4bbc-93e3-8ab5c6c2eb7f"
   },
   "outputs": [
    {
     "data": {
      "text/plain": [
       "dict_keys(['loss', 'accuracy', 'val_loss', 'val_accuracy'])"
      ]
     },
     "execution_count": 53,
     "metadata": {},
     "output_type": "execute_result"
    }
   ],
   "source": [
    "history.history.keys()"
   ]
  },
  {
   "cell_type": "code",
   "execution_count": 54,
   "metadata": {
    "colab": {
     "base_uri": "https://localhost:8080/",
     "height": 295
    },
    "executionInfo": {
     "elapsed": 746,
     "status": "ok",
     "timestamp": 1653457993948,
     "user": {
      "displayName": "yunwoo oh",
      "userId": "01035531558844683999"
     },
     "user_tz": -540
    },
    "id": "F3Q5YHap5lvG",
    "outputId": "2bc51b2d-847f-493f-aec4-c913c99d4bd7"
   },
   "outputs": [
    {
     "data": {
      "image/png": "[encoded data removed]",
      "text/plain": [
       "<Figure size 640x480 with 1 Axes>"
      ]
     },
     "metadata": {},
     "output_type": "display_data"
    }
   ],
   "source": [
    "# matplotlib 이용하여 그래프 그리기\n",
    "# 1. plot 그리기 : 입력  history.history['loss'], 'r'\n",
    "# 2. plot 그리기 : 입력  history.history['accuracy'], 'b'\n",
    "# 3. plot 그리기 : 입력  history.history['val_loss'], 'y'\n",
    "# 4. plot 그리기 : 입력  history.history['val_accuracy'], 'k'\n",
    "# 5. title : 'Loss and Accuracy'\n",
    "# 6. xlabel : \"Epochs\"\n",
    "# 7. ylabel : \"Loss\"\n",
    "# 8. [\"Loss\", \"Accuracy\", 'val_loss', 'val_accuracy']\n",
    "# 7. plt.show()\n",
    "\n",
    "plt.plot(history.history['loss'], 'r')\n",
    "plt.plot(history.history['accuracy'], 'b')\n",
    "plt.plot(history.history['val_loss'], 'y')\n",
    "plt.plot(history.history['val_accuracy'], 'k')\n",
    "plt.title('Loss and Accuracy')\n",
    "plt.xlabel(\"Epochs\")\n",
    "plt.ylabel(\"Loss\")\n",
    "plt.legend([\"Loss\", \"Accuracy\", 'val_loss', 'val_accuracy'])\n",
    "plt.show()"
   ]
  },
  {
   "cell_type": "code",
   "execution_count": null,
   "metadata": {
    "id": "NZIekizc5lsG"
   },
   "outputs": [],
   "source": []
  }
 ],
 "metadata": {
  "colab": {
   "authorship_tag": "ABX9TyNfkmy2Qx02o/dxiD7OHWL8",
   "collapsed_sections": [],
   "name": "머신러닝-딥러닝-TITANIC템플릿.ipynb",
   "provenance": [
    {
     "file_id": "100WgAWSo5XRBX--WD7-r3ztd9uQhTql9",
     "timestamp": 1648815355128
    }
   ]
  },
  "kernelspec": {
   "display_name": "Python 3 (ipykernel)",
   "language": "python",
   "name": "python3"
  },
  "language_info": {
   "codemirror_mode": {
    "name": "ipython",
    "version": 3
   },
   "file_extension": ".py",
   "mimetype": "text/x-python",
   "name": "python",
   "nbconvert_exporter": "python",
   "pygments_lexer": "ipython3",
   "version": "3.9.13"
  }
 },
 "nbformat": 4,
 "nbformat_minor": 4
}
