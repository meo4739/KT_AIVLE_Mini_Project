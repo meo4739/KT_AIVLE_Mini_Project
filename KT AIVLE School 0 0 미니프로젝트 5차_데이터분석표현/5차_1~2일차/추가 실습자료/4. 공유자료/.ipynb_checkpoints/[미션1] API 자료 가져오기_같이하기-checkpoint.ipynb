{
 "cells": [
  {
   "cell_type": "markdown",
   "metadata": {},
   "source": [
    "# AIVLE스쿨 4기 DX트랙 5차 미니프로젝트 \n",
    "## [미션#1] API를 이용하여 공공 데이터 가져오기"
   ]
  },
  {
   "cell_type": "markdown",
   "metadata": {},
   "source": [
    " \n",
    " - <font size =+1> 공공데이터포털(https://data.go.kr)에서 제공되는 [국립중앙의료원 - 전국응급의료기관 조회 서비스]에서 필요한 자료를 API를 통해 가져옵니다.\n",
    " - <font size =+1> 회원 가입 후 해당 자료에 [활용 신청]을 한 뒤, 마이페이지에서 일반 인증키(encoding)을 확인합니다. (PDF 교재 참고)\n",
    " - <font size =+1> 대구광역시 중심으로 데이터 추출 \n",
    " "
   ]
  },
  {
   "cell_type": "markdown",
   "metadata": {},
   "source": [
    " * 사전 확인 사항 \n",
    "   * haversine 설치\n",
    "   * python : 3.11.3 (아나콘다 2023.07 버전 설치 기준)"
   ]
  },
  {
   "cell_type": "code",
   "execution_count": null,
   "metadata": {},
   "outputs": [],
   "source": [
    "# 필요한 라이브러리 불러오기\n",
    "\n",
    "import pandas as pd\n",
    "import numpy as np\n",
    "from urllib.parse import quote"
   ]
  },
  {
   "cell_type": "code",
   "execution_count": null,
   "metadata": {},
   "outputs": [],
   "source": [
    "# 코드 수정 없이 실행\n",
    "\n",
    "import ssl\n",
    "from urllib.request import urlopen\n",
    "context=ssl.create_default_context()\n",
    "context.set_ciphers(\"DEFAULT\")\n"
   ]
  },
  {
   "cell_type": "markdown",
   "metadata": {},
   "source": [
    "* 공공데이터 수집을 위한 기본값 설정"
   ]
  },
  {
   "cell_type": "code",
   "execution_count": null,
   "metadata": {},
   "outputs": [],
   "source": [
    "# 개인 인증키 저장\n",
    "# [국립중앙의료원 - 전국응급의료기관 조회 서비스] 활용을 위한 개인 일반 인증키(Encoding) 값 저장\n",
    "key = \"\"\n",
    "\n",
    "# 조회할 도시 지정\n",
    "# city = 대구광역시, 인코딩 필요\n",
    "city = quote(\"대구광역시\")"
   ]
  },
  {
   "cell_type": "markdown",
   "metadata": {},
   "source": [
    "### 1) 대구광역시 응급의료기관 목록정보 조회하기"
   ]
  },
  {
   "cell_type": "markdown",
   "metadata": {},
   "source": [
    " * 주소 (대구광역시)를 기준으로 응급 의료 기관 목록 정보 조회\n",
    " * 기관ID, 주소, 기관명, 응급실전화, 병원 위치(경도/위도) 정보를 확인"
   ]
  },
  {
   "cell_type": "code",
   "execution_count": null,
   "metadata": {},
   "outputs": [],
   "source": [
    "# 대구광역시내이 응급의료기관 목록정보 조회하기\n",
    "# url : https://apis.data.go.kr/B552657/ErmctInfoInqireService/getEgytListInfoInqire\n",
    "# 인증키 지정 : serviceKey = key  ## 갱\n",
    "# 도시 지정 : Q0 = city\n",
    "# 출력 행수 : numofRows = 100 \n",
    "# page 번호 : pageNo = 1\n",
    "\n",
    "\n",
    "url = 'https://apis.data.go.kr/B552657/ErmctInfoInqireService/getEgytListInfoInqire' + '?serviceKey=' + key + '&Q0=' + city + '&pageNo=1&numOfRows=100'\n",
    "print(url)\n",
    "\n",
    "# emrList = pd.read_xml(url, xpath='/response/body/items/item')\n",
    "result = urlopen(url, context=context)\n",
    "emrList = pd.read_xml(result, xpath='.//item')\n",
    "\n",
    "emrList.head()"
   ]
  },
  {
   "cell_type": "code",
   "execution_count": null,
   "metadata": {},
   "outputs": [],
   "source": [
    "# 응급의료기관 수 확인하기 : shape \n",
    "\n",
    "emrList.shape"
   ]
  },
  {
   "cell_type": "code",
   "execution_count": null,
   "metadata": {},
   "outputs": [],
   "source": [
    "## 응급의료기관 목록정보 중 기관코드(hpid), 응급기관명(dutyName), 주소(dutyAddr), 응급실연락처(dutyTel3), 위도(wgs84Lat), 경도(wgs84Lon) 정보만 추출\n",
    "## ermList 중 [hpid, dutyName, dutyAddr, dutyTel3, wgs84Lat, wgs84Lon] 컬럼 활용\n",
    "## solution_df 에 저장하기\n",
    "\n",
    "solution_df = emrList[['hpid', 'dutyName', 'dutyAddr', 'dutyTel3', 'wgs84Lat', 'wgs84Lon']].copy()\n",
    "solution_df.head()"
   ]
  },
  {
   "cell_type": "markdown",
   "metadata": {},
   "source": [
    "### 2) 응급의료기관별 기본정보 조회 - 응급실수, 수술실 수 확인"
   ]
  },
  {
   "cell_type": "markdown",
   "metadata": {},
   "source": [
    " * <b>기관ID</b>를 기준으로 응급실, 수술실 정보 등 응급의료기관 기본 정보 조회 가능\n",
    " * 응급실수 (hperyn)와 수술실 수(hpopyn) 정보를 확인"
   ]
  },
  {
   "cell_type": "code",
   "execution_count": null,
   "metadata": {},
   "outputs": [],
   "source": [
    "# 대구광역시내이 응급의료기관 목록정보 조회하기\n",
    "# url : https://apis.data.go.kr/B552657/ErmctInfoInqireService/getEgytBassInfoInqire\n",
    "# 인증키 지정 : serviceKey = key\n",
    "# 응급의료기관 지정 : HPID = hpid\n",
    "# 응급의료기관 하나씩 조회해야 함\n",
    "\n",
    "# 응급의료기관에 대한 hpid값을 list로 추출\n",
    "hpidList = list(solution_df['hpid'])\n",
    "\n",
    "# 각 응급의료기관의 응급실 병상수(hperyn), 수술실 수(hpopyn) 를 저장하기 위한 빈 리스트 생성\n",
    "hperynList = []\n",
    "hpopynList = []\n",
    "\n",
    "# 대구광역시의 응급의료기관을 hpid 기준으로 하나씩 조회하여, 응급실 병상수/수술실 수를 확인\n",
    "# for문을 이용하여 hpid 하나씩 조회하고, hperyn, hpopy 정보를 각 hperynList, hpopynList 리스트에 저장\n",
    "\n",
    "for hpid in hpidList:\n",
    "    \n",
    "    url_basic = 'https://apis.data.go.kr/B552657/ErmctInfoInqireService/getEgytBassInfoInqire' + '?serviceKey=' + key + '&HPID=' + hpid \n",
    "    result = urlopen(url_basic, context=context)\n",
    "    df_temp = pd.read_xml(result, xpath='.//item')\n",
    "\n",
    "    # hperyn, hpopyn이 필수가 아닌 옵션값으로, 값이 전달되지 않을 때를 대비하여 예외처리로 0의 값을 입력\n",
    "    \n",
    "    if 'hperyn' in list(df_temp.columns) :\n",
    "        hperynList.append(df_temp['hperyn'][0])\n",
    "    else:\n",
    "        hperynList.append(0)\n",
    "    \n",
    "    if 'hpopyn' in list(df_temp.columns) :\n",
    "        hpopynList.append(df_temp['hpopyn'][0])\n",
    "    else:\n",
    "        hpopynList.append(0)\n",
    "    \n",
    "    "
   ]
  },
  {
   "cell_type": "code",
   "execution_count": null,
   "metadata": {},
   "outputs": [],
   "source": [
    "# 기존 solution_df에 응급실수, 수술실 수 정보 추가하기\n",
    "# 응급실 수 : solution_df['hperyn']\n",
    "# 수술실 수 : solution_df['hpopyn']\n",
    "\n",
    "solution_df['hperyn'] = hperynList\n",
    "solution_df['hpopyn'] = hpopynList\n",
    "\n",
    "# 확인하기\n",
    "solution_df.head()"
   ]
  },
  {
   "cell_type": "code",
   "execution_count": null,
   "metadata": {},
   "outputs": [],
   "source": [
    "## hperyn, hpopyn값이 0 이하인 병원 삭제\n",
    "\n",
    "solution_df = solution_df[solution_df['hpopyn']>0]\n",
    "solution_df = solution_df[solution_df['hperyn']>0]"
   ]
  },
  {
   "cell_type": "code",
   "execution_count": null,
   "metadata": {},
   "outputs": [],
   "source": [
    "## solution_df 크기 확인 : shape\n",
    "\n",
    "solution_df.shape"
   ]
  },
  {
   "cell_type": "code",
   "execution_count": null,
   "metadata": {},
   "outputs": [],
   "source": [
    "## solution_df 를 파일로 저장 \n",
    "## 파일명 : daegu_hospital_list.csv, index = False\n",
    "\n",
    "solution_df.to_csv('./daegu_hospital_list.csv', index=False)"
   ]
  },
  {
   "cell_type": "code",
   "execution_count": null,
   "metadata": {},
   "outputs": [],
   "source": [
    "## 정상적으로 저장되었는지 확인 \n",
    "\n",
    "solution_df = pd.read_csv('./daegu_hospital_list.csv')\n",
    "solution_df.head()"
   ]
  },
  {
   "cell_type": "markdown",
   "metadata": {},
   "source": [
    "### 7) 병원 거리 구하기"
   ]
  },
  {
   "cell_type": "markdown",
   "metadata": {},
   "source": [
    " * 병원 위치(위도/경도)와 환자의 위치(임의의 위도/경도) 간의 거리 측정\n",
    " * haversine 라이브러리를 활용 (https://pypi.org/project/haversine/)\n",
    " * 병원 ~ 환자간의 거리를 ['2km이내', '5km이내', '10km이내', '10km이상'] 4단계로 구분"
   ]
  },
  {
   "cell_type": "code",
   "execution_count": null,
   "metadata": {},
   "outputs": [],
   "source": [
    "# 환자와 병원간의 거리 측정을 위한 라이브러리 설치\n",
    "# !pip install haversine"
   ]
  },
  {
   "cell_type": "code",
   "execution_count": null,
   "metadata": {},
   "outputs": [],
   "source": [
    "# 라이브러리 import\n",
    "from haversine import haversine\n",
    "\n",
    "# 거리 측정 예시\n",
    "# 거리 측정 예시\n",
    "# 위치1 : (35.209710, 129.004751)\n",
    "# 위치2 : (35.1631139, 129.1635509)\n",
    "\n",
    "location1 = (35.209710, 129.004751)\n",
    "location2 = (35.1631139, 129.1635509)\n",
    "\n",
    "haversine(location1, location2, unit = 'km') "
   ]
  }
 ],
 "metadata": {
  "kernelspec": {
   "display_name": "Python 3 (ipykernel)",
   "language": "python",
   "name": "python3"
  },
  "language_info": {
   "codemirror_mode": {
    "name": "ipython",
    "version": 3
   },
   "file_extension": ".py",
   "mimetype": "text/x-python",
   "name": "python",
   "nbconvert_exporter": "python",
   "pygments_lexer": "ipython3",
   "version": "3.11.3"
  },
  "vscode": {
   "interpreter": {
    "hash": "f08154012ddadd8e950e6e9e035c7a7b32c136e7647e9b7c77e02eb723a8bedb"
   }
  }
 },
 "nbformat": 4,
 "nbformat_minor": 4
}
