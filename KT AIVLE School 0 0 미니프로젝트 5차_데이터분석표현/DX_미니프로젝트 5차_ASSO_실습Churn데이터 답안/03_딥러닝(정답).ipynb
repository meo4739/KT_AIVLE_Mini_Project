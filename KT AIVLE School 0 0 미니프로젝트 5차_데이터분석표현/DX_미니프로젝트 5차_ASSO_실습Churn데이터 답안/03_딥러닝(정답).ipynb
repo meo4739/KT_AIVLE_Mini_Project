{
 "cells": [
  {
   "cell_type": "markdown",
   "metadata": {
    "id": "OE89vy1a0YH3"
   },
   "source": [
    "# [조별실습] Python을 활용한 AI 모델링 - 딥러닝 파트\n",
    "+ 이번 시간에는 Python을 활용한 AI 모델링에서 딥러닝에 대해 실습해 보겠습니다.\n",
    "+ 딥러닝은 언어 번역, 고객 상담, 자율주행, 질병 진단 등 활용 분야가 지속 확장되고 있습니다.\n",
    "+ 여기서는 딥러닝 모델 DNN(Deep Neural Network)에 대해 코딩하여 모델을 구축해 보겠습니다.\n",
    "+ DNN은 입력 데이터를 수신하는 입력층과 여러 개의 은닉층, 그리고 모델의 출력이 나오는 출력층으로 구성이 되는데요!\n",
    "+ Associate에서는 1)데이터 불러오기 및 확인-2)전처리(결측치처리, 데이터 인코딩, 데이터세트 분리, 데이터 스케일링)-3)모델 생성-\n",
    "+ 4)모델 컴파일 - 5)모델 학습 및 성능평가 의 순서대로 딥러닝 파트가 출제가 됩니다.\n",
    "+ 머신러닝과 딥러닝은 각 20점으로 배점 비중이 매우 크므로 15점짜리 문항은 꼭 챙기시기 바랍니다.\n",
    "+ 모델링 프로세스에 따라 반복적으로 연습해보시고, 이탈자/미이탈자 그룹의 특성과 이탈방지 방안도 토론해보세요.\n",
    "+ <span style=\"background-color:#fff6b1\">**[문제]라고 표기된 부분이 실제 점수가 반영되는 시험문제라고 생각하고 더 신경써서 수행해주세요!**\n",
    "+ ##### <font color=red>실습을 모두 수행하신 조원들은 AICE 자격검정의 노하우를 서로 공유해주세요.</font>"
   ]
  },
  {
   "cell_type": "markdown",
   "metadata": {
    "id": "jiPP1idv0YH8"
   },
   "source": [
    "##  <span style=\"background-color:#fff5b1\">학습목차\n",
    " 딥러닝 심층신경망(DNN) 모델 프로세스\n",
    " - 데이터 가져오기\n",
    " - 데이터 전처리\n",
    " - Train, Test 데이터셋 분할\n",
    " - 데이터 정규화\n",
    " - DNN 딥러닝 모델"
   ]
  },
  {
   "cell_type": "markdown",
   "metadata": {
    "id": "Zr3QI2qG0YH9"
   },
   "source": [
    "## <span style=\"background-color:#fff5b1\"> [미션] 딥러닝 모델 프로세스 따라가기\n",
    "## <span style=\"background-color:#fff5b1\"> [미션] 이탈자/미이탈자 그룹의 특징과 이탈 방지 방안 공유하기\n",
    "# 1. 딥러닝 심층신경망(DNN) 모델 프로세스\n",
    "① 라이브러리 임포트(import)  \n",
    "② 데이터 가져오기(Loading the data)  \n",
    "③ 탐색적 데이터 분석(Exploratory Data Analysis)  \n",
    "④ 데이터 전처리(Data PreProcessing) : 데이터타입 변환, Null 데이터 처리, 누락데이터 처리, \n",
    "더미특성 생성, 특성 추출 (feature engineering) 등  \n",
    "⑤ Train, Test  데이터셋 분할  \n",
    "⑥ 데이터 정규화(Normalizing the Data)  \n",
    "⑦ 모델 개발(Creating the Model)  \n",
    "⑧ 모델 성능 평가"
   ]
  },
  {
   "cell_type": "markdown",
   "metadata": {
    "id": "l_4rL5l40YH-"
   },
   "source": [
    "## ① 라이브러리 임포트"
   ]
  },
  {
   "cell_type": "markdown",
   "metadata": {
    "id": "kMnCy3mj0YH-"
   },
   "source": [
    "##### 필요 라이브러리 임포트"
   ]
  },
  {
   "cell_type": "code",
   "execution_count": 1,
   "metadata": {
    "id": "GLqgsJ3-0YH_"
   },
   "outputs": [],
   "source": [
    "import numpy as np\n",
    "import pandas as pd\n",
    "import matplotlib.pyplot as plt"
   ]
  },
  {
   "cell_type": "markdown",
   "metadata": {
    "id": "cCxbMaDD0YIB"
   },
   "source": [
    "## ② 데이터 로드"
   ]
  },
  {
   "cell_type": "markdown",
   "metadata": {
    "id": "7bPka6TR0YIC"
   },
   "source": [
    "#### <font color=blue> **[문제1] 같은 폴더내에 있는 data_v1_save.csv 파일을 Pandas read_csv 함수를 이용하여 읽어 df 변수에 저장하세요.** </font>"
   ]
  },
  {
   "cell_type": "code",
   "execution_count": 2,
   "metadata": {
    "id": "EGM5tlnp0YIC"
   },
   "outputs": [],
   "source": [
    "# 읽어 들일 파일명 : data_v1_save.csv\n",
    "# Pandas read_csv 함수 활용\n",
    "# 결과 : df 저장\n",
    "\n",
    "df = pd.read_csv('data_v1_save.csv')"
   ]
  },
  {
   "cell_type": "markdown",
   "metadata": {
    "id": "1rOQN4E20YID"
   },
   "source": [
    "## ③ 데이터 분석"
   ]
  },
  {
   "cell_type": "code",
   "execution_count": 3,
   "metadata": {
    "colab": {
     "base_uri": "https://localhost:8080/"
    },
    "id": "DiS0N_fP0YIE",
    "outputId": "00503737-c776-4d3d-9152-1e53bc6597ee"
   },
   "outputs": [
    {
     "name": "stdout",
     "output_type": "stream",
     "text": [
      "<class 'pandas.core.frame.DataFrame'>\n",
      "RangeIndex: 7027 entries, 0 to 7026\n",
      "Data columns (total 17 columns):\n",
      " #   Column            Non-Null Count  Dtype  \n",
      "---  ------            --------------  -----  \n",
      " 0   gender            7027 non-null   object \n",
      " 1   Partner           7027 non-null   object \n",
      " 2   Dependents        7027 non-null   object \n",
      " 3   tenure            7027 non-null   int64  \n",
      " 4   MultipleLines     7027 non-null   object \n",
      " 5   InternetService   7027 non-null   object \n",
      " 6   OnlineSecurity    7027 non-null   object \n",
      " 7   OnlineBackup      7027 non-null   object \n",
      " 8   TechSupport       7027 non-null   object \n",
      " 9   StreamingTV       7027 non-null   object \n",
      " 10  StreamingMovies   7027 non-null   object \n",
      " 11  Contract          7027 non-null   object \n",
      " 12  PaperlessBilling  7027 non-null   object \n",
      " 13  PaymentMethod     7027 non-null   object \n",
      " 14  MonthlyCharges    7027 non-null   float64\n",
      " 15  TotalCharges      7027 non-null   float64\n",
      " 16  Churn             7027 non-null   int64  \n",
      "dtypes: float64(2), int64(2), object(13)\n",
      "memory usage: 933.4+ KB\n"
     ]
    }
   ],
   "source": [
    "# info 함수 활용, 데이터 구성 확인\n",
    "# 17컬럼, 7027 라인\n",
    "\n",
    "df.info()"
   ]
  },
  {
   "cell_type": "code",
   "execution_count": 4,
   "metadata": {
    "colab": {
     "base_uri": "https://localhost:8080/",
     "height": 339
    },
    "id": "GkYbGV440YIF",
    "outputId": "30498793-d965-47f1-bed1-e74d7d152457"
   },
   "outputs": [
    {
     "data": {
      "text/html": [
       "<div>\n",
       "<style scoped>\n",
       "    .dataframe tbody tr th:only-of-type {\n",
       "        vertical-align: middle;\n",
       "    }\n",
       "\n",
       "    .dataframe tbody tr th {\n",
       "        vertical-align: top;\n",
       "    }\n",
       "\n",
       "    .dataframe thead th {\n",
       "        text-align: right;\n",
       "    }\n",
       "</style>\n",
       "<table border=\"1\" class=\"dataframe\">\n",
       "  <thead>\n",
       "    <tr style=\"text-align: right;\">\n",
       "      <th></th>\n",
       "      <th>gender</th>\n",
       "      <th>Partner</th>\n",
       "      <th>Dependents</th>\n",
       "      <th>tenure</th>\n",
       "      <th>MultipleLines</th>\n",
       "      <th>InternetService</th>\n",
       "      <th>OnlineSecurity</th>\n",
       "      <th>OnlineBackup</th>\n",
       "      <th>TechSupport</th>\n",
       "      <th>StreamingTV</th>\n",
       "      <th>StreamingMovies</th>\n",
       "      <th>Contract</th>\n",
       "      <th>PaperlessBilling</th>\n",
       "      <th>PaymentMethod</th>\n",
       "      <th>MonthlyCharges</th>\n",
       "      <th>TotalCharges</th>\n",
       "      <th>Churn</th>\n",
       "    </tr>\n",
       "  </thead>\n",
       "  <tbody>\n",
       "    <tr>\n",
       "      <th>7022</th>\n",
       "      <td>Female</td>\n",
       "      <td>No</td>\n",
       "      <td>No</td>\n",
       "      <td>72</td>\n",
       "      <td>No</td>\n",
       "      <td>No</td>\n",
       "      <td>No internet service</td>\n",
       "      <td>No internet service</td>\n",
       "      <td>No internet service</td>\n",
       "      <td>No internet service</td>\n",
       "      <td>No internet service</td>\n",
       "      <td>Two year</td>\n",
       "      <td>Yes</td>\n",
       "      <td>Bank transfer (automatic)</td>\n",
       "      <td>21.15</td>\n",
       "      <td>1419.40</td>\n",
       "      <td>0</td>\n",
       "    </tr>\n",
       "    <tr>\n",
       "      <th>7023</th>\n",
       "      <td>Male</td>\n",
       "      <td>Yes</td>\n",
       "      <td>Yes</td>\n",
       "      <td>24</td>\n",
       "      <td>Yes</td>\n",
       "      <td>DSL</td>\n",
       "      <td>Yes</td>\n",
       "      <td>No</td>\n",
       "      <td>Yes</td>\n",
       "      <td>Yes</td>\n",
       "      <td>Yes</td>\n",
       "      <td>One year</td>\n",
       "      <td>Yes</td>\n",
       "      <td>Mailed check</td>\n",
       "      <td>84.80</td>\n",
       "      <td>1990.50</td>\n",
       "      <td>0</td>\n",
       "    </tr>\n",
       "    <tr>\n",
       "      <th>7024</th>\n",
       "      <td>Female</td>\n",
       "      <td>Yes</td>\n",
       "      <td>Yes</td>\n",
       "      <td>72</td>\n",
       "      <td>Yes</td>\n",
       "      <td>Fiber optic</td>\n",
       "      <td>No</td>\n",
       "      <td>Yes</td>\n",
       "      <td>No</td>\n",
       "      <td>Yes</td>\n",
       "      <td>Yes</td>\n",
       "      <td>One year</td>\n",
       "      <td>Yes</td>\n",
       "      <td>Credit card (automatic)</td>\n",
       "      <td>103.20</td>\n",
       "      <td>7362.90</td>\n",
       "      <td>0</td>\n",
       "    </tr>\n",
       "    <tr>\n",
       "      <th>7025</th>\n",
       "      <td>Female</td>\n",
       "      <td>Yes</td>\n",
       "      <td>Yes</td>\n",
       "      <td>11</td>\n",
       "      <td>No phone service</td>\n",
       "      <td>DSL</td>\n",
       "      <td>Yes</td>\n",
       "      <td>No</td>\n",
       "      <td>No</td>\n",
       "      <td>No</td>\n",
       "      <td>No</td>\n",
       "      <td>Month-to-month</td>\n",
       "      <td>Yes</td>\n",
       "      <td>Electronic check</td>\n",
       "      <td>29.60</td>\n",
       "      <td>346.45</td>\n",
       "      <td>0</td>\n",
       "    </tr>\n",
       "    <tr>\n",
       "      <th>7026</th>\n",
       "      <td>Male</td>\n",
       "      <td>Yes</td>\n",
       "      <td>No</td>\n",
       "      <td>4</td>\n",
       "      <td>Yes</td>\n",
       "      <td>Fiber optic</td>\n",
       "      <td>No</td>\n",
       "      <td>No</td>\n",
       "      <td>No</td>\n",
       "      <td>No</td>\n",
       "      <td>No</td>\n",
       "      <td>Month-to-month</td>\n",
       "      <td>Yes</td>\n",
       "      <td>Mailed check</td>\n",
       "      <td>74.40</td>\n",
       "      <td>306.60</td>\n",
       "      <td>1</td>\n",
       "    </tr>\n",
       "  </tbody>\n",
       "</table>\n",
       "</div>"
      ],
      "text/plain": [
       "      gender Partner Dependents  tenure     MultipleLines InternetService  \\\n",
       "7022  Female      No         No      72                No              No   \n",
       "7023    Male     Yes        Yes      24               Yes             DSL   \n",
       "7024  Female     Yes        Yes      72               Yes     Fiber optic   \n",
       "7025  Female     Yes        Yes      11  No phone service             DSL   \n",
       "7026    Male     Yes         No       4               Yes     Fiber optic   \n",
       "\n",
       "           OnlineSecurity         OnlineBackup          TechSupport  \\\n",
       "7022  No internet service  No internet service  No internet service   \n",
       "7023                  Yes                   No                  Yes   \n",
       "7024                   No                  Yes                   No   \n",
       "7025                  Yes                   No                   No   \n",
       "7026                   No                   No                   No   \n",
       "\n",
       "              StreamingTV      StreamingMovies        Contract  \\\n",
       "7022  No internet service  No internet service        Two year   \n",
       "7023                  Yes                  Yes        One year   \n",
       "7024                  Yes                  Yes        One year   \n",
       "7025                   No                   No  Month-to-month   \n",
       "7026                   No                   No  Month-to-month   \n",
       "\n",
       "     PaperlessBilling              PaymentMethod  MonthlyCharges  \\\n",
       "7022              Yes  Bank transfer (automatic)           21.15   \n",
       "7023              Yes               Mailed check           84.80   \n",
       "7024              Yes    Credit card (automatic)          103.20   \n",
       "7025              Yes           Electronic check           29.60   \n",
       "7026              Yes               Mailed check           74.40   \n",
       "\n",
       "      TotalCharges  Churn  \n",
       "7022       1419.40      0  \n",
       "7023       1990.50      0  \n",
       "7024       7362.90      0  \n",
       "7025        346.45      0  \n",
       "7026        306.60      1  "
      ]
     },
     "execution_count": 4,
     "metadata": {},
     "output_type": "execute_result"
    }
   ],
   "source": [
    "# tail 함수 활용, 데이터 구성 확인\n",
    "\n",
    "df.tail()"
   ]
  },
  {
   "cell_type": "code",
   "execution_count": 5,
   "metadata": {
    "colab": {
     "base_uri": "https://localhost:8080/",
     "height": 280
    },
    "id": "U_FXwsqv0YIF",
    "outputId": "16cf7e96-ba5e-4cf8-fb69-9d7d6a7a5a78"
   },
   "outputs": [
    {
     "data": {
      "text/plain": [
       "<Axes: >"
      ]
     },
     "execution_count": 5,
     "metadata": {},
     "output_type": "execute_result"
    },
    {
     "data": {
      "image/png": "[encoded data removed]",
      "text/plain": [
       "<Figure size 640x480 with 1 Axes>"
      ]
     },
     "metadata": {},
     "output_type": "display_data"
    }
   ],
   "source": [
    "# Churn 레이블이 불균형한지 bar 그래프로 분포를 표시\n",
    "\n",
    "df['Churn'].value_counts().plot(kind='bar')"
   ]
  },
  {
   "cell_type": "markdown",
   "metadata": {
    "id": "5Fow_uNj0YIG"
   },
   "source": [
    "## ④ 데이터 전처리"
   ]
  },
  {
   "cell_type": "markdown",
   "metadata": {
    "id": "pDuo6yXl0YIG"
   },
   "source": [
    "+ 모든 데이터값들은 숫자형으로 되어야 합니다. 즉, Ojbect 타입을 모두 숫자형으로 변경 필요\n",
    "+ object 컬럼에 대해 Pandas get_dummies 함수 활용, One-Hot-Encoding"
   ]
  },
  {
   "cell_type": "code",
   "execution_count": 6,
   "metadata": {
    "colab": {
     "base_uri": "https://localhost:8080/"
    },
    "id": "KtX0jsj_0YIH",
    "outputId": "50cf21bb-9bde-49b2-d2d9-2b8c649afb11"
   },
   "outputs": [
    {
     "data": {
      "text/plain": [
       "array(['gender', 'Partner', 'Dependents', 'MultipleLines',\n",
       "       'InternetService', 'OnlineSecurity', 'OnlineBackup', 'TechSupport',\n",
       "       'StreamingTV', 'StreamingMovies', 'Contract', 'PaperlessBilling',\n",
       "       'PaymentMethod'], dtype=object)"
      ]
     },
     "execution_count": 6,
     "metadata": {},
     "output_type": "execute_result"
    }
   ],
   "source": [
    "# object 타입의 컬럼명 수집, 'cal_cols' 변수로 저장\n",
    "\n",
    "cal_cols = df.select_dtypes('object').columns.values\n",
    "cal_cols"
   ]
  },
  {
   "cell_type": "markdown",
   "metadata": {
    "id": "mkztuRd30YIH"
   },
   "source": [
    "#### <font color=blue> **[문제2] object 컬럼에 대해 One-Hot-Encoding을 수행하고 그 결과를 df1 변수에 저장하세요.** </font>"
   ]
  },
  {
   "cell_type": "code",
   "execution_count": 7,
   "metadata": {
    "id": "AqzsnZZp0YIH"
   },
   "outputs": [],
   "source": [
    "# Pandas get_dummies() 함수 이용\n",
    "# 원-핫-인코딩 결과를 df1 저장\n",
    "\n",
    "df1 = pd.get_dummies(data=df, columns=cal_cols)"
   ]
  },
  {
   "cell_type": "code",
   "execution_count": 8,
   "metadata": {
    "colab": {
     "base_uri": "https://localhost:8080/"
    },
    "id": "Exw5r3J_0YII",
    "outputId": "172bc96f-220f-43be-89eb-7e48a5ed1249"
   },
   "outputs": [
    {
     "name": "stdout",
     "output_type": "stream",
     "text": [
      "<class 'pandas.core.frame.DataFrame'>\n",
      "RangeIndex: 7027 entries, 0 to 7026\n",
      "Data columns (total 40 columns):\n",
      " #   Column                                   Non-Null Count  Dtype  \n",
      "---  ------                                   --------------  -----  \n",
      " 0   tenure                                   7027 non-null   int64  \n",
      " 1   MonthlyCharges                           7027 non-null   float64\n",
      " 2   TotalCharges                             7027 non-null   float64\n",
      " 3   Churn                                    7027 non-null   int64  \n",
      " 4   gender_Female                            7027 non-null   uint8  \n",
      " 5   gender_Male                              7027 non-null   uint8  \n",
      " 6   Partner_No                               7027 non-null   uint8  \n",
      " 7   Partner_Yes                              7027 non-null   uint8  \n",
      " 8   Dependents_No                            7027 non-null   uint8  \n",
      " 9   Dependents_Yes                           7027 non-null   uint8  \n",
      " 10  MultipleLines_No                         7027 non-null   uint8  \n",
      " 11  MultipleLines_No phone service           7027 non-null   uint8  \n",
      " 12  MultipleLines_Yes                        7027 non-null   uint8  \n",
      " 13  InternetService_DSL                      7027 non-null   uint8  \n",
      " 14  InternetService_Fiber optic              7027 non-null   uint8  \n",
      " 15  InternetService_No                       7027 non-null   uint8  \n",
      " 16  OnlineSecurity_No                        7027 non-null   uint8  \n",
      " 17  OnlineSecurity_No internet service       7027 non-null   uint8  \n",
      " 18  OnlineSecurity_Yes                       7027 non-null   uint8  \n",
      " 19  OnlineBackup_No                          7027 non-null   uint8  \n",
      " 20  OnlineBackup_No internet service         7027 non-null   uint8  \n",
      " 21  OnlineBackup_Yes                         7027 non-null   uint8  \n",
      " 22  TechSupport_No                           7027 non-null   uint8  \n",
      " 23  TechSupport_No internet service          7027 non-null   uint8  \n",
      " 24  TechSupport_Yes                          7027 non-null   uint8  \n",
      " 25  StreamingTV_No                           7027 non-null   uint8  \n",
      " 26  StreamingTV_No internet service          7027 non-null   uint8  \n",
      " 27  StreamingTV_Yes                          7027 non-null   uint8  \n",
      " 28  StreamingMovies_No                       7027 non-null   uint8  \n",
      " 29  StreamingMovies_No internet service      7027 non-null   uint8  \n",
      " 30  StreamingMovies_Yes                      7027 non-null   uint8  \n",
      " 31  Contract_Month-to-month                  7027 non-null   uint8  \n",
      " 32  Contract_One year                        7027 non-null   uint8  \n",
      " 33  Contract_Two year                        7027 non-null   uint8  \n",
      " 34  PaperlessBilling_No                      7027 non-null   uint8  \n",
      " 35  PaperlessBilling_Yes                     7027 non-null   uint8  \n",
      " 36  PaymentMethod_Bank transfer (automatic)  7027 non-null   uint8  \n",
      " 37  PaymentMethod_Credit card (automatic)    7027 non-null   uint8  \n",
      " 38  PaymentMethod_Electronic check           7027 non-null   uint8  \n",
      " 39  PaymentMethod_Mailed check               7027 non-null   uint8  \n",
      "dtypes: float64(2), int64(2), uint8(36)\n",
      "memory usage: 466.8 KB\n"
     ]
    }
   ],
   "source": [
    "# info 함수 활용, df1 데이터 구성 확인\n",
    "\n",
    "df1.info()\n",
    "\n",
    "# 40컬럼, 7027 라인"
   ]
  },
  {
   "cell_type": "markdown",
   "metadata": {
    "id": "eBbc5LqJ0YII"
   },
   "source": [
    "## ⑤ Train, Test  데이터셋 분할"
   ]
  },
  {
   "cell_type": "code",
   "execution_count": 9,
   "metadata": {
    "id": "2wY_7WCU0YIJ"
   },
   "outputs": [],
   "source": [
    "# scikit-learn 라이브러리의 train_test_split 함수 임포트하기\n",
    "\n",
    "from sklearn.model_selection import train_test_split"
   ]
  },
  {
   "cell_type": "code",
   "execution_count": 10,
   "metadata": {
    "id": "i0PeCxoK0YIJ"
   },
   "outputs": [],
   "source": [
    "# 'Churn' 열을 제거하고 나머지 열만을 사용하여 X 변수에 할당\n",
    "# 'Churn' 열만을 선택하여 y 변수에 할당\n",
    "\n",
    "X = df1.drop('Churn', axis=1).values\n",
    "y = df1['Churn'].values"
   ]
  },
  {
   "cell_type": "code",
   "execution_count": 11,
   "metadata": {
    "id": "dScRTh-M0YIJ"
   },
   "outputs": [],
   "source": [
    "# 입력 : X, y \n",
    "# Train : Test 비율 = 7:3\n",
    "# y Class 비율을 유지하면서 나누기 : stratify=y\n",
    "# 여러 번 수행해도 같은 결과 나오게 고정 : random_state=42 \n",
    "# 결과 : X_train, X_test, y_train, y_test\n",
    "\n",
    "X_train, X_test, y_train, y_test = train_test_split(X, y, \n",
    "                                                    test_size=0.3, \n",
    "                                                    stratify=y,\n",
    "                                                    random_state=42)"
   ]
  },
  {
   "cell_type": "code",
   "execution_count": 12,
   "metadata": {
    "colab": {
     "base_uri": "https://localhost:8080/"
    },
    "id": "wJ3x57Ml0YIK",
    "outputId": "19bc15f9-c774-4a5c-9206-d860417490d8"
   },
   "outputs": [
    {
     "data": {
      "text/plain": [
       "((4918, 39), (2109, 39))"
      ]
     },
     "execution_count": 12,
     "metadata": {},
     "output_type": "execute_result"
    }
   ],
   "source": [
    "# X_train, X_test 배열의 형태 확인\n",
    "\n",
    "X_train.shape, X_test.shape"
   ]
  },
  {
   "cell_type": "code",
   "execution_count": 13,
   "metadata": {
    "colab": {
     "base_uri": "https://localhost:8080/"
    },
    "id": "GHDTvpRn0YIK",
    "outputId": "998d42ac-354d-4b78-e61b-d98a093723df"
   },
   "outputs": [
    {
     "data": {
      "text/plain": [
       "(4918,)"
      ]
     },
     "execution_count": 13,
     "metadata": {},
     "output_type": "execute_result"
    }
   ],
   "source": [
    "# y_train 배열의 형태 확인\n",
    "\n",
    "y_train.shape"
   ]
  },
  {
   "cell_type": "markdown",
   "metadata": {
    "id": "KJBB8fYo0YIK"
   },
   "source": [
    "## ⑥ 데이터 정규화/스케일링(Normalizing/Scaling)"
   ]
  },
  {
   "cell_type": "code",
   "execution_count": 14,
   "metadata": {
    "colab": {
     "base_uri": "https://localhost:8080/",
     "height": 334
    },
    "id": "cmGg6oMD0YIK",
    "outputId": "0b73c2e9-5332-47fe-e8fc-0c92613c1446"
   },
   "outputs": [
    {
     "data": {
      "text/html": [
       "<div>\n",
       "<style scoped>\n",
       "    .dataframe tbody tr th:only-of-type {\n",
       "        vertical-align: middle;\n",
       "    }\n",
       "\n",
       "    .dataframe tbody tr th {\n",
       "        vertical-align: top;\n",
       "    }\n",
       "\n",
       "    .dataframe thead th {\n",
       "        text-align: right;\n",
       "    }\n",
       "</style>\n",
       "<table border=\"1\" class=\"dataframe\">\n",
       "  <thead>\n",
       "    <tr style=\"text-align: right;\">\n",
       "      <th></th>\n",
       "      <th>tenure</th>\n",
       "      <th>MonthlyCharges</th>\n",
       "      <th>TotalCharges</th>\n",
       "      <th>Churn</th>\n",
       "      <th>gender_Female</th>\n",
       "      <th>gender_Male</th>\n",
       "      <th>Partner_No</th>\n",
       "      <th>Partner_Yes</th>\n",
       "      <th>Dependents_No</th>\n",
       "      <th>Dependents_Yes</th>\n",
       "      <th>...</th>\n",
       "      <th>StreamingMovies_Yes</th>\n",
       "      <th>Contract_Month-to-month</th>\n",
       "      <th>Contract_One year</th>\n",
       "      <th>Contract_Two year</th>\n",
       "      <th>PaperlessBilling_No</th>\n",
       "      <th>PaperlessBilling_Yes</th>\n",
       "      <th>PaymentMethod_Bank transfer (automatic)</th>\n",
       "      <th>PaymentMethod_Credit card (automatic)</th>\n",
       "      <th>PaymentMethod_Electronic check</th>\n",
       "      <th>PaymentMethod_Mailed check</th>\n",
       "    </tr>\n",
       "  </thead>\n",
       "  <tbody>\n",
       "    <tr>\n",
       "      <th>7022</th>\n",
       "      <td>72</td>\n",
       "      <td>21.15</td>\n",
       "      <td>1419.40</td>\n",
       "      <td>0</td>\n",
       "      <td>1</td>\n",
       "      <td>0</td>\n",
       "      <td>1</td>\n",
       "      <td>0</td>\n",
       "      <td>1</td>\n",
       "      <td>0</td>\n",
       "      <td>...</td>\n",
       "      <td>0</td>\n",
       "      <td>0</td>\n",
       "      <td>0</td>\n",
       "      <td>1</td>\n",
       "      <td>0</td>\n",
       "      <td>1</td>\n",
       "      <td>1</td>\n",
       "      <td>0</td>\n",
       "      <td>0</td>\n",
       "      <td>0</td>\n",
       "    </tr>\n",
       "    <tr>\n",
       "      <th>7023</th>\n",
       "      <td>24</td>\n",
       "      <td>84.80</td>\n",
       "      <td>1990.50</td>\n",
       "      <td>0</td>\n",
       "      <td>0</td>\n",
       "      <td>1</td>\n",
       "      <td>0</td>\n",
       "      <td>1</td>\n",
       "      <td>0</td>\n",
       "      <td>1</td>\n",
       "      <td>...</td>\n",
       "      <td>1</td>\n",
       "      <td>0</td>\n",
       "      <td>1</td>\n",
       "      <td>0</td>\n",
       "      <td>0</td>\n",
       "      <td>1</td>\n",
       "      <td>0</td>\n",
       "      <td>0</td>\n",
       "      <td>0</td>\n",
       "      <td>1</td>\n",
       "    </tr>\n",
       "    <tr>\n",
       "      <th>7024</th>\n",
       "      <td>72</td>\n",
       "      <td>103.20</td>\n",
       "      <td>7362.90</td>\n",
       "      <td>0</td>\n",
       "      <td>1</td>\n",
       "      <td>0</td>\n",
       "      <td>0</td>\n",
       "      <td>1</td>\n",
       "      <td>0</td>\n",
       "      <td>1</td>\n",
       "      <td>...</td>\n",
       "      <td>1</td>\n",
       "      <td>0</td>\n",
       "      <td>1</td>\n",
       "      <td>0</td>\n",
       "      <td>0</td>\n",
       "      <td>1</td>\n",
       "      <td>0</td>\n",
       "      <td>1</td>\n",
       "      <td>0</td>\n",
       "      <td>0</td>\n",
       "    </tr>\n",
       "    <tr>\n",
       "      <th>7025</th>\n",
       "      <td>11</td>\n",
       "      <td>29.60</td>\n",
       "      <td>346.45</td>\n",
       "      <td>0</td>\n",
       "      <td>1</td>\n",
       "      <td>0</td>\n",
       "      <td>0</td>\n",
       "      <td>1</td>\n",
       "      <td>0</td>\n",
       "      <td>1</td>\n",
       "      <td>...</td>\n",
       "      <td>0</td>\n",
       "      <td>1</td>\n",
       "      <td>0</td>\n",
       "      <td>0</td>\n",
       "      <td>0</td>\n",
       "      <td>1</td>\n",
       "      <td>0</td>\n",
       "      <td>0</td>\n",
       "      <td>1</td>\n",
       "      <td>0</td>\n",
       "    </tr>\n",
       "    <tr>\n",
       "      <th>7026</th>\n",
       "      <td>4</td>\n",
       "      <td>74.40</td>\n",
       "      <td>306.60</td>\n",
       "      <td>1</td>\n",
       "      <td>0</td>\n",
       "      <td>1</td>\n",
       "      <td>0</td>\n",
       "      <td>1</td>\n",
       "      <td>1</td>\n",
       "      <td>0</td>\n",
       "      <td>...</td>\n",
       "      <td>0</td>\n",
       "      <td>1</td>\n",
       "      <td>0</td>\n",
       "      <td>0</td>\n",
       "      <td>0</td>\n",
       "      <td>1</td>\n",
       "      <td>0</td>\n",
       "      <td>0</td>\n",
       "      <td>0</td>\n",
       "      <td>1</td>\n",
       "    </tr>\n",
       "  </tbody>\n",
       "</table>\n",
       "<p>5 rows × 40 columns</p>\n",
       "</div>"
      ],
      "text/plain": [
       "      tenure  MonthlyCharges  TotalCharges  Churn  gender_Female  gender_Male  \\\n",
       "7022      72           21.15       1419.40      0              1            0   \n",
       "7023      24           84.80       1990.50      0              0            1   \n",
       "7024      72          103.20       7362.90      0              1            0   \n",
       "7025      11           29.60        346.45      0              1            0   \n",
       "7026       4           74.40        306.60      1              0            1   \n",
       "\n",
       "      Partner_No  Partner_Yes  Dependents_No  Dependents_Yes  ...  \\\n",
       "7022           1            0              1               0  ...   \n",
       "7023           0            1              0               1  ...   \n",
       "7024           0            1              0               1  ...   \n",
       "7025           0            1              0               1  ...   \n",
       "7026           0            1              1               0  ...   \n",
       "\n",
       "      StreamingMovies_Yes  Contract_Month-to-month  Contract_One year  \\\n",
       "7022                    0                        0                  0   \n",
       "7023                    1                        0                  1   \n",
       "7024                    1                        0                  1   \n",
       "7025                    0                        1                  0   \n",
       "7026                    0                        1                  0   \n",
       "\n",
       "      Contract_Two year  PaperlessBilling_No  PaperlessBilling_Yes  \\\n",
       "7022                  1                    0                     1   \n",
       "7023                  0                    0                     1   \n",
       "7024                  0                    0                     1   \n",
       "7025                  0                    0                     1   \n",
       "7026                  0                    0                     1   \n",
       "\n",
       "      PaymentMethod_Bank transfer (automatic)  \\\n",
       "7022                                        1   \n",
       "7023                                        0   \n",
       "7024                                        0   \n",
       "7025                                        0   \n",
       "7026                                        0   \n",
       "\n",
       "      PaymentMethod_Credit card (automatic)  PaymentMethod_Electronic check  \\\n",
       "7022                                      0                               0   \n",
       "7023                                      0                               0   \n",
       "7024                                      1                               0   \n",
       "7025                                      0                               1   \n",
       "7026                                      0                               0   \n",
       "\n",
       "      PaymentMethod_Mailed check  \n",
       "7022                           0  \n",
       "7023                           1  \n",
       "7024                           0  \n",
       "7025                           0  \n",
       "7026                           1  \n",
       "\n",
       "[5 rows x 40 columns]"
      ]
     },
     "execution_count": 14,
     "metadata": {},
     "output_type": "execute_result"
    }
   ],
   "source": [
    "# tail 함수 활용, df1 컬럼 분포 확인\n",
    "# 숫자 분포 이루어진 컬럼 확인\n",
    "\n",
    "df1.tail()"
   ]
  },
  {
   "cell_type": "code",
   "execution_count": 15,
   "metadata": {
    "id": "g5t2T8wc0YIL"
   },
   "outputs": [],
   "source": [
    "# scikit-learn 라이브러리에서 MinMaxScaler 클래스 가져오기\n",
    "\n",
    "from sklearn.preprocessing import MinMaxScaler"
   ]
  },
  {
   "cell_type": "code",
   "execution_count": 16,
   "metadata": {
    "id": "clXrLKXg0YIL"
   },
   "outputs": [],
   "source": [
    "# MinMaxScaler 함수를 'scaler'로 정의 하세요.\n",
    "# 정의할 결과를 'scaler'로 매핑, MinMaxScaler 객체를 scaler로 생성\n",
    "# 훈련 데이터에 fit 메서드 적용, transform 메서드로 데이터 변환\n",
    "\n",
    "scaler = MinMaxScaler()\n",
    "X_train = scaler.fit_transform(X_train)\n",
    "X_test = scaler.transform(X_test)"
   ]
  },
  {
   "cell_type": "code",
   "execution_count": 17,
   "metadata": {
    "colab": {
     "base_uri": "https://localhost:8080/"
    },
    "id": "zi-u0wTB0YIL",
    "outputId": "fbd9d258-4da9-4d9d-ef4d-c3364801f86a"
   },
   "outputs": [
    {
     "data": {
      "text/plain": [
       "array([[0.65277778, 0.56851021, 0.40877722, 1.        , 0.        ,\n",
       "        1.        , 0.        , 1.        , 0.        , 1.        ,\n",
       "        0.        , 0.        , 0.        , 1.        , 0.        ,\n",
       "        0.        , 0.        , 1.        , 1.        , 0.        ,\n",
       "        0.        , 1.        , 0.        , 0.        , 1.        ,\n",
       "        0.        , 0.        , 1.        , 0.        , 0.        ,\n",
       "        1.        , 0.        , 0.        , 1.        , 0.        ,\n",
       "        0.        , 1.        , 0.        , 0.        ],\n",
       "       [0.27777778, 0.00498256, 0.04008671, 1.        , 0.        ,\n",
       "        1.        , 0.        , 1.        , 0.        , 1.        ,\n",
       "        0.        , 0.        , 0.        , 0.        , 1.        ,\n",
       "        0.        , 1.        , 0.        , 0.        , 1.        ,\n",
       "        0.        , 0.        , 1.        , 0.        , 0.        ,\n",
       "        1.        , 0.        , 0.        , 1.        , 0.        ,\n",
       "        1.        , 0.        , 0.        , 0.        , 1.        ,\n",
       "        0.        , 1.        , 0.        , 0.        ]])"
      ]
     },
     "execution_count": 17,
     "metadata": {},
     "output_type": "execute_result"
    }
   ],
   "source": [
    "# X_train 배열의 첫 두 행 반환\n",
    "# 훈련데이터의 일부 미리보기\n",
    "\n",
    "X_train[:2]"
   ]
  },
  {
   "cell_type": "markdown",
   "metadata": {
    "id": "fUKskwle0YIM"
   },
   "source": [
    "## ⑦ 딥러닝 심층신경망(DNN) 모델 구현"
   ]
  },
  {
   "cell_type": "markdown",
   "metadata": {
    "id": "-qtH1IV_0YIM"
   },
   "source": [
    "####  \n",
    "### 라이브러리 임포트"
   ]
  },
  {
   "cell_type": "code",
   "execution_count": 18,
   "metadata": {
    "id": "xZ-81qT80YIM"
   },
   "outputs": [],
   "source": [
    "# 아래 라이브러리를 임포트하시오\n",
    "\n",
    "import tensorflow as tf\n",
    "from tensorflow.keras.models import Sequential\n",
    "from tensorflow.keras.layers import Dense, Dropout\n",
    "\n",
    "tf.random.set_seed(100)"
   ]
  },
  {
   "cell_type": "markdown",
   "metadata": {
    "id": "VUDoigSc0YIM"
   },
   "source": [
    "####  \n",
    "### 하이퍼파라미터 설정 : batch_size, epochs"
   ]
  },
  {
   "cell_type": "code",
   "execution_count": 19,
   "metadata": {
    "id": "zmEdqNNS0YIM"
   },
   "outputs": [],
   "source": [
    "# 아래와 같이 하이퍼파라미터를 설정하시오.\n",
    "\n",
    "batch_size = 16\n",
    "epochs = 20"
   ]
  },
  {
   "cell_type": "markdown",
   "metadata": {
    "id": "PqXbXmeD0YIN"
   },
   "source": [
    "####  \n",
    "### 모델 입력(features) 갯수 확인"
   ]
  },
  {
   "cell_type": "code",
   "execution_count": 20,
   "metadata": {
    "colab": {
     "base_uri": "https://localhost:8080/"
    },
    "id": "zCUyUw6J0YIN",
    "outputId": "2454aff8-f6fd-485f-ee55-2ece1b943d39"
   },
   "outputs": [
    {
     "data": {
      "text/plain": [
       "(4918, 39)"
      ]
     },
     "execution_count": 20,
     "metadata": {},
     "output_type": "execute_result"
    }
   ],
   "source": [
    "# X_train 배열 형태(shape) 반환\n",
    "\n",
    "X_train.shape"
   ]
  },
  {
   "cell_type": "markdown",
   "metadata": {
    "id": "L1mqWzpz0YIN"
   },
   "source": [
    "####  \n",
    "### 모델 출력(label) 갯수 확인"
   ]
  },
  {
   "cell_type": "code",
   "execution_count": 21,
   "metadata": {
    "colab": {
     "base_uri": "https://localhost:8080/"
    },
    "id": "kzVC8VGO0YIN",
    "outputId": "b95c5396-b919-4a99-b2bb-989ea9ea6790"
   },
   "outputs": [
    {
     "data": {
      "text/plain": [
       "(4918,)"
      ]
     },
     "execution_count": 21,
     "metadata": {},
     "output_type": "execute_result"
    }
   ],
   "source": [
    "# y_train 배열의 형태(shape) 반환\n",
    "\n",
    "y_train.shape"
   ]
  },
  {
   "cell_type": "markdown",
   "metadata": {
    "id": "1zLx5_rB0YIO"
   },
   "source": [
    "####  \n",
    "### **A. 이진분류 DNN모델 구성**\n",
    "#### 이진분류를 위한 DNN 모델은 컴퓨터가 두 가지 중 하나를 선택하는 문제를 해결하기 위해 사용 (Ex.이메일이 스팸인지 아닌지)\n",
    "#### **ㅇ주요 구성요소**\n",
    "##### -입력 레이어 : 데이터의 특성(예: 이메일의 단어) 받기\n",
    "##### -은닉 레이어 : 중간 단계의 계산, 복잡한 패턴 학습\n",
    "##### -출력 레이어 : 최종 결정, 주로 \"예\" 또는 \"아니오\"를 결정\n",
    "#### **ㅇ활성화 함수**\n",
    "##### -ReLU : 은닉 레이어에서 주로 사용되며, 음수는 0으로 만든다.\n",
    "##### -시그모이드 : 출력 레이어에서 사용되며, 결과를 0과 1 사이로 만든다.\n",
    "#### **ㅇ손실 함수와 옵티마이저**\n",
    "##### -손실 함수 : 모델의 예측이 얼마나 틀렸는지 측정, 이진 분류에서는 주로 \"binary_crossentropy\" 사용\n",
    "##### -옵티마이저 : 손실을 줄이기 위해 파라미터를 업데이트하는 방법을 결정, \"Adam\"과 같은 알고리즘 사용\n"
   ]
  },
  {
   "cell_type": "markdown",
   "metadata": {
    "id": "zKKe_aOJ0YIO"
   },
   "source": [
    "![hidden Layer](https://github.com/gzone2000/TEMP_TEST/raw/master/hidden_layer1.PNG)\n",
    "+ [출처] https://subscription.packtpub.com/book/data/9781788995207/1/ch01lvl1sec03/deep-learning-intuition"
   ]
  },
  {
   "cell_type": "markdown",
   "metadata": {
    "id": "2LX2K8Hu0YIO"
   },
   "source": [
    "#### <font color=blue> **[문제3] 아래 요구사항대로 프로세스에 따라 Sequential 모델을 만들어 보세요.** </font>"
   ]
  },
  {
   "cell_type": "code",
   "execution_count": 22,
   "metadata": {
    "id": "Fygby0lS0YIO"
   },
   "outputs": [],
   "source": [
    "# Sequential() 모델 정의 하고 model로 저장\n",
    "# input layer는 input_shape=() 옵션을 사용한다.\n",
    "# 39개 input layer\n",
    "# unit 4개 hidden layer\n",
    "# unit 3개 hidden layer \n",
    "# 1개 output layser : 이진분류\n",
    "\n",
    "model = Sequential()\n",
    "model.add(Dense(4, activation='relu', input_shape=(39,)))\n",
    "model.add(Dense(3, activation='relu'))\n",
    "model.add(Dense(1, activation='sigmoid'))"
   ]
  },
  {
   "cell_type": "markdown",
   "metadata": {},
   "source": [
    "####  \n",
    "### 모델 확인"
   ]
  },
  {
   "cell_type": "code",
   "execution_count": 23,
   "metadata": {},
   "outputs": [
    {
     "name": "stdout",
     "output_type": "stream",
     "text": [
      "Model: \"sequential\"\n",
      "_________________________________________________________________\n",
      " Layer (type)                Output Shape              Param #   \n",
      "=================================================================\n",
      " dense (Dense)               (None, 4)                 160       \n",
      "                                                                 \n",
      " dense_1 (Dense)             (None, 3)                 15        \n",
      "                                                                 \n",
      " dense_2 (Dense)             (None, 1)                 4         \n",
      "                                                                 \n",
      "=================================================================\n",
      "Total params: 179\n",
      "Trainable params: 179\n",
      "Non-trainable params: 0\n",
      "_________________________________________________________________\n"
     ]
    }
   ],
   "source": [
    "# Keras 모델 구조를 요약하여 출력\n",
    "\n",
    "model.summary()"
   ]
  },
  {
   "cell_type": "markdown",
   "metadata": {
    "id": "gRD_erqd0YIO"
   },
   "source": [
    "####  \n",
    "### Sequential 모델 정의"
   ]
  },
  {
   "cell_type": "code",
   "execution_count": 24,
   "metadata": {
    "colab": {
     "base_uri": "https://localhost:8080/"
    },
    "id": "_dWPN4Hf0YIP",
    "outputId": "c13286a7-2094-4e4f-aff2-aa7d7cd332fe"
   },
   "outputs": [],
   "source": [
    "# Sequential() 모델 정의 하고 model로 저장\n",
    "\n",
    "model = Sequential()"
   ]
  },
  {
   "cell_type": "markdown",
   "metadata": {
    "id": "hArp-8W00YIP"
   },
   "source": [
    "####  \n",
    "### 모델 구성 -  과적합 방지"
   ]
  },
  {
   "cell_type": "markdown",
   "metadata": {
    "id": "P12SscRX0YIP"
   },
   "source": [
    "![dropout](https://github.com/gzone2000/TEMP_TEST/raw/master/dropout.PNG)\n",
    "+ [출처] https://medium.com/@amarbudhiraja/https-medium-com-amarbudhiraja-learning-less-to-learn-better-dropout-in-deep-machine-learning-74334da4bfc5"
   ]
  },
  {
   "cell_type": "code",
   "execution_count": 25,
   "metadata": {
    "id": "hTZ0lfsB0YIP"
   },
   "outputs": [],
   "source": [
    "# 입력 레이어: 39개의 입력 노드와 활성화 함수로 'relu' 사용\n",
    "model.add(Dense(4, activation='relu', input_shape=(39,)))\n",
    "\n",
    "# 첫 번째 은닉 레이어 후에 드롭아웃 레이어 추가: 드롭아웃 비율 0.3\n",
    "model.add(Dropout(0.3))\n",
    "\n",
    "# 두 번째 은닉 레이어: 3개의 노드와 활성화 함수로 'relu' 사용\n",
    "model.add(Dense(3, activation='relu'))\n",
    "\n",
    "# 두 번째 은닉 레이어 후에 드롭아웃 레이어 추가: 드롭아웃 비율 0.3\n",
    "model.add(Dropout(0.3))\n",
    "\n",
    "# 출력 레이어: 이진 분류를 위한 1개의 노드와 활성화 함수 sigmoid 사용\n",
    "model.add(Dense(1, activation='sigmoid'))"
   ]
  },
  {
   "cell_type": "markdown",
   "metadata": {
    "id": "awF-BLSo0YIQ"
   },
   "source": [
    "####  \n",
    "### 과적합 방지 모델 확인"
   ]
  },
  {
   "cell_type": "code",
   "execution_count": 26,
   "metadata": {
    "colab": {
     "base_uri": "https://localhost:8080/"
    },
    "id": "5EPZjdj80YIQ",
    "outputId": "5c973173-027e-4d7f-80ab-9858a0f7cee4"
   },
   "outputs": [
    {
     "name": "stdout",
     "output_type": "stream",
     "text": [
      "Model: \"sequential_1\"\n",
      "_________________________________________________________________\n",
      " Layer (type)                Output Shape              Param #   \n",
      "=================================================================\n",
      " dense_3 (Dense)             (None, 4)                 160       \n",
      "                                                                 \n",
      " dropout (Dropout)           (None, 4)                 0         \n",
      "                                                                 \n",
      " dense_4 (Dense)             (None, 3)                 15        \n",
      "                                                                 \n",
      " dropout_1 (Dropout)         (None, 3)                 0         \n",
      "                                                                 \n",
      " dense_5 (Dense)             (None, 1)                 4         \n",
      "                                                                 \n",
      "=================================================================\n",
      "Total params: 179\n",
      "Trainable params: 179\n",
      "Non-trainable params: 0\n",
      "_________________________________________________________________\n"
     ]
    }
   ],
   "source": [
    "# 모델 구조와 각 레이어 세부 정보 출력\n",
    "\n",
    "model.summary()"
   ]
  },
  {
   "cell_type": "markdown",
   "metadata": {
    "id": "1VOruMmv0YIQ"
   },
   "source": [
    "####  \n",
    "### 모델 컴파일 – 이진 분류 모델"
   ]
  },
  {
   "cell_type": "markdown",
   "metadata": {},
   "source": [
    "#### <font color=blue> **[문제4] 아래 요구사항대로 이진 분류 모델을 컴파일해주세요.** </font>"
   ]
  },
  {
   "cell_type": "code",
   "execution_count": 27,
   "metadata": {
    "id": "nVZnbiNp0YIQ"
   },
   "outputs": [],
   "source": [
    "# - 옵티마이저 : 'adam'\n",
    "# - 손실 함수 : 'binary_crossentropy'\n",
    "# - 평가 지표 : 'accuracy'\n",
    "\n",
    "model.compile(optimizer='adam', \n",
    "              loss='binary_crossentropy', \n",
    "              metrics=['accuracy']) "
   ]
  },
  {
   "cell_type": "markdown",
   "metadata": {
    "id": "mHEfmI450YIQ"
   },
   "source": [
    "- 모델 컴파일 – 이진 분류 모델 <br>\n",
    "model.compile(optimizer='adam', loss='binary_crossentropy', metrics=['accuracy'])"
   ]
  },
  {
   "cell_type": "markdown",
   "metadata": {},
   "source": [
    "- 모델 컴파일 – 다중 분류 모델 (Y값을 One-Hot-Encoding 한 경우) <br>\n",
    "model.compile(optimizer='adam', loss='categorical_crossentropy', metrics=['accuracy'])"
   ]
  },
  {
   "cell_type": "markdown",
   "metadata": {
    "id": "qvjLtvLO0YIR"
   },
   "source": [
    "- 모델 컴파일 – 다중 분류 모델  (Y값을 One-Hot-Encoding 하지 않은 경우) <br>\n",
    "model.compile(optimizer='adam', loss='sparse_categorical_crossentropy', metrics=['accuracy'])"
   ]
  },
  {
   "cell_type": "markdown",
   "metadata": {
    "id": "AK35wHQq0YIR"
   },
   "source": [
    "- 모델 컴파일 – 예측 모델\n",
    "model.compile(optimizer='adam', loss='mse')"
   ]
  },
  {
   "cell_type": "markdown",
   "metadata": {
    "id": "rTX4ExMb0YIR"
   },
   "source": [
    "####  \n",
    "### 모델 학습"
   ]
  },
  {
   "cell_type": "markdown",
   "metadata": {
    "colab": {
     "base_uri": "https://localhost:8080/"
    },
    "id": "l0VkwonN0YIS",
    "outputId": "0bd4f847-c11e-4df6-938a-2507b165d3e5",
    "tags": []
   },
   "source": [
    "+ 모델 이름 : model\n",
    "+ Sequential 모델의 fit() 함수 사용\n",
    "+ X, y : X_train, y_train\n",
    "+ validation_data=(X_test, y_test)\n",
    "+ epochs : 10번\n",
    "+ batch_size : 10번"
   ]
  },
  {
   "cell_type": "markdown",
   "metadata": {},
   "source": [
    "#### <font color=blue> **[문제5] 위의 요구사항대로 DNN 모델을 학습시키세요.** </font>"
   ]
  },
  {
   "cell_type": "code",
   "execution_count": 28,
   "metadata": {},
   "outputs": [
    {
     "name": "stdout",
     "output_type": "stream",
     "text": [
      "Epoch 1/10\n",
      "492/492 [==============================] - 2s 3ms/step - loss: 0.6057 - accuracy: 0.7048 - val_loss: 0.5062 - val_accuracy: 0.7349\n",
      "Epoch 2/10\n",
      "492/492 [==============================] - 1s 3ms/step - loss: 0.5397 - accuracy: 0.7403 - val_loss: 0.4728 - val_accuracy: 0.7345\n",
      "Epoch 3/10\n",
      "492/492 [==============================] - 1s 3ms/step - loss: 0.5215 - accuracy: 0.7542 - val_loss: 0.4630 - val_accuracy: 0.7397\n",
      "Epoch 4/10\n",
      "492/492 [==============================] - 1s 2ms/step - loss: 0.5113 - accuracy: 0.7572 - val_loss: 0.4547 - val_accuracy: 0.7544\n",
      "Epoch 5/10\n",
      "492/492 [==============================] - 1s 2ms/step - loss: 0.5093 - accuracy: 0.7623 - val_loss: 0.4566 - val_accuracy: 0.7587\n",
      "Epoch 6/10\n",
      "492/492 [==============================] - 1s 3ms/step - loss: 0.5006 - accuracy: 0.7607 - val_loss: 0.4489 - val_accuracy: 0.7771\n",
      "Epoch 7/10\n",
      "492/492 [==============================] - 1s 3ms/step - loss: 0.4969 - accuracy: 0.7686 - val_loss: 0.4510 - val_accuracy: 0.7662\n",
      "Epoch 8/10\n",
      "492/492 [==============================] - 1s 3ms/step - loss: 0.4950 - accuracy: 0.7660 - val_loss: 0.4479 - val_accuracy: 0.7705\n",
      "Epoch 9/10\n",
      "492/492 [==============================] - 1s 3ms/step - loss: 0.4965 - accuracy: 0.7643 - val_loss: 0.4458 - val_accuracy: 0.7819\n",
      "Epoch 10/10\n",
      "492/492 [==============================] - 1s 3ms/step - loss: 0.4975 - accuracy: 0.7658 - val_loss: 0.4512 - val_accuracy: 0.7719\n"
     ]
    },
    {
     "data": {
      "text/plain": [
       "<keras.callbacks.History at 0x17ed8307760>"
      ]
     },
     "execution_count": 28,
     "metadata": {},
     "output_type": "execute_result"
    }
   ],
   "source": [
    "model.fit(X_train, y_train, \n",
    "          validation_data=(X_test, y_test),\n",
    "          epochs=10, \n",
    "          batch_size=10)"
   ]
  },
  {
   "cell_type": "markdown",
   "metadata": {
    "id": "WPZYzqib0YIS"
   },
   "source": [
    "####\n",
    "### B. 다중분류 DNN 모델 구성\n",
    "+ 입력레이어(input layer) : 18개, 네트워크에 데이터를 입력하는 역할\n",
    "+ 은닉레이어 1(hidden layer) : 5개 unit, 활성화 함수는 보통 ReLU 등이 사용\n",
    "+ 은닉레이어 2(hidden layer) : 4개 unit, 활성화 함수는 보통 ReLU 사용 \n",
    "+ 출력레이어(Output Layer) : 2개, 활성화 함수는 보통 softmax 사용"
   ]
  },
  {
   "cell_type": "markdown",
   "metadata": {
    "id": "Opb5-0OI0YIS"
   },
   "source": [
    "![다중분류](https://github.com/gzone2000/TEMP_TEST/raw/master/hidden_layer2.PNG)\n",
    "+ [출처] https://www.educba.com/dnn-neural-network/"
   ]
  },
  {
   "cell_type": "markdown",
   "metadata": {},
   "source": [
    "#### <font color=blue> **[문제6] 아래 요구사항대로 프로세스에 따라 DNN 모델을 구성하세요.** </font>"
   ]
  },
  {
   "cell_type": "code",
   "execution_count": 29,
   "metadata": {
    "id": "k0Tiq3A40YIS"
   },
   "outputs": [],
   "source": [
    "# 39개 input layer\n",
    "# unit 5개 hidden layer\n",
    "# dropout\n",
    "# unit 4개 hidden layer \n",
    "# dropout\n",
    "# 2개 output layser : 다중분류\n",
    "# epochs : 20번\n",
    "# batch_size : 16번\n",
    "\n",
    "model = Sequential()\n",
    "model.add(Dense(5, activation='relu', input_shape=(39,)))\n",
    "model.add(Dropout(0.3))\n",
    "model.add(Dense(4, activation='relu'))\n",
    "model.add(Dropout(0.3))\n",
    "model.add(Dense(2, activation='softmax'))"
   ]
  },
  {
   "cell_type": "markdown",
   "metadata": {
    "id": "sheeDtax0YIS"
   },
   "source": [
    "####  \n",
    "### 모델 확인"
   ]
  },
  {
   "cell_type": "code",
   "execution_count": 30,
   "metadata": {
    "colab": {
     "base_uri": "https://localhost:8080/"
    },
    "id": "sLGbErrf0YIT",
    "outputId": "a40264ba-9d7f-4f91-d501-7b9335c4ba38"
   },
   "outputs": [
    {
     "name": "stdout",
     "output_type": "stream",
     "text": [
      "Model: \"sequential_2\"\n",
      "_________________________________________________________________\n",
      " Layer (type)                Output Shape              Param #   \n",
      "=================================================================\n",
      " dense_6 (Dense)             (None, 5)                 200       \n",
      "                                                                 \n",
      " dropout_2 (Dropout)         (None, 5)                 0         \n",
      "                                                                 \n",
      " dense_7 (Dense)             (None, 4)                 24        \n",
      "                                                                 \n",
      " dropout_3 (Dropout)         (None, 4)                 0         \n",
      "                                                                 \n",
      " dense_8 (Dense)             (None, 2)                 10        \n",
      "                                                                 \n",
      "=================================================================\n",
      "Total params: 234\n",
      "Trainable params: 234\n",
      "Non-trainable params: 0\n",
      "_________________________________________________________________\n"
     ]
    }
   ],
   "source": [
    "# 모델 구조와 각 레이어의 세부 정보 출력\n",
    "\n",
    "model.summary()"
   ]
  },
  {
   "cell_type": "markdown",
   "metadata": {
    "id": "uSa3lsUp0YIT"
   },
   "source": [
    "####  \n",
    "### 모델 컴파일 – 다중 분류 모델"
   ]
  },
  {
   "cell_type": "code",
   "execution_count": 31,
   "metadata": {
    "colab": {
     "base_uri": "https://localhost:8080/"
    },
    "id": "DYEQKGgTIZ6S",
    "outputId": "5509172a-71d6-4b7e-e13e-e757eac4394f"
   },
   "outputs": [
    {
     "data": {
      "text/plain": [
       "(4918,)"
      ]
     },
     "execution_count": 31,
     "metadata": {},
     "output_type": "execute_result"
    }
   ],
   "source": [
    "# y_train 배열의 형태 반환\n",
    "\n",
    "y_train.shape"
   ]
  },
  {
   "cell_type": "code",
   "execution_count": 32,
   "metadata": {
    "id": "8uqwCzFC0YIT"
   },
   "outputs": [],
   "source": [
    "# optimizer : 'adam', 손실함수 : 'sparse_categorical_crossentropy', 평가지표 : 'accuracy'\n",
    "\n",
    "model.compile(optimizer='adam', \n",
    "              loss='sparse_categorical_crossentropy', \n",
    "              metrics=['accuracy']) "
   ]
  },
  {
   "cell_type": "markdown",
   "metadata": {
    "id": "RhUlTphR0YIT"
   },
   "source": [
    "####  \n",
    "### 모델 학습"
   ]
  },
  {
   "cell_type": "markdown",
   "metadata": {},
   "source": [
    "#### <font color=blue> **[문제7] 아래 요구사항대로 모델을 학습시키세요.** </font>"
   ]
  },
  {
   "cell_type": "code",
   "execution_count": 33,
   "metadata": {
    "colab": {
     "base_uri": "https://localhost:8080/"
    },
    "id": "FfooZ2jr0YIT",
    "outputId": "12da8856-e37a-4d85-eaf7-0e7cc0be755b"
   },
   "outputs": [
    {
     "name": "stdout",
     "output_type": "stream",
     "text": [
      "Epoch 1/20\n",
      "308/308 [==============================] - 2s 3ms/step - loss: 0.5880 - accuracy: 0.7039 - val_loss: 0.4870 - val_accuracy: 0.7345\n",
      "Epoch 2/20\n",
      "308/308 [==============================] - 1s 2ms/step - loss: 0.5071 - accuracy: 0.7344 - val_loss: 0.4626 - val_accuracy: 0.7345\n",
      "Epoch 3/20\n",
      "308/308 [==============================] - 1s 2ms/step - loss: 0.4925 - accuracy: 0.7344 - val_loss: 0.4538 - val_accuracy: 0.7345\n",
      "Epoch 4/20\n",
      "308/308 [==============================] - 1s 2ms/step - loss: 0.4904 - accuracy: 0.7344 - val_loss: 0.4523 - val_accuracy: 0.7345\n",
      "Epoch 5/20\n",
      "308/308 [==============================] - 1s 2ms/step - loss: 0.4796 - accuracy: 0.7344 - val_loss: 0.4465 - val_accuracy: 0.7345\n",
      "Epoch 6/20\n",
      "308/308 [==============================] - 1s 2ms/step - loss: 0.4803 - accuracy: 0.7344 - val_loss: 0.4477 - val_accuracy: 0.7345\n",
      "Epoch 7/20\n",
      "308/308 [==============================] - 1s 2ms/step - loss: 0.4715 - accuracy: 0.7344 - val_loss: 0.4423 - val_accuracy: 0.7345\n",
      "Epoch 8/20\n",
      "308/308 [==============================] - 1s 2ms/step - loss: 0.4750 - accuracy: 0.7344 - val_loss: 0.4400 - val_accuracy: 0.7345\n",
      "Epoch 9/20\n",
      "308/308 [==============================] - 1s 2ms/step - loss: 0.4724 - accuracy: 0.7344 - val_loss: 0.4373 - val_accuracy: 0.7345\n",
      "Epoch 10/20\n",
      "308/308 [==============================] - 1s 2ms/step - loss: 0.4744 - accuracy: 0.7344 - val_loss: 0.4389 - val_accuracy: 0.7345\n",
      "Epoch 11/20\n",
      "308/308 [==============================] - 1s 2ms/step - loss: 0.4750 - accuracy: 0.7344 - val_loss: 0.4384 - val_accuracy: 0.7345\n",
      "Epoch 12/20\n",
      "308/308 [==============================] - 1s 2ms/step - loss: 0.4669 - accuracy: 0.7344 - val_loss: 0.4356 - val_accuracy: 0.7345\n",
      "Epoch 13/20\n",
      "308/308 [==============================] - 1s 3ms/step - loss: 0.4695 - accuracy: 0.7344 - val_loss: 0.4378 - val_accuracy: 0.7345\n",
      "Epoch 14/20\n",
      "308/308 [==============================] - 1s 3ms/step - loss: 0.4726 - accuracy: 0.7344 - val_loss: 0.4378 - val_accuracy: 0.7345\n",
      "Epoch 15/20\n",
      "308/308 [==============================] - 1s 3ms/step - loss: 0.4732 - accuracy: 0.7344 - val_loss: 0.4358 - val_accuracy: 0.7345\n",
      "Epoch 16/20\n",
      "308/308 [==============================] - 1s 3ms/step - loss: 0.4682 - accuracy: 0.7344 - val_loss: 0.4358 - val_accuracy: 0.7345\n",
      "Epoch 17/20\n",
      "308/308 [==============================] - 1s 3ms/step - loss: 0.4689 - accuracy: 0.7344 - val_loss: 0.4354 - val_accuracy: 0.7345\n",
      "Epoch 18/20\n",
      "308/308 [==============================] - 1s 3ms/step - loss: 0.4697 - accuracy: 0.7344 - val_loss: 0.4338 - val_accuracy: 0.7345\n",
      "Epoch 19/20\n",
      "308/308 [==============================] - 1s 3ms/step - loss: 0.4646 - accuracy: 0.7344 - val_loss: 0.4325 - val_accuracy: 0.7345\n",
      "Epoch 20/20\n",
      "308/308 [==============================] - 1s 3ms/step - loss: 0.4725 - accuracy: 0.7344 - val_loss: 0.4344 - val_accuracy: 0.7345\n"
     ]
    }
   ],
   "source": [
    "# 학습데이터 : X_train, y_train\n",
    "# 검증데이터 : X_test, y_test\n",
    "# epochs : 20, batch_size : 16\n",
    "# 'history' 변수에 저장\n",
    "\n",
    "history = model.fit(X_train, y_train, \n",
    "          validation_data=(X_test, y_test),\n",
    "          epochs=20, \n",
    "          batch_size=16)"
   ]
  },
  {
   "cell_type": "markdown",
   "metadata": {
    "id": "qsohXyXZ0YIT"
   },
   "source": [
    "####  \n",
    "### Callback : 조기종료, 모델 저장"
   ]
  },
  {
   "cell_type": "code",
   "execution_count": 34,
   "metadata": {
    "id": "z7d_nFMf0YIU"
   },
   "outputs": [],
   "source": [
    "# EarlyStopping과 ModelCheckpoint Callback을 임포트\n",
    "\n",
    "from tensorflow.keras.callbacks import EarlyStopping, ModelCheckpoint"
   ]
  },
  {
   "cell_type": "code",
   "execution_count": 35,
   "metadata": {
    "id": "hoOULwhL0YIU"
   },
   "outputs": [],
   "source": [
    "# EarlyStopping Callback 설정\n",
    "# val_loss(검증손실) 모니터링해서 손실이 최소화되는 방향으로 모니터링 \n",
    "# 성능이 5번 지나도록 좋아지지 않으면 조기 종료\n",
    "\n",
    "early_stop = EarlyStopping(monitor='val_loss', mode='min', \n",
    "                           verbose=1, patience=5)"
   ]
  },
  {
   "cell_type": "code",
   "execution_count": 36,
   "metadata": {
    "id": "bKT5doN10YIU"
   },
   "outputs": [],
   "source": [
    "# 최적의 모델을 'best_model.h5' 파일로 저장, 검증 손실이 최소일 때만 저장\n",
    "# val_loss 가장 낮은 값을 가질 때마다 모델 저장\n",
    "\n",
    "check_point = ModelCheckpoint('best_model.h5', verbose=1, \n",
    "                              monitor='val_loss', mode='min', save_best_only=True)"
   ]
  },
  {
   "cell_type": "markdown",
   "metadata": {
    "id": "3IUAfPnJ0YIU"
   },
   "source": [
    "####  \n",
    "### 모델 학습"
   ]
  },
  {
   "cell_type": "markdown",
   "metadata": {},
   "source": [
    "#### <font color=blue> **[문제8] 주어진 훈련데이터(X_train, y_train)와 테스트데이터(X_test, y_test)에 대한 모델을 훈련시켜보세요.** </font>\n",
    "#### <font color=blue> **아래 조건을 충족하는 코드를 작성하십시오.** </font>"
   ]
  },
  {
   "cell_type": "code",
   "execution_count": 37,
   "metadata": {
    "colab": {
     "base_uri": "https://localhost:8080/"
    },
    "id": "-TYvrlT90YIU",
    "outputId": "09847321-27c5-47ac-b6ae-2d67258c5821"
   },
   "outputs": [
    {
     "name": "stdout",
     "output_type": "stream",
     "text": [
      "Epoch 1/50\n",
      "221/246 [=========================>....] - ETA: 0s - loss: 0.4675 - accuracy: 0.7378\n",
      "Epoch 1: val_loss improved from inf to 0.43924, saving model to best_model.h5\n",
      "246/246 [==============================] - 1s 3ms/step - loss: 0.4708 - accuracy: 0.7344 - val_loss: 0.4392 - val_accuracy: 0.7345\n",
      "Epoch 2/50\n",
      "220/246 [=========================>....] - ETA: 0s - loss: 0.4740 - accuracy: 0.7327\n",
      "Epoch 2: val_loss improved from 0.43924 to 0.43435, saving model to best_model.h5\n",
      "246/246 [==============================] - 1s 3ms/step - loss: 0.4713 - accuracy: 0.7344 - val_loss: 0.4343 - val_accuracy: 0.7345\n",
      "Epoch 3/50\n",
      "239/246 [============================>.] - ETA: 0s - loss: 0.4772 - accuracy: 0.7335\n",
      "Epoch 3: val_loss improved from 0.43435 to 0.43429, saving model to best_model.h5\n",
      "246/246 [==============================] - 1s 2ms/step - loss: 0.4754 - accuracy: 0.7344 - val_loss: 0.4343 - val_accuracy: 0.7345\n",
      "Epoch 4/50\n",
      "236/246 [===========================>..] - ETA: 0s - loss: 0.4731 - accuracy: 0.7307\n",
      "Epoch 4: val_loss improved from 0.43429 to 0.43386, saving model to best_model.h5\n",
      "246/246 [==============================] - 1s 2ms/step - loss: 0.4697 - accuracy: 0.7344 - val_loss: 0.4339 - val_accuracy: 0.7345\n",
      "Epoch 5/50\n",
      "230/246 [===========================>..] - ETA: 0s - loss: 0.4662 - accuracy: 0.7352\n",
      "Epoch 5: val_loss improved from 0.43386 to 0.43281, saving model to best_model.h5\n",
      "246/246 [==============================] - 1s 3ms/step - loss: 0.4660 - accuracy: 0.7344 - val_loss: 0.4328 - val_accuracy: 0.7345\n",
      "Epoch 6/50\n",
      "237/246 [===========================>..] - ETA: 0s - loss: 0.4734 - accuracy: 0.7321\n",
      "Epoch 6: val_loss did not improve from 0.43281\n",
      "246/246 [==============================] - 1s 2ms/step - loss: 0.4712 - accuracy: 0.7344 - val_loss: 0.4367 - val_accuracy: 0.7345\n",
      "Epoch 7/50\n",
      "214/246 [=========================>....] - ETA: 0s - loss: 0.4657 - accuracy: 0.7315\n",
      "Epoch 7: val_loss improved from 0.43281 to 0.43159, saving model to best_model.h5\n",
      "246/246 [==============================] - 1s 2ms/step - loss: 0.4662 - accuracy: 0.7344 - val_loss: 0.4316 - val_accuracy: 0.7345\n",
      "Epoch 8/50\n",
      "221/246 [=========================>....] - ETA: 0s - loss: 0.4696 - accuracy: 0.7364\n",
      "Epoch 8: val_loss did not improve from 0.43159\n",
      "246/246 [==============================] - 1s 3ms/step - loss: 0.4703 - accuracy: 0.7344 - val_loss: 0.4367 - val_accuracy: 0.7345\n",
      "Epoch 9/50\n",
      "243/246 [============================>.] - ETA: 0s - loss: 0.4642 - accuracy: 0.7346\n",
      "Epoch 9: val_loss did not improve from 0.43159\n",
      "246/246 [==============================] - 1s 3ms/step - loss: 0.4651 - accuracy: 0.7344 - val_loss: 0.4327 - val_accuracy: 0.7345\n",
      "Epoch 10/50\n",
      "218/246 [=========================>....] - ETA: 0s - loss: 0.4649 - accuracy: 0.7427\n",
      "Epoch 10: val_loss did not improve from 0.43159\n",
      "246/246 [==============================] - 1s 2ms/step - loss: 0.4665 - accuracy: 0.7428 - val_loss: 0.4321 - val_accuracy: 0.7345\n",
      "Epoch 11/50\n",
      "215/246 [=========================>....] - ETA: 0s - loss: 0.4628 - accuracy: 0.7519\n",
      "Epoch 11: val_loss did not improve from 0.43159\n",
      "246/246 [==============================] - 1s 2ms/step - loss: 0.4632 - accuracy: 0.7542 - val_loss: 0.4318 - val_accuracy: 0.8018\n",
      "Epoch 12/50\n",
      "235/246 [===========================>..] - ETA: 0s - loss: 0.4601 - accuracy: 0.7887\n",
      "Epoch 12: val_loss improved from 0.43159 to 0.43125, saving model to best_model.h5\n",
      "246/246 [==============================] - 1s 2ms/step - loss: 0.4629 - accuracy: 0.7867 - val_loss: 0.4312 - val_accuracy: 0.8018\n",
      "Epoch 13/50\n",
      "233/246 [===========================>..] - ETA: 0s - loss: 0.4661 - accuracy: 0.7811\n",
      "Epoch 13: val_loss did not improve from 0.43125\n",
      "246/246 [==============================] - 1s 3ms/step - loss: 0.4663 - accuracy: 0.7802 - val_loss: 0.4315 - val_accuracy: 0.7975\n",
      "Epoch 14/50\n",
      "223/246 [==========================>...] - ETA: 0s - loss: 0.4685 - accuracy: 0.7726\n",
      "Epoch 14: val_loss did not improve from 0.43125\n",
      "246/246 [==============================] - 1s 2ms/step - loss: 0.4707 - accuracy: 0.7712 - val_loss: 0.4345 - val_accuracy: 0.8009\n",
      "Epoch 15/50\n",
      "226/246 [==========================>...] - ETA: 0s - loss: 0.4716 - accuracy: 0.7697\n",
      "Epoch 15: val_loss did not improve from 0.43125\n",
      "246/246 [==============================] - 1s 2ms/step - loss: 0.4710 - accuracy: 0.7682 - val_loss: 0.4333 - val_accuracy: 0.7345\n",
      "Epoch 16/50\n",
      "226/246 [==========================>...] - ETA: 0s - loss: 0.4577 - accuracy: 0.7418\n",
      "Epoch 16: val_loss did not improve from 0.43125\n",
      "246/246 [==============================] - 1s 3ms/step - loss: 0.4565 - accuracy: 0.7475 - val_loss: 0.4318 - val_accuracy: 0.8009\n",
      "Epoch 17/50\n",
      "232/246 [===========================>..] - ETA: 0s - loss: 0.4634 - accuracy: 0.7871\n",
      "Epoch 17: val_loss did not improve from 0.43125\n",
      "246/246 [==============================] - 1s 3ms/step - loss: 0.4654 - accuracy: 0.7851 - val_loss: 0.4322 - val_accuracy: 0.8009\n",
      "Epoch 17: early stopping\n"
     ]
    }
   ],
   "source": [
    "# early_stop과 check_point Callback 사용하여 모델에 적용시키세요.\n",
    "# epochs=50, batch_size=20\n",
    "# 검증 데이터로 X_test, y_test 사용\n",
    "# verbose 옵션을 1로 설정\n",
    "# 'history' 변수에 저장\n",
    "\n",
    "history = model.fit(x=X_train, y=y_train, \n",
    "          epochs=50 , batch_size=20,\n",
    "          validation_data=(X_test, y_test), verbose=1,\n",
    "          callbacks=[early_stop, check_point])"
   ]
  },
  {
   "cell_type": "markdown",
   "metadata": {
    "id": "pWF_TAU-0YIV"
   },
   "source": [
    "####  \n",
    "## ⑧ 모델 성능 평가"
   ]
  },
  {
   "cell_type": "code",
   "execution_count": 38,
   "metadata": {
    "id": "htUz49CR0YIV"
   },
   "outputs": [],
   "source": [
    "# history 객체에서 훈련 과정의 손실값을 Pandas의 DataFrame으로 변환한 후 'losses' 변수에 저장\n",
    "\n",
    "losses = pd.DataFrame(history.history)"
   ]
  },
  {
   "cell_type": "code",
   "execution_count": 39,
   "metadata": {
    "colab": {
     "base_uri": "https://localhost:8080/",
     "height": 206
    },
    "id": "6GAnPrgb0YIV",
    "outputId": "01ac005b-ecb0-4b8e-fdda-5a2c1999c4f7"
   },
   "outputs": [
    {
     "data": {
      "text/html": [
       "<div>\n",
       "<style scoped>\n",
       "    .dataframe tbody tr th:only-of-type {\n",
       "        vertical-align: middle;\n",
       "    }\n",
       "\n",
       "    .dataframe tbody tr th {\n",
       "        vertical-align: top;\n",
       "    }\n",
       "\n",
       "    .dataframe thead th {\n",
       "        text-align: right;\n",
       "    }\n",
       "</style>\n",
       "<table border=\"1\" class=\"dataframe\">\n",
       "  <thead>\n",
       "    <tr style=\"text-align: right;\">\n",
       "      <th></th>\n",
       "      <th>loss</th>\n",
       "      <th>accuracy</th>\n",
       "      <th>val_loss</th>\n",
       "      <th>val_accuracy</th>\n",
       "    </tr>\n",
       "  </thead>\n",
       "  <tbody>\n",
       "    <tr>\n",
       "      <th>0</th>\n",
       "      <td>0.470848</td>\n",
       "      <td>0.734445</td>\n",
       "      <td>0.439244</td>\n",
       "      <td>0.734471</td>\n",
       "    </tr>\n",
       "    <tr>\n",
       "      <th>1</th>\n",
       "      <td>0.471311</td>\n",
       "      <td>0.734445</td>\n",
       "      <td>0.434347</td>\n",
       "      <td>0.734471</td>\n",
       "    </tr>\n",
       "    <tr>\n",
       "      <th>2</th>\n",
       "      <td>0.475353</td>\n",
       "      <td>0.734445</td>\n",
       "      <td>0.434294</td>\n",
       "      <td>0.734471</td>\n",
       "    </tr>\n",
       "    <tr>\n",
       "      <th>3</th>\n",
       "      <td>0.469706</td>\n",
       "      <td>0.734445</td>\n",
       "      <td>0.433858</td>\n",
       "      <td>0.734471</td>\n",
       "    </tr>\n",
       "    <tr>\n",
       "      <th>4</th>\n",
       "      <td>0.465990</td>\n",
       "      <td>0.734445</td>\n",
       "      <td>0.432805</td>\n",
       "      <td>0.734471</td>\n",
       "    </tr>\n",
       "  </tbody>\n",
       "</table>\n",
       "</div>"
      ],
      "text/plain": [
       "       loss  accuracy  val_loss  val_accuracy\n",
       "0  0.470848  0.734445  0.439244      0.734471\n",
       "1  0.471311  0.734445  0.434347      0.734471\n",
       "2  0.475353  0.734445  0.434294      0.734471\n",
       "3  0.469706  0.734445  0.433858      0.734471\n",
       "4  0.465990  0.734445  0.432805      0.734471"
      ]
     },
     "execution_count": 39,
     "metadata": {},
     "output_type": "execute_result"
    }
   ],
   "source": [
    "# 'losses' 첫 5행 확인\n",
    "\n",
    "losses.head()"
   ]
  },
  {
   "cell_type": "markdown",
   "metadata": {
    "id": "LwkmcZV90YIV"
   },
   "source": [
    "### 성능 시각화"
   ]
  },
  {
   "cell_type": "code",
   "execution_count": 40,
   "metadata": {
    "colab": {
     "base_uri": "https://localhost:8080/",
     "height": 285
    },
    "id": "dQH2Ylx50YIV",
    "outputId": "d853c1d2-2ad9-4652-99a0-4acf6c925099"
   },
   "outputs": [
    {
     "data": {
      "text/plain": [
       "<Axes: >"
      ]
     },
     "execution_count": 40,
     "metadata": {},
     "output_type": "execute_result"
    },
    {
     "data": {
      "image/png": "[encoded data removed]",
      "text/plain": [
       "<Figure size 640x480 with 1 Axes>"
      ]
     },
     "metadata": {},
     "output_type": "display_data"
    }
   ],
   "source": [
    "# 훈련과 검증 데이터에 대한 손실(loss, val_loss)을 그래프로 시각화하는 코드를 작성하세요.\n",
    "\n",
    "losses[['loss','val_loss']].plot()"
   ]
  },
  {
   "cell_type": "code",
   "execution_count": 41,
   "metadata": {
    "colab": {
     "base_uri": "https://localhost:8080/",
     "height": 283
    },
    "id": "aOVaAShI0YIV",
    "outputId": "aa32b4f8-caf3-4b44-cf26-c264bcc209ac"
   },
   "outputs": [
    {
     "data": {
      "text/plain": [
       "<Axes: >"
      ]
     },
     "execution_count": 41,
     "metadata": {},
     "output_type": "execute_result"
    },
    {
     "data": {
      "image/png": "[encoded data removed]",
      "text/plain": [
       "<Figure size 640x480 with 1 Axes>"
      ]
     },
     "metadata": {},
     "output_type": "display_data"
    }
   ],
   "source": [
    "# 훈련 및 검증 데이터의 손실(loss, val_loss)과 정확도(accuracy, val_accuracy)를 그래프로 시각화하는 코드를 작성하세요.\n",
    "losses[['loss','val_loss', 'accuracy','val_accuracy']].plot()"
   ]
  },
  {
   "cell_type": "markdown",
   "metadata": {},
   "source": [
    "#### <font color=blue> **[문제9] 아래 조건에 따라 훈련데이터와 검증데이터에 대한 정확도를 시각화하는 코드를 작성하세요** </font>"
   ]
  },
  {
   "cell_type": "markdown",
   "metadata": {},
   "source": [
    "+ 'history' 객체를 사용\n",
    "+ 그래프 제목 : 'Accuracy'\n",
    "+ x축 레이블 : 'Epochs'\n",
    "+ y축 레이블 : 'Acc'\n",
    "+ 범례 : 'acc', 'val_acc'"
   ]
  },
  {
   "cell_type": "code",
   "execution_count": 42,
   "metadata": {
    "colab": {
     "base_uri": "https://localhost:8080/",
     "height": 295
    },
    "id": "p3Z4OGG40YIW",
    "outputId": "63083a11-6a14-488a-9efe-b5e9971ba85d",
    "scrolled": true
   },
   "outputs": [
    {
     "data": {
      "image/png": "[encoded data removed]",
      "text/plain": [
       "<Figure size 640x480 with 1 Axes>"
      ]
     },
     "metadata": {},
     "output_type": "display_data"
    }
   ],
   "source": [
    "# 훈련 정확도 그리기\n",
    "plt.plot(history.history['accuracy'])\n",
    "\n",
    "# 검증 정확도 그리기\n",
    "plt.plot(history.history['val_accuracy'])\n",
    "\n",
    "# 그래프 제목 : Accuracy\n",
    "plt.title('Accuracy')\n",
    "\n",
    "# X축레이블 : Epochs\n",
    "plt.xlabel('Epochs')\n",
    "\n",
    "# y축레이블 : Acc\n",
    "plt.ylabel('Acc')\n",
    "\n",
    "# 범례 : acc, val_acc\n",
    "plt.legend(['acc', 'val_acc'])\n",
    "\n",
    "# 그래프 출력\n",
    "plt.show()"
   ]
  },
  {
   "cell_type": "markdown",
   "metadata": {
    "id": "1u_eyBJL0YIW"
   },
   "source": [
    "### 성능 평가"
   ]
  },
  {
   "cell_type": "code",
   "execution_count": 43,
   "metadata": {
    "id": "7tztF7yi0YIW"
   },
   "outputs": [],
   "source": [
    "# scikit-learn 라이브러리에서 모델 성능평가를 위한 정확도, 정밀도, 재현율, F1 점수 불러오기\n",
    "# sklearn에서 제공하는 분류 리포트 불러오기\n",
    "\n",
    "from sklearn.metrics import accuracy_score, precision_score, recall_score, f1_score\n",
    "from sklearn.metrics import classification_report"
   ]
  },
  {
   "cell_type": "code",
   "execution_count": 44,
   "metadata": {
    "id": "3IWrThr20YIW"
   },
   "outputs": [
    {
     "name": "stdout",
     "output_type": "stream",
     "text": [
      "66/66 [==============================] - 0s 2ms/step\n"
     ]
    }
   ],
   "source": [
    "# 모델을 사용하여 X_test 데이터 예측값 계산하여 pred에 저장\n",
    "\n",
    "pred = model.predict(X_test)"
   ]
  },
  {
   "cell_type": "code",
   "execution_count": 45,
   "metadata": {
    "colab": {
     "base_uri": "https://localhost:8080/"
    },
    "id": "y_q7Pz-j0YIW",
    "outputId": "cb2c251e-c8a3-4e9d-cba3-430daad593c4"
   },
   "outputs": [
    {
     "data": {
      "text/plain": [
       "(2109, 2)"
      ]
     },
     "execution_count": 45,
     "metadata": {},
     "output_type": "execute_result"
    }
   ],
   "source": [
    "# pred 형태 확인\n",
    "pred.shape"
   ]
  },
  {
   "cell_type": "code",
   "execution_count": 46,
   "metadata": {
    "id": "ogC2i7810YIa"
   },
   "outputs": [],
   "source": [
    "# 'pred' 배열에서 각 행(axis=1) 최댓값의 인덱스를 찾아 'y_pred'에 저장\n",
    "\n",
    "y_pred = np.argmax(pred, axis=1)"
   ]
  },
  {
   "cell_type": "code",
   "execution_count": 47,
   "metadata": {
    "colab": {
     "base_uri": "https://localhost:8080/"
    },
    "id": "gI0BTOmJJxCd",
    "outputId": "ed2108fa-2fde-4489-cfe8-26becc001877"
   },
   "outputs": [
    {
     "data": {
      "text/plain": [
       "array([0, 0, 0, ..., 1, 0, 0], dtype=int64)"
      ]
     },
     "execution_count": 47,
     "metadata": {},
     "output_type": "execute_result"
    }
   ],
   "source": [
    "# y_pred 확인\n",
    "\n",
    "y_pred"
   ]
  },
  {
   "cell_type": "code",
   "execution_count": 48,
   "metadata": {
    "colab": {
     "base_uri": "https://localhost:8080/"
    },
    "id": "nEI_Exmv0YIa",
    "outputId": "65c6a540-5f32-48c9-ca7c-4146d0b46f50"
   },
   "outputs": [
    {
     "data": {
      "text/plain": [
       "0.8008534850640113"
      ]
     },
     "execution_count": 48,
     "metadata": {},
     "output_type": "execute_result"
    }
   ],
   "source": [
    "# y_test, y_pred 정확도 확인\n",
    "\n",
    "accuracy_score(y_test, y_pred)"
   ]
  },
  {
   "cell_type": "code",
   "execution_count": 49,
   "metadata": {
    "colab": {
     "base_uri": "https://localhost:8080/"
    },
    "id": "Ftb7Y6K_0YIa",
    "outputId": "59478c7f-58fc-4a82-ebfd-84a6e7ac4119"
   },
   "outputs": [
    {
     "data": {
      "text/plain": [
       "0.45535714285714285"
      ]
     },
     "execution_count": 49,
     "metadata": {},
     "output_type": "execute_result"
    }
   ],
   "source": [
    "# y_test, y_pred 재현율 확인\n",
    "\n",
    "recall_score(y_test, y_pred)\n"
   ]
  },
  {
   "cell_type": "code",
   "execution_count": 50,
   "metadata": {
    "colab": {
     "base_uri": "https://localhost:8080/"
    },
    "id": "zEdx0ESm0YIb",
    "outputId": "041c0358-f521-4681-a2d1-1cf9ee5cc673"
   },
   "outputs": [
    {
     "name": "stdout",
     "output_type": "stream",
     "text": [
      "              precision    recall  f1-score   support\n",
      "\n",
      "           0       0.82      0.93      0.87      1549\n",
      "           1       0.69      0.46      0.55       560\n",
      "\n",
      "    accuracy                           0.80      2109\n",
      "   macro avg       0.76      0.69      0.71      2109\n",
      "weighted avg       0.79      0.80      0.79      2109\n",
      "\n"
     ]
    }
   ],
   "source": [
    "# accuracy, recall, precision 성능 한번에 보기\n",
    "\n",
    "print(classification_report(y_test, y_pred))"
   ]
  },
  {
   "cell_type": "markdown",
   "metadata": {
    "id": "7897QYB80YIb"
   },
   "source": [
    "##### (참고) 재현율 성능이 좋지 않다면 어떻게 성능향상 할 수 있나?\n",
    "+ 성능향상을 할 수 있는 방법은 여러 가지가 있습니다. (시험범위는 아닙니다)\n",
    "+ DNN 하이퍼파라미터를 수정하면서 성능향상이 되는지 확인해 볼 수 있습니다.\n",
    "+ 데이터를 줄이거나(UnderSampling) 늘리거나(OverSampling), Feature(컬럼)을 늘리거나 줄이거나 하는 식으로 데이터를 균형하게 조정할 수도 있습니다."
   ]
  },
  {
   "cell_type": "markdown",
   "metadata": {
    "id": "KsnemPIy0YIi"
   },
   "source": [
    "###  \n",
    "## <span style=\"background-color:#fff5b1\"> 이제까지 딥러닝에서 수행한 내용을 한번 볼까요?\n",
    " 딥러닝 심층신경망(DNN) 모델 프로세스\n",
    " + 데이터 가져오기\n",
    " + 데이터 전처리\n",
    " + Train, Test 데이터셋 분할\n",
    " + 데이터 정규화\n",
    " + DNN 딥러닝 모델"
   ]
  },
  {
   "cell_type": "markdown",
   "metadata": {
    "id": "cphLsim20YIi"
   },
   "source": [
    "####\n",
    "#### **조별실습-딥러닝 파트를 수행하시느라 고생 많으셨습니다^^**\n",
    "\n",
    "#### **실습을 모두 수행하신 분들은 이탈 방지 방안에 대해 조별 토론해주세요**\n",
    "\n",
    "#### **마무리하신 조는 전체 발표방으로 이동해주세요!**"
   ]
  }
 ],
 "metadata": {
  "colab": {
   "collapsed_sections": [],
   "name": "Python활용AI모델링_03.딥러닝_퀴즈_v3_20220219.ipynb",
   "provenance": []
  },
  "kernelspec": {
   "display_name": "Python 3 (ipykernel)",
   "language": "python",
   "name": "python3"
  },
  "language_info": {
   "codemirror_mode": {
    "name": "ipython",
    "version": 3
   },
   "file_extension": ".py",
   "mimetype": "text/x-python",
   "name": "python",
   "nbconvert_exporter": "python",
   "pygments_lexer": "ipython3",
   "version": "3.9.13"
  }
 },
 "nbformat": 4,
 "nbformat_minor": 4
}
