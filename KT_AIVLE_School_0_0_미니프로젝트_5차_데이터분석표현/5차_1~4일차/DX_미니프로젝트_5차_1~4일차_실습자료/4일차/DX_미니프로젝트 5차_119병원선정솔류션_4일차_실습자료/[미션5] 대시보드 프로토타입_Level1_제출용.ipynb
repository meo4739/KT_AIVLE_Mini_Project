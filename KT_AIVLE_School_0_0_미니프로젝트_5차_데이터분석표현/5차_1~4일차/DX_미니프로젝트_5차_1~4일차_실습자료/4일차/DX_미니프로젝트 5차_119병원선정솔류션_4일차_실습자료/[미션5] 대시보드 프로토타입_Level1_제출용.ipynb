{
 "cells": [
  {
   "cell_type": "markdown",
   "metadata": {
    "id": "TRD8su2S71DF"
   },
   "source": [
    "# AIVLE스쿨 DX트랙 5차 미니프로젝트 \n",
    "## <span style=\"color:red;background-color:#fff5b1\">[미션5] 대시보드 개발</span> "
   ]
  },
  {
   "cell_type": "markdown",
   "metadata": {
    "id": "umleRO407o9J"
   },
   "source": [
    " * 119 구급대원 출동 일지 데이터를 바탕으로 대시보드를 구성해 보세요.\n",
    "    * 당일 출동 이력\n",
    "    * 일간/주간/월간 총 출동 건수\n",
    "    * 일간/주간/월간 중증질환 비율\n",
    "    * 일간/주간/월간 평균 이송 시간\n",
    "    * 그 외 필요하다고 생각되는 정보"
   ]
  },
  {
   "cell_type": "markdown",
   "metadata": {},
   "source": [
    "----------"
   ]
  },
  {
   "cell_type": "markdown",
   "metadata": {
    "id": "xpHGNjYY-h2j"
   },
   "source": [
    "### <span style=\"color:green;background-color:#fff5b1\"> [5-1] 사전준비 </span>"
   ]
  },
  {
   "cell_type": "markdown",
   "metadata": {
    "id": "oo9w0mGJ8Hfy"
   },
   "source": [
    " * Streamlit 사용을 위해 다음의 라이브러리 설치 필요\n",
    "    * streamlit : 웹 시각화 프레임 워크\n",
    "    * plotly : Interaction 시각화 프레임 워크\n",
    " "
   ]
  },
  {
   "cell_type": "code",
   "execution_count": 1,
   "metadata": {
    "colab": {
     "base_uri": "https://localhost:8080/"
    },
    "executionInfo": {
     "elapsed": 10482,
     "status": "ok",
     "timestamp": 1678408738012,
     "user": {
      "displayName": "cuttis two choi",
      "userId": "03258503386448651783"
     },
     "user_tz": -540
    },
    "id": "b0uR9Icl8GaF",
    "outputId": "0ed15488-76fb-4c2e-db7c-6676de97c91a"
   },
   "outputs": [],
   "source": [
    "# 필요 라이브러리 설치\n",
    "\n",
    "# !pip install streamlit\n",
    "# !pip install plotly\n"
   ]
  },
  {
   "cell_type": "markdown",
   "metadata": {},
   "source": [
    "-----------"
   ]
  },
  {
   "cell_type": "markdown",
   "metadata": {
    "id": "FvYImIdO9k0K"
   },
   "source": [
    "### <span style=\"color:green;background-color:#fff5b1\"> [5-2] streamlit으로 구현되는 대시보드 작성 </span>\n",
    " * 파일명은 dashboard.py로 함"
   ]
  },
  {
   "cell_type": "code",
   "execution_count": 18,
   "metadata": {
    "colab": {
     "base_uri": "https://localhost:8080/"
    },
    "executionInfo": {
     "elapsed": 6,
     "status": "ok",
     "timestamp": 1678409007587,
     "user": {
      "displayName": "cuttis two choi",
      "userId": "03258503386448651783"
     },
     "user_tz": -540
    },
    "id": "NEdL289o1wbq",
    "outputId": "12d7a547-816c-4f02-9bc9-c29701f4dddc"
   },
   "outputs": [
    {
     "name": "stdout",
     "output_type": "stream",
     "text": [
      "Overwriting dashboard.py\n"
     ]
    }
   ],
   "source": [
    "%%writefile dashboard.py\n",
    "\n",
    "# 라이브러리 불러오기 \n",
    "\n",
    "import pandas as pd\n",
    "import streamlit as st\n",
    "import numpy as np\n",
    "import datetime\n",
    "import plotly.express as px\n",
    "\n",
    "\n",
    "# -------------------- ▼ 필요 변수 생성 코딩 Start ▼ --------------------\n",
    "\n",
    "data = pd.read_csv('./119_emergency_dispatch_1.csv', encoding=\"cp949\")\n",
    "\n",
    "## 오늘 날짜\n",
    "now_date = datetime.datetime.now(datetime.timezone.utc) + datetime.timedelta(hours=9)\n",
    "now_date2 = datetime.datetime.strptime(now_date.strftime(\"%Y-%m-%d\"), \"%Y-%m-%d\")\n",
    "\n",
    "## 2023년 최소 날짜, 최대 날짜\n",
    "first_date = pd.to_datetime(\"2023-01-01\")\n",
    "last_date = pd.to_datetime(\"2023-12-31\")\n",
    "\n",
    "## 출동 이력의 최소 날짜, 최대 날짜\n",
    "min_date = datetime.datetime.strptime(data['출동일시'].min(), \"%Y-%m-%d\")\n",
    "max_date = datetime.datetime.strptime(data['출동일시'].max(), \"%Y-%m-%d\")\n",
    "\n",
    "\n",
    "# -------------------- ▲ 필요 변수 생성 코딩 End ▲ --------------------\n",
    "\n",
    "\n",
    "# -------------------- ▼ Streamlit 웹 화면 구성 START ▼ --------------------\n",
    "\n",
    "# 레이아웃 구성하기 \n",
    "st.set_page_config(**********)\n",
    "\n",
    "# tabs 만들기 \n",
    "tab1, tab2 = st.tabs(**********)\n",
    "with tab1:\n",
    "    **********\n",
    "with tab2:\n",
    "    **********\n",
    "\n",
    "    \n",
    "# tab2 내용 구성하기\n",
    " \n",
    "    \n",
    "    ## -------------------- ▼ 2-0그룹 금일 출동 이력 출력 ▼ --------------------\n",
    "    \n",
    "    **********\n",
    "    \n",
    "    today_date = now_date.strftime(\"%Y-%m-%d\")\n",
    "    today_count = len(data[******************************])\n",
    "    \n",
    "    if today_count > 0 :\n",
    "        st.dataframe(**********)\n",
    "    else:\n",
    "        st.markdown(\"금일 출동내역이 없습니다.\")\n",
    "    \n",
    "    ## -------------------------------------------------------------------\n",
    "\n",
    "    ## -------------------- ▼ 2-1그룹 통계 조회 기간 선택하기 ▼ --------------------\n",
    "    col210, col211, col212 = st.columns(3)\n",
    "    \n",
    "    with col210:\n",
    "        **********\n",
    "    with col211:\n",
    "        **********\n",
    "    with col212:\n",
    "        **********\n",
    "\n",
    "    ## 선택된 일자의 data 추출\n",
    "    data['datetime'] = **********\n",
    "    day_list_df =**********\n",
    "    \n",
    "\n",
    "    ## 선택된 주간의 data 추출\n",
    "    \n",
    "    data['주별'] = data['datetime'].dt.strftime(\"%W\").astype(int)\n",
    "    \n",
    "    min_week = int(slider_week[0].strftime(\"%W\"))\n",
    "    max_week = **********\n",
    "    week_list_df = data[(data['주별'] >= min_week) & (data['주별'] <= max_week)]\n",
    "        \n",
    "\n",
    "    ## 선택된 월의 data 추출\n",
    "    \n",
    "    data['월별'] = data['datetime'].dt.month.astype(int)\n",
    "    min_month = slider_month[0].month\n",
    "    max_month = **********\n",
    "    \n",
    "    month_list_df = **********\n",
    "\n",
    "\n",
    "    ## -------------------------------------------------------------------------------------------\n",
    "\n",
    "     ## -------------------- ▼ 2-2그룹 일간/주간/월간 평균 이송시간 통계 그래프 ▼ --------------------\n",
    "    \n",
    "\n",
    "    \n",
    "    st.success(\"이송시간 통계\")\n",
    "\n",
    "    **********\n",
    "    with col230:\n",
    "\n",
    "        group_day_time = **********\n",
    "        group_day_time = **********\n",
    "        **********\n",
    "\n",
    "    with col231:\n",
    "\n",
    "        group_week_time = **********\n",
    "        group_week_time = **********\n",
    "        **********\n",
    "\n",
    "    with col232:\n",
    "\n",
    "        group_month_time = **********\n",
    "        group_month_time = **********\n",
    "        **********\n",
    "        \n",
    "    \n",
    "    ## -------------------------------------------------------------------------------------------\n",
    "\n",
    "    ## -------------------- ▼ 2-3 그룹 일간/주간/월간 총 출동 건수 통계 그래프 ▼ --------------------\n",
    "\n",
    "    \n",
    "    select_bins = st.radio(\"주기\", (*****, *****, *****), horizontal=True)\n",
    "    if select_bins == '일별':\n",
    "        select_df = **********\n",
    "    elif select_bins=='주별':\n",
    "        select_df = **********\n",
    "    else:\n",
    "        select_df = **********\n",
    "    \n",
    "\n",
    "    st.error(\"출동 건수\")\n",
    "\n",
    "    re_select_df = select_df.rename(columns={\"출동일시\": '일별'})    \n",
    "    dispatch_count = re_select_df.groupby(***************************)['ID'].count()\n",
    "    dispatch_count = dispatch_count.rename(*******************************)\n",
    "    dispatch_count = dispatch_count.sort_values(*************************)\n",
    "\n",
    "    st.bar_chart(*****************************************)\n",
    "\n",
    "\n",
    "    ## -------------------------------------------------------------------------------------------\n",
    "\n",
    "    ## -------------------- ▼ 2-4 성별/중증질환/나이대 별 비율 그래프 ▼ --------------------\n",
    "    \n",
    "    st.warning(\"중증 질환별 통계\")\n",
    "\n",
    "    col240, col241, col242 = st.columns(3)\n",
    "    \n",
    "    with col240: # 성별 통계\n",
    "\n",
    "        group_day_disease = select_df.groupby(by=[*******], as_index=False)[*******].count()\n",
    "        group_day_disease = group_day_disease.rename(columns={**********})\n",
    "\n",
    "        fig = px.pie(group_day_disease, values=******, names=******, title=********, hole=*****)\n",
    "        fig.update_traces(textposition=*******, textinfo=********)\n",
    "        fig.update_layout(font=dict(size=16))\n",
    "        st.plotly_chart(********)\n",
    "\n",
    "    with col241: # 중증질환별 통계\n",
    "\n",
    "        group_day_disease =****************(by=['중증질환'], as_index=False)***************\n",
    "        group_day_disease = ***********************************\n",
    "\n",
    "        fig = px.pie(***********************************************************)\n",
    "        fig.update_traces(*****************************************************)\n",
    "        fig.update_layout(*********************************)\n",
    "        st.plotly_chart(****************)\n",
    "\n",
    "    with col242:  # 나이대별 통계\n",
    "\n",
    "        select_df['나이대'] = (select_df['나이']//10)*10\n",
    "        group_day_disease = **************************************************************\n",
    "        group_day_disease = ***************************************************************\n",
    "\n",
    "        fig = *****************************************************************\n",
    "        fig.update_traces(***************************************************)\n",
    "        fig.update_layout(*********************)\n",
    "        st.plotly_chart(**********)\n",
    "\n",
    "    \n",
    "    ## -------------------------------------------------------------------------------------------\n",
    "\n",
    "    ## -------------------- ▼ 2-4그룹 그외 필요하다고 생각되는 정보 추가 ▼ --------------------\n",
    "\n",
    "    \n",
    "        "
   ]
  },
  {
   "cell_type": "markdown",
   "metadata": {},
   "source": [
    "----------"
   ]
  },
  {
   "cell_type": "markdown",
   "metadata": {
    "id": "Opl3mXWR-7Um"
   },
   "source": [
    "### <span style=\"color:green;background-color:#fff5b1\"> [4-3] 대시보드 확인하기 </span>"
   ]
  },
  {
   "cell_type": "markdown",
   "metadata": {
    "id": "58mwfuTc_Eql"
   },
   "source": [
    "* dispatch_log.py 파일이 있는 디렉토리로 이동\n",
    "* 'Shift + 마우스 우클릭' -> '터미널에서 열기' 클릭\n",
    "* -> '터미널에서 열기'  메뉴가 없으면 '여기에 PowerShell 창 열기(S)' 클릭\n",
    "* 아래의 streamlit 실행( ! 빼고 실행)\n",
    "* training.py를 수정후 브라우저의 새로고침을 누르면 프로토타입에 자동 변경됨\n",
    "* 새로고침을 통해 변경사항 확인"
   ]
  },
  {
   "cell_type": "code",
   "execution_count": null,
   "metadata": {
    "colab": {
     "base_uri": "https://localhost:8080/"
    },
    "executionInfo": {
     "elapsed": 511,
     "status": "ok",
     "timestamp": 1678408999054,
     "user": {
      "displayName": "cuttis two choi",
      "userId": "03258503386448651783"
     },
     "user_tz": -540
    },
    "id": "Ssx1t__T9UkP",
    "outputId": "1d59a1a6-7ea1-4993-f6cf-d286d3656b45"
   },
   "outputs": [],
   "source": [
    "# 프로포타입 확인하기\n",
    "\n",
    "!streamlit run dashboard.py\n"
   ]
  },
  {
   "cell_type": "markdown",
   "metadata": {},
   "source": [
    "## <span style=\"color:red;background-color:#fff5b1\">[도전 미션] 프로토타입 + 대시보드 합치기</span> "
   ]
  },
  {
   "cell_type": "markdown",
   "metadata": {},
   "source": [
    "  * 미션4 에서 만든 프로토타입과 미션5에서 만든 대시보드를 하나의 파일로 합쳐서 최종 솔루션 프로토타입을 완성 하세요.\n",
    "  * 최종 솔루션 프로토타입의 파일명은 app.py 입니다.\n",
    "  * app.py 가 완성되면 Streamlit으로 실행하여 프로토타입과 대시보드가 잘 동작 하는지 체크해 주세요."
   ]
  },
  {
   "cell_type": "markdown",
   "metadata": {},
   "source": [
    "----------"
   ]
  },
  {
   "cell_type": "markdown",
   "metadata": {},
   "source": [
    "# 수고하셨습니다."
   ]
  },
  {
   "cell_type": "markdown",
   "metadata": {},
   "source": [
    "----------"
   ]
  },
  {
   "cell_type": "markdown",
   "metadata": {},
   "source": []
  }
 ],
 "metadata": {
  "colab": {
   "authorship_tag": "ABX9TyOcZ+N+EDiGjFMzlnIdhyrd",
   "provenance": []
  },
  "kernelspec": {
   "display_name": "Python 3 (ipykernel)",
   "language": "python",
   "name": "python3"
  },
  "language_info": {
   "codemirror_mode": {
    "name": "ipython",
    "version": 3
   },
   "file_extension": ".py",
   "mimetype": "text/x-python",
   "name": "python",
   "nbconvert_exporter": "python",
   "pygments_lexer": "ipython3",
   "version": "3.10.9"
  }
 },
 "nbformat": 4,
 "nbformat_minor": 4
}
