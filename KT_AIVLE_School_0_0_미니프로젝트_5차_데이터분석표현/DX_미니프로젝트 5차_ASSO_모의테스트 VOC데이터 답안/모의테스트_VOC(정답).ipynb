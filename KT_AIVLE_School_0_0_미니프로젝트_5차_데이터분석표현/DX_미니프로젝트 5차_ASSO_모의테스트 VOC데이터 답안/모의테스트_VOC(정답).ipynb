{
 "cells": [
  {
   "cell_type": "markdown",
   "metadata": {},
   "source": [
    "# ASSOCIATION 모의테스트_VOC 고객 해지 예측 모델링\n",
    "#### 주제 : 데이터를 분석 및 전처리한 후 머신러닝과 딥러닝으로 VOC를 제기한 고객의 해지여부를 예측하고 결과를 분석하세요.\n",
    "\n",
    "+ 각 문제의 답안코드는 반드시 '# 여기에 답안코드를 작성하세요'로 표시된 cell에 작성해주세요.\n",
    "+ 문제에 제시된 가이드를 읽고 답안 작성하세요.\n",
    "+ 문제에 변수명이 제시된 경우 반드시 해당 변수명을 사용하세요.\n",
    "+ 본 파일과 관련 데이터 파일은 제 3자에게 공유하거나 개인적인 용도로 사용하는 등 외부로 유출할 수 없으며 유출로 인한 책임은 응시자 본인에게 있습니다.\n",
    "<br>"
   ]
  },
  {
   "cell_type": "code",
   "execution_count": 1,
   "metadata": {},
   "outputs": [],
   "source": [
    "# 아래 코드를 실행해주세요 (코드 실행시 경고메시지 무시)\n",
    "\n",
    "import warnings\n",
    "warnings.filterwarnings(action='ignore')"
   ]
  },
  {
   "cell_type": "markdown",
   "metadata": {},
   "source": [
    "<br>"
   ]
  },
  {
   "cell_type": "markdown",
   "metadata": {},
   "source": [
    "## **<span style=\"color:black\">필요한 라이브러리 설치</span>**"
   ]
  },
  {
   "cell_type": "markdown",
   "metadata": {},
   "source": [
    "**아래와 같이 pip 이용해서 seaborn을 설치하세요.**"
   ]
  },
  {
   "cell_type": "code",
   "execution_count": 2,
   "metadata": {},
   "outputs": [
    {
     "name": "stdout",
     "output_type": "stream",
     "text": [
      "Defaulting to user installation because normal site-packages is not writeable\n",
      "Requirement already satisfied: seaborn in c:\\anaconda3\\lib\\site-packages (0.11.2)\n",
      "Requirement already satisfied: pandas>=0.23 in c:\\users\\user\\appdata\\roaming\\python\\python39\\site-packages (from seaborn) (1.5.3)\n",
      "Requirement already satisfied: matplotlib>=2.2 in c:\\users\\user\\appdata\\roaming\\python\\python39\\site-packages (from seaborn) (3.7.2)\n",
      "Requirement already satisfied: numpy>=1.15 in c:\\anaconda3\\lib\\site-packages (from seaborn) (1.21.5)\n",
      "Requirement already satisfied: scipy>=1.0 in c:\\anaconda3\\lib\\site-packages (from seaborn) (1.9.1)\n",
      "Requirement already satisfied: kiwisolver>=1.0.1 in c:\\anaconda3\\lib\\site-packages (from matplotlib>=2.2->seaborn) (1.4.2)\n",
      "Requirement already satisfied: python-dateutil>=2.7 in c:\\anaconda3\\lib\\site-packages (from matplotlib>=2.2->seaborn) (2.8.2)\n",
      "Requirement already satisfied: contourpy>=1.0.1 in c:\\users\\user\\appdata\\roaming\\python\\python39\\site-packages (from matplotlib>=2.2->seaborn) (1.1.0)\n",
      "Requirement already satisfied: importlib-resources>=3.2.0 in c:\\users\\user\\appdata\\roaming\\python\\python39\\site-packages (from matplotlib>=2.2->seaborn) (6.0.0)\n",
      "Requirement already satisfied: fonttools>=4.22.0 in c:\\anaconda3\\lib\\site-packages (from matplotlib>=2.2->seaborn) (4.25.0)\n",
      "Requirement already satisfied: packaging>=20.0 in c:\\anaconda3\\lib\\site-packages (from matplotlib>=2.2->seaborn) (21.3)\n",
      "Requirement already satisfied: pyparsing<3.1,>=2.3.1 in c:\\anaconda3\\lib\\site-packages (from matplotlib>=2.2->seaborn) (3.0.9)\n",
      "Requirement already satisfied: pillow>=6.2.0 in c:\\anaconda3\\lib\\site-packages (from matplotlib>=2.2->seaborn) (9.2.0)\n",
      "Requirement already satisfied: cycler>=0.10 in c:\\anaconda3\\lib\\site-packages (from matplotlib>=2.2->seaborn) (0.11.0)\n",
      "Requirement already satisfied: pytz>=2020.1 in c:\\anaconda3\\lib\\site-packages (from pandas>=0.23->seaborn) (2022.1)\n",
      "Requirement already satisfied: zipp>=3.1.0 in c:\\anaconda3\\lib\\site-packages (from importlib-resources>=3.2.0->matplotlib>=2.2->seaborn) (3.8.0)\n",
      "Requirement already satisfied: six>=1.5 in c:\\anaconda3\\lib\\site-packages (from python-dateutil>=2.7->matplotlib>=2.2->seaborn) (1.16.0)\n"
     ]
    }
   ],
   "source": [
    "# 맨 앞쪽에 ! 사용하면 리눅스 명령어를 수행할 수 있습니다.\n",
    "\n",
    "!pip install seaborn\n"
   ]
  },
  {
   "cell_type": "markdown",
   "metadata": {},
   "source": [
    "**<br>\n",
    "<font color=blue>문제1. numpy 별칭을 np로, pandas 별칭을 pd로 해서 임포트하는 코드를 작성하고 실행하세요.</font>**"
   ]
  },
  {
   "cell_type": "code",
   "execution_count": 3,
   "metadata": {},
   "outputs": [],
   "source": [
    "# 여기에 답안코드를 작성하세요.\n",
    "# import 명령 사용\n",
    "# numpy와 pandas 라이브러리 임포트\n",
    "\n",
    "import numpy as np\n",
    "import pandas as pd\n"
   ]
  },
  {
   "cell_type": "markdown",
   "metadata": {},
   "source": [
    "**<br>\n",
    "<font color=blue>문제2. matplotlib 라이브러리를 plt로, seaborn을 sns로 해서 임포트하는 코드를 작성하고 실행하세요.**"
   ]
  },
  {
   "cell_type": "code",
   "execution_count": 4,
   "metadata": {},
   "outputs": [],
   "source": [
    "# 여기에 답안코드를 작성하세요.\n",
    "\n",
    "import matplotlib.pyplot as plt\n",
    "import seaborn as sns\n",
    "%matplotlib inline\n"
   ]
  },
  {
   "cell_type": "markdown",
   "metadata": {},
   "source": [
    "<br>"
   ]
  },
  {
   "cell_type": "markdown",
   "metadata": {},
   "source": [
    "## **<span style=\"color:black\">Tabular 데이터 로딩</span>**"
   ]
  },
  {
   "cell_type": "markdown",
   "metadata": {},
   "source": [
    "**<br>\n",
    "<font color=blue>문제3. pandas read_csv 함수를 사용하여 voc_data.csv 파일을 읽어 변수명 df에 할당하는 코드를 작성하세요.</font>**"
   ]
  },
  {
   "cell_type": "code",
   "execution_count": 5,
   "metadata": {},
   "outputs": [],
   "source": [
    "# 여기에 답안코드를 작성하세요.\n",
    "# 읽어올 파일명 : voc_data.csv\n",
    "# 읽어온 파일을 DataFrame \"df\" 이름으로 저장\n",
    "\n",
    "df = pd.read_csv('voc_data.csv')\n"
   ]
  },
  {
   "cell_type": "markdown",
   "metadata": {},
   "source": [
    "<br>"
   ]
  },
  {
   "cell_type": "markdown",
   "metadata": {},
   "source": [
    "## **<span style=\"color:black\">데이터의 구성 확인</span>**"
   ]
  },
  {
   "cell_type": "markdown",
   "metadata": {},
   "source": [
    "##### **\"df\" DataFrame을 이용해서 읽어들인 파일의 앞부분 5줄, 뒷부분 5줄을 출력하세요**"
   ]
  },
  {
   "cell_type": "code",
   "execution_count": 6,
   "metadata": {},
   "outputs": [
    {
     "data": {
      "text/html": [
       "<div>\n",
       "<style scoped>\n",
       "    .dataframe tbody tr th:only-of-type {\n",
       "        vertical-align: middle;\n",
       "    }\n",
       "\n",
       "    .dataframe tbody tr th {\n",
       "        vertical-align: top;\n",
       "    }\n",
       "\n",
       "    .dataframe thead th {\n",
       "        text-align: right;\n",
       "    }\n",
       "</style>\n",
       "<table border=\"1\" class=\"dataframe\">\n",
       "  <thead>\n",
       "    <tr style=\"text-align: right;\">\n",
       "      <th></th>\n",
       "      <th>voc_trt_perd_itg_cd</th>\n",
       "      <th>voc_prod_sbt_id</th>\n",
       "      <th>voc_wjt_sorc_id</th>\n",
       "      <th>voc_type_itg_cd</th>\n",
       "      <th>voc_sttus_itg_cd</th>\n",
       "      <th>voc_trt_reslt_itg_cd</th>\n",
       "      <th>cust_clas_itg_cd</th>\n",
       "      <th>bprod_sbt_id</th>\n",
       "      <th>age_itg_cd</th>\n",
       "      <th>cont_sttus_itg_cd</th>\n",
       "      <th>...</th>\n",
       "      <th>voc_dupl_tmscnt</th>\n",
       "      <th>oos_cause_type_itg_cd</th>\n",
       "      <th>voc_trt_need_time_itg_cd</th>\n",
       "      <th>engt_cperd_type_itg_cd</th>\n",
       "      <th>engt_tgt_div_itg_cd</th>\n",
       "      <th>cont_fns_pam_date</th>\n",
       "      <th>voc_mis_pbls_yn</th>\n",
       "      <th>fclt_oos_yn</th>\n",
       "      <th>cust_snsry_base_conf_need_time</th>\n",
       "      <th>trm_yn</th>\n",
       "    </tr>\n",
       "  </thead>\n",
       "  <tbody>\n",
       "    <tr>\n",
       "      <th>0</th>\n",
       "      <td>_</td>\n",
       "      <td>1000665328</td>\n",
       "      <td>2153</td>\n",
       "      <td>10009</td>\n",
       "      <td>10002</td>\n",
       "      <td>_</td>\n",
       "      <td>F</td>\n",
       "      <td>1000001126</td>\n",
       "      <td>36</td>\n",
       "      <td>10001</td>\n",
       "      <td>...</td>\n",
       "      <td>0</td>\n",
       "      <td>_</td>\n",
       "      <td>10001</td>\n",
       "      <td>_</td>\n",
       "      <td>_</td>\n",
       "      <td>99991231</td>\n",
       "      <td>N</td>\n",
       "      <td>_</td>\n",
       "      <td>0</td>\n",
       "      <td>N</td>\n",
       "    </tr>\n",
       "    <tr>\n",
       "      <th>1</th>\n",
       "      <td>_</td>\n",
       "      <td>1001028714</td>\n",
       "      <td>3311</td>\n",
       "      <td>10009</td>\n",
       "      <td>10002</td>\n",
       "      <td>10081</td>\n",
       "      <td>G</td>\n",
       "      <td>1000852226</td>\n",
       "      <td>32</td>\n",
       "      <td>10001</td>\n",
       "      <td>...</td>\n",
       "      <td>0</td>\n",
       "      <td>_</td>\n",
       "      <td>10001</td>\n",
       "      <td>15098</td>\n",
       "      <td>15244</td>\n",
       "      <td>20220319</td>\n",
       "      <td>N</td>\n",
       "      <td>_</td>\n",
       "      <td>0</td>\n",
       "      <td>N</td>\n",
       "    </tr>\n",
       "    <tr>\n",
       "      <th>2</th>\n",
       "      <td>_</td>\n",
       "      <td>1001028567</td>\n",
       "      <td>1575</td>\n",
       "      <td>10009</td>\n",
       "      <td>10002</td>\n",
       "      <td>_</td>\n",
       "      <td>G</td>\n",
       "      <td>1000851875</td>\n",
       "      <td>52</td>\n",
       "      <td>10001</td>\n",
       "      <td>...</td>\n",
       "      <td>0</td>\n",
       "      <td>10268</td>\n",
       "      <td>10001</td>\n",
       "      <td>15097</td>\n",
       "      <td>15244</td>\n",
       "      <td>20220508</td>\n",
       "      <td>N</td>\n",
       "      <td>N</td>\n",
       "      <td>0</td>\n",
       "      <td>N</td>\n",
       "    </tr>\n",
       "    <tr>\n",
       "      <th>3</th>\n",
       "      <td>10000</td>\n",
       "      <td>1000665328</td>\n",
       "      <td>3546</td>\n",
       "      <td>10009</td>\n",
       "      <td>10002</td>\n",
       "      <td>_</td>\n",
       "      <td>_</td>\n",
       "      <td>1000001126</td>\n",
       "      <td>_</td>\n",
       "      <td>10001</td>\n",
       "      <td>...</td>\n",
       "      <td>0</td>\n",
       "      <td>_</td>\n",
       "      <td>10001</td>\n",
       "      <td>_</td>\n",
       "      <td>_</td>\n",
       "      <td>99991231</td>\n",
       "      <td>N</td>\n",
       "      <td>_</td>\n",
       "      <td>0</td>\n",
       "      <td>N</td>\n",
       "    </tr>\n",
       "    <tr>\n",
       "      <th>4</th>\n",
       "      <td>_</td>\n",
       "      <td>1000779276</td>\n",
       "      <td>3086</td>\n",
       "      <td>10009</td>\n",
       "      <td>10002</td>\n",
       "      <td>_</td>\n",
       "      <td>G</td>\n",
       "      <td>1000764639</td>\n",
       "      <td>50</td>\n",
       "      <td>10001</td>\n",
       "      <td>...</td>\n",
       "      <td>0</td>\n",
       "      <td>_</td>\n",
       "      <td>10001</td>\n",
       "      <td>_</td>\n",
       "      <td>_</td>\n",
       "      <td>99991231</td>\n",
       "      <td>N</td>\n",
       "      <td>_</td>\n",
       "      <td>0</td>\n",
       "      <td>N</td>\n",
       "    </tr>\n",
       "  </tbody>\n",
       "</table>\n",
       "<p>5 rows × 24 columns</p>\n",
       "</div>"
      ],
      "text/plain": [
       "  voc_trt_perd_itg_cd  voc_prod_sbt_id  voc_wjt_sorc_id  voc_type_itg_cd  \\\n",
       "0                   _       1000665328             2153            10009   \n",
       "1                   _       1001028714             3311            10009   \n",
       "2                   _       1001028567             1575            10009   \n",
       "3               10000       1000665328             3546            10009   \n",
       "4                   _       1000779276             3086            10009   \n",
       "\n",
       "   voc_sttus_itg_cd voc_trt_reslt_itg_cd cust_clas_itg_cd  bprod_sbt_id  \\\n",
       "0             10002                    _                F    1000001126   \n",
       "1             10002                10081                G    1000852226   \n",
       "2             10002                    _                G    1000851875   \n",
       "3             10002                    _                _    1000001126   \n",
       "4             10002                    _                G    1000764639   \n",
       "\n",
       "  age_itg_cd cont_sttus_itg_cd  ...  voc_dupl_tmscnt  oos_cause_type_itg_cd  \\\n",
       "0         36             10001  ...                0                      _   \n",
       "1         32             10001  ...                0                      _   \n",
       "2         52             10001  ...                0                  10268   \n",
       "3          _             10001  ...                0                      _   \n",
       "4         50             10001  ...                0                      _   \n",
       "\n",
       "  voc_trt_need_time_itg_cd  engt_cperd_type_itg_cd  engt_tgt_div_itg_cd  \\\n",
       "0                    10001                       _                    _   \n",
       "1                    10001                   15098                15244   \n",
       "2                    10001                   15097                15244   \n",
       "3                    10001                       _                    _   \n",
       "4                    10001                       _                    _   \n",
       "\n",
       "  cont_fns_pam_date  voc_mis_pbls_yn fclt_oos_yn  \\\n",
       "0          99991231                N           _   \n",
       "1          20220319                N           _   \n",
       "2          20220508                N           N   \n",
       "3          99991231                N           _   \n",
       "4          99991231                N           _   \n",
       "\n",
       "  cust_snsry_base_conf_need_time  trm_yn  \n",
       "0                              0       N  \n",
       "1                              0       N  \n",
       "2                              0       N  \n",
       "3                              0       N  \n",
       "4                              0       N  \n",
       "\n",
       "[5 rows x 24 columns]"
      ]
     },
     "execution_count": 6,
     "metadata": {},
     "output_type": "execute_result"
    }
   ],
   "source": [
    "# head() 함수 사용\n",
    "\n",
    "df.head()"
   ]
  },
  {
   "cell_type": "code",
   "execution_count": 7,
   "metadata": {},
   "outputs": [
    {
     "data": {
      "text/html": [
       "<div>\n",
       "<style scoped>\n",
       "    .dataframe tbody tr th:only-of-type {\n",
       "        vertical-align: middle;\n",
       "    }\n",
       "\n",
       "    .dataframe tbody tr th {\n",
       "        vertical-align: top;\n",
       "    }\n",
       "\n",
       "    .dataframe thead th {\n",
       "        text-align: right;\n",
       "    }\n",
       "</style>\n",
       "<table border=\"1\" class=\"dataframe\">\n",
       "  <thead>\n",
       "    <tr style=\"text-align: right;\">\n",
       "      <th></th>\n",
       "      <th>voc_trt_perd_itg_cd</th>\n",
       "      <th>voc_prod_sbt_id</th>\n",
       "      <th>voc_wjt_sorc_id</th>\n",
       "      <th>voc_type_itg_cd</th>\n",
       "      <th>voc_sttus_itg_cd</th>\n",
       "      <th>voc_trt_reslt_itg_cd</th>\n",
       "      <th>cust_clas_itg_cd</th>\n",
       "      <th>bprod_sbt_id</th>\n",
       "      <th>age_itg_cd</th>\n",
       "      <th>cont_sttus_itg_cd</th>\n",
       "      <th>...</th>\n",
       "      <th>voc_dupl_tmscnt</th>\n",
       "      <th>oos_cause_type_itg_cd</th>\n",
       "      <th>voc_trt_need_time_itg_cd</th>\n",
       "      <th>engt_cperd_type_itg_cd</th>\n",
       "      <th>engt_tgt_div_itg_cd</th>\n",
       "      <th>cont_fns_pam_date</th>\n",
       "      <th>voc_mis_pbls_yn</th>\n",
       "      <th>fclt_oos_yn</th>\n",
       "      <th>cust_snsry_base_conf_need_time</th>\n",
       "      <th>trm_yn</th>\n",
       "    </tr>\n",
       "  </thead>\n",
       "  <tbody>\n",
       "    <tr>\n",
       "      <th>9995</th>\n",
       "      <td>_</td>\n",
       "      <td>1000811136</td>\n",
       "      <td>2123</td>\n",
       "      <td>10009</td>\n",
       "      <td>10002</td>\n",
       "      <td>_</td>\n",
       "      <td>G</td>\n",
       "      <td>1000809259</td>\n",
       "      <td>17</td>\n",
       "      <td>10001</td>\n",
       "      <td>...</td>\n",
       "      <td>0</td>\n",
       "      <td>_</td>\n",
       "      <td>10001</td>\n",
       "      <td>_</td>\n",
       "      <td>_</td>\n",
       "      <td>99991231</td>\n",
       "      <td>N</td>\n",
       "      <td>_</td>\n",
       "      <td>0</td>\n",
       "      <td>N</td>\n",
       "    </tr>\n",
       "    <tr>\n",
       "      <th>9996</th>\n",
       "      <td>_</td>\n",
       "      <td>1001047799</td>\n",
       "      <td>2153</td>\n",
       "      <td>10009</td>\n",
       "      <td>10002</td>\n",
       "      <td>_</td>\n",
       "      <td>I</td>\n",
       "      <td>1001046521</td>\n",
       "      <td>35</td>\n",
       "      <td>10001</td>\n",
       "      <td>...</td>\n",
       "      <td>0</td>\n",
       "      <td>_</td>\n",
       "      <td>10001</td>\n",
       "      <td>_</td>\n",
       "      <td>_</td>\n",
       "      <td>99991231</td>\n",
       "      <td>N</td>\n",
       "      <td>_</td>\n",
       "      <td>0</td>\n",
       "      <td>N</td>\n",
       "    </tr>\n",
       "    <tr>\n",
       "      <th>9997</th>\n",
       "      <td>_</td>\n",
       "      <td>1001027819</td>\n",
       "      <td>379</td>\n",
       "      <td>10009</td>\n",
       "      <td>10002</td>\n",
       "      <td>_</td>\n",
       "      <td>G</td>\n",
       "      <td>1000720809</td>\n",
       "      <td>51</td>\n",
       "      <td>10001</td>\n",
       "      <td>...</td>\n",
       "      <td>0</td>\n",
       "      <td>10270</td>\n",
       "      <td>10001</td>\n",
       "      <td>15097</td>\n",
       "      <td>15244</td>\n",
       "      <td>20180903</td>\n",
       "      <td>N</td>\n",
       "      <td>N</td>\n",
       "      <td>0</td>\n",
       "      <td>N</td>\n",
       "    </tr>\n",
       "    <tr>\n",
       "      <th>9998</th>\n",
       "      <td>_</td>\n",
       "      <td>1001027819</td>\n",
       "      <td>314</td>\n",
       "      <td>10009</td>\n",
       "      <td>10002</td>\n",
       "      <td>_</td>\n",
       "      <td>I</td>\n",
       "      <td>1000720809</td>\n",
       "      <td>_</td>\n",
       "      <td>10001</td>\n",
       "      <td>...</td>\n",
       "      <td>0</td>\n",
       "      <td>_</td>\n",
       "      <td>10001</td>\n",
       "      <td>15097</td>\n",
       "      <td>15244</td>\n",
       "      <td>20210412</td>\n",
       "      <td>N</td>\n",
       "      <td>_</td>\n",
       "      <td>0</td>\n",
       "      <td>N</td>\n",
       "    </tr>\n",
       "    <tr>\n",
       "      <th>9999</th>\n",
       "      <td>_</td>\n",
       "      <td>1001047802</td>\n",
       "      <td>2266</td>\n",
       "      <td>10009</td>\n",
       "      <td>10002</td>\n",
       "      <td>_</td>\n",
       "      <td>G</td>\n",
       "      <td>1001046524</td>\n",
       "      <td>27</td>\n",
       "      <td>10001</td>\n",
       "      <td>...</td>\n",
       "      <td>0</td>\n",
       "      <td>_</td>\n",
       "      <td>10001</td>\n",
       "      <td>_</td>\n",
       "      <td>_</td>\n",
       "      <td>99991231</td>\n",
       "      <td>N</td>\n",
       "      <td>_</td>\n",
       "      <td>0</td>\n",
       "      <td>N</td>\n",
       "    </tr>\n",
       "  </tbody>\n",
       "</table>\n",
       "<p>5 rows × 24 columns</p>\n",
       "</div>"
      ],
      "text/plain": [
       "     voc_trt_perd_itg_cd  voc_prod_sbt_id  voc_wjt_sorc_id  voc_type_itg_cd  \\\n",
       "9995                   _       1000811136             2123            10009   \n",
       "9996                   _       1001047799             2153            10009   \n",
       "9997                   _       1001027819              379            10009   \n",
       "9998                   _       1001027819              314            10009   \n",
       "9999                   _       1001047802             2266            10009   \n",
       "\n",
       "      voc_sttus_itg_cd voc_trt_reslt_itg_cd cust_clas_itg_cd  bprod_sbt_id  \\\n",
       "9995             10002                    _                G    1000809259   \n",
       "9996             10002                    _                I    1001046521   \n",
       "9997             10002                    _                G    1000720809   \n",
       "9998             10002                    _                I    1000720809   \n",
       "9999             10002                    _                G    1001046524   \n",
       "\n",
       "     age_itg_cd cont_sttus_itg_cd  ...  voc_dupl_tmscnt  \\\n",
       "9995         17             10001  ...                0   \n",
       "9996         35             10001  ...                0   \n",
       "9997         51             10001  ...                0   \n",
       "9998          _             10001  ...                0   \n",
       "9999         27             10001  ...                0   \n",
       "\n",
       "      oos_cause_type_itg_cd voc_trt_need_time_itg_cd  engt_cperd_type_itg_cd  \\\n",
       "9995                      _                    10001                       _   \n",
       "9996                      _                    10001                       _   \n",
       "9997                  10270                    10001                   15097   \n",
       "9998                      _                    10001                   15097   \n",
       "9999                      _                    10001                       _   \n",
       "\n",
       "      engt_tgt_div_itg_cd cont_fns_pam_date  voc_mis_pbls_yn fclt_oos_yn  \\\n",
       "9995                    _          99991231                N           _   \n",
       "9996                    _          99991231                N           _   \n",
       "9997                15244          20180903                N           N   \n",
       "9998                15244          20210412                N           _   \n",
       "9999                    _          99991231                N           _   \n",
       "\n",
       "     cust_snsry_base_conf_need_time  trm_yn  \n",
       "9995                              0       N  \n",
       "9996                              0       N  \n",
       "9997                              0       N  \n",
       "9998                              0       N  \n",
       "9999                              0       N  \n",
       "\n",
       "[5 rows x 24 columns]"
      ]
     },
     "execution_count": 7,
     "metadata": {},
     "output_type": "execute_result"
    }
   ],
   "source": [
    "# tail() 함수 사용\n",
    "\n",
    "df.tail()"
   ]
  },
  {
   "cell_type": "markdown",
   "metadata": {},
   "source": [
    "##### \n",
    "**데이터프레임 정보(컬럼정보, Null 여부, 타입)를 출력하세요.**"
   ]
  },
  {
   "cell_type": "code",
   "execution_count": 8,
   "metadata": {},
   "outputs": [
    {
     "name": "stdout",
     "output_type": "stream",
     "text": [
      "<class 'pandas.core.frame.DataFrame'>\n",
      "RangeIndex: 10000 entries, 0 to 9999\n",
      "Data columns (total 24 columns):\n",
      " #   Column                          Non-Null Count  Dtype \n",
      "---  ------                          --------------  ----- \n",
      " 0   voc_trt_perd_itg_cd             10000 non-null  object\n",
      " 1   voc_prod_sbt_id                 10000 non-null  int64 \n",
      " 2   voc_wjt_sorc_id                 10000 non-null  int64 \n",
      " 3   voc_type_itg_cd                 10000 non-null  int64 \n",
      " 4   voc_sttus_itg_cd                10000 non-null  int64 \n",
      " 5   voc_trt_reslt_itg_cd            10000 non-null  object\n",
      " 6   cust_clas_itg_cd                10000 non-null  object\n",
      " 7   bprod_sbt_id                    10000 non-null  int64 \n",
      " 8   age_itg_cd                      10000 non-null  object\n",
      " 9   cont_sttus_itg_cd               10000 non-null  object\n",
      " 10  new_date                        10000 non-null  int64 \n",
      " 11  opn_nfl_chg_date                10000 non-null  int64 \n",
      " 12  cust_dtl_ctg_itg_cd             10000 non-null  object\n",
      " 13  voc_trt_degr_div_itg_cd         10000 non-null  int64 \n",
      " 14  voc_dupl_tmscnt                 10000 non-null  int64 \n",
      " 15  oos_cause_type_itg_cd           10000 non-null  object\n",
      " 16  voc_trt_need_time_itg_cd        10000 non-null  int64 \n",
      " 17  engt_cperd_type_itg_cd          10000 non-null  object\n",
      " 18  engt_tgt_div_itg_cd             10000 non-null  object\n",
      " 19  cont_fns_pam_date               10000 non-null  int64 \n",
      " 20  voc_mis_pbls_yn                 10000 non-null  object\n",
      " 21  fclt_oos_yn                     10000 non-null  object\n",
      " 22  cust_snsry_base_conf_need_time  10000 non-null  int64 \n",
      " 23  trm_yn                          10000 non-null  object\n",
      "dtypes: int64(12), object(12)\n",
      "memory usage: 1.8+ MB\n"
     ]
    }
   ],
   "source": [
    "# DataFrame의 info() 함수 활용\n",
    "# 총 24개 컬럼 있음 확인\n",
    "\n",
    "df.info()\n"
   ]
  },
  {
   "cell_type": "markdown",
   "metadata": {},
   "source": [
    "##### \n",
    "**데이터프레임 인덱스를 확인하세요.**"
   ]
  },
  {
   "cell_type": "code",
   "execution_count": 9,
   "metadata": {},
   "outputs": [
    {
     "data": {
      "text/plain": [
       "RangeIndex(start=0, stop=10000, step=1)"
      ]
     },
     "execution_count": 9,
     "metadata": {},
     "output_type": "execute_result"
    }
   ],
   "source": [
    "df.index"
   ]
  },
  {
   "cell_type": "markdown",
   "metadata": {},
   "source": [
    "#####\n",
    " **데이터프레임 컬럼을 확인하세요.**"
   ]
  },
  {
   "cell_type": "code",
   "execution_count": 10,
   "metadata": {},
   "outputs": [
    {
     "data": {
      "text/plain": [
       "Index(['voc_trt_perd_itg_cd', 'voc_prod_sbt_id', 'voc_wjt_sorc_id',\n",
       "       'voc_type_itg_cd', 'voc_sttus_itg_cd', 'voc_trt_reslt_itg_cd',\n",
       "       'cust_clas_itg_cd', 'bprod_sbt_id', 'age_itg_cd', 'cont_sttus_itg_cd',\n",
       "       'new_date', 'opn_nfl_chg_date', 'cust_dtl_ctg_itg_cd',\n",
       "       'voc_trt_degr_div_itg_cd', 'voc_dupl_tmscnt', 'oos_cause_type_itg_cd',\n",
       "       'voc_trt_need_time_itg_cd', 'engt_cperd_type_itg_cd',\n",
       "       'engt_tgt_div_itg_cd', 'cont_fns_pam_date', 'voc_mis_pbls_yn',\n",
       "       'fclt_oos_yn', 'cust_snsry_base_conf_need_time', 'trm_yn'],\n",
       "      dtype='object')"
      ]
     },
     "execution_count": 10,
     "metadata": {},
     "output_type": "execute_result"
    }
   ],
   "source": [
    "df.columns"
   ]
  },
  {
   "cell_type": "markdown",
   "metadata": {},
   "source": [
    "#####\n",
    "**데이터프레임 값(value)을 확인하세요.**"
   ]
  },
  {
   "cell_type": "code",
   "execution_count": 11,
   "metadata": {},
   "outputs": [
    {
     "data": {
      "text/plain": [
       "array([['_', 1000665328, 2153, ..., '_', 0, 'N'],\n",
       "       ['_', 1001028714, 3311, ..., '_', 0, 'N'],\n",
       "       ['_', 1001028567, 1575, ..., 'N', 0, 'N'],\n",
       "       ...,\n",
       "       ['_', 1001027819, 379, ..., 'N', 0, 'N'],\n",
       "       ['_', 1001027819, 314, ..., '_', 0, 'N'],\n",
       "       ['_', 1001047802, 2266, ..., '_', 0, 'N']], dtype=object)"
      ]
     },
     "execution_count": 11,
     "metadata": {},
     "output_type": "execute_result"
    }
   ],
   "source": [
    "df.values"
   ]
  },
  {
   "cell_type": "markdown",
   "metadata": {},
   "source": [
    "#####\n",
    "**데이터프레임의 계산 가능한 값들에 대한 통계치를 확인하세요.**"
   ]
  },
  {
   "cell_type": "code",
   "execution_count": 12,
   "metadata": {},
   "outputs": [
    {
     "data": {
      "text/html": [
       "<div>\n",
       "<style scoped>\n",
       "    .dataframe tbody tr th:only-of-type {\n",
       "        vertical-align: middle;\n",
       "    }\n",
       "\n",
       "    .dataframe tbody tr th {\n",
       "        vertical-align: top;\n",
       "    }\n",
       "\n",
       "    .dataframe thead th {\n",
       "        text-align: right;\n",
       "    }\n",
       "</style>\n",
       "<table border=\"1\" class=\"dataframe\">\n",
       "  <thead>\n",
       "    <tr style=\"text-align: right;\">\n",
       "      <th></th>\n",
       "      <th>voc_prod_sbt_id</th>\n",
       "      <th>voc_wjt_sorc_id</th>\n",
       "      <th>voc_type_itg_cd</th>\n",
       "      <th>voc_sttus_itg_cd</th>\n",
       "      <th>bprod_sbt_id</th>\n",
       "      <th>new_date</th>\n",
       "      <th>opn_nfl_chg_date</th>\n",
       "      <th>voc_trt_degr_div_itg_cd</th>\n",
       "      <th>voc_dupl_tmscnt</th>\n",
       "      <th>voc_trt_need_time_itg_cd</th>\n",
       "      <th>cont_fns_pam_date</th>\n",
       "      <th>cust_snsry_base_conf_need_time</th>\n",
       "    </tr>\n",
       "  </thead>\n",
       "  <tbody>\n",
       "    <tr>\n",
       "      <th>count</th>\n",
       "      <td>1.000000e+04</td>\n",
       "      <td>10000.00000</td>\n",
       "      <td>10000.00000</td>\n",
       "      <td>10000.000000</td>\n",
       "      <td>1.000000e+04</td>\n",
       "      <td>1.000000e+04</td>\n",
       "      <td>1.000000e+04</td>\n",
       "      <td>10000.000000</td>\n",
       "      <td>10000.000000</td>\n",
       "      <td>10000.000000</td>\n",
       "      <td>1.000000e+04</td>\n",
       "      <td>10000.00000</td>\n",
       "    </tr>\n",
       "    <tr>\n",
       "      <th>mean</th>\n",
       "      <td>9.907267e+08</td>\n",
       "      <td>1578.29170</td>\n",
       "      <td>10008.52360</td>\n",
       "      <td>10002.043400</td>\n",
       "      <td>8.838173e+08</td>\n",
       "      <td>1.744283e+07</td>\n",
       "      <td>1.744505e+07</td>\n",
       "      <td>20001.074200</td>\n",
       "      <td>0.008800</td>\n",
       "      <td>10002.656800</td>\n",
       "      <td>7.004469e+07</td>\n",
       "      <td>193.88010</td>\n",
       "    </tr>\n",
       "    <tr>\n",
       "      <th>std</th>\n",
       "      <td>1.005780e+08</td>\n",
       "      <td>1078.63717</td>\n",
       "      <td>1.57927</td>\n",
       "      <td>0.314843</td>\n",
       "      <td>3.214229e+08</td>\n",
       "      <td>6.849207e+06</td>\n",
       "      <td>6.850077e+06</td>\n",
       "      <td>0.262109</td>\n",
       "      <td>0.103555</td>\n",
       "      <td>6.576864</td>\n",
       "      <td>3.863802e+07</td>\n",
       "      <td>6970.03853</td>\n",
       "    </tr>\n",
       "    <tr>\n",
       "      <th>min</th>\n",
       "      <td>-9.980000e+02</td>\n",
       "      <td>126.00000</td>\n",
       "      <td>10003.00000</td>\n",
       "      <td>10002.000000</td>\n",
       "      <td>-9.980000e+02</td>\n",
       "      <td>1.010100e+04</td>\n",
       "      <td>1.010100e+04</td>\n",
       "      <td>20001.000000</td>\n",
       "      <td>0.000000</td>\n",
       "      <td>10001.000000</td>\n",
       "      <td>2.001063e+07</td>\n",
       "      <td>0.00000</td>\n",
       "    </tr>\n",
       "    <tr>\n",
       "      <th>25%</th>\n",
       "      <td>1.000782e+09</td>\n",
       "      <td>360.00000</td>\n",
       "      <td>10009.00000</td>\n",
       "      <td>10002.000000</td>\n",
       "      <td>1.000003e+09</td>\n",
       "      <td>2.008053e+07</td>\n",
       "      <td>2.008123e+07</td>\n",
       "      <td>20001.000000</td>\n",
       "      <td>0.000000</td>\n",
       "      <td>10001.000000</td>\n",
       "      <td>2.021102e+07</td>\n",
       "      <td>0.00000</td>\n",
       "    </tr>\n",
       "    <tr>\n",
       "      <th>50%</th>\n",
       "      <td>1.001028e+09</td>\n",
       "      <td>2056.00000</td>\n",
       "      <td>10009.00000</td>\n",
       "      <td>10002.000000</td>\n",
       "      <td>1.000749e+09</td>\n",
       "      <td>2.014121e+07</td>\n",
       "      <td>2.015031e+07</td>\n",
       "      <td>20001.000000</td>\n",
       "      <td>0.000000</td>\n",
       "      <td>10001.000000</td>\n",
       "      <td>9.999123e+07</td>\n",
       "      <td>0.00000</td>\n",
       "    </tr>\n",
       "    <tr>\n",
       "      <th>75%</th>\n",
       "      <td>1.001036e+09</td>\n",
       "      <td>2153.00000</td>\n",
       "      <td>10009.00000</td>\n",
       "      <td>10002.000000</td>\n",
       "      <td>1.001044e+09</td>\n",
       "      <td>2.018010e+07</td>\n",
       "      <td>2.018032e+07</td>\n",
       "      <td>20001.000000</td>\n",
       "      <td>0.000000</td>\n",
       "      <td>10001.000000</td>\n",
       "      <td>9.999123e+07</td>\n",
       "      <td>0.00000</td>\n",
       "    </tr>\n",
       "    <tr>\n",
       "      <th>max</th>\n",
       "      <td>1.001079e+09</td>\n",
       "      <td>3856.00000</td>\n",
       "      <td>10017.00000</td>\n",
       "      <td>10005.000000</td>\n",
       "      <td>1.001078e+09</td>\n",
       "      <td>2.020041e+07</td>\n",
       "      <td>2.020041e+07</td>\n",
       "      <td>20002.000000</td>\n",
       "      <td>3.000000</td>\n",
       "      <td>10038.000000</td>\n",
       "      <td>9.999123e+07</td>\n",
       "      <td>367991.00000</td>\n",
       "    </tr>\n",
       "  </tbody>\n",
       "</table>\n",
       "</div>"
      ],
      "text/plain": [
       "       voc_prod_sbt_id  voc_wjt_sorc_id  voc_type_itg_cd  voc_sttus_itg_cd  \\\n",
       "count     1.000000e+04      10000.00000      10000.00000      10000.000000   \n",
       "mean      9.907267e+08       1578.29170      10008.52360      10002.043400   \n",
       "std       1.005780e+08       1078.63717          1.57927          0.314843   \n",
       "min      -9.980000e+02        126.00000      10003.00000      10002.000000   \n",
       "25%       1.000782e+09        360.00000      10009.00000      10002.000000   \n",
       "50%       1.001028e+09       2056.00000      10009.00000      10002.000000   \n",
       "75%       1.001036e+09       2153.00000      10009.00000      10002.000000   \n",
       "max       1.001079e+09       3856.00000      10017.00000      10005.000000   \n",
       "\n",
       "       bprod_sbt_id      new_date  opn_nfl_chg_date  voc_trt_degr_div_itg_cd  \\\n",
       "count  1.000000e+04  1.000000e+04      1.000000e+04             10000.000000   \n",
       "mean   8.838173e+08  1.744283e+07      1.744505e+07             20001.074200   \n",
       "std    3.214229e+08  6.849207e+06      6.850077e+06                 0.262109   \n",
       "min   -9.980000e+02  1.010100e+04      1.010100e+04             20001.000000   \n",
       "25%    1.000003e+09  2.008053e+07      2.008123e+07             20001.000000   \n",
       "50%    1.000749e+09  2.014121e+07      2.015031e+07             20001.000000   \n",
       "75%    1.001044e+09  2.018010e+07      2.018032e+07             20001.000000   \n",
       "max    1.001078e+09  2.020041e+07      2.020041e+07             20002.000000   \n",
       "\n",
       "       voc_dupl_tmscnt  voc_trt_need_time_itg_cd  cont_fns_pam_date  \\\n",
       "count     10000.000000              10000.000000       1.000000e+04   \n",
       "mean          0.008800              10002.656800       7.004469e+07   \n",
       "std           0.103555                  6.576864       3.863802e+07   \n",
       "min           0.000000              10001.000000       2.001063e+07   \n",
       "25%           0.000000              10001.000000       2.021102e+07   \n",
       "50%           0.000000              10001.000000       9.999123e+07   \n",
       "75%           0.000000              10001.000000       9.999123e+07   \n",
       "max           3.000000              10038.000000       9.999123e+07   \n",
       "\n",
       "       cust_snsry_base_conf_need_time  \n",
       "count                     10000.00000  \n",
       "mean                        193.88010  \n",
       "std                        6970.03853  \n",
       "min                           0.00000  \n",
       "25%                           0.00000  \n",
       "50%                           0.00000  \n",
       "75%                           0.00000  \n",
       "max                      367991.00000  "
      ]
     },
     "execution_count": 12,
     "metadata": {},
     "output_type": "execute_result"
    }
   ],
   "source": [
    "df.describe()"
   ]
  },
  {
   "cell_type": "markdown",
   "metadata": {},
   "source": [
    "#####\n",
    "**DataFrame 컬럼 항목에 Null이 존재하는지 확인하세요.**"
   ]
  },
  {
   "cell_type": "code",
   "execution_count": 13,
   "metadata": {},
   "outputs": [
    {
     "data": {
      "text/plain": [
       "voc_trt_perd_itg_cd               0\n",
       "voc_prod_sbt_id                   0\n",
       "voc_wjt_sorc_id                   0\n",
       "voc_type_itg_cd                   0\n",
       "voc_sttus_itg_cd                  0\n",
       "voc_trt_reslt_itg_cd              0\n",
       "cust_clas_itg_cd                  0\n",
       "bprod_sbt_id                      0\n",
       "age_itg_cd                        0\n",
       "cont_sttus_itg_cd                 0\n",
       "new_date                          0\n",
       "opn_nfl_chg_date                  0\n",
       "cust_dtl_ctg_itg_cd               0\n",
       "voc_trt_degr_div_itg_cd           0\n",
       "voc_dupl_tmscnt                   0\n",
       "oos_cause_type_itg_cd             0\n",
       "voc_trt_need_time_itg_cd          0\n",
       "engt_cperd_type_itg_cd            0\n",
       "engt_tgt_div_itg_cd               0\n",
       "cont_fns_pam_date                 0\n",
       "voc_mis_pbls_yn                   0\n",
       "fclt_oos_yn                       0\n",
       "cust_snsry_base_conf_need_time    0\n",
       "trm_yn                            0\n",
       "dtype: int64"
      ]
     },
     "execution_count": 13,
     "metadata": {},
     "output_type": "execute_result"
    }
   ],
   "source": [
    "# DataFrame의 isnull() 함수 사용\n",
    "# Null 합계를 보려면 sum() 함수 사용\n",
    "\n",
    "df.isnull().sum()\n"
   ]
  },
  {
   "cell_type": "code",
   "execution_count": 14,
   "metadata": {},
   "outputs": [
    {
     "data": {
      "text/plain": [
       "0           _\n",
       "1           _\n",
       "2           _\n",
       "3       10000\n",
       "4           _\n",
       "        ...  \n",
       "9995        _\n",
       "9996        _\n",
       "9997        _\n",
       "9998        _\n",
       "9999        _\n",
       "Name: voc_trt_perd_itg_cd, Length: 10000, dtype: object"
      ]
     },
     "execution_count": 14,
     "metadata": {},
     "output_type": "execute_result"
    }
   ],
   "source": [
    "df['voc_trt_perd_itg_cd']"
   ]
  },
  {
   "cell_type": "markdown",
   "metadata": {},
   "source": [
    "#####\n",
    "**voc_trt_perd_itg_cd 컬럼 데이터별 건수를 나열하세요.**"
   ]
  },
  {
   "cell_type": "code",
   "execution_count": 15,
   "metadata": {},
   "outputs": [
    {
     "data": {
      "text/plain": [
       "_        5422\n",
       "10000    4283\n",
       "10001     163\n",
       "10002      58\n",
       "10003      25\n",
       "10004      16\n",
       "10005      10\n",
       "10006       6\n",
       "10008       3\n",
       "10009       3\n",
       "10016       2\n",
       "10011       2\n",
       "10012       2\n",
       "10007       2\n",
       "10014       1\n",
       "10013       1\n",
       "10015       1\n",
       "Name: voc_trt_perd_itg_cd, dtype: int64"
      ]
     },
     "execution_count": 15,
     "metadata": {},
     "output_type": "execute_result"
    }
   ],
   "source": [
    "# df DataFrame의 'voc_trt_perd_itg_cd'컬럼에 value_counts() 함수 사용\n",
    "\n",
    "df['voc_trt_perd_itg_cd'].value_counts()\n"
   ]
  },
  {
   "cell_type": "code",
   "execution_count": 16,
   "metadata": {},
   "outputs": [
    {
     "data": {
      "text/plain": [
       "_        0.5422\n",
       "10000    0.4283\n",
       "10001    0.0163\n",
       "10002    0.0058\n",
       "10003    0.0025\n",
       "10004    0.0016\n",
       "10005    0.0010\n",
       "10006    0.0006\n",
       "10008    0.0003\n",
       "10009    0.0003\n",
       "10016    0.0002\n",
       "10011    0.0002\n",
       "10012    0.0002\n",
       "10007    0.0002\n",
       "10014    0.0001\n",
       "10013    0.0001\n",
       "10015    0.0001\n",
       "Name: voc_trt_perd_itg_cd, dtype: float64"
      ]
     },
     "execution_count": 16,
     "metadata": {},
     "output_type": "execute_result"
    }
   ],
   "source": [
    "# [참고] voc_trt_perd_itg_cd 컬럼 데이터별 건수 비율 보기 (정규화된 형태로 출력)\n",
    "\n",
    "df['voc_trt_perd_itg_cd'].value_counts(normalize=True)"
   ]
  },
  {
   "cell_type": "markdown",
   "metadata": {
    "tags": []
   },
   "source": [
    "## **<span style=\"color:black\">불필요한 컬럼 삭제</span>**"
   ]
  },
  {
   "cell_type": "markdown",
   "metadata": {},
   "source": [
    "#####\n",
    "**'_' 값이 50% 이상 차지하는 컬럼을 제외하고 분석하려 합니다. 다음 컬럼들을 삭제하세요.**"
   ]
  },
  {
   "cell_type": "code",
   "execution_count": 17,
   "metadata": {},
   "outputs": [],
   "source": [
    "# 제외 컬럼 :  voc_trt_perd_itg_cd, voc_trt_reslt_itg_cd, oos_cause_type_itg_cd, engt_cperd_type_itg_cd, engt_tgt_div_itg_cd, fclt_oos_yn\n",
    "# DataFrame drop() 함수 사용\n",
    "# 컬럼 삭제한 결과를 \"df1\" DataFrame 저장\n",
    "\n",
    "df1 = df.drop(columns=['voc_trt_perd_itg_cd',\n",
    "                        'voc_trt_reslt_itg_cd',\n",
    "                        'oos_cause_type_itg_cd',\n",
    "                        'engt_cperd_type_itg_cd',\n",
    "                        'engt_tgt_div_itg_cd',\n",
    "                        'fclt_oos_yn'], \n",
    "                axis=1)\n"
   ]
  },
  {
   "cell_type": "markdown",
   "metadata": {},
   "source": [
    "#####\n",
    "**'voc_mis_pbls_yn' 컬럼은 'N' 값이 99% 이상 차지하므로 삭제하세요.</font>**"
   ]
  },
  {
   "cell_type": "code",
   "execution_count": 18,
   "metadata": {
    "tags": []
   },
   "outputs": [],
   "source": [
    "df1.drop(columns=['voc_mis_pbls_yn'], inplace=True)"
   ]
  },
  {
   "cell_type": "markdown",
   "metadata": {},
   "source": [
    "#####\n",
    "**날짜 관련 컬럼을 삭제하세요.</font>**"
   ]
  },
  {
   "cell_type": "code",
   "execution_count": 19,
   "metadata": {
    "tags": []
   },
   "outputs": [],
   "source": [
    "# 날짜 관련 컬럼 : 'new_date', 'opn_nfl_chg_date', 'cont_fns_pam_date'\n",
    "\n",
    "df1.drop(columns=['new_date', 'opn_nfl_chg_date', 'cont_fns_pam_date'], inplace=True)"
   ]
  },
  {
   "cell_type": "markdown",
   "metadata": {},
   "source": [
    "## **<span style=\"color:black\">데이터 결측치 처리</span>**"
   ]
  },
  {
   "cell_type": "markdown",
   "metadata": {},
   "source": [
    "**<br>\n",
    "<font color=blue>문제4. 모델링 성능을 제대로 얻기 위해서 결측치 처리는 필수 입니다. 아래 가이드를 따라 결측치를 처리하세요.</font>**\n",
    "+ DataFrame replace 함수를 사용해서 모든 컬럼에 대해 '_'값을 null로 변경\n",
    "+ Null 표현: np.nan \n",
    "+ \"df1\" DataFrame 자체에 저장할 것이므로 inplace=True 사용\n",
    "+ 컬럼별 Null 갯수 확인"
   ]
  },
  {
   "cell_type": "code",
   "execution_count": 20,
   "metadata": {},
   "outputs": [
    {
     "data": {
      "text/plain": [
       "voc_prod_sbt_id                      0\n",
       "voc_wjt_sorc_id                      0\n",
       "voc_type_itg_cd                      0\n",
       "voc_sttus_itg_cd                     0\n",
       "cust_clas_itg_cd                  1934\n",
       "bprod_sbt_id                         0\n",
       "age_itg_cd                        2129\n",
       "cont_sttus_itg_cd                 1168\n",
       "cust_dtl_ctg_itg_cd               1168\n",
       "voc_trt_degr_div_itg_cd              0\n",
       "voc_dupl_tmscnt                      0\n",
       "voc_trt_need_time_itg_cd             0\n",
       "cust_snsry_base_conf_need_time       0\n",
       "trm_yn                               0\n",
       "dtype: int64"
      ]
     },
     "execution_count": 20,
     "metadata": {},
     "output_type": "execute_result"
    }
   ],
   "source": [
    "# 여기에 답안코드를 작성하세요.\n",
    "\n",
    "df1.replace('_', np.nan, inplace=True)\n",
    "df1.isnull().sum()\n"
   ]
  },
  {
   "cell_type": "markdown",
   "metadata": {},
   "source": [
    "**<br>\n",
    "<font color=blue>문제5. 아래 가이드에 따라 'cust_clas_itg_cd' 컬럼의 값 중에 Null을 컬럼의 최빈값으로 변경하세요.</font>**\n",
    "+ DataFrame의 fillna() 함수 사용\n",
    "+ cust_clas_itg_cd 컬럼에 대한 값 분포 확인\n",
    "+ 적용 대상 컬럼 : 'cust_clas_itg_cd'\n",
    "+ \"df1\" DataFrame에 자체에 저장할 것이므로 inplace=True 사용\n",
    "+ 결측값을 'L'로 대체"
   ]
  },
  {
   "cell_type": "code",
   "execution_count": 21,
   "metadata": {},
   "outputs": [
    {
     "data": {
      "text/plain": [
       "L    2769\n",
       "G    1777\n",
       "I    1266\n",
       "J    1071\n",
       "F     903\n",
       "O     275\n",
       "H       4\n",
       "M       1\n",
       "Name: cust_clas_itg_cd, dtype: int64"
      ]
     },
     "execution_count": 21,
     "metadata": {},
     "output_type": "execute_result"
    }
   ],
   "source": [
    "# 여기에 답안코드를 작성하세요.\n",
    "# cust_clas_itg_cd 컬럼에 대한 값 분포 확인\n",
    "\n",
    "df1['cust_clas_itg_cd'].value_counts()\n"
   ]
  },
  {
   "cell_type": "code",
   "execution_count": 22,
   "metadata": {},
   "outputs": [],
   "source": [
    "# 여기에 답안코드를 작성하세요.\n",
    "# DataFrame의 fillna() 함수 사용\n",
    "# 적용 대상 컬럼 : 'cust_clas_itg_cd'\n",
    "# \"df1\" DataFrame에 자체에 저장할 것이므로 inplace=True 사용\n",
    "# 결측값을 'L'로 대체\n",
    "\n",
    "df1['cust_clas_itg_cd'].fillna('L', inplace=True)"
   ]
  },
  {
   "cell_type": "code",
   "execution_count": 23,
   "metadata": {},
   "outputs": [],
   "source": [
    "# (참고) fillna 대신 replace함수 사용하여 처리해도 됨.\n",
    "# (참고) df1['cust_clas_itg_cd'].replace(np.nan, 'L', inplace=True)"
   ]
  },
  {
   "cell_type": "code",
   "execution_count": 24,
   "metadata": {},
   "outputs": [
    {
     "data": {
      "text/plain": [
       "0"
      ]
     },
     "execution_count": 24,
     "metadata": {},
     "output_type": "execute_result"
    }
   ],
   "source": [
    "# cust_clas_itg_cd 컬럼 Null 갯수 확인\n",
    "\n",
    "df1['cust_clas_itg_cd'].isnull().sum()"
   ]
  },
  {
   "cell_type": "code",
   "execution_count": 25,
   "metadata": {
    "tags": []
   },
   "outputs": [
    {
     "name": "stdout",
     "output_type": "stream",
     "text": [
      "<class 'pandas.core.frame.DataFrame'>\n",
      "RangeIndex: 10000 entries, 0 to 9999\n",
      "Data columns (total 14 columns):\n",
      " #   Column                          Non-Null Count  Dtype \n",
      "---  ------                          --------------  ----- \n",
      " 0   voc_prod_sbt_id                 10000 non-null  int64 \n",
      " 1   voc_wjt_sorc_id                 10000 non-null  int64 \n",
      " 2   voc_type_itg_cd                 10000 non-null  int64 \n",
      " 3   voc_sttus_itg_cd                10000 non-null  int64 \n",
      " 4   cust_clas_itg_cd                10000 non-null  object\n",
      " 5   bprod_sbt_id                    10000 non-null  int64 \n",
      " 6   age_itg_cd                      7871 non-null   object\n",
      " 7   cont_sttus_itg_cd               8832 non-null   object\n",
      " 8   cust_dtl_ctg_itg_cd             8832 non-null   object\n",
      " 9   voc_trt_degr_div_itg_cd         10000 non-null  int64 \n",
      " 10  voc_dupl_tmscnt                 10000 non-null  int64 \n",
      " 11  voc_trt_need_time_itg_cd        10000 non-null  int64 \n",
      " 12  cust_snsry_base_conf_need_time  10000 non-null  int64 \n",
      " 13  trm_yn                          10000 non-null  object\n",
      "dtypes: int64(9), object(5)\n",
      "memory usage: 1.1+ MB\n"
     ]
    }
   ],
   "source": [
    "df1.info()"
   ]
  },
  {
   "cell_type": "markdown",
   "metadata": {},
   "source": [
    "**<br>\n",
    "<font color=blue>문제6. 아래 주석에 따라 'age_itg_cd'의 null 값을 중앙값(median)으로 변경하고 데이터 타입을 정수(int)로 변경하세요.</font>**"
   ]
  },
  {
   "cell_type": "code",
   "execution_count": 26,
   "metadata": {},
   "outputs": [
    {
     "data": {
      "text/plain": [
       "49.0"
      ]
     },
     "execution_count": 26,
     "metadata": {},
     "output_type": "execute_result"
    }
   ],
   "source": [
    "# 여기에 답안코드를 작성하세요.\n",
    "# 'age_itg_cd' 중앙값 계산\n",
    "\n",
    "df1['age_itg_cd'].median()"
   ]
  },
  {
   "cell_type": "code",
   "execution_count": 27,
   "metadata": {},
   "outputs": [],
   "source": [
    "# 여기에 답안코드를 작성하세요.\n",
    "# 'age_itg_cd' 컬럼에 대해 null 값을 중앙값 49로 replace\n",
    "\n",
    "df1['age_itg_cd'].replace(np.nan, 49, inplace=True)"
   ]
  },
  {
   "cell_type": "code",
   "execution_count": 28,
   "metadata": {},
   "outputs": [
    {
     "data": {
      "text/plain": [
       "dtype('O')"
      ]
     },
     "execution_count": 28,
     "metadata": {},
     "output_type": "execute_result"
    }
   ],
   "source": [
    "# 여기에 답안코드를 작성하세요.\n",
    "# 'age_itg_cd' 컬럼 type 확인 : object인지 확인\n",
    "\n",
    "df1['age_itg_cd'].dtypes"
   ]
  },
  {
   "cell_type": "code",
   "execution_count": 29,
   "metadata": {},
   "outputs": [],
   "source": [
    "# 여기에 답안코드를 작성하세요.\n",
    "# DataFrame의 astype() 함수 사용해서 int 인자 삽입\n",
    "# 변경 대상 : df1['age_itg_cd']\n",
    "\n",
    "df1['age_itg_cd'] = df1['age_itg_cd'].astype(int)\n"
   ]
  },
  {
   "cell_type": "code",
   "execution_count": 30,
   "metadata": {},
   "outputs": [
    {
     "data": {
      "text/plain": [
       "0"
      ]
     },
     "execution_count": 30,
     "metadata": {},
     "output_type": "execute_result"
    }
   ],
   "source": [
    "# 여기에 답안코드를 작성하세요.\n",
    "# null 값 개수 확인\n",
    "\n",
    "df1['age_itg_cd'].isnull().sum()"
   ]
  },
  {
   "cell_type": "code",
   "execution_count": 31,
   "metadata": {},
   "outputs": [
    {
     "name": "stdout",
     "output_type": "stream",
     "text": [
      "<class 'pandas.core.frame.DataFrame'>\n",
      "RangeIndex: 10000 entries, 0 to 9999\n",
      "Data columns (total 14 columns):\n",
      " #   Column                          Non-Null Count  Dtype \n",
      "---  ------                          --------------  ----- \n",
      " 0   voc_prod_sbt_id                 10000 non-null  int64 \n",
      " 1   voc_wjt_sorc_id                 10000 non-null  int64 \n",
      " 2   voc_type_itg_cd                 10000 non-null  int64 \n",
      " 3   voc_sttus_itg_cd                10000 non-null  int64 \n",
      " 4   cust_clas_itg_cd                10000 non-null  object\n",
      " 5   bprod_sbt_id                    10000 non-null  int64 \n",
      " 6   age_itg_cd                      10000 non-null  int32 \n",
      " 7   cont_sttus_itg_cd               8832 non-null   object\n",
      " 8   cust_dtl_ctg_itg_cd             8832 non-null   object\n",
      " 9   voc_trt_degr_div_itg_cd         10000 non-null  int64 \n",
      " 10  voc_dupl_tmscnt                 10000 non-null  int64 \n",
      " 11  voc_trt_need_time_itg_cd        10000 non-null  int64 \n",
      " 12  cust_snsry_base_conf_need_time  10000 non-null  int64 \n",
      " 13  trm_yn                          10000 non-null  object\n",
      "dtypes: int32(1), int64(9), object(4)\n",
      "memory usage: 1.0+ MB\n"
     ]
    }
   ],
   "source": [
    "# 여기에 답안코드를 작성하세요.\n",
    "# age_itg_cd 컬럼 type 확인 : int32인지 확인\n",
    "\n",
    "df1.info()"
   ]
  },
  {
   "cell_type": "markdown",
   "metadata": {},
   "source": [
    "**<br>\n",
    "<font color=blue>문제7. 아래 주석에 따라 'cont_sttus_itg_cd'의 null 값과 'cust_dtl_ctg_itg_cd'의 null 값을 최빈값(mode)으로 변경하세요.</font>**"
   ]
  },
  {
   "cell_type": "code",
   "execution_count": 32,
   "metadata": {},
   "outputs": [
    {
     "data": {
      "text/plain": [
       "1168"
      ]
     },
     "execution_count": 32,
     "metadata": {},
     "output_type": "execute_result"
    }
   ],
   "source": [
    "# 여기에 답안코드를 작성하세요.\n",
    "# 'cont_sttus_itg_cd' 컬럼에서 NULL 값 개수 계산\n",
    "\n",
    "df1['cont_sttus_itg_cd'].isnull().sum()"
   ]
  },
  {
   "cell_type": "code",
   "execution_count": 33,
   "metadata": {},
   "outputs": [
    {
     "data": {
      "text/plain": [
       "10001    7843\n",
       "10005     552\n",
       "10003     174\n",
       "10007     169\n",
       "10002      65\n",
       "10006      25\n",
       "10004       4\n",
       "Name: cont_sttus_itg_cd, dtype: int64"
      ]
     },
     "execution_count": 33,
     "metadata": {},
     "output_type": "execute_result"
    }
   ],
   "source": [
    "# 여기에 답안코드를 작성하세요.\n",
    "# 'cont_sttus_itg_cd' 컬럼의 각 고유 값들의 빈도를 계산\n",
    "\n",
    "df1['cont_sttus_itg_cd'].value_counts()"
   ]
  },
  {
   "cell_type": "code",
   "execution_count": 34,
   "metadata": {},
   "outputs": [],
   "source": [
    "# 여기에 답안코드를 작성하세요.\n",
    "# 'cont_sttus_itg_cd' 컬럼의 빈 값을 '10001'로 대체함\n",
    "# inplace=True로 설정\n",
    "\n",
    "df1['cont_sttus_itg_cd'].replace(np.nan,'10001', inplace=True)"
   ]
  },
  {
   "cell_type": "code",
   "execution_count": 35,
   "metadata": {},
   "outputs": [
    {
     "data": {
      "text/plain": [
       "0"
      ]
     },
     "execution_count": 35,
     "metadata": {},
     "output_type": "execute_result"
    }
   ],
   "source": [
    "# 여기에 답안코드를 작성하세요.\n",
    "# 'cont_sttus_itg_cd' 컬럼에서 NULL 값 개수 확인\n",
    "\n",
    "df1['cont_sttus_itg_cd'].isnull().sum()"
   ]
  },
  {
   "cell_type": "markdown",
   "metadata": {},
   "source": [
    "#####\n",
    "**'cust_dtl_ctg_itg_cd'의 null 값을 최빈값(mode)으로 변경하세요</font>**"
   ]
  },
  {
   "cell_type": "code",
   "execution_count": 36,
   "metadata": {},
   "outputs": [
    {
     "data": {
      "text/plain": [
       "1168"
      ]
     },
     "execution_count": 36,
     "metadata": {},
     "output_type": "execute_result"
    }
   ],
   "source": [
    "# 여기에 답안코드를 작성하세요.\n",
    "# 'cust_dtl_ctg_itg_cd' 컬럼에서 NULL 값 개수 계산\n",
    "\n",
    "df1['cust_dtl_ctg_itg_cd'].isnull().sum()"
   ]
  },
  {
   "cell_type": "code",
   "execution_count": 37,
   "metadata": {},
   "outputs": [
    {
     "data": {
      "text/plain": [
       "10003    5171\n",
       "10002    1329\n",
       "90029    1160\n",
       "10019     389\n",
       "90056     368\n",
       "90027     217\n",
       "90024     119\n",
       "10018      25\n",
       "10011      25\n",
       "90030      24\n",
       "10001       4\n",
       "10004       1\n",
       "Name: cust_dtl_ctg_itg_cd, dtype: int64"
      ]
     },
     "execution_count": 37,
     "metadata": {},
     "output_type": "execute_result"
    }
   ],
   "source": [
    "# 여기에 답안코드를 작성하세요.\n",
    "# 'cust_dtl_ctg_itg_cd' 컬럼의 각 고유 값들의 빈도를 계산\n",
    "\n",
    "df1['cust_dtl_ctg_itg_cd'].value_counts()"
   ]
  },
  {
   "cell_type": "code",
   "execution_count": 38,
   "metadata": {},
   "outputs": [],
   "source": [
    "# 여기에 답안코드를 작성하세요.\n",
    "# 'cust_dtl_ctg_itg_cd' 컬럼의 빈 값을 '10003'로 대체함\n",
    "# inplace=True로 설정\n",
    "\n",
    "\n",
    "df1['cust_dtl_ctg_itg_cd'].replace(np.nan,'10003', inplace=True)"
   ]
  },
  {
   "cell_type": "code",
   "execution_count": 39,
   "metadata": {},
   "outputs": [
    {
     "data": {
      "text/plain": [
       "0"
      ]
     },
     "execution_count": 39,
     "metadata": {},
     "output_type": "execute_result"
    }
   ],
   "source": [
    "# 여기에 답안코드를 작성하세요.\n",
    "# 'cust_dtl_ctg_itg_cd' 컬럼에서 NULL 값 개수 확인\n",
    "\n",
    "\n",
    "df1['cust_dtl_ctg_itg_cd'].isnull().sum()"
   ]
  },
  {
   "cell_type": "markdown",
   "metadata": {},
   "source": [
    "<br>"
   ]
  },
  {
   "cell_type": "markdown",
   "metadata": {},
   "source": [
    "## **<span style=\"color:black\">라벨 인코딩, 원핫 인코딩</span>**"
   ]
  },
  {
   "cell_type": "markdown",
   "metadata": {},
   "source": [
    "#####\n",
    "**컬럼 타입 object를 별도 dataframe에 저장하고 cust_clas_itg_cd 컬럼에 대해 LabelEncoder를 적용해보세요.</font>**"
   ]
  },
  {
   "cell_type": "code",
   "execution_count": 40,
   "metadata": {},
   "outputs": [],
   "source": [
    "# 컬럼 타입 ojbect 선택\n",
    "# 'df1'에서 문자열(object) 데이터 타입을 가진 열들을 선택하여 'cat_cols'라는 변수에 저장\n",
    "\n",
    "cat_cols = df1.select_dtypes(include='object')"
   ]
  },
  {
   "cell_type": "code",
   "execution_count": 41,
   "metadata": {},
   "outputs": [
    {
     "data": {
      "text/html": [
       "<div>\n",
       "<style scoped>\n",
       "    .dataframe tbody tr th:only-of-type {\n",
       "        vertical-align: middle;\n",
       "    }\n",
       "\n",
       "    .dataframe tbody tr th {\n",
       "        vertical-align: top;\n",
       "    }\n",
       "\n",
       "    .dataframe thead th {\n",
       "        text-align: right;\n",
       "    }\n",
       "</style>\n",
       "<table border=\"1\" class=\"dataframe\">\n",
       "  <thead>\n",
       "    <tr style=\"text-align: right;\">\n",
       "      <th></th>\n",
       "      <th>cust_clas_itg_cd</th>\n",
       "      <th>cont_sttus_itg_cd</th>\n",
       "      <th>cust_dtl_ctg_itg_cd</th>\n",
       "      <th>trm_yn</th>\n",
       "    </tr>\n",
       "  </thead>\n",
       "  <tbody>\n",
       "    <tr>\n",
       "      <th>0</th>\n",
       "      <td>F</td>\n",
       "      <td>10001</td>\n",
       "      <td>10003</td>\n",
       "      <td>N</td>\n",
       "    </tr>\n",
       "    <tr>\n",
       "      <th>1</th>\n",
       "      <td>G</td>\n",
       "      <td>10001</td>\n",
       "      <td>10002</td>\n",
       "      <td>N</td>\n",
       "    </tr>\n",
       "    <tr>\n",
       "      <th>2</th>\n",
       "      <td>G</td>\n",
       "      <td>10001</td>\n",
       "      <td>10003</td>\n",
       "      <td>N</td>\n",
       "    </tr>\n",
       "    <tr>\n",
       "      <th>3</th>\n",
       "      <td>L</td>\n",
       "      <td>10001</td>\n",
       "      <td>90024</td>\n",
       "      <td>N</td>\n",
       "    </tr>\n",
       "    <tr>\n",
       "      <th>4</th>\n",
       "      <td>G</td>\n",
       "      <td>10001</td>\n",
       "      <td>90024</td>\n",
       "      <td>N</td>\n",
       "    </tr>\n",
       "  </tbody>\n",
       "</table>\n",
       "</div>"
      ],
      "text/plain": [
       "  cust_clas_itg_cd cont_sttus_itg_cd cust_dtl_ctg_itg_cd trm_yn\n",
       "0                F             10001               10003      N\n",
       "1                G             10001               10002      N\n",
       "2                G             10001               10003      N\n",
       "3                L             10001               90024      N\n",
       "4                G             10001               90024      N"
      ]
     },
     "execution_count": 41,
     "metadata": {},
     "output_type": "execute_result"
    }
   ],
   "source": [
    "# cat_cols 앞행 확인\n",
    "\n",
    "cat_cols.head()"
   ]
  },
  {
   "cell_type": "code",
   "execution_count": 42,
   "metadata": {},
   "outputs": [],
   "source": [
    "# scikit-learn의 LabelEncoder를 임포트하세요.\n",
    "# LabelEncoder 객체를 초기화하고 le 변수에 저장\n",
    "# cat_cols 데이터프레임에서 'cust_clas_itg_cd' 열의 범주형 데이터를 숫자로 인코딩하고, 그 결과를 'le_cust_clas_itg_cd' 열에 저장\n",
    "\n",
    "from sklearn.preprocessing import LabelEncoder\n",
    "le = LabelEncoder()\n",
    "cat_cols['le_cust_clas_itg_cd'] = le.fit_transform(cat_cols['cust_clas_itg_cd'])"
   ]
  },
  {
   "cell_type": "code",
   "execution_count": 43,
   "metadata": {
    "tags": []
   },
   "outputs": [
    {
     "data": {
      "text/html": [
       "<div>\n",
       "<style scoped>\n",
       "    .dataframe tbody tr th:only-of-type {\n",
       "        vertical-align: middle;\n",
       "    }\n",
       "\n",
       "    .dataframe tbody tr th {\n",
       "        vertical-align: top;\n",
       "    }\n",
       "\n",
       "    .dataframe thead th {\n",
       "        text-align: right;\n",
       "    }\n",
       "</style>\n",
       "<table border=\"1\" class=\"dataframe\">\n",
       "  <thead>\n",
       "    <tr style=\"text-align: right;\">\n",
       "      <th></th>\n",
       "      <th>cust_clas_itg_cd</th>\n",
       "      <th>cont_sttus_itg_cd</th>\n",
       "      <th>cust_dtl_ctg_itg_cd</th>\n",
       "      <th>trm_yn</th>\n",
       "      <th>le_cust_clas_itg_cd</th>\n",
       "    </tr>\n",
       "  </thead>\n",
       "  <tbody>\n",
       "    <tr>\n",
       "      <th>0</th>\n",
       "      <td>F</td>\n",
       "      <td>10001</td>\n",
       "      <td>10003</td>\n",
       "      <td>N</td>\n",
       "      <td>0</td>\n",
       "    </tr>\n",
       "    <tr>\n",
       "      <th>1</th>\n",
       "      <td>G</td>\n",
       "      <td>10001</td>\n",
       "      <td>10002</td>\n",
       "      <td>N</td>\n",
       "      <td>1</td>\n",
       "    </tr>\n",
       "    <tr>\n",
       "      <th>2</th>\n",
       "      <td>G</td>\n",
       "      <td>10001</td>\n",
       "      <td>10003</td>\n",
       "      <td>N</td>\n",
       "      <td>1</td>\n",
       "    </tr>\n",
       "    <tr>\n",
       "      <th>3</th>\n",
       "      <td>L</td>\n",
       "      <td>10001</td>\n",
       "      <td>90024</td>\n",
       "      <td>N</td>\n",
       "      <td>5</td>\n",
       "    </tr>\n",
       "    <tr>\n",
       "      <th>4</th>\n",
       "      <td>G</td>\n",
       "      <td>10001</td>\n",
       "      <td>90024</td>\n",
       "      <td>N</td>\n",
       "      <td>1</td>\n",
       "    </tr>\n",
       "  </tbody>\n",
       "</table>\n",
       "</div>"
      ],
      "text/plain": [
       "  cust_clas_itg_cd cont_sttus_itg_cd cust_dtl_ctg_itg_cd trm_yn  \\\n",
       "0                F             10001               10003      N   \n",
       "1                G             10001               10002      N   \n",
       "2                G             10001               10003      N   \n",
       "3                L             10001               90024      N   \n",
       "4                G             10001               90024      N   \n",
       "\n",
       "   le_cust_clas_itg_cd  \n",
       "0                    0  \n",
       "1                    1  \n",
       "2                    1  \n",
       "3                    5  \n",
       "4                    1  "
      ]
     },
     "execution_count": 43,
     "metadata": {},
     "output_type": "execute_result"
    }
   ],
   "source": [
    "# cat_cols 앞행 확인\n",
    "\n",
    "cat_cols.head()"
   ]
  },
  {
   "cell_type": "markdown",
   "metadata": {},
   "source": [
    "**<br>\n",
    "<font color=blue>문제8. 범주형 컬럼(cat_columns)에 대해서 One-Hot-Encoding될 수 있도록 Pandas의 get_dummies 함수를 적용하세요</font>**\n",
    "**<br>\n",
    "<font color=blue>원-핫인코딩으로 아래 조건에 해당하는 컬럼 데이터를 변환하세요.</font>**\n",
    "+ 범주형 컬럼을 찾아 cat_columns에 저장하세요\n",
    "+ Pandas의 get_dummies 함수 사용\n",
    "+ 대상 데이터프레임 : df1\n",
    "+ columns=cat_columns\n",
    "+ drop_first=True\n",
    "+ 해당 전처리가 반영된 결과를 'df1' DataFrame에 저장해 주세요."
   ]
  },
  {
   "cell_type": "code",
   "execution_count": 44,
   "metadata": {},
   "outputs": [],
   "source": [
    "# 여기에 답안코드를 작성하세요.\n",
    "\n",
    "cat_columns = ['cust_clas_itg_cd', 'cont_sttus_itg_cd', 'cust_dtl_ctg_itg_cd', 'trm_yn']\n",
    "df1 = pd.get_dummies(data=df1, columns=cat_columns, drop_first=True)\n",
    "\n"
   ]
  },
  {
   "cell_type": "code",
   "execution_count": 45,
   "metadata": {},
   "outputs": [
    {
     "name": "stdout",
     "output_type": "stream",
     "text": [
      "<class 'pandas.core.frame.DataFrame'>\n",
      "RangeIndex: 10000 entries, 0 to 9999\n",
      "Data columns (total 35 columns):\n",
      " #   Column                          Non-Null Count  Dtype\n",
      "---  ------                          --------------  -----\n",
      " 0   voc_prod_sbt_id                 10000 non-null  int64\n",
      " 1   voc_wjt_sorc_id                 10000 non-null  int64\n",
      " 2   voc_type_itg_cd                 10000 non-null  int64\n",
      " 3   voc_sttus_itg_cd                10000 non-null  int64\n",
      " 4   bprod_sbt_id                    10000 non-null  int64\n",
      " 5   age_itg_cd                      10000 non-null  int32\n",
      " 6   voc_trt_degr_div_itg_cd         10000 non-null  int64\n",
      " 7   voc_dupl_tmscnt                 10000 non-null  int64\n",
      " 8   voc_trt_need_time_itg_cd        10000 non-null  int64\n",
      " 9   cust_snsry_base_conf_need_time  10000 non-null  int64\n",
      " 10  cust_clas_itg_cd_G              10000 non-null  uint8\n",
      " 11  cust_clas_itg_cd_H              10000 non-null  uint8\n",
      " 12  cust_clas_itg_cd_I              10000 non-null  uint8\n",
      " 13  cust_clas_itg_cd_J              10000 non-null  uint8\n",
      " 14  cust_clas_itg_cd_L              10000 non-null  uint8\n",
      " 15  cust_clas_itg_cd_M              10000 non-null  uint8\n",
      " 16  cust_clas_itg_cd_O              10000 non-null  uint8\n",
      " 17  cont_sttus_itg_cd_10002         10000 non-null  uint8\n",
      " 18  cont_sttus_itg_cd_10003         10000 non-null  uint8\n",
      " 19  cont_sttus_itg_cd_10004         10000 non-null  uint8\n",
      " 20  cont_sttus_itg_cd_10005         10000 non-null  uint8\n",
      " 21  cont_sttus_itg_cd_10006         10000 non-null  uint8\n",
      " 22  cont_sttus_itg_cd_10007         10000 non-null  uint8\n",
      " 23  cust_dtl_ctg_itg_cd_10002       10000 non-null  uint8\n",
      " 24  cust_dtl_ctg_itg_cd_10003       10000 non-null  uint8\n",
      " 25  cust_dtl_ctg_itg_cd_10004       10000 non-null  uint8\n",
      " 26  cust_dtl_ctg_itg_cd_10011       10000 non-null  uint8\n",
      " 27  cust_dtl_ctg_itg_cd_10018       10000 non-null  uint8\n",
      " 28  cust_dtl_ctg_itg_cd_10019       10000 non-null  uint8\n",
      " 29  cust_dtl_ctg_itg_cd_90024       10000 non-null  uint8\n",
      " 30  cust_dtl_ctg_itg_cd_90027       10000 non-null  uint8\n",
      " 31  cust_dtl_ctg_itg_cd_90029       10000 non-null  uint8\n",
      " 32  cust_dtl_ctg_itg_cd_90030       10000 non-null  uint8\n",
      " 33  cust_dtl_ctg_itg_cd_90056       10000 non-null  uint8\n",
      " 34  trm_yn_Y                        10000 non-null  uint8\n",
      "dtypes: int32(1), int64(9), uint8(25)\n",
      "memory usage: 986.5 KB\n"
     ]
    }
   ],
   "source": [
    "# 아래와 같이 범주형 컬럼에 대해 One-Hot-Encoding 된 컬럼 확인\n",
    "\n",
    "df1.info()"
   ]
  },
  {
   "cell_type": "markdown",
   "metadata": {},
   "source": [
    "## **<span style=\"color:black\">x,y 데이터 분리</span>**"
   ]
  },
  {
   "cell_type": "code",
   "execution_count": 46,
   "metadata": {},
   "outputs": [
    {
     "data": {
      "text/html": [
       "<div>\n",
       "<style scoped>\n",
       "    .dataframe tbody tr th:only-of-type {\n",
       "        vertical-align: middle;\n",
       "    }\n",
       "\n",
       "    .dataframe tbody tr th {\n",
       "        vertical-align: top;\n",
       "    }\n",
       "\n",
       "    .dataframe thead th {\n",
       "        text-align: right;\n",
       "    }\n",
       "</style>\n",
       "<table border=\"1\" class=\"dataframe\">\n",
       "  <thead>\n",
       "    <tr style=\"text-align: right;\">\n",
       "      <th></th>\n",
       "      <th>voc_prod_sbt_id</th>\n",
       "      <th>voc_wjt_sorc_id</th>\n",
       "      <th>voc_type_itg_cd</th>\n",
       "      <th>voc_sttus_itg_cd</th>\n",
       "      <th>bprod_sbt_id</th>\n",
       "      <th>age_itg_cd</th>\n",
       "      <th>voc_trt_degr_div_itg_cd</th>\n",
       "      <th>voc_dupl_tmscnt</th>\n",
       "      <th>voc_trt_need_time_itg_cd</th>\n",
       "      <th>cust_snsry_base_conf_need_time</th>\n",
       "      <th>...</th>\n",
       "      <th>cust_dtl_ctg_itg_cd_10004</th>\n",
       "      <th>cust_dtl_ctg_itg_cd_10011</th>\n",
       "      <th>cust_dtl_ctg_itg_cd_10018</th>\n",
       "      <th>cust_dtl_ctg_itg_cd_10019</th>\n",
       "      <th>cust_dtl_ctg_itg_cd_90024</th>\n",
       "      <th>cust_dtl_ctg_itg_cd_90027</th>\n",
       "      <th>cust_dtl_ctg_itg_cd_90029</th>\n",
       "      <th>cust_dtl_ctg_itg_cd_90030</th>\n",
       "      <th>cust_dtl_ctg_itg_cd_90056</th>\n",
       "      <th>trm_yn_Y</th>\n",
       "    </tr>\n",
       "  </thead>\n",
       "  <tbody>\n",
       "    <tr>\n",
       "      <th>0</th>\n",
       "      <td>1000665328</td>\n",
       "      <td>2153</td>\n",
       "      <td>10009</td>\n",
       "      <td>10002</td>\n",
       "      <td>1000001126</td>\n",
       "      <td>36</td>\n",
       "      <td>20001</td>\n",
       "      <td>0</td>\n",
       "      <td>10001</td>\n",
       "      <td>0</td>\n",
       "      <td>...</td>\n",
       "      <td>0</td>\n",
       "      <td>0</td>\n",
       "      <td>0</td>\n",
       "      <td>0</td>\n",
       "      <td>0</td>\n",
       "      <td>0</td>\n",
       "      <td>0</td>\n",
       "      <td>0</td>\n",
       "      <td>0</td>\n",
       "      <td>0</td>\n",
       "    </tr>\n",
       "    <tr>\n",
       "      <th>1</th>\n",
       "      <td>1001028714</td>\n",
       "      <td>3311</td>\n",
       "      <td>10009</td>\n",
       "      <td>10002</td>\n",
       "      <td>1000852226</td>\n",
       "      <td>32</td>\n",
       "      <td>20001</td>\n",
       "      <td>0</td>\n",
       "      <td>10001</td>\n",
       "      <td>0</td>\n",
       "      <td>...</td>\n",
       "      <td>0</td>\n",
       "      <td>0</td>\n",
       "      <td>0</td>\n",
       "      <td>0</td>\n",
       "      <td>0</td>\n",
       "      <td>0</td>\n",
       "      <td>0</td>\n",
       "      <td>0</td>\n",
       "      <td>0</td>\n",
       "      <td>0</td>\n",
       "    </tr>\n",
       "    <tr>\n",
       "      <th>2</th>\n",
       "      <td>1001028567</td>\n",
       "      <td>1575</td>\n",
       "      <td>10009</td>\n",
       "      <td>10002</td>\n",
       "      <td>1000851875</td>\n",
       "      <td>52</td>\n",
       "      <td>20001</td>\n",
       "      <td>0</td>\n",
       "      <td>10001</td>\n",
       "      <td>0</td>\n",
       "      <td>...</td>\n",
       "      <td>0</td>\n",
       "      <td>0</td>\n",
       "      <td>0</td>\n",
       "      <td>0</td>\n",
       "      <td>0</td>\n",
       "      <td>0</td>\n",
       "      <td>0</td>\n",
       "      <td>0</td>\n",
       "      <td>0</td>\n",
       "      <td>0</td>\n",
       "    </tr>\n",
       "    <tr>\n",
       "      <th>3</th>\n",
       "      <td>1000665328</td>\n",
       "      <td>3546</td>\n",
       "      <td>10009</td>\n",
       "      <td>10002</td>\n",
       "      <td>1000001126</td>\n",
       "      <td>49</td>\n",
       "      <td>20001</td>\n",
       "      <td>0</td>\n",
       "      <td>10001</td>\n",
       "      <td>0</td>\n",
       "      <td>...</td>\n",
       "      <td>0</td>\n",
       "      <td>0</td>\n",
       "      <td>0</td>\n",
       "      <td>0</td>\n",
       "      <td>1</td>\n",
       "      <td>0</td>\n",
       "      <td>0</td>\n",
       "      <td>0</td>\n",
       "      <td>0</td>\n",
       "      <td>0</td>\n",
       "    </tr>\n",
       "    <tr>\n",
       "      <th>4</th>\n",
       "      <td>1000779276</td>\n",
       "      <td>3086</td>\n",
       "      <td>10009</td>\n",
       "      <td>10002</td>\n",
       "      <td>1000764639</td>\n",
       "      <td>50</td>\n",
       "      <td>20001</td>\n",
       "      <td>0</td>\n",
       "      <td>10001</td>\n",
       "      <td>0</td>\n",
       "      <td>...</td>\n",
       "      <td>0</td>\n",
       "      <td>0</td>\n",
       "      <td>0</td>\n",
       "      <td>0</td>\n",
       "      <td>1</td>\n",
       "      <td>0</td>\n",
       "      <td>0</td>\n",
       "      <td>0</td>\n",
       "      <td>0</td>\n",
       "      <td>0</td>\n",
       "    </tr>\n",
       "  </tbody>\n",
       "</table>\n",
       "<p>5 rows × 35 columns</p>\n",
       "</div>"
      ],
      "text/plain": [
       "   voc_prod_sbt_id  voc_wjt_sorc_id  voc_type_itg_cd  voc_sttus_itg_cd  \\\n",
       "0       1000665328             2153            10009             10002   \n",
       "1       1001028714             3311            10009             10002   \n",
       "2       1001028567             1575            10009             10002   \n",
       "3       1000665328             3546            10009             10002   \n",
       "4       1000779276             3086            10009             10002   \n",
       "\n",
       "   bprod_sbt_id  age_itg_cd  voc_trt_degr_div_itg_cd  voc_dupl_tmscnt  \\\n",
       "0    1000001126          36                    20001                0   \n",
       "1    1000852226          32                    20001                0   \n",
       "2    1000851875          52                    20001                0   \n",
       "3    1000001126          49                    20001                0   \n",
       "4    1000764639          50                    20001                0   \n",
       "\n",
       "   voc_trt_need_time_itg_cd  cust_snsry_base_conf_need_time  ...  \\\n",
       "0                     10001                               0  ...   \n",
       "1                     10001                               0  ...   \n",
       "2                     10001                               0  ...   \n",
       "3                     10001                               0  ...   \n",
       "4                     10001                               0  ...   \n",
       "\n",
       "   cust_dtl_ctg_itg_cd_10004  cust_dtl_ctg_itg_cd_10011  \\\n",
       "0                          0                          0   \n",
       "1                          0                          0   \n",
       "2                          0                          0   \n",
       "3                          0                          0   \n",
       "4                          0                          0   \n",
       "\n",
       "   cust_dtl_ctg_itg_cd_10018  cust_dtl_ctg_itg_cd_10019  \\\n",
       "0                          0                          0   \n",
       "1                          0                          0   \n",
       "2                          0                          0   \n",
       "3                          0                          0   \n",
       "4                          0                          0   \n",
       "\n",
       "   cust_dtl_ctg_itg_cd_90024  cust_dtl_ctg_itg_cd_90027  \\\n",
       "0                          0                          0   \n",
       "1                          0                          0   \n",
       "2                          0                          0   \n",
       "3                          1                          0   \n",
       "4                          1                          0   \n",
       "\n",
       "   cust_dtl_ctg_itg_cd_90029  cust_dtl_ctg_itg_cd_90030  \\\n",
       "0                          0                          0   \n",
       "1                          0                          0   \n",
       "2                          0                          0   \n",
       "3                          0                          0   \n",
       "4                          0                          0   \n",
       "\n",
       "   cust_dtl_ctg_itg_cd_90056  trm_yn_Y  \n",
       "0                          0         0  \n",
       "1                          0         0  \n",
       "2                          0         0  \n",
       "3                          0         0  \n",
       "4                          0         0  \n",
       "\n",
       "[5 rows x 35 columns]"
      ]
     },
     "execution_count": 46,
     "metadata": {},
     "output_type": "execute_result"
    }
   ],
   "source": [
    "# df1 앞행 확인\n",
    "\n",
    "df1.head()"
   ]
  },
  {
   "cell_type": "markdown",
   "metadata": {},
   "source": [
    "**<br>\n",
    "<font color=blue>문제9. X, y 값을 가지고 8:2 비율로 Train , Test Dataset으로 나누려고 합니다. 아래 조건에 따라 훈련데이터셋과 테스트데이터셋으로 분리하세요.</font>**\n",
    "+ 대상 데이터프레임 : df1\n",
    "+ 훈련 데이터셋 label : y_train, 훈련 데이터셋 Feature : X_train\n",
    "+ 테스트 데이터셋 label : y_test, 테스트 데이터셋 Feature : X_test\n",
    "+ X, y, test_size=0.2, stratify=y, random_state=0\n",
    "+ 사이킷런 train_test_split 함수 사용"
   ]
  },
  {
   "cell_type": "code",
   "execution_count": 47,
   "metadata": {},
   "outputs": [],
   "source": [
    "# 여기에 답안코드를 작성하세요.\n",
    "# 사이킷런 train_test_split 함수 임포트\n",
    "# 'df1' DataFrame의 drop 함수 사용\n",
    "# 옵션 : columns=['trm_yn_Y'], DataFrame 값을 저장하기 위해 values 사용\n",
    "# 'trm_yn_Y' 열을 제외한 모든 열을 포함하는 데이터프레임 'X' 생성\n",
    "# 'trm_yn_Y' 열을 선택하여 'y'에 저장\n",
    "\n",
    "from sklearn.model_selection import train_test_split\n",
    "\n",
    "X = df1.drop(columns=['trm_yn_Y'], axis=1).values\n",
    "y = df1['trm_yn_Y'].values\n"
   ]
  },
  {
   "cell_type": "code",
   "execution_count": 48,
   "metadata": {
    "tags": []
   },
   "outputs": [],
   "source": [
    "# 여기에 답안코드를 작성하세요.\n",
    "# 인자 : X, y, test_size=0.2, stratify=y, random_state=0\n",
    "# 결과 : X_train, X_test, y_train, y_test \n",
    "\n",
    "X_train, X_test, y_train, y_test = train_test_split(X, y, test_size=0.2, stratify=y, random_state=0)"
   ]
  },
  {
   "cell_type": "markdown",
   "metadata": {},
   "source": [
    "<br>"
   ]
  },
  {
   "cell_type": "markdown",
   "metadata": {},
   "source": [
    "## **<span style=\"color:black\">데이터 정규분포화, 표준화</span>**"
   ]
  },
  {
   "cell_type": "markdown",
   "metadata": {},
   "source": [
    "**<br>\n",
    "<font color=blue>문제10. 사이킷런의 MinMaxScaler 함수를 정의하고 mms 변수에 저장하세요. 훈련데이터셋은 정규분포화(fit_transform)하고 테스트데이터셋은 표준화(transform)하세요.</font>**\n",
    "+ 사이킷런의 MinMaxScaler() 함수 사용, 임포트하세요.\n",
    "+ MinMaxScaler 객체를 초기화하고 mms 변수에 저장\n",
    "+ 훈련 데이터 'X_train'을 최소-최대 스케일링하여 변환, fit_transform 메서드 적용\n",
    "+ 테스트 데이터 'X_test'를 훈련 데이터에 맞춰 스케일링, transform 메서드 적용"
   ]
  },
  {
   "cell_type": "code",
   "execution_count": 49,
   "metadata": {},
   "outputs": [],
   "source": [
    "# 여기에 답안코드를 작성하세요.\n",
    "\n",
    "from sklearn.preprocessing import MinMaxScaler\n",
    "from sklearn.preprocessing import StandardScaler\n",
    "\n",
    "mms = MinMaxScaler()\n",
    "\n",
    "X_train = mms.fit_transform(X_train)\n",
    "X_test = mms.transform(X_test)\n"
   ]
  },
  {
   "cell_type": "code",
   "execution_count": 50,
   "metadata": {},
   "outputs": [
    {
     "data": {
      "text/html": [
       "<div>\n",
       "<style scoped>\n",
       "    .dataframe tbody tr th:only-of-type {\n",
       "        vertical-align: middle;\n",
       "    }\n",
       "\n",
       "    .dataframe tbody tr th {\n",
       "        vertical-align: top;\n",
       "    }\n",
       "\n",
       "    .dataframe thead th {\n",
       "        text-align: right;\n",
       "    }\n",
       "</style>\n",
       "<table border=\"1\" class=\"dataframe\">\n",
       "  <thead>\n",
       "    <tr style=\"text-align: right;\">\n",
       "      <th></th>\n",
       "      <th>voc_prod_sbt_id</th>\n",
       "    </tr>\n",
       "  </thead>\n",
       "  <tbody>\n",
       "    <tr>\n",
       "      <th>0</th>\n",
       "      <td>0.999706</td>\n",
       "    </tr>\n",
       "    <tr>\n",
       "      <th>1</th>\n",
       "      <td>0.999589</td>\n",
       "    </tr>\n",
       "    <tr>\n",
       "      <th>2</th>\n",
       "      <td>0.999983</td>\n",
       "    </tr>\n",
       "    <tr>\n",
       "      <th>3</th>\n",
       "      <td>0.999702</td>\n",
       "    </tr>\n",
       "    <tr>\n",
       "      <th>4</th>\n",
       "      <td>0.999949</td>\n",
       "    </tr>\n",
       "  </tbody>\n",
       "</table>\n",
       "</div>"
      ],
      "text/plain": [
       "   voc_prod_sbt_id\n",
       "0         0.999706\n",
       "1         0.999589\n",
       "2         0.999983\n",
       "3         0.999702\n",
       "4         0.999949"
      ]
     },
     "execution_count": 50,
     "metadata": {},
     "output_type": "execute_result"
    }
   ],
   "source": [
    "# 아래 코드를 실행하세요.\n",
    "# voc_prod_sbt_id 컬럼의 값이 1보다 작은 숫자인 것 확인\n",
    "\n",
    "pd.DataFrame(X_train[:, 0], columns=['voc_prod_sbt_id']).head()\n"
   ]
  },
  {
   "cell_type": "markdown",
   "metadata": {},
   "source": [
    "## **<span style=\"color:black\">머신러닝 모델링 & 모델 성능평가 및 그래프 출력</span>**"
   ]
  },
  {
   "cell_type": "markdown",
   "metadata": {},
   "source": [
    "### 로지스틱 회귀 (LogisticRegression, 분류)"
   ]
  },
  {
   "cell_type": "code",
   "execution_count": 51,
   "metadata": {},
   "outputs": [],
   "source": [
    "# 아래 코드를 실행하세요.\n",
    "\n",
    "from sklearn.linear_model import LogisticRegression\n",
    "from sklearn.metrics import confusion_matrix \n",
    "from sklearn.metrics import accuracy_score, precision_score, recall_score, f1_score\n",
    "from sklearn.metrics import classification_report"
   ]
  },
  {
   "cell_type": "markdown",
   "metadata": {},
   "source": [
    "**<br>\n",
    "<font color=blue>문제11. LogisticRegression 모델을 만들고 학습을 진행하세요.</font>**\n",
    "+ 규제강도C : 1.0으로 설정\n",
    "+ 계산에 사용할 작업수 max_iter : 2000으로 설정\n",
    "+ fit을 활용해 모델을 학습해주세요. 학습 시 훈련데이터 셋을 활용해주세요.\n",
    "+ 모델의 테스트 데이터 X_test에 대한 예측 정확도를 계산해주세요."
   ]
  },
  {
   "cell_type": "code",
   "execution_count": 52,
   "metadata": {},
   "outputs": [
    {
     "data": {
      "text/plain": [
       "0.978"
      ]
     },
     "execution_count": 52,
     "metadata": {},
     "output_type": "execute_result"
    }
   ],
   "source": [
    "# 여기에 답안코드를 작성하세요.\n",
    "\n",
    "model = LogisticRegression(C=1.0,max_iter=2000)\n",
    "model.fit(X_train, y_train)\n",
    "model.score(X_test, y_test)"
   ]
  },
  {
   "cell_type": "markdown",
   "metadata": {},
   "source": [
    "**<br>\n",
    "<font color=blue>문제12. 위 LogisticRegression 모델의 성능을 평가하려고 합니다. y값을 예측하여 confusion matrix를 구하고 heatmap 그래프로 시각화하세요.</font>**\n",
    "**<br>\n",
    "<font color=blue> 그리고 Scikit-learn의 classification_report를 활용하여 성능을 출력하세요.</font>**\n",
    "+ X_test에 대한 예측 수행, 'y_pred'에 결과를 저장하세요.\n",
    "+ 'y_test'와 'y_pred'를 비교하여 confusion_matrix 생성, 'cf_matrix' 변수에 저장하세요.\n",
    "+ heatmap 옵션 : annot=True, fmt='d'\n",
    "+  'y_test'와 'y_pred'를 비교하여 성능지표 출력"
   ]
  },
  {
   "cell_type": "code",
   "execution_count": 53,
   "metadata": {},
   "outputs": [
    {
     "name": "stdout",
     "output_type": "stream",
     "text": [
      "              precision    recall  f1-score   support\n",
      "\n",
      "           0       0.98      1.00      0.99      1955\n",
      "           1       1.00      0.02      0.04        45\n",
      "\n",
      "    accuracy                           0.98      2000\n",
      "   macro avg       0.99      0.51      0.52      2000\n",
      "weighted avg       0.98      0.98      0.97      2000\n",
      "\n"
     ]
    },
    {
     "data": {
      "image/png": "[encoded data removed]",
      "text/plain": [
       "<Figure size 640x480 with 2 Axes>"
      ]
     },
     "metadata": {},
     "output_type": "display_data"
    }
   ],
   "source": [
    "# 여기에 답안코드를 작성하세요.\n",
    "\n",
    "y_pred = model.predict(X_test)\n",
    "\n",
    "from sklearn.metrics import confusion_matrix\n",
    "cf_matrix = confusion_matrix(y_test, y_pred)\n",
    "\n",
    "sns.heatmap(cf_matrix, annot=True, fmt='d')\n",
    "\n",
    "from sklearn.metrics import classification_report\n",
    "\n",
    "print(classification_report(y_test, y_pred))"
   ]
  },
  {
   "cell_type": "markdown",
   "metadata": {},
   "source": [
    "#####\n",
    "**DecisionTree 모델을 만들고 학습을 진행하세요.(단, max_depth는 10, random_state는 42, 변수명은 clf로 설정)</font>**"
   ]
  },
  {
   "cell_type": "code",
   "execution_count": 54,
   "metadata": {},
   "outputs": [
    {
     "data": {
      "text/plain": [
       "0.9705"
      ]
     },
     "execution_count": 54,
     "metadata": {},
     "output_type": "execute_result"
    }
   ],
   "source": [
    "\n",
    "from sklearn.tree import DecisionTreeClassifier\n",
    "clf = DecisionTreeClassifier(max_depth=10, random_state=42)\n",
    "clf.fit(X_train, y_train)\n",
    "clf.score(X_test, y_test)"
   ]
  },
  {
   "cell_type": "markdown",
   "metadata": {},
   "source": [
    "#####\n",
    "**RandomForest 모델을 만들고 학습을 진행하세요. (단, n_estimators=100, random_state=42, 변수명은 rfc로 설정)</font>**"
   ]
  },
  {
   "cell_type": "code",
   "execution_count": 55,
   "metadata": {},
   "outputs": [
    {
     "data": {
      "text/plain": [
       "0.9765"
      ]
     },
     "execution_count": 55,
     "metadata": {},
     "output_type": "execute_result"
    }
   ],
   "source": [
    "\n",
    "from sklearn.ensemble import RandomForestClassifier\n",
    "rfc = RandomForestClassifier(n_estimators=100, random_state=42)\n",
    "rfc.fit(X_train, y_train)\n",
    "rfc.score(X_test, y_test)"
   ]
  },
  {
   "cell_type": "markdown",
   "metadata": {},
   "source": [
    "#####\n",
    "**XGBoost 모델을 만들고 학습을 진행하세요. (단, n_estimators=5, xgb_model로 변수명 저장)</font>**"
   ]
  },
  {
   "cell_type": "code",
   "execution_count": 56,
   "metadata": {},
   "outputs": [
    {
     "name": "stdout",
     "output_type": "stream",
     "text": [
      "Defaulting to user installation because normal site-packages is not writeable\n",
      "Requirement already satisfied: xgboost in c:\\users\\user\\appdata\\roaming\\python\\python39\\site-packages (1.7.4)\n",
      "Requirement already satisfied: numpy in c:\\anaconda3\\lib\\site-packages (from xgboost) (1.21.5)\n",
      "Requirement already satisfied: scipy in c:\\anaconda3\\lib\\site-packages (from xgboost) (1.9.1)\n"
     ]
    }
   ],
   "source": [
    "# 아래 코드를 실행하세요.\n",
    "\n",
    "!pip install xgboost"
   ]
  },
  {
   "cell_type": "code",
   "execution_count": 57,
   "metadata": {},
   "outputs": [
    {
     "data": {
      "text/plain": [
       "0.978"
      ]
     },
     "execution_count": 57,
     "metadata": {},
     "output_type": "execute_result"
    }
   ],
   "source": [
    "import xgboost as xgb\n",
    "\n",
    "xgb_model = xgb.XGBClassifier(n_estimators=5)\n",
    "xgb_model.fit(X_train, y_train)\n",
    "xgb_model.score(X_test, y_test)"
   ]
  },
  {
   "cell_type": "code",
   "execution_count": 58,
   "metadata": {},
   "outputs": [
    {
     "name": "stdout",
     "output_type": "stream",
     "text": [
      "[[1953    2]\n",
      " [  42    3]]\n"
     ]
    }
   ],
   "source": [
    "# X_test에 대한 예측 결과를 y_pred에 저장하세요\n",
    "# y_test와 y_pred간의 confusion matrix를 출력하세요\n",
    "\n",
    "y_pred = xgb_model.predict(X_test)\n",
    "print(confusion_matrix(y_test, y_pred))"
   ]
  },
  {
   "cell_type": "markdown",
   "metadata": {},
   "source": [
    "#####\n",
    "**Light GBM 모델을 만들고 학습을 진행하세요. (단, n_estimators=3, lgbm_model로 변수명 저장)</font>**"
   ]
  },
  {
   "cell_type": "code",
   "execution_count": 59,
   "metadata": {},
   "outputs": [
    {
     "name": "stdout",
     "output_type": "stream",
     "text": [
      "Defaulting to user installation because normal site-packages is not writeable\n",
      "Requirement already satisfied: lightgbm in c:\\users\\user\\appdata\\roaming\\python\\python39\\site-packages (3.3.5)\n",
      "Requirement already satisfied: numpy in c:\\anaconda3\\lib\\site-packages (from lightgbm) (1.21.5)\n",
      "Requirement already satisfied: wheel in c:\\anaconda3\\lib\\site-packages (from lightgbm) (0.37.1)\n",
      "Requirement already satisfied: scipy in c:\\anaconda3\\lib\\site-packages (from lightgbm) (1.9.1)\n",
      "Requirement already satisfied: scikit-learn!=0.22.0 in c:\\anaconda3\\lib\\site-packages (from lightgbm) (1.0.2)\n",
      "Requirement already satisfied: threadpoolctl>=2.0.0 in c:\\anaconda3\\lib\\site-packages (from scikit-learn!=0.22.0->lightgbm) (2.2.0)\n",
      "Requirement already satisfied: joblib>=0.11 in c:\\users\\user\\appdata\\roaming\\python\\python39\\site-packages (from scikit-learn!=0.22.0->lightgbm) (1.2.0)\n"
     ]
    }
   ],
   "source": [
    "# 아래 코드를 실행하세요.\n",
    "\n",
    "!pip install lightgbm\n"
   ]
  },
  {
   "cell_type": "code",
   "execution_count": 60,
   "metadata": {},
   "outputs": [
    {
     "data": {
      "text/plain": [
       "0.9775"
      ]
     },
     "execution_count": 60,
     "metadata": {},
     "output_type": "execute_result"
    }
   ],
   "source": [
    "# lightgbm 모델을 만들고 학습을 진행하세요 n_estimators = 3\n",
    "\n",
    "from lightgbm import LGBMClassifier\n",
    "lgbm_model = LGBMClassifier(n_estimators=3)\n",
    "lgbm_model.fit(X_train, y_train)\n",
    "lgbm_model.score(X_test, y_test)"
   ]
  },
  {
   "cell_type": "code",
   "execution_count": 61,
   "metadata": {},
   "outputs": [
    {
     "name": "stdout",
     "output_type": "stream",
     "text": [
      "[[1955    0]\n",
      " [  45    0]]\n"
     ]
    }
   ],
   "source": [
    "# X_test에 대한 예측 결과를 y_pred에 저장하세요\n",
    "# y_test와 y_pred간의 confusion matrix를 출력하세요\n",
    "\n",
    "y_pred = lgbm_model.predict(X_test)\n",
    "print(confusion_matrix(y_test, y_pred))"
   ]
  },
  {
   "cell_type": "markdown",
   "metadata": {},
   "source": [
    "<br>"
   ]
  },
  {
   "cell_type": "markdown",
   "metadata": {},
   "source": [
    "## **<span style=\"color:black\">딥러닝 모델링 & 모델 성능평가 및 그래프 출력</span>**"
   ]
  },
  {
   "cell_type": "markdown",
   "metadata": {},
   "source": [
    "<font color=red>**다음 문항을 풀기 전에**</font> **아래 주어진 코드들을 실행해주세요.</font>**"
   ]
  },
  {
   "cell_type": "code",
   "execution_count": 62,
   "metadata": {},
   "outputs": [],
   "source": [
    "# 다음 문항을 풀기 전에 아래 코드를 실행하세요.\n",
    "\n",
    "import tensorflow as tf\n",
    "from tensorflow import keras\n",
    "\n",
    "from tensorflow.keras.models import Sequential, load_model\n",
    "from tensorflow.keras.layers import Dense, Dropout\n",
    "from tensorflow.keras.callbacks import EarlyStopping, ModelCheckpoint\n",
    "from tensorflow.keras.utils import to_categorical"
   ]
  },
  {
   "cell_type": "code",
   "execution_count": 63,
   "metadata": {},
   "outputs": [],
   "source": [
    "# 다음 문항을 풀기 전에 아래 코드를 실행하세요.\n",
    "\n",
    "import absl.logging\n",
    "absl.logging.set_verbosity(absl.logging.ERROR)"
   ]
  },
  {
   "cell_type": "code",
   "execution_count": 64,
   "metadata": {},
   "outputs": [],
   "source": [
    "# 하이퍼파라미터 설정 : batch_size = 1024, epochs = 30\n",
    "\n",
    "batch_size = 1024\n",
    "epochs = 30"
   ]
  },
  {
   "cell_type": "code",
   "execution_count": 65,
   "metadata": {},
   "outputs": [
    {
     "data": {
      "text/plain": [
       "(8000, 34)"
      ]
     },
     "execution_count": 65,
     "metadata": {},
     "output_type": "execute_result"
    }
   ],
   "source": [
    "# 모델 입력(features) 갯수 확인\n",
    "\n",
    "X_train.shape"
   ]
  },
  {
   "cell_type": "code",
   "execution_count": 66,
   "metadata": {},
   "outputs": [
    {
     "data": {
      "text/plain": [
       "(8000,)"
      ]
     },
     "execution_count": 66,
     "metadata": {},
     "output_type": "execute_result"
    }
   ],
   "source": [
    "# 모델 출력(label) 갯수 확인\n",
    "\n",
    "y_train.shape"
   ]
  },
  {
   "cell_type": "markdown",
   "metadata": {},
   "source": [
    "**<br>\n",
    "<font color=blue>문제13. 아래 가이드대로 해지여부를 분류하는 딥러닝 모델을 만들려고 합니다. 아래 가이드에 따라 모델링하고 학습을 진행하세요.</font>**"
   ]
  },
  {
   "cell_type": "markdown",
   "metadata": {},
   "source": [
    "+ Tensoflow의 Sequential() 함수를 사용하여 model로 저장하세요.\n",
    "+ 첫번째 Hidden Layer : unit 64, activation='relu', input_shape=(34,) 입력\n",
    "+ 두번째 Hidden Layer : unit 32 , activation='relu'\n",
    "+ 세번째 Hidden Layer : unit 16 , activation='relu'\n",
    "+ 각 Hidden Layer 마다 Dropout 0.2 비율로 되도록 하세요.\n",
    "+ 마지막 Dense에서 'sigmoid' 설정하세요. (0.5 이하이면 정상, 아니면 해지)\n",
    "+ 옵티마이저는 adam, 손실함수는 binary_crossentropy를 사용하세요.\n",
    "+ EarlyStopping 콜백으로 정해진 epoch 동안 모니터링 지표가 향상되지 않을 때 훈련을 중지하도록 설정하세요 (모니터링 지표 : val_loss)\n",
    "+ ModelCheckpoint 콜백으로 validation performance가 좋은 모델을 'my_checkpoint.ckpt' 파일로 저장하세요.(모니터링 지표 : val_loss)\n",
    "+ EarlyStopping 객체는 es 변수에 ModelCheckpoint 객체는 mc 변수에 저장해서 활용해 주세요.\n",
    "+ 학습정보는 history 변수에 저장하세요."
   ]
  },
  {
   "cell_type": "code",
   "execution_count": 67,
   "metadata": {},
   "outputs": [
    {
     "name": "stdout",
     "output_type": "stream",
     "text": [
      "Epoch 1/30\n",
      "1/8 [==>...........................] - ETA: 16s - loss: 0.7203 - acc: 0.4141\n",
      "Epoch 1: val_loss improved from inf to 0.53907, saving model to my_checkpoint.ckpt\n",
      "INFO:tensorflow:Assets written to: my_checkpoint.ckpt\\assets\n"
     ]
    },
    {
     "name": "stderr",
     "output_type": "stream",
     "text": [
      "INFO:tensorflow:Assets written to: my_checkpoint.ckpt\\assets\n"
     ]
    },
    {
     "name": "stdout",
     "output_type": "stream",
     "text": [
      "8/8 [==============================] - 5s 438ms/step - loss: 0.6409 - acc: 0.6927 - val_loss: 0.5391 - val_acc: 0.9775\n",
      "Epoch 2/30\n",
      "1/8 [==>...........................] - ETA: 0s - loss: 0.5449 - acc: 0.9170\n",
      "Epoch 2: val_loss improved from 0.53907 to 0.39877, saving model to my_checkpoint.ckpt\n",
      "INFO:tensorflow:Assets written to: my_checkpoint.ckpt\\assets\n"
     ]
    },
    {
     "name": "stderr",
     "output_type": "stream",
     "text": [
      "INFO:tensorflow:Assets written to: my_checkpoint.ckpt\\assets\n"
     ]
    },
    {
     "name": "stdout",
     "output_type": "stream",
     "text": [
      "8/8 [==============================] - 1s 184ms/step - loss: 0.4853 - acc: 0.9514 - val_loss: 0.3988 - val_acc: 0.9775\n",
      "Epoch 3/30\n",
      "1/8 [==>...........................] - ETA: 0s - loss: 0.4027 - acc: 0.9717\n",
      "Epoch 3: val_loss improved from 0.39877 to 0.26710, saving model to my_checkpoint.ckpt\n",
      "INFO:tensorflow:Assets written to: my_checkpoint.ckpt\\assets\n"
     ]
    },
    {
     "name": "stderr",
     "output_type": "stream",
     "text": [
      "INFO:tensorflow:Assets written to: my_checkpoint.ckpt\\assets\n"
     ]
    },
    {
     "name": "stdout",
     "output_type": "stream",
     "text": [
      "8/8 [==============================] - 1s 190ms/step - loss: 0.3496 - acc: 0.9725 - val_loss: 0.2671 - val_acc: 0.9775\n",
      "Epoch 4/30\n",
      "8/8 [==============================] - ETA: 0s - loss: 0.2420 - acc: 0.9758\n",
      "Epoch 4: val_loss improved from 0.26710 to 0.16853, saving model to my_checkpoint.ckpt\n",
      "INFO:tensorflow:Assets written to: my_checkpoint.ckpt\\assets\n"
     ]
    },
    {
     "name": "stderr",
     "output_type": "stream",
     "text": [
      "INFO:tensorflow:Assets written to: my_checkpoint.ckpt\\assets\n"
     ]
    },
    {
     "name": "stdout",
     "output_type": "stream",
     "text": [
      "8/8 [==============================] - 1s 201ms/step - loss: 0.2420 - acc: 0.9758 - val_loss: 0.1685 - val_acc: 0.9775\n",
      "Epoch 5/30\n",
      "1/8 [==>...........................] - ETA: 0s - loss: 0.1979 - acc: 0.9756\n",
      "Epoch 5: val_loss improved from 0.16853 to 0.12370, saving model to my_checkpoint.ckpt\n",
      "INFO:tensorflow:Assets written to: my_checkpoint.ckpt\\assets\n"
     ]
    },
    {
     "name": "stderr",
     "output_type": "stream",
     "text": [
      "INFO:tensorflow:Assets written to: my_checkpoint.ckpt\\assets\n"
     ]
    },
    {
     "name": "stdout",
     "output_type": "stream",
     "text": [
      "8/8 [==============================] - 2s 295ms/step - loss: 0.1670 - acc: 0.9768 - val_loss: 0.1237 - val_acc: 0.9775\n",
      "Epoch 6/30\n",
      "1/8 [==>...........................] - ETA: 0s - loss: 0.1623 - acc: 0.9727\n",
      "Epoch 6: val_loss improved from 0.12370 to 0.11376, saving model to my_checkpoint.ckpt\n",
      "INFO:tensorflow:Assets written to: my_checkpoint.ckpt\\assets\n"
     ]
    },
    {
     "name": "stderr",
     "output_type": "stream",
     "text": [
      "INFO:tensorflow:Assets written to: my_checkpoint.ckpt\\assets\n"
     ]
    },
    {
     "name": "stdout",
     "output_type": "stream",
     "text": [
      "8/8 [==============================] - 2s 298ms/step - loss: 0.1392 - acc: 0.9774 - val_loss: 0.1138 - val_acc: 0.9775\n",
      "Epoch 7/30\n",
      "8/8 [==============================] - ETA: 0s - loss: 0.1297 - acc: 0.9776\n",
      "Epoch 7: val_loss did not improve from 0.11376\n",
      "8/8 [==============================] - 0s 17ms/step - loss: 0.1297 - acc: 0.9776 - val_loss: 0.1150 - val_acc: 0.9775\n",
      "Epoch 8/30\n",
      "8/8 [==============================] - ETA: 0s - loss: 0.1291 - acc: 0.9776\n",
      "Epoch 8: val_loss did not improve from 0.11376\n",
      "8/8 [==============================] - 0s 17ms/step - loss: 0.1291 - acc: 0.9776 - val_loss: 0.1153 - val_acc: 0.9775\n",
      "Epoch 9/30\n",
      "1/8 [==>...........................] - ETA: 0s - loss: 0.1605 - acc: 0.9727\n",
      "Epoch 9: val_loss improved from 0.11376 to 0.11282, saving model to my_checkpoint.ckpt\n",
      "INFO:tensorflow:Assets written to: my_checkpoint.ckpt\\assets\n"
     ]
    },
    {
     "name": "stderr",
     "output_type": "stream",
     "text": [
      "INFO:tensorflow:Assets written to: my_checkpoint.ckpt\\assets\n"
     ]
    },
    {
     "name": "stdout",
     "output_type": "stream",
     "text": [
      "8/8 [==============================] - 2s 275ms/step - loss: 0.1251 - acc: 0.9776 - val_loss: 0.1128 - val_acc: 0.9775\n",
      "Epoch 10/30\n",
      "7/8 [=========================>....] - ETA: 0s - loss: 0.1158 - acc: 0.9787\n",
      "Epoch 10: val_loss improved from 0.11282 to 0.11044, saving model to my_checkpoint.ckpt\n",
      "INFO:tensorflow:Assets written to: my_checkpoint.ckpt\\assets\n"
     ]
    },
    {
     "name": "stderr",
     "output_type": "stream",
     "text": [
      "INFO:tensorflow:Assets written to: my_checkpoint.ckpt\\assets\n"
     ]
    },
    {
     "name": "stdout",
     "output_type": "stream",
     "text": [
      "8/8 [==============================] - 2s 298ms/step - loss: 0.1199 - acc: 0.9775 - val_loss: 0.1104 - val_acc: 0.9775\n",
      "Epoch 11/30\n",
      "1/8 [==>...........................] - ETA: 0s - loss: 0.1191 - acc: 0.9785\n",
      "Epoch 11: val_loss improved from 0.11044 to 0.10826, saving model to my_checkpoint.ckpt\n",
      "INFO:tensorflow:Assets written to: my_checkpoint.ckpt\\assets\n"
     ]
    },
    {
     "name": "stderr",
     "output_type": "stream",
     "text": [
      "INFO:tensorflow:Assets written to: my_checkpoint.ckpt\\assets\n"
     ]
    },
    {
     "name": "stdout",
     "output_type": "stream",
     "text": [
      "8/8 [==============================] - 2s 308ms/step - loss: 0.1217 - acc: 0.9776 - val_loss: 0.1083 - val_acc: 0.9775\n",
      "Epoch 12/30\n",
      "7/8 [=========================>....] - ETA: 0s - loss: 0.1148 - acc: 0.9787\n",
      "Epoch 12: val_loss improved from 0.10826 to 0.10646, saving model to my_checkpoint.ckpt\n",
      "INFO:tensorflow:Assets written to: my_checkpoint.ckpt\\assets\n"
     ]
    },
    {
     "name": "stderr",
     "output_type": "stream",
     "text": [
      "INFO:tensorflow:Assets written to: my_checkpoint.ckpt\\assets\n"
     ]
    },
    {
     "name": "stdout",
     "output_type": "stream",
     "text": [
      "8/8 [==============================] - 2s 241ms/step - loss: 0.1180 - acc: 0.9776 - val_loss: 0.1065 - val_acc: 0.9775\n",
      "Epoch 13/30\n",
      "1/8 [==>...........................] - ETA: 0s - loss: 0.0894 - acc: 0.9844\n",
      "Epoch 13: val_loss improved from 0.10646 to 0.10503, saving model to my_checkpoint.ckpt\n",
      "INFO:tensorflow:Assets written to: my_checkpoint.ckpt\\assets\n"
     ]
    },
    {
     "name": "stderr",
     "output_type": "stream",
     "text": [
      "INFO:tensorflow:Assets written to: my_checkpoint.ckpt\\assets\n"
     ]
    },
    {
     "name": "stdout",
     "output_type": "stream",
     "text": [
      "8/8 [==============================] - 2s 218ms/step - loss: 0.1180 - acc: 0.9774 - val_loss: 0.1050 - val_acc: 0.9775\n",
      "Epoch 14/30\n",
      "7/8 [=========================>....] - ETA: 0s - loss: 0.1224 - acc: 0.9775\n",
      "Epoch 14: val_loss improved from 0.10503 to 0.10331, saving model to my_checkpoint.ckpt\n",
      "INFO:tensorflow:Assets written to: my_checkpoint.ckpt\\assets\n"
     ]
    },
    {
     "name": "stderr",
     "output_type": "stream",
     "text": [
      "INFO:tensorflow:Assets written to: my_checkpoint.ckpt\\assets\n"
     ]
    },
    {
     "name": "stdout",
     "output_type": "stream",
     "text": [
      "8/8 [==============================] - 1s 201ms/step - loss: 0.1221 - acc: 0.9776 - val_loss: 0.1033 - val_acc: 0.9775\n",
      "Epoch 15/30\n",
      "1/8 [==>...........................] - ETA: 0s - loss: 0.1240 - acc: 0.9785\n",
      "Epoch 15: val_loss improved from 0.10331 to 0.10200, saving model to my_checkpoint.ckpt\n",
      "INFO:tensorflow:Assets written to: my_checkpoint.ckpt\\assets\n"
     ]
    },
    {
     "name": "stderr",
     "output_type": "stream",
     "text": [
      "INFO:tensorflow:Assets written to: my_checkpoint.ckpt\\assets\n"
     ]
    },
    {
     "name": "stdout",
     "output_type": "stream",
     "text": [
      "8/8 [==============================] - 1s 177ms/step - loss: 0.1183 - acc: 0.9776 - val_loss: 0.1020 - val_acc: 0.9775\n",
      "Epoch 16/30\n",
      "1/8 [==>...........................] - ETA: 0s - loss: 0.1114 - acc: 0.9795\n",
      "Epoch 16: val_loss improved from 0.10200 to 0.10121, saving model to my_checkpoint.ckpt\n",
      "INFO:tensorflow:Assets written to: my_checkpoint.ckpt\\assets\n"
     ]
    },
    {
     "name": "stderr",
     "output_type": "stream",
     "text": [
      "INFO:tensorflow:Assets written to: my_checkpoint.ckpt\\assets\n"
     ]
    },
    {
     "name": "stdout",
     "output_type": "stream",
     "text": [
      "8/8 [==============================] - 2s 289ms/step - loss: 0.1147 - acc: 0.9776 - val_loss: 0.1012 - val_acc: 0.9775\n",
      "Epoch 17/30\n",
      "8/8 [==============================] - ETA: 0s - loss: 0.1148 - acc: 0.9776\n",
      "Epoch 17: val_loss improved from 0.10121 to 0.10033, saving model to my_checkpoint.ckpt\n",
      "INFO:tensorflow:Assets written to: my_checkpoint.ckpt\\assets\n"
     ]
    },
    {
     "name": "stderr",
     "output_type": "stream",
     "text": [
      "INFO:tensorflow:Assets written to: my_checkpoint.ckpt\\assets\n"
     ]
    },
    {
     "name": "stdout",
     "output_type": "stream",
     "text": [
      "8/8 [==============================] - 2s 306ms/step - loss: 0.1148 - acc: 0.9776 - val_loss: 0.1003 - val_acc: 0.9775\n",
      "Epoch 18/30\n",
      "1/8 [==>...........................] - ETA: 0s - loss: 0.1048 - acc: 0.9775\n",
      "Epoch 18: val_loss improved from 0.10033 to 0.09939, saving model to my_checkpoint.ckpt\n",
      "INFO:tensorflow:Assets written to: my_checkpoint.ckpt\\assets\n"
     ]
    },
    {
     "name": "stderr",
     "output_type": "stream",
     "text": [
      "INFO:tensorflow:Assets written to: my_checkpoint.ckpt\\assets\n"
     ]
    },
    {
     "name": "stdout",
     "output_type": "stream",
     "text": [
      "8/8 [==============================] - 2s 313ms/step - loss: 0.1140 - acc: 0.9776 - val_loss: 0.0994 - val_acc: 0.9775\n",
      "Epoch 19/30\n",
      "7/8 [=========================>....] - ETA: 0s - loss: 0.1126 - acc: 0.9778\n",
      "Epoch 19: val_loss improved from 0.09939 to 0.09821, saving model to my_checkpoint.ckpt\n",
      "INFO:tensorflow:Assets written to: my_checkpoint.ckpt\\assets\n"
     ]
    },
    {
     "name": "stderr",
     "output_type": "stream",
     "text": [
      "INFO:tensorflow:Assets written to: my_checkpoint.ckpt\\assets\n"
     ]
    },
    {
     "name": "stdout",
     "output_type": "stream",
     "text": [
      "8/8 [==============================] - 2s 345ms/step - loss: 0.1139 - acc: 0.9776 - val_loss: 0.0982 - val_acc: 0.9775\n",
      "Epoch 20/30\n",
      "7/8 [=========================>....] - ETA: 0s - loss: 0.1114 - acc: 0.9778\n",
      "Epoch 20: val_loss improved from 0.09821 to 0.09712, saving model to my_checkpoint.ckpt\n",
      "INFO:tensorflow:Assets written to: my_checkpoint.ckpt\\assets\n"
     ]
    },
    {
     "name": "stderr",
     "output_type": "stream",
     "text": [
      "INFO:tensorflow:Assets written to: my_checkpoint.ckpt\\assets\n"
     ]
    },
    {
     "name": "stdout",
     "output_type": "stream",
     "text": [
      "8/8 [==============================] - 2s 306ms/step - loss: 0.1110 - acc: 0.9776 - val_loss: 0.0971 - val_acc: 0.9775\n",
      "Epoch 21/30\n",
      "8/8 [==============================] - ETA: 0s - loss: 0.1108 - acc: 0.9776\n",
      "Epoch 21: val_loss improved from 0.09712 to 0.09624, saving model to my_checkpoint.ckpt\n",
      "INFO:tensorflow:Assets written to: my_checkpoint.ckpt\\assets\n"
     ]
    },
    {
     "name": "stderr",
     "output_type": "stream",
     "text": [
      "INFO:tensorflow:Assets written to: my_checkpoint.ckpt\\assets\n"
     ]
    },
    {
     "name": "stdout",
     "output_type": "stream",
     "text": [
      "8/8 [==============================] - 1s 206ms/step - loss: 0.1108 - acc: 0.9776 - val_loss: 0.0962 - val_acc: 0.9775\n",
      "Epoch 22/30\n",
      "1/8 [==>...........................] - ETA: 0s - loss: 0.0925 - acc: 0.9795\n",
      "Epoch 22: val_loss improved from 0.09624 to 0.09563, saving model to my_checkpoint.ckpt\n",
      "INFO:tensorflow:Assets written to: my_checkpoint.ckpt\\assets\n"
     ]
    },
    {
     "name": "stderr",
     "output_type": "stream",
     "text": [
      "INFO:tensorflow:Assets written to: my_checkpoint.ckpt\\assets\n"
     ]
    },
    {
     "name": "stdout",
     "output_type": "stream",
     "text": [
      "8/8 [==============================] - 2s 227ms/step - loss: 0.1094 - acc: 0.9776 - val_loss: 0.0956 - val_acc: 0.9775\n",
      "Epoch 23/30\n",
      "8/8 [==============================] - ETA: 0s - loss: 0.1061 - acc: 0.9776\n",
      "Epoch 23: val_loss improved from 0.09563 to 0.09491, saving model to my_checkpoint.ckpt\n",
      "INFO:tensorflow:Assets written to: my_checkpoint.ckpt\\assets\n"
     ]
    },
    {
     "name": "stderr",
     "output_type": "stream",
     "text": [
      "INFO:tensorflow:Assets written to: my_checkpoint.ckpt\\assets\n"
     ]
    },
    {
     "name": "stdout",
     "output_type": "stream",
     "text": [
      "8/8 [==============================] - 1s 186ms/step - loss: 0.1061 - acc: 0.9776 - val_loss: 0.0949 - val_acc: 0.9775\n",
      "Epoch 24/30\n",
      "1/8 [==>...........................] - ETA: 0s - loss: 0.1212 - acc: 0.9727\n",
      "Epoch 24: val_loss improved from 0.09491 to 0.09431, saving model to my_checkpoint.ckpt\n",
      "INFO:tensorflow:Assets written to: my_checkpoint.ckpt\\assets\n"
     ]
    },
    {
     "name": "stderr",
     "output_type": "stream",
     "text": [
      "INFO:tensorflow:Assets written to: my_checkpoint.ckpt\\assets\n"
     ]
    },
    {
     "name": "stdout",
     "output_type": "stream",
     "text": [
      "8/8 [==============================] - 2s 259ms/step - loss: 0.1059 - acc: 0.9776 - val_loss: 0.0943 - val_acc: 0.9775\n",
      "Epoch 25/30\n",
      "8/8 [==============================] - ETA: 0s - loss: 0.1047 - acc: 0.9776\n",
      "Epoch 25: val_loss improved from 0.09431 to 0.09346, saving model to my_checkpoint.ckpt\n",
      "INFO:tensorflow:Assets written to: my_checkpoint.ckpt\\assets\n"
     ]
    },
    {
     "name": "stderr",
     "output_type": "stream",
     "text": [
      "INFO:tensorflow:Assets written to: my_checkpoint.ckpt\\assets\n"
     ]
    },
    {
     "name": "stdout",
     "output_type": "stream",
     "text": [
      "8/8 [==============================] - 2s 289ms/step - loss: 0.1047 - acc: 0.9776 - val_loss: 0.0935 - val_acc: 0.9775\n",
      "Epoch 26/30\n",
      "8/8 [==============================] - ETA: 0s - loss: 0.1051 - acc: 0.9776\n",
      "Epoch 26: val_loss improved from 0.09346 to 0.09296, saving model to my_checkpoint.ckpt\n",
      "INFO:tensorflow:Assets written to: my_checkpoint.ckpt\\assets\n"
     ]
    },
    {
     "name": "stderr",
     "output_type": "stream",
     "text": [
      "INFO:tensorflow:Assets written to: my_checkpoint.ckpt\\assets\n"
     ]
    },
    {
     "name": "stdout",
     "output_type": "stream",
     "text": [
      "8/8 [==============================] - 2s 303ms/step - loss: 0.1051 - acc: 0.9776 - val_loss: 0.0930 - val_acc: 0.9775\n",
      "Epoch 27/30\n",
      "8/8 [==============================] - ETA: 0s - loss: 0.1028 - acc: 0.9776\n",
      "Epoch 27: val_loss improved from 0.09296 to 0.09264, saving model to my_checkpoint.ckpt\n",
      "INFO:tensorflow:Assets written to: my_checkpoint.ckpt\\assets\n"
     ]
    },
    {
     "name": "stderr",
     "output_type": "stream",
     "text": [
      "INFO:tensorflow:Assets written to: my_checkpoint.ckpt\\assets\n"
     ]
    },
    {
     "name": "stdout",
     "output_type": "stream",
     "text": [
      "8/8 [==============================] - 2s 312ms/step - loss: 0.1028 - acc: 0.9776 - val_loss: 0.0926 - val_acc: 0.9775\n",
      "Epoch 28/30\n",
      "7/8 [=========================>....] - ETA: 0s - loss: 0.1047 - acc: 0.9777\n",
      "Epoch 28: val_loss improved from 0.09264 to 0.09231, saving model to my_checkpoint.ckpt\n",
      "INFO:tensorflow:Assets written to: my_checkpoint.ckpt\\assets\n"
     ]
    },
    {
     "name": "stderr",
     "output_type": "stream",
     "text": [
      "INFO:tensorflow:Assets written to: my_checkpoint.ckpt\\assets\n"
     ]
    },
    {
     "name": "stdout",
     "output_type": "stream",
     "text": [
      "8/8 [==============================] - 2s 297ms/step - loss: 0.1043 - acc: 0.9776 - val_loss: 0.0923 - val_acc: 0.9775\n",
      "Epoch 29/30\n",
      "1/8 [==>...........................] - ETA: 0s - loss: 0.1072 - acc: 0.9766\n",
      "Epoch 29: val_loss improved from 0.09231 to 0.09170, saving model to my_checkpoint.ckpt\n",
      "INFO:tensorflow:Assets written to: my_checkpoint.ckpt\\assets\n"
     ]
    },
    {
     "name": "stderr",
     "output_type": "stream",
     "text": [
      "INFO:tensorflow:Assets written to: my_checkpoint.ckpt\\assets\n"
     ]
    },
    {
     "name": "stdout",
     "output_type": "stream",
     "text": [
      "8/8 [==============================] - 2s 276ms/step - loss: 0.1002 - acc: 0.9776 - val_loss: 0.0917 - val_acc: 0.9775\n",
      "Epoch 30/30\n",
      "1/8 [==>...........................] - ETA: 0s - loss: 0.1099 - acc: 0.9766\n",
      "Epoch 30: val_loss improved from 0.09170 to 0.09128, saving model to my_checkpoint.ckpt\n",
      "INFO:tensorflow:Assets written to: my_checkpoint.ckpt\\assets\n"
     ]
    },
    {
     "name": "stderr",
     "output_type": "stream",
     "text": [
      "INFO:tensorflow:Assets written to: my_checkpoint.ckpt\\assets\n"
     ]
    },
    {
     "name": "stdout",
     "output_type": "stream",
     "text": [
      "8/8 [==============================] - 2s 215ms/step - loss: 0.1014 - acc: 0.9776 - val_loss: 0.0913 - val_acc: 0.9775\n"
     ]
    }
   ],
   "source": [
    "# 여기에 답안코드를 작성하세요.\n",
    "\n",
    "model = Sequential()\n",
    "\n",
    "model.add(Dense(64, activation='relu', input_shape=(34,)))\n",
    "model.add(Dropout(0.2))\n",
    "model.add(Dense(32, activation='relu'))\n",
    "model.add(Dropout(0.2))\n",
    "model.add(Dense(16, activation='relu'))\n",
    "model.add(Dropout(0.2))\n",
    "model.add(Dense(1,activation='sigmoid'))\n",
    "\n",
    "model.compile(optimizer='adam', loss='binary_crossentropy',metrics=['acc'])\n",
    "\n",
    "es = EarlyStopping(monitor='val_loss', patience=4, mode='min', verbose=1)\n",
    "mc = ModelCheckpoint('my_checkpoint.ckpt', monitor='val_loss', save_best_only=True, verbose=1)\n",
    "\n",
    "history = model.fit(X_train, y_train, \n",
    "                    batch_size=batch_size, \n",
    "                    epochs=epochs, \n",
    "                    callbacks=[es, mc],\n",
    "                    validation_data=(X_test, y_test), \n",
    "                    verbose=1)"
   ]
  },
  {
   "cell_type": "markdown",
   "metadata": {},
   "source": [
    "**<br>\n",
    "<font color=blue>문제14. 딥러닝 모델의 성능을 평가하려고 합니다. Matplotlib 라이브러리 활용해서 학습 손실과 검증 손실을 그래프로 표시하세요.</font>**\n",
    "**<br>\n",
    "<font color=blue>1개의 그래프에 학습 손실과 검증 손실 2가지를 모두 표시하세요.</font>**\n",
    "**<br>\n",
    "<font color=blue>가로 10, 세로 5로 그래프 크기 설정, figsize=(10,5)</font>**\n",
    "**<br>\n",
    "<font color=blue>범례는 'Train Loss'와 'Validation Loss'로 표시하세요. x축에는 'Epochs', y축에는 'Loss'라고 표시하세요. </font>**\n"
   ]
  },
  {
   "cell_type": "code",
   "execution_count": 68,
   "metadata": {},
   "outputs": [
    {
     "data": {
      "text/plain": [
       "<matplotlib.legend.Legend at 0x239f0b5d640>"
      ]
     },
     "execution_count": 68,
     "metadata": {},
     "output_type": "execute_result"
    },
    {
     "data": {
      "image/png": "[encoded data removed]",
      "text/plain": [
       "<Figure size 1000x500 with 1 Axes>"
      ]
     },
     "metadata": {},
     "output_type": "display_data"
    }
   ],
   "source": [
    "# 여기에 답안코드를 작성하세요.\n",
    "\n",
    "plt.figure(figsize=(10,5))\n",
    "plt.plot(history.history['loss'], label='Train Loss')\n",
    "plt.plot(history.history['val_loss'], label='validaton Loss')\n",
    "plt.xlabel('Epochs')\n",
    "plt.ylabel('Loss')\n",
    "plt.legend()"
   ]
  },
  {
   "cell_type": "markdown",
   "metadata": {},
   "source": [
    "####\n",
    "### 1번부터 14번까지 모든 문제를 풀었습니다. 수고 많으셨습니다.\n",
    "\n",
    "### 향후 정답과 비교하며 반복해서 연습해보시기 바랍니다.\n",
    "\n",
    "### 이제 Wrap-up을 위해 전체 발표모임으로 모여주세요!"
   ]
  }
 ],
 "metadata": {
  "kernelspec": {
   "display_name": "Python 3 (ipykernel)",
   "language": "python",
   "name": "python3"
  },
  "language_info": {
   "codemirror_mode": {
    "name": "ipython",
    "version": 3
   },
   "file_extension": ".py",
   "mimetype": "text/x-python",
   "name": "python",
   "nbconvert_exporter": "python",
   "pygments_lexer": "ipython3",
   "version": "3.10.9"
  }
 },
 "nbformat": 4,
 "nbformat_minor": 4
}
