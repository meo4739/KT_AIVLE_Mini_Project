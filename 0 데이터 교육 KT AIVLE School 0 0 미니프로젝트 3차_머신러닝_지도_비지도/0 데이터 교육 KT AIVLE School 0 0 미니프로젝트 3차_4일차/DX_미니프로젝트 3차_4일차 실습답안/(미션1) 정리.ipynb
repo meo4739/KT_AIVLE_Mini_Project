{
 "cells": [
  {
   "cell_type": "code",
   "execution_count": null,
   "id": "796c276c-5322-4d52-aa5b-47893d544353",
   "metadata": {},
   "outputs": [],
   "source": []
  },
  {
   "cell_type": "code",
   "execution_count": null,
   "id": "d0dcec49-3610-48df-9d76-33f1fa2e62f3",
   "metadata": {},
   "outputs": [],
   "source": []
  }
 ],
 "metadata": {
  "kernelspec": {
   "display_name": "Python 3 (ipykernel)",
   "language": "python",
   "name": "python3"
  },
  "language_info": {
   "codemirror_mode": {
    "name": "ipython",
    "version": 3
   },
   "file_extension": ".py",
   "mimetype": "text/x-python",
   "name": "python",
   "nbconvert_exporter": "python",
   "pygments_lexer": "ipython3",
   "version": "3.11.4"
  }
 },
 "nbformat": 4,
 "nbformat_minor": 5
}
