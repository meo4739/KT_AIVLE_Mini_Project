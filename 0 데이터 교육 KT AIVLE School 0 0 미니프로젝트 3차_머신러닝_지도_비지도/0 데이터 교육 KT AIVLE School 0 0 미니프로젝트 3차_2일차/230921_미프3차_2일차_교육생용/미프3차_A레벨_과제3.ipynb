{
 "cells": [
  {
   "cell_type": "markdown",
   "metadata": {},
   "source": [
    "** 스마트워치 센서 데이터 기반 행동 분류 2일차 **\n",
    "# --------- 과제3 : 다양한 모델 사용하기 ---------"
   ]
  },
  {
   "cell_type": "markdown",
   "metadata": {
    "id": "mJlY5pHkC2AM",
    "tags": []
   },
   "source": [
    "\n",
    "### [미션0] 과제 이해하기\n",
    "   * 다양한 AI 분류 알고리즘을 사용해서 행동패턴을 구별할 수 있습니다.\n",
    "   * SVM, KNN, Logistic Regression, GBM, XGBoost 알고리즘을 사용하여 모델링을 수행하고 정확도를 비교해 보세요.\n",
    "  \n"
   ]
  },
  {
   "cell_type": "markdown",
   "metadata": {},
   "source": [
    "※ 미션완수 조건: SVM, KNN, Logistic Regression, GBM, XGBoost 알고리즘으로 모델링을 수행하고 예측 정확도를 도출하여 resualt 변수에 저장하고 가장 성능이 좋은 모델을 선정해 보세요."
   ]
  },
  {
   "cell_type": "markdown",
   "metadata": {},
   "source": [
    "<span style=\"background-color:#fff5b1\"><span style=\"color:red\"><U>※ GBM 모델 학습시 시간이 오래 걸리므로 화장실 다녀오기에 참 좋습니다.(약 20분 소요) <U></span></span>"
   ]
  },
  {
   "cell_type": "markdown",
   "metadata": {},
   "source": [
    "---"
   ]
  },
  {
   "cell_type": "markdown",
   "metadata": {},
   "source": [
    "### [미션1] 데이터 불러오기\n",
    "* pandas, numpy, matplotlib, seaborn, os 등 데이터 분석에필요한 라이브러리와 모듈을 불러오세요.\n",
    "* 라이브러리가 없을땐 !pip 명령어를 통해 필요한 라이브러리를 설치 하세요.\n",
    "* 현위치 하위 'data' 폴더에서 'train_data.csv' 파일 읽어 오세요.\n",
    "* 예측 결과를 받을 result 변수를 생성 하세요."
   ]
  },
  {
   "cell_type": "markdown",
   "metadata": {},
   "source": [
    "\t- 실습순서: 라이브러리 불러오기 -> 현재 디렉토리 확인 -> train_data.csv 불러오기 -> 결과 저장 변수 생성"
   ]
  },
  {
   "cell_type": "code",
   "execution_count": 1,
   "metadata": {
    "id": "3rsQerEaELwI",
    "tags": []
   },
   "outputs": [],
   "source": [
    "# pandas, numpy, matplotlib, seaborn, os 등 필요 라이브러리 호출\n",
    "# 데이터를 나누기 위한 sklearn.model_selection 모듈의 train_test_split 함수 사용\n",
    "# 모델 성능 평가 출력을 위해 sklearn.metrics 모듈의 모든 클래스 사용\n",
    "## 추가로 필요한 라이브러리는 설치/호출 하세요\n",
    "import pandas as pd\n",
    "import matplotlib.pyplot as plot\n",
    "import seaborn as sns\n",
    "import os\n",
    "\n",
    "from sklearn.model_selection import train_test_split\n",
    "from sklearn.metrics import *"
   ]
  },
  {
   "cell_type": "code",
   "execution_count": 2,
   "metadata": {
    "tags": []
   },
   "outputs": [
    {
     "data": {
      "text/plain": [
       "'C:\\\\Users\\\\user\\\\OneDrive\\\\0 데이터 교육 KT AIVLE School 0 0 미니프로젝트 3차_2일차\\\\230921_미프3차_2일차_교육생용'"
      ]
     },
     "execution_count": 2,
     "metadata": {},
     "output_type": "execute_result"
    }
   ],
   "source": [
    "# 현재 디렉토리 위치 확인\n",
    "# 아래의 결과는 강사의 현재 위치(에이블러 별 다를 수 있음)\n",
    "os.getcwd()"
   ]
  },
  {
   "cell_type": "code",
   "execution_count": 3,
   "metadata": {
    "tags": []
   },
   "outputs": [
    {
     "data": {
      "text/plain": [
       "['.ipynb_checkpoints',\n",
       " '4기 DX 미프3_지도학습_교안_2일차.pdf',\n",
       " 'data',\n",
       " '미프3차_A레벨_과제3-답안.ipynb',\n",
       " '미프3차_A레벨_과제3.ipynb',\n",
       " '미프3차_A레벨_과제4.ipynb',\n",
       " '미프3차_B레벨_과제3.ipynb',\n",
       " '미프3차_B레벨_과제4.ipynb']"
      ]
     },
     "execution_count": 3,
     "metadata": {},
     "output_type": "execute_result"
    }
   ],
   "source": [
    "os.listdir(os.getcwd())"
   ]
  },
  {
   "cell_type": "markdown",
   "metadata": {},
   "source": [
    "#### 데이터셋 불러오기 < data >에 < train_data.csv > 할당"
   ]
  },
  {
   "cell_type": "code",
   "execution_count": 4,
   "metadata": {
    "tags": []
   },
   "outputs": [
    {
     "data": {
      "text/html": [
       "<div>\n",
       "<style scoped>\n",
       "    .dataframe tbody tr th:only-of-type {\n",
       "        vertical-align: middle;\n",
       "    }\n",
       "\n",
       "    .dataframe tbody tr th {\n",
       "        vertical-align: top;\n",
       "    }\n",
       "\n",
       "    .dataframe thead th {\n",
       "        text-align: right;\n",
       "    }\n",
       "</style>\n",
       "<table border=\"1\" class=\"dataframe\">\n",
       "  <thead>\n",
       "    <tr style=\"text-align: right;\">\n",
       "      <th></th>\n",
       "      <th>tBodyAcc-mean()-X</th>\n",
       "      <th>tBodyAcc-mean()-Y</th>\n",
       "      <th>tBodyAcc-mean()-Z</th>\n",
       "      <th>tBodyAcc-std()-X</th>\n",
       "      <th>tBodyAcc-std()-Y</th>\n",
       "      <th>tBodyAcc-std()-Z</th>\n",
       "      <th>tBodyAcc-mad()-X</th>\n",
       "      <th>tBodyAcc-mad()-Y</th>\n",
       "      <th>tBodyAcc-mad()-Z</th>\n",
       "      <th>tBodyAcc-max()-X</th>\n",
       "      <th>...</th>\n",
       "      <th>fBodyBodyGyroJerkMag-kurtosis()</th>\n",
       "      <th>angle(tBodyAccMean,gravity)</th>\n",
       "      <th>angle(tBodyAccJerkMean),gravityMean)</th>\n",
       "      <th>angle(tBodyGyroMean,gravityMean)</th>\n",
       "      <th>angle(tBodyGyroJerkMean,gravityMean)</th>\n",
       "      <th>angle(X,gravityMean)</th>\n",
       "      <th>angle(Y,gravityMean)</th>\n",
       "      <th>angle(Z,gravityMean)</th>\n",
       "      <th>subject</th>\n",
       "      <th>Activity</th>\n",
       "    </tr>\n",
       "  </thead>\n",
       "  <tbody>\n",
       "    <tr>\n",
       "      <th>0</th>\n",
       "      <td>0.288508</td>\n",
       "      <td>-0.009196</td>\n",
       "      <td>-0.103362</td>\n",
       "      <td>-0.988986</td>\n",
       "      <td>-0.962797</td>\n",
       "      <td>-0.967422</td>\n",
       "      <td>-0.989000</td>\n",
       "      <td>-0.962596</td>\n",
       "      <td>-0.965650</td>\n",
       "      <td>-0.929747</td>\n",
       "      <td>...</td>\n",
       "      <td>-0.816696</td>\n",
       "      <td>-0.042494</td>\n",
       "      <td>-0.044218</td>\n",
       "      <td>0.307873</td>\n",
       "      <td>0.072790</td>\n",
       "      <td>-0.601120</td>\n",
       "      <td>0.331298</td>\n",
       "      <td>0.165163</td>\n",
       "      <td>21</td>\n",
       "      <td>STANDING</td>\n",
       "    </tr>\n",
       "    <tr>\n",
       "      <th>1</th>\n",
       "      <td>0.265757</td>\n",
       "      <td>-0.016576</td>\n",
       "      <td>-0.098163</td>\n",
       "      <td>-0.989551</td>\n",
       "      <td>-0.994636</td>\n",
       "      <td>-0.987435</td>\n",
       "      <td>-0.990189</td>\n",
       "      <td>-0.993870</td>\n",
       "      <td>-0.987558</td>\n",
       "      <td>-0.937337</td>\n",
       "      <td>...</td>\n",
       "      <td>-0.693515</td>\n",
       "      <td>-0.062899</td>\n",
       "      <td>0.388459</td>\n",
       "      <td>-0.765014</td>\n",
       "      <td>0.771524</td>\n",
       "      <td>0.345205</td>\n",
       "      <td>-0.769186</td>\n",
       "      <td>-0.147944</td>\n",
       "      <td>15</td>\n",
       "      <td>LAYING</td>\n",
       "    </tr>\n",
       "    <tr>\n",
       "      <th>2</th>\n",
       "      <td>0.278709</td>\n",
       "      <td>-0.014511</td>\n",
       "      <td>-0.108717</td>\n",
       "      <td>-0.997720</td>\n",
       "      <td>-0.981088</td>\n",
       "      <td>-0.994008</td>\n",
       "      <td>-0.997934</td>\n",
       "      <td>-0.982187</td>\n",
       "      <td>-0.995017</td>\n",
       "      <td>-0.942584</td>\n",
       "      <td>...</td>\n",
       "      <td>-0.829311</td>\n",
       "      <td>0.000265</td>\n",
       "      <td>-0.525022</td>\n",
       "      <td>-0.891875</td>\n",
       "      <td>0.021528</td>\n",
       "      <td>-0.833564</td>\n",
       "      <td>0.202434</td>\n",
       "      <td>-0.032755</td>\n",
       "      <td>11</td>\n",
       "      <td>STANDING</td>\n",
       "    </tr>\n",
       "    <tr>\n",
       "      <th>3</th>\n",
       "      <td>0.289795</td>\n",
       "      <td>-0.035536</td>\n",
       "      <td>-0.150354</td>\n",
       "      <td>-0.231727</td>\n",
       "      <td>-0.006412</td>\n",
       "      <td>-0.338117</td>\n",
       "      <td>-0.273557</td>\n",
       "      <td>0.014245</td>\n",
       "      <td>-0.347916</td>\n",
       "      <td>0.008288</td>\n",
       "      <td>...</td>\n",
       "      <td>-0.408956</td>\n",
       "      <td>-0.255125</td>\n",
       "      <td>0.612804</td>\n",
       "      <td>0.747381</td>\n",
       "      <td>-0.072944</td>\n",
       "      <td>-0.695819</td>\n",
       "      <td>0.287154</td>\n",
       "      <td>0.111388</td>\n",
       "      <td>17</td>\n",
       "      <td>WALKING</td>\n",
       "    </tr>\n",
       "    <tr>\n",
       "      <th>4</th>\n",
       "      <td>0.394807</td>\n",
       "      <td>0.034098</td>\n",
       "      <td>0.091229</td>\n",
       "      <td>0.088489</td>\n",
       "      <td>-0.106636</td>\n",
       "      <td>-0.388502</td>\n",
       "      <td>-0.010469</td>\n",
       "      <td>-0.109680</td>\n",
       "      <td>-0.346372</td>\n",
       "      <td>0.584131</td>\n",
       "      <td>...</td>\n",
       "      <td>-0.563437</td>\n",
       "      <td>-0.044344</td>\n",
       "      <td>-0.845268</td>\n",
       "      <td>-0.974650</td>\n",
       "      <td>-0.887846</td>\n",
       "      <td>-0.705029</td>\n",
       "      <td>0.264952</td>\n",
       "      <td>0.137758</td>\n",
       "      <td>17</td>\n",
       "      <td>WALKING_DOWNSTAIRS</td>\n",
       "    </tr>\n",
       "  </tbody>\n",
       "</table>\n",
       "<p>5 rows × 563 columns</p>\n",
       "</div>"
      ],
      "text/plain": [
       "   tBodyAcc-mean()-X  tBodyAcc-mean()-Y  tBodyAcc-mean()-Z  tBodyAcc-std()-X  \\\n",
       "0           0.288508          -0.009196          -0.103362         -0.988986   \n",
       "1           0.265757          -0.016576          -0.098163         -0.989551   \n",
       "2           0.278709          -0.014511          -0.108717         -0.997720   \n",
       "3           0.289795          -0.035536          -0.150354         -0.231727   \n",
       "4           0.394807           0.034098           0.091229          0.088489   \n",
       "\n",
       "   tBodyAcc-std()-Y  tBodyAcc-std()-Z  tBodyAcc-mad()-X  tBodyAcc-mad()-Y  \\\n",
       "0         -0.962797         -0.967422         -0.989000         -0.962596   \n",
       "1         -0.994636         -0.987435         -0.990189         -0.993870   \n",
       "2         -0.981088         -0.994008         -0.997934         -0.982187   \n",
       "3         -0.006412         -0.338117         -0.273557          0.014245   \n",
       "4         -0.106636         -0.388502         -0.010469         -0.109680   \n",
       "\n",
       "   tBodyAcc-mad()-Z  tBodyAcc-max()-X  ...  fBodyBodyGyroJerkMag-kurtosis()  \\\n",
       "0         -0.965650         -0.929747  ...                        -0.816696   \n",
       "1         -0.987558         -0.937337  ...                        -0.693515   \n",
       "2         -0.995017         -0.942584  ...                        -0.829311   \n",
       "3         -0.347916          0.008288  ...                        -0.408956   \n",
       "4         -0.346372          0.584131  ...                        -0.563437   \n",
       "\n",
       "   angle(tBodyAccMean,gravity)  angle(tBodyAccJerkMean),gravityMean)  \\\n",
       "0                    -0.042494                             -0.044218   \n",
       "1                    -0.062899                              0.388459   \n",
       "2                     0.000265                             -0.525022   \n",
       "3                    -0.255125                              0.612804   \n",
       "4                    -0.044344                             -0.845268   \n",
       "\n",
       "   angle(tBodyGyroMean,gravityMean)  angle(tBodyGyroJerkMean,gravityMean)  \\\n",
       "0                          0.307873                              0.072790   \n",
       "1                         -0.765014                              0.771524   \n",
       "2                         -0.891875                              0.021528   \n",
       "3                          0.747381                             -0.072944   \n",
       "4                         -0.974650                             -0.887846   \n",
       "\n",
       "   angle(X,gravityMean)  angle(Y,gravityMean)  angle(Z,gravityMean)  subject  \\\n",
       "0             -0.601120              0.331298              0.165163       21   \n",
       "1              0.345205             -0.769186             -0.147944       15   \n",
       "2             -0.833564              0.202434             -0.032755       11   \n",
       "3             -0.695819              0.287154              0.111388       17   \n",
       "4             -0.705029              0.264952              0.137758       17   \n",
       "\n",
       "             Activity  \n",
       "0            STANDING  \n",
       "1              LAYING  \n",
       "2            STANDING  \n",
       "3             WALKING  \n",
       "4  WALKING_DOWNSTAIRS  \n",
       "\n",
       "[5 rows x 563 columns]"
      ]
     },
     "execution_count": 4,
     "metadata": {},
     "output_type": "execute_result"
    }
   ],
   "source": [
    "# 데이터셋 파일 불러오기\n",
    "## data 변수에 train_data.csv 파일을 불러와서 할당해 주세요.\n",
    "## train_data.csv 파일은 현재위치의 하위 data 폴더안에 있습니다. \n",
    "## 변수에 할당이 잘 되었는지 확인해 주세요. \n",
    "data = pd.read_csv(\"./data/train_data.csv\")\n",
    "data.head()"
   ]
  },
  {
   "cell_type": "code",
   "execution_count": 5,
   "metadata": {
    "tags": []
   },
   "outputs": [
    {
     "data": {
      "text/html": [
       "<div>\n",
       "<style scoped>\n",
       "    .dataframe tbody tr th:only-of-type {\n",
       "        vertical-align: middle;\n",
       "    }\n",
       "\n",
       "    .dataframe tbody tr th {\n",
       "        vertical-align: top;\n",
       "    }\n",
       "\n",
       "    .dataframe thead th {\n",
       "        text-align: right;\n",
       "    }\n",
       "</style>\n",
       "<table border=\"1\" class=\"dataframe\">\n",
       "  <thead>\n",
       "    <tr style=\"text-align: right;\">\n",
       "      <th></th>\n",
       "      <th>tBodyAcc-mean()-X</th>\n",
       "      <th>tBodyAcc-mean()-Y</th>\n",
       "      <th>tBodyAcc-mean()-Z</th>\n",
       "      <th>tBodyAcc-std()-X</th>\n",
       "      <th>tBodyAcc-std()-Y</th>\n",
       "      <th>tBodyAcc-std()-Z</th>\n",
       "      <th>tBodyAcc-mad()-X</th>\n",
       "      <th>tBodyAcc-mad()-Y</th>\n",
       "      <th>tBodyAcc-mad()-Z</th>\n",
       "      <th>tBodyAcc-max()-X</th>\n",
       "      <th>...</th>\n",
       "      <th>fBodyBodyGyroJerkMag-kurtosis()</th>\n",
       "      <th>angle(tBodyAccMean,gravity)</th>\n",
       "      <th>angle(tBodyAccJerkMean),gravityMean)</th>\n",
       "      <th>angle(tBodyGyroMean,gravityMean)</th>\n",
       "      <th>angle(tBodyGyroJerkMean,gravityMean)</th>\n",
       "      <th>angle(X,gravityMean)</th>\n",
       "      <th>angle(Y,gravityMean)</th>\n",
       "      <th>angle(Z,gravityMean)</th>\n",
       "      <th>subject</th>\n",
       "      <th>Activity</th>\n",
       "    </tr>\n",
       "  </thead>\n",
       "  <tbody>\n",
       "    <tr>\n",
       "      <th>0</th>\n",
       "      <td>0.288508</td>\n",
       "      <td>-0.009196</td>\n",
       "      <td>-0.103362</td>\n",
       "      <td>-0.988986</td>\n",
       "      <td>-0.962797</td>\n",
       "      <td>-0.967422</td>\n",
       "      <td>-0.989000</td>\n",
       "      <td>-0.962596</td>\n",
       "      <td>-0.965650</td>\n",
       "      <td>-0.929747</td>\n",
       "      <td>...</td>\n",
       "      <td>-0.816696</td>\n",
       "      <td>-0.042494</td>\n",
       "      <td>-0.044218</td>\n",
       "      <td>0.307873</td>\n",
       "      <td>0.072790</td>\n",
       "      <td>-0.601120</td>\n",
       "      <td>0.331298</td>\n",
       "      <td>0.165163</td>\n",
       "      <td>21</td>\n",
       "      <td>STANDING</td>\n",
       "    </tr>\n",
       "    <tr>\n",
       "      <th>1</th>\n",
       "      <td>0.265757</td>\n",
       "      <td>-0.016576</td>\n",
       "      <td>-0.098163</td>\n",
       "      <td>-0.989551</td>\n",
       "      <td>-0.994636</td>\n",
       "      <td>-0.987435</td>\n",
       "      <td>-0.990189</td>\n",
       "      <td>-0.993870</td>\n",
       "      <td>-0.987558</td>\n",
       "      <td>-0.937337</td>\n",
       "      <td>...</td>\n",
       "      <td>-0.693515</td>\n",
       "      <td>-0.062899</td>\n",
       "      <td>0.388459</td>\n",
       "      <td>-0.765014</td>\n",
       "      <td>0.771524</td>\n",
       "      <td>0.345205</td>\n",
       "      <td>-0.769186</td>\n",
       "      <td>-0.147944</td>\n",
       "      <td>15</td>\n",
       "      <td>LAYING</td>\n",
       "    </tr>\n",
       "    <tr>\n",
       "      <th>2</th>\n",
       "      <td>0.278709</td>\n",
       "      <td>-0.014511</td>\n",
       "      <td>-0.108717</td>\n",
       "      <td>-0.997720</td>\n",
       "      <td>-0.981088</td>\n",
       "      <td>-0.994008</td>\n",
       "      <td>-0.997934</td>\n",
       "      <td>-0.982187</td>\n",
       "      <td>-0.995017</td>\n",
       "      <td>-0.942584</td>\n",
       "      <td>...</td>\n",
       "      <td>-0.829311</td>\n",
       "      <td>0.000265</td>\n",
       "      <td>-0.525022</td>\n",
       "      <td>-0.891875</td>\n",
       "      <td>0.021528</td>\n",
       "      <td>-0.833564</td>\n",
       "      <td>0.202434</td>\n",
       "      <td>-0.032755</td>\n",
       "      <td>11</td>\n",
       "      <td>STANDING</td>\n",
       "    </tr>\n",
       "    <tr>\n",
       "      <th>3</th>\n",
       "      <td>0.289795</td>\n",
       "      <td>-0.035536</td>\n",
       "      <td>-0.150354</td>\n",
       "      <td>-0.231727</td>\n",
       "      <td>-0.006412</td>\n",
       "      <td>-0.338117</td>\n",
       "      <td>-0.273557</td>\n",
       "      <td>0.014245</td>\n",
       "      <td>-0.347916</td>\n",
       "      <td>0.008288</td>\n",
       "      <td>...</td>\n",
       "      <td>-0.408956</td>\n",
       "      <td>-0.255125</td>\n",
       "      <td>0.612804</td>\n",
       "      <td>0.747381</td>\n",
       "      <td>-0.072944</td>\n",
       "      <td>-0.695819</td>\n",
       "      <td>0.287154</td>\n",
       "      <td>0.111388</td>\n",
       "      <td>17</td>\n",
       "      <td>WALKING</td>\n",
       "    </tr>\n",
       "    <tr>\n",
       "      <th>4</th>\n",
       "      <td>0.394807</td>\n",
       "      <td>0.034098</td>\n",
       "      <td>0.091229</td>\n",
       "      <td>0.088489</td>\n",
       "      <td>-0.106636</td>\n",
       "      <td>-0.388502</td>\n",
       "      <td>-0.010469</td>\n",
       "      <td>-0.109680</td>\n",
       "      <td>-0.346372</td>\n",
       "      <td>0.584131</td>\n",
       "      <td>...</td>\n",
       "      <td>-0.563437</td>\n",
       "      <td>-0.044344</td>\n",
       "      <td>-0.845268</td>\n",
       "      <td>-0.974650</td>\n",
       "      <td>-0.887846</td>\n",
       "      <td>-0.705029</td>\n",
       "      <td>0.264952</td>\n",
       "      <td>0.137758</td>\n",
       "      <td>17</td>\n",
       "      <td>WALKING_DOWNSTAIRS</td>\n",
       "    </tr>\n",
       "    <tr>\n",
       "      <th>...</th>\n",
       "      <td>...</td>\n",
       "      <td>...</td>\n",
       "      <td>...</td>\n",
       "      <td>...</td>\n",
       "      <td>...</td>\n",
       "      <td>...</td>\n",
       "      <td>...</td>\n",
       "      <td>...</td>\n",
       "      <td>...</td>\n",
       "      <td>...</td>\n",
       "      <td>...</td>\n",
       "      <td>...</td>\n",
       "      <td>...</td>\n",
       "      <td>...</td>\n",
       "      <td>...</td>\n",
       "      <td>...</td>\n",
       "      <td>...</td>\n",
       "      <td>...</td>\n",
       "      <td>...</td>\n",
       "      <td>...</td>\n",
       "      <td>...</td>\n",
       "    </tr>\n",
       "    <tr>\n",
       "      <th>5876</th>\n",
       "      <td>0.277194</td>\n",
       "      <td>-0.012389</td>\n",
       "      <td>-0.131974</td>\n",
       "      <td>-0.994046</td>\n",
       "      <td>-0.940578</td>\n",
       "      <td>-0.917337</td>\n",
       "      <td>-0.994261</td>\n",
       "      <td>-0.932830</td>\n",
       "      <td>-0.908088</td>\n",
       "      <td>-0.936219</td>\n",
       "      <td>...</td>\n",
       "      <td>-0.690363</td>\n",
       "      <td>-0.034888</td>\n",
       "      <td>-0.261437</td>\n",
       "      <td>-0.391477</td>\n",
       "      <td>-0.877612</td>\n",
       "      <td>-0.912365</td>\n",
       "      <td>0.114009</td>\n",
       "      <td>0.080146</td>\n",
       "      <td>21</td>\n",
       "      <td>SITTING</td>\n",
       "    </tr>\n",
       "    <tr>\n",
       "      <th>5877</th>\n",
       "      <td>0.191568</td>\n",
       "      <td>0.013328</td>\n",
       "      <td>-0.105174</td>\n",
       "      <td>-0.126969</td>\n",
       "      <td>-0.121729</td>\n",
       "      <td>-0.327480</td>\n",
       "      <td>-0.192523</td>\n",
       "      <td>-0.109923</td>\n",
       "      <td>-0.295286</td>\n",
       "      <td>0.078644</td>\n",
       "      <td>...</td>\n",
       "      <td>-0.879215</td>\n",
       "      <td>0.721718</td>\n",
       "      <td>0.623151</td>\n",
       "      <td>0.866858</td>\n",
       "      <td>-0.445660</td>\n",
       "      <td>-0.690278</td>\n",
       "      <td>0.303194</td>\n",
       "      <td>-0.044188</td>\n",
       "      <td>15</td>\n",
       "      <td>WALKING_UPSTAIRS</td>\n",
       "    </tr>\n",
       "    <tr>\n",
       "      <th>5878</th>\n",
       "      <td>0.267981</td>\n",
       "      <td>-0.018348</td>\n",
       "      <td>-0.107440</td>\n",
       "      <td>-0.991303</td>\n",
       "      <td>-0.989881</td>\n",
       "      <td>-0.990313</td>\n",
       "      <td>-0.992386</td>\n",
       "      <td>-0.988852</td>\n",
       "      <td>-0.991237</td>\n",
       "      <td>-0.936099</td>\n",
       "      <td>...</td>\n",
       "      <td>-0.886851</td>\n",
       "      <td>0.060173</td>\n",
       "      <td>0.228739</td>\n",
       "      <td>0.684400</td>\n",
       "      <td>-0.216665</td>\n",
       "      <td>0.620363</td>\n",
       "      <td>-0.437247</td>\n",
       "      <td>-0.571840</td>\n",
       "      <td>19</td>\n",
       "      <td>LAYING</td>\n",
       "    </tr>\n",
       "    <tr>\n",
       "      <th>5879</th>\n",
       "      <td>0.212787</td>\n",
       "      <td>-0.048130</td>\n",
       "      <td>-0.121001</td>\n",
       "      <td>-0.041373</td>\n",
       "      <td>0.052449</td>\n",
       "      <td>-0.585361</td>\n",
       "      <td>-0.100714</td>\n",
       "      <td>0.023353</td>\n",
       "      <td>-0.554707</td>\n",
       "      <td>0.219814</td>\n",
       "      <td>...</td>\n",
       "      <td>-0.053556</td>\n",
       "      <td>0.260880</td>\n",
       "      <td>0.551742</td>\n",
       "      <td>-0.943773</td>\n",
       "      <td>-0.862899</td>\n",
       "      <td>-0.718009</td>\n",
       "      <td>0.292856</td>\n",
       "      <td>0.024920</td>\n",
       "      <td>6</td>\n",
       "      <td>WALKING_UPSTAIRS</td>\n",
       "    </tr>\n",
       "    <tr>\n",
       "      <th>5880</th>\n",
       "      <td>0.283815</td>\n",
       "      <td>-0.040658</td>\n",
       "      <td>-0.138018</td>\n",
       "      <td>-0.992662</td>\n",
       "      <td>-0.747190</td>\n",
       "      <td>-0.920248</td>\n",
       "      <td>-0.993410</td>\n",
       "      <td>-0.768055</td>\n",
       "      <td>-0.924587</td>\n",
       "      <td>-0.935871</td>\n",
       "      <td>...</td>\n",
       "      <td>-0.696584</td>\n",
       "      <td>0.107690</td>\n",
       "      <td>0.122242</td>\n",
       "      <td>-0.077226</td>\n",
       "      <td>-0.078091</td>\n",
       "      <td>-0.740244</td>\n",
       "      <td>0.008346</td>\n",
       "      <td>-0.146143</td>\n",
       "      <td>29</td>\n",
       "      <td>SITTING</td>\n",
       "    </tr>\n",
       "  </tbody>\n",
       "</table>\n",
       "<p>5881 rows × 563 columns</p>\n",
       "</div>"
      ],
      "text/plain": [
       "      tBodyAcc-mean()-X  tBodyAcc-mean()-Y  tBodyAcc-mean()-Z  \\\n",
       "0              0.288508          -0.009196          -0.103362   \n",
       "1              0.265757          -0.016576          -0.098163   \n",
       "2              0.278709          -0.014511          -0.108717   \n",
       "3              0.289795          -0.035536          -0.150354   \n",
       "4              0.394807           0.034098           0.091229   \n",
       "...                 ...                ...                ...   \n",
       "5876           0.277194          -0.012389          -0.131974   \n",
       "5877           0.191568           0.013328          -0.105174   \n",
       "5878           0.267981          -0.018348          -0.107440   \n",
       "5879           0.212787          -0.048130          -0.121001   \n",
       "5880           0.283815          -0.040658          -0.138018   \n",
       "\n",
       "      tBodyAcc-std()-X  tBodyAcc-std()-Y  tBodyAcc-std()-Z  tBodyAcc-mad()-X  \\\n",
       "0            -0.988986         -0.962797         -0.967422         -0.989000   \n",
       "1            -0.989551         -0.994636         -0.987435         -0.990189   \n",
       "2            -0.997720         -0.981088         -0.994008         -0.997934   \n",
       "3            -0.231727         -0.006412         -0.338117         -0.273557   \n",
       "4             0.088489         -0.106636         -0.388502         -0.010469   \n",
       "...                ...               ...               ...               ...   \n",
       "5876         -0.994046         -0.940578         -0.917337         -0.994261   \n",
       "5877         -0.126969         -0.121729         -0.327480         -0.192523   \n",
       "5878         -0.991303         -0.989881         -0.990313         -0.992386   \n",
       "5879         -0.041373          0.052449         -0.585361         -0.100714   \n",
       "5880         -0.992662         -0.747190         -0.920248         -0.993410   \n",
       "\n",
       "      tBodyAcc-mad()-Y  tBodyAcc-mad()-Z  tBodyAcc-max()-X  ...  \\\n",
       "0            -0.962596         -0.965650         -0.929747  ...   \n",
       "1            -0.993870         -0.987558         -0.937337  ...   \n",
       "2            -0.982187         -0.995017         -0.942584  ...   \n",
       "3             0.014245         -0.347916          0.008288  ...   \n",
       "4            -0.109680         -0.346372          0.584131  ...   \n",
       "...                ...               ...               ...  ...   \n",
       "5876         -0.932830         -0.908088         -0.936219  ...   \n",
       "5877         -0.109923         -0.295286          0.078644  ...   \n",
       "5878         -0.988852         -0.991237         -0.936099  ...   \n",
       "5879          0.023353         -0.554707          0.219814  ...   \n",
       "5880         -0.768055         -0.924587         -0.935871  ...   \n",
       "\n",
       "      fBodyBodyGyroJerkMag-kurtosis()  angle(tBodyAccMean,gravity)  \\\n",
       "0                           -0.816696                    -0.042494   \n",
       "1                           -0.693515                    -0.062899   \n",
       "2                           -0.829311                     0.000265   \n",
       "3                           -0.408956                    -0.255125   \n",
       "4                           -0.563437                    -0.044344   \n",
       "...                               ...                          ...   \n",
       "5876                        -0.690363                    -0.034888   \n",
       "5877                        -0.879215                     0.721718   \n",
       "5878                        -0.886851                     0.060173   \n",
       "5879                        -0.053556                     0.260880   \n",
       "5880                        -0.696584                     0.107690   \n",
       "\n",
       "      angle(tBodyAccJerkMean),gravityMean)  angle(tBodyGyroMean,gravityMean)  \\\n",
       "0                                -0.044218                          0.307873   \n",
       "1                                 0.388459                         -0.765014   \n",
       "2                                -0.525022                         -0.891875   \n",
       "3                                 0.612804                          0.747381   \n",
       "4                                -0.845268                         -0.974650   \n",
       "...                                    ...                               ...   \n",
       "5876                             -0.261437                         -0.391477   \n",
       "5877                              0.623151                          0.866858   \n",
       "5878                              0.228739                          0.684400   \n",
       "5879                              0.551742                         -0.943773   \n",
       "5880                              0.122242                         -0.077226   \n",
       "\n",
       "      angle(tBodyGyroJerkMean,gravityMean)  angle(X,gravityMean)  \\\n",
       "0                                 0.072790             -0.601120   \n",
       "1                                 0.771524              0.345205   \n",
       "2                                 0.021528             -0.833564   \n",
       "3                                -0.072944             -0.695819   \n",
       "4                                -0.887846             -0.705029   \n",
       "...                                    ...                   ...   \n",
       "5876                             -0.877612             -0.912365   \n",
       "5877                             -0.445660             -0.690278   \n",
       "5878                             -0.216665              0.620363   \n",
       "5879                             -0.862899             -0.718009   \n",
       "5880                             -0.078091             -0.740244   \n",
       "\n",
       "      angle(Y,gravityMean)  angle(Z,gravityMean)  subject            Activity  \n",
       "0                 0.331298              0.165163       21            STANDING  \n",
       "1                -0.769186             -0.147944       15              LAYING  \n",
       "2                 0.202434             -0.032755       11            STANDING  \n",
       "3                 0.287154              0.111388       17             WALKING  \n",
       "4                 0.264952              0.137758       17  WALKING_DOWNSTAIRS  \n",
       "...                    ...                   ...      ...                 ...  \n",
       "5876              0.114009              0.080146       21             SITTING  \n",
       "5877              0.303194             -0.044188       15    WALKING_UPSTAIRS  \n",
       "5878             -0.437247             -0.571840       19              LAYING  \n",
       "5879              0.292856              0.024920        6    WALKING_UPSTAIRS  \n",
       "5880              0.008346             -0.146143       29             SITTING  \n",
       "\n",
       "[5881 rows x 563 columns]"
      ]
     },
     "execution_count": 5,
     "metadata": {},
     "output_type": "execute_result"
    }
   ],
   "source": [
    "# 불필요한 열 제거\n",
    "## 'subject'열 은 데이터를 수집한 사람을 구별하기 위한 데이터 입니다.\n",
    "## 'subject'열을 data 데이터프레임 변수 에서 제거해 주세요.\n",
    "## 'subject'열이 잘 제거 되었는지 확인해 주세요.\n",
    "data.drop('subject', axis=1)\n",
    "data"
   ]
  },
  {
   "cell_type": "code",
   "execution_count": 6,
   "metadata": {
    "tags": []
   },
   "outputs": [
    {
     "data": {
      "text/html": [
       "<div>\n",
       "<style scoped>\n",
       "    .dataframe tbody tr th:only-of-type {\n",
       "        vertical-align: middle;\n",
       "    }\n",
       "\n",
       "    .dataframe tbody tr th {\n",
       "        vertical-align: top;\n",
       "    }\n",
       "\n",
       "    .dataframe thead th {\n",
       "        text-align: right;\n",
       "    }\n",
       "</style>\n",
       "<table border=\"1\" class=\"dataframe\">\n",
       "  <thead>\n",
       "    <tr style=\"text-align: right;\">\n",
       "      <th></th>\n",
       "      <th>model_name</th>\n",
       "      <th>valid_data</th>\n",
       "      <th>accuracy_score</th>\n",
       "      <th>f1_score</th>\n",
       "    </tr>\n",
       "  </thead>\n",
       "  <tbody>\n",
       "  </tbody>\n",
       "</table>\n",
       "</div>"
      ],
      "text/plain": [
       "Empty DataFrame\n",
       "Columns: [model_name, valid_data, accuracy_score, f1_score]\n",
       "Index: []"
      ]
     },
     "execution_count": 6,
     "metadata": {},
     "output_type": "execute_result"
    }
   ],
   "source": [
    "# 모델 결과 저장 데이터 프레임 생성\n",
    "## result 데이터프레임 생성 및 아래와 같은 컬럼을 생성해 주세요. \n",
    "## result 컬럼명: 'model_name', 'valid_data', 'accuracy_score', 'f1_score'\n",
    "result = pd.DataFrame(columns = ['model_name', 'valid_data', 'accuracy_score', 'f1_score'])\n",
    "result"
   ]
  },
  {
   "cell_type": "markdown",
   "metadata": {},
   "source": [
    "### [미션2] 다양한 모델링"
   ]
  },
  {
   "cell_type": "markdown",
   "metadata": {},
   "source": [
    "\t- 실습순서: SVM 모델링-> Logistic Regression 모델링 -> KNN 모델링 -> GBM 모델링 -> XGBoost 모델링"
   ]
  },
  {
   "cell_type": "markdown",
   "metadata": {},
   "source": [
    "* #### SVM(Support Vector Machine) 모델링\n"
   ]
  },
  {
   "cell_type": "code",
   "execution_count": 7,
   "metadata": {
    "tags": []
   },
   "outputs": [
    {
     "name": "stdout",
     "output_type": "stream",
     "text": [
      "Requirement already satisfied: scikit-learn in c:\\users\\user\\anaconda3\\lib\\site-packages (1.2.2)\n",
      "Requirement already satisfied: numpy>=1.17.3 in c:\\users\\user\\anaconda3\\lib\\site-packages (from scikit-learn) (1.25.0)\n",
      "Requirement already satisfied: scipy>=1.3.2 in c:\\users\\user\\anaconda3\\lib\\site-packages (from scikit-learn) (1.11.1)\n",
      "Requirement already satisfied: joblib>=1.1.1 in c:\\users\\user\\anaconda3\\lib\\site-packages (from scikit-learn) (1.1.1)\n",
      "Requirement already satisfied: threadpoolctl>=2.0.0 in c:\\users\\user\\anaconda3\\lib\\site-packages (from scikit-learn) (3.2.0)\n"
     ]
    }
   ],
   "source": [
    "# SVM 라이브러리 설치(scikit-learn에 포함)\n",
    "#!pip install scikit-learn\n",
    "!pip install scikit-learn"
   ]
  },
  {
   "cell_type": "markdown",
   "metadata": {},
   "source": [
    "##### from sklearn.svm import SVC\n"
   ]
  },
  {
   "cell_type": "code",
   "execution_count": 8,
   "metadata": {
    "tags": []
   },
   "outputs": [],
   "source": [
    "# SVM(Support Vector Machine) 알고리즘 모듈 호출\n",
    "## 분류 모델 생성을 위해 sklearn.svm(Support Vector Machine) 라이브러리의 SVC 알고리즘 호출 합니다.\n",
    "from sklearn.svm import SVC"
   ]
  },
  {
   "cell_type": "code",
   "execution_count": 9,
   "metadata": {
    "tags": []
   },
   "outputs": [],
   "source": [
    "# 데이터 나누기\n",
    "## y 변수에 target으로 사용할 data['Activity']을 할당해 주세요.\n",
    "## data 에서 data['Activity'] 열을 뺀 나머지 x 변수에 할당해 주세요.\n",
    "## 학습에 필요한 x 와 y 데이터를 학습 7 : 검증 3 비율로 나누어 주세요.\n",
    "## 이때 random_state 는 2023 으로 설정해 주세요.\n",
    "## 데이터를 할당받을 변수명: x_train, x_val, y_train, y_val\n",
    "y = data.loc[:,'Activity']\n",
    "x = data.drop('Activity', axis =1)\n",
    "x_train, x_val, y_train, y_val = train_test_split( x, y, test_size = 0.3, random_state = 2023  )"
   ]
  },
  {
   "cell_type": "code",
   "execution_count": 10,
   "metadata": {
    "tags": []
   },
   "outputs": [
    {
     "data": {
      "text/html": [
       "<div>\n",
       "<style scoped>\n",
       "    .dataframe tbody tr th:only-of-type {\n",
       "        vertical-align: middle;\n",
       "    }\n",
       "\n",
       "    .dataframe tbody tr th {\n",
       "        vertical-align: top;\n",
       "    }\n",
       "\n",
       "    .dataframe thead th {\n",
       "        text-align: right;\n",
       "    }\n",
       "</style>\n",
       "<table border=\"1\" class=\"dataframe\">\n",
       "  <thead>\n",
       "    <tr style=\"text-align: right;\">\n",
       "      <th></th>\n",
       "      <th>tBodyAcc-mean()-X</th>\n",
       "      <th>tBodyAcc-mean()-Y</th>\n",
       "      <th>tBodyAcc-mean()-Z</th>\n",
       "      <th>tBodyAcc-std()-X</th>\n",
       "      <th>tBodyAcc-std()-Y</th>\n",
       "      <th>tBodyAcc-std()-Z</th>\n",
       "      <th>tBodyAcc-mad()-X</th>\n",
       "      <th>tBodyAcc-mad()-Y</th>\n",
       "      <th>tBodyAcc-mad()-Z</th>\n",
       "      <th>tBodyAcc-max()-X</th>\n",
       "      <th>...</th>\n",
       "      <th>fBodyBodyGyroJerkMag-skewness()</th>\n",
       "      <th>fBodyBodyGyroJerkMag-kurtosis()</th>\n",
       "      <th>angle(tBodyAccMean,gravity)</th>\n",
       "      <th>angle(tBodyAccJerkMean),gravityMean)</th>\n",
       "      <th>angle(tBodyGyroMean,gravityMean)</th>\n",
       "      <th>angle(tBodyGyroJerkMean,gravityMean)</th>\n",
       "      <th>angle(X,gravityMean)</th>\n",
       "      <th>angle(Y,gravityMean)</th>\n",
       "      <th>angle(Z,gravityMean)</th>\n",
       "      <th>subject</th>\n",
       "    </tr>\n",
       "  </thead>\n",
       "  <tbody>\n",
       "    <tr>\n",
       "      <th>0</th>\n",
       "      <td>0.288508</td>\n",
       "      <td>-0.009196</td>\n",
       "      <td>-0.103362</td>\n",
       "      <td>-0.988986</td>\n",
       "      <td>-0.962797</td>\n",
       "      <td>-0.967422</td>\n",
       "      <td>-0.989000</td>\n",
       "      <td>-0.962596</td>\n",
       "      <td>-0.965650</td>\n",
       "      <td>-0.929747</td>\n",
       "      <td>...</td>\n",
       "      <td>-0.487737</td>\n",
       "      <td>-0.816696</td>\n",
       "      <td>-0.042494</td>\n",
       "      <td>-0.044218</td>\n",
       "      <td>0.307873</td>\n",
       "      <td>0.072790</td>\n",
       "      <td>-0.601120</td>\n",
       "      <td>0.331298</td>\n",
       "      <td>0.165163</td>\n",
       "      <td>21</td>\n",
       "    </tr>\n",
       "    <tr>\n",
       "      <th>1</th>\n",
       "      <td>0.265757</td>\n",
       "      <td>-0.016576</td>\n",
       "      <td>-0.098163</td>\n",
       "      <td>-0.989551</td>\n",
       "      <td>-0.994636</td>\n",
       "      <td>-0.987435</td>\n",
       "      <td>-0.990189</td>\n",
       "      <td>-0.993870</td>\n",
       "      <td>-0.987558</td>\n",
       "      <td>-0.937337</td>\n",
       "      <td>...</td>\n",
       "      <td>-0.237820</td>\n",
       "      <td>-0.693515</td>\n",
       "      <td>-0.062899</td>\n",
       "      <td>0.388459</td>\n",
       "      <td>-0.765014</td>\n",
       "      <td>0.771524</td>\n",
       "      <td>0.345205</td>\n",
       "      <td>-0.769186</td>\n",
       "      <td>-0.147944</td>\n",
       "      <td>15</td>\n",
       "    </tr>\n",
       "    <tr>\n",
       "      <th>2</th>\n",
       "      <td>0.278709</td>\n",
       "      <td>-0.014511</td>\n",
       "      <td>-0.108717</td>\n",
       "      <td>-0.997720</td>\n",
       "      <td>-0.981088</td>\n",
       "      <td>-0.994008</td>\n",
       "      <td>-0.997934</td>\n",
       "      <td>-0.982187</td>\n",
       "      <td>-0.995017</td>\n",
       "      <td>-0.942584</td>\n",
       "      <td>...</td>\n",
       "      <td>-0.535287</td>\n",
       "      <td>-0.829311</td>\n",
       "      <td>0.000265</td>\n",
       "      <td>-0.525022</td>\n",
       "      <td>-0.891875</td>\n",
       "      <td>0.021528</td>\n",
       "      <td>-0.833564</td>\n",
       "      <td>0.202434</td>\n",
       "      <td>-0.032755</td>\n",
       "      <td>11</td>\n",
       "    </tr>\n",
       "    <tr>\n",
       "      <th>3</th>\n",
       "      <td>0.289795</td>\n",
       "      <td>-0.035536</td>\n",
       "      <td>-0.150354</td>\n",
       "      <td>-0.231727</td>\n",
       "      <td>-0.006412</td>\n",
       "      <td>-0.338117</td>\n",
       "      <td>-0.273557</td>\n",
       "      <td>0.014245</td>\n",
       "      <td>-0.347916</td>\n",
       "      <td>0.008288</td>\n",
       "      <td>...</td>\n",
       "      <td>-0.004012</td>\n",
       "      <td>-0.408956</td>\n",
       "      <td>-0.255125</td>\n",
       "      <td>0.612804</td>\n",
       "      <td>0.747381</td>\n",
       "      <td>-0.072944</td>\n",
       "      <td>-0.695819</td>\n",
       "      <td>0.287154</td>\n",
       "      <td>0.111388</td>\n",
       "      <td>17</td>\n",
       "    </tr>\n",
       "    <tr>\n",
       "      <th>4</th>\n",
       "      <td>0.394807</td>\n",
       "      <td>0.034098</td>\n",
       "      <td>0.091229</td>\n",
       "      <td>0.088489</td>\n",
       "      <td>-0.106636</td>\n",
       "      <td>-0.388502</td>\n",
       "      <td>-0.010469</td>\n",
       "      <td>-0.109680</td>\n",
       "      <td>-0.346372</td>\n",
       "      <td>0.584131</td>\n",
       "      <td>...</td>\n",
       "      <td>-0.157832</td>\n",
       "      <td>-0.563437</td>\n",
       "      <td>-0.044344</td>\n",
       "      <td>-0.845268</td>\n",
       "      <td>-0.974650</td>\n",
       "      <td>-0.887846</td>\n",
       "      <td>-0.705029</td>\n",
       "      <td>0.264952</td>\n",
       "      <td>0.137758</td>\n",
       "      <td>17</td>\n",
       "    </tr>\n",
       "    <tr>\n",
       "      <th>...</th>\n",
       "      <td>...</td>\n",
       "      <td>...</td>\n",
       "      <td>...</td>\n",
       "      <td>...</td>\n",
       "      <td>...</td>\n",
       "      <td>...</td>\n",
       "      <td>...</td>\n",
       "      <td>...</td>\n",
       "      <td>...</td>\n",
       "      <td>...</td>\n",
       "      <td>...</td>\n",
       "      <td>...</td>\n",
       "      <td>...</td>\n",
       "      <td>...</td>\n",
       "      <td>...</td>\n",
       "      <td>...</td>\n",
       "      <td>...</td>\n",
       "      <td>...</td>\n",
       "      <td>...</td>\n",
       "      <td>...</td>\n",
       "      <td>...</td>\n",
       "    </tr>\n",
       "    <tr>\n",
       "      <th>5876</th>\n",
       "      <td>0.277194</td>\n",
       "      <td>-0.012389</td>\n",
       "      <td>-0.131974</td>\n",
       "      <td>-0.994046</td>\n",
       "      <td>-0.940578</td>\n",
       "      <td>-0.917337</td>\n",
       "      <td>-0.994261</td>\n",
       "      <td>-0.932830</td>\n",
       "      <td>-0.908088</td>\n",
       "      <td>-0.936219</td>\n",
       "      <td>...</td>\n",
       "      <td>-0.305772</td>\n",
       "      <td>-0.690363</td>\n",
       "      <td>-0.034888</td>\n",
       "      <td>-0.261437</td>\n",
       "      <td>-0.391477</td>\n",
       "      <td>-0.877612</td>\n",
       "      <td>-0.912365</td>\n",
       "      <td>0.114009</td>\n",
       "      <td>0.080146</td>\n",
       "      <td>21</td>\n",
       "    </tr>\n",
       "    <tr>\n",
       "      <th>5877</th>\n",
       "      <td>0.191568</td>\n",
       "      <td>0.013328</td>\n",
       "      <td>-0.105174</td>\n",
       "      <td>-0.126969</td>\n",
       "      <td>-0.121729</td>\n",
       "      <td>-0.327480</td>\n",
       "      <td>-0.192523</td>\n",
       "      <td>-0.109923</td>\n",
       "      <td>-0.295286</td>\n",
       "      <td>0.078644</td>\n",
       "      <td>...</td>\n",
       "      <td>-0.622617</td>\n",
       "      <td>-0.879215</td>\n",
       "      <td>0.721718</td>\n",
       "      <td>0.623151</td>\n",
       "      <td>0.866858</td>\n",
       "      <td>-0.445660</td>\n",
       "      <td>-0.690278</td>\n",
       "      <td>0.303194</td>\n",
       "      <td>-0.044188</td>\n",
       "      <td>15</td>\n",
       "    </tr>\n",
       "    <tr>\n",
       "      <th>5878</th>\n",
       "      <td>0.267981</td>\n",
       "      <td>-0.018348</td>\n",
       "      <td>-0.107440</td>\n",
       "      <td>-0.991303</td>\n",
       "      <td>-0.989881</td>\n",
       "      <td>-0.990313</td>\n",
       "      <td>-0.992386</td>\n",
       "      <td>-0.988852</td>\n",
       "      <td>-0.991237</td>\n",
       "      <td>-0.936099</td>\n",
       "      <td>...</td>\n",
       "      <td>-0.597610</td>\n",
       "      <td>-0.886851</td>\n",
       "      <td>0.060173</td>\n",
       "      <td>0.228739</td>\n",
       "      <td>0.684400</td>\n",
       "      <td>-0.216665</td>\n",
       "      <td>0.620363</td>\n",
       "      <td>-0.437247</td>\n",
       "      <td>-0.571840</td>\n",
       "      <td>19</td>\n",
       "    </tr>\n",
       "    <tr>\n",
       "      <th>5879</th>\n",
       "      <td>0.212787</td>\n",
       "      <td>-0.048130</td>\n",
       "      <td>-0.121001</td>\n",
       "      <td>-0.041373</td>\n",
       "      <td>0.052449</td>\n",
       "      <td>-0.585361</td>\n",
       "      <td>-0.100714</td>\n",
       "      <td>0.023353</td>\n",
       "      <td>-0.554707</td>\n",
       "      <td>0.219814</td>\n",
       "      <td>...</td>\n",
       "      <td>0.196921</td>\n",
       "      <td>-0.053556</td>\n",
       "      <td>0.260880</td>\n",
       "      <td>0.551742</td>\n",
       "      <td>-0.943773</td>\n",
       "      <td>-0.862899</td>\n",
       "      <td>-0.718009</td>\n",
       "      <td>0.292856</td>\n",
       "      <td>0.024920</td>\n",
       "      <td>6</td>\n",
       "    </tr>\n",
       "    <tr>\n",
       "      <th>5880</th>\n",
       "      <td>0.283815</td>\n",
       "      <td>-0.040658</td>\n",
       "      <td>-0.138018</td>\n",
       "      <td>-0.992662</td>\n",
       "      <td>-0.747190</td>\n",
       "      <td>-0.920248</td>\n",
       "      <td>-0.993410</td>\n",
       "      <td>-0.768055</td>\n",
       "      <td>-0.924587</td>\n",
       "      <td>-0.935871</td>\n",
       "      <td>...</td>\n",
       "      <td>-0.379740</td>\n",
       "      <td>-0.696584</td>\n",
       "      <td>0.107690</td>\n",
       "      <td>0.122242</td>\n",
       "      <td>-0.077226</td>\n",
       "      <td>-0.078091</td>\n",
       "      <td>-0.740244</td>\n",
       "      <td>0.008346</td>\n",
       "      <td>-0.146143</td>\n",
       "      <td>29</td>\n",
       "    </tr>\n",
       "  </tbody>\n",
       "</table>\n",
       "<p>5881 rows × 562 columns</p>\n",
       "</div>"
      ],
      "text/plain": [
       "      tBodyAcc-mean()-X  tBodyAcc-mean()-Y  tBodyAcc-mean()-Z  \\\n",
       "0              0.288508          -0.009196          -0.103362   \n",
       "1              0.265757          -0.016576          -0.098163   \n",
       "2              0.278709          -0.014511          -0.108717   \n",
       "3              0.289795          -0.035536          -0.150354   \n",
       "4              0.394807           0.034098           0.091229   \n",
       "...                 ...                ...                ...   \n",
       "5876           0.277194          -0.012389          -0.131974   \n",
       "5877           0.191568           0.013328          -0.105174   \n",
       "5878           0.267981          -0.018348          -0.107440   \n",
       "5879           0.212787          -0.048130          -0.121001   \n",
       "5880           0.283815          -0.040658          -0.138018   \n",
       "\n",
       "      tBodyAcc-std()-X  tBodyAcc-std()-Y  tBodyAcc-std()-Z  tBodyAcc-mad()-X  \\\n",
       "0            -0.988986         -0.962797         -0.967422         -0.989000   \n",
       "1            -0.989551         -0.994636         -0.987435         -0.990189   \n",
       "2            -0.997720         -0.981088         -0.994008         -0.997934   \n",
       "3            -0.231727         -0.006412         -0.338117         -0.273557   \n",
       "4             0.088489         -0.106636         -0.388502         -0.010469   \n",
       "...                ...               ...               ...               ...   \n",
       "5876         -0.994046         -0.940578         -0.917337         -0.994261   \n",
       "5877         -0.126969         -0.121729         -0.327480         -0.192523   \n",
       "5878         -0.991303         -0.989881         -0.990313         -0.992386   \n",
       "5879         -0.041373          0.052449         -0.585361         -0.100714   \n",
       "5880         -0.992662         -0.747190         -0.920248         -0.993410   \n",
       "\n",
       "      tBodyAcc-mad()-Y  tBodyAcc-mad()-Z  tBodyAcc-max()-X  ...  \\\n",
       "0            -0.962596         -0.965650         -0.929747  ...   \n",
       "1            -0.993870         -0.987558         -0.937337  ...   \n",
       "2            -0.982187         -0.995017         -0.942584  ...   \n",
       "3             0.014245         -0.347916          0.008288  ...   \n",
       "4            -0.109680         -0.346372          0.584131  ...   \n",
       "...                ...               ...               ...  ...   \n",
       "5876         -0.932830         -0.908088         -0.936219  ...   \n",
       "5877         -0.109923         -0.295286          0.078644  ...   \n",
       "5878         -0.988852         -0.991237         -0.936099  ...   \n",
       "5879          0.023353         -0.554707          0.219814  ...   \n",
       "5880         -0.768055         -0.924587         -0.935871  ...   \n",
       "\n",
       "      fBodyBodyGyroJerkMag-skewness()  fBodyBodyGyroJerkMag-kurtosis()  \\\n",
       "0                           -0.487737                        -0.816696   \n",
       "1                           -0.237820                        -0.693515   \n",
       "2                           -0.535287                        -0.829311   \n",
       "3                           -0.004012                        -0.408956   \n",
       "4                           -0.157832                        -0.563437   \n",
       "...                               ...                              ...   \n",
       "5876                        -0.305772                        -0.690363   \n",
       "5877                        -0.622617                        -0.879215   \n",
       "5878                        -0.597610                        -0.886851   \n",
       "5879                         0.196921                        -0.053556   \n",
       "5880                        -0.379740                        -0.696584   \n",
       "\n",
       "      angle(tBodyAccMean,gravity)  angle(tBodyAccJerkMean),gravityMean)  \\\n",
       "0                       -0.042494                             -0.044218   \n",
       "1                       -0.062899                              0.388459   \n",
       "2                        0.000265                             -0.525022   \n",
       "3                       -0.255125                              0.612804   \n",
       "4                       -0.044344                             -0.845268   \n",
       "...                           ...                                   ...   \n",
       "5876                    -0.034888                             -0.261437   \n",
       "5877                     0.721718                              0.623151   \n",
       "5878                     0.060173                              0.228739   \n",
       "5879                     0.260880                              0.551742   \n",
       "5880                     0.107690                              0.122242   \n",
       "\n",
       "      angle(tBodyGyroMean,gravityMean)  angle(tBodyGyroJerkMean,gravityMean)  \\\n",
       "0                             0.307873                              0.072790   \n",
       "1                            -0.765014                              0.771524   \n",
       "2                            -0.891875                              0.021528   \n",
       "3                             0.747381                             -0.072944   \n",
       "4                            -0.974650                             -0.887846   \n",
       "...                                ...                                   ...   \n",
       "5876                         -0.391477                             -0.877612   \n",
       "5877                          0.866858                             -0.445660   \n",
       "5878                          0.684400                             -0.216665   \n",
       "5879                         -0.943773                             -0.862899   \n",
       "5880                         -0.077226                             -0.078091   \n",
       "\n",
       "      angle(X,gravityMean)  angle(Y,gravityMean)  angle(Z,gravityMean)  \\\n",
       "0                -0.601120              0.331298              0.165163   \n",
       "1                 0.345205             -0.769186             -0.147944   \n",
       "2                -0.833564              0.202434             -0.032755   \n",
       "3                -0.695819              0.287154              0.111388   \n",
       "4                -0.705029              0.264952              0.137758   \n",
       "...                    ...                   ...                   ...   \n",
       "5876             -0.912365              0.114009              0.080146   \n",
       "5877             -0.690278              0.303194             -0.044188   \n",
       "5878              0.620363             -0.437247             -0.571840   \n",
       "5879             -0.718009              0.292856              0.024920   \n",
       "5880             -0.740244              0.008346             -0.146143   \n",
       "\n",
       "      subject  \n",
       "0          21  \n",
       "1          15  \n",
       "2          11  \n",
       "3          17  \n",
       "4          17  \n",
       "...       ...  \n",
       "5876       21  \n",
       "5877       15  \n",
       "5878       19  \n",
       "5879        6  \n",
       "5880       29  \n",
       "\n",
       "[5881 rows x 562 columns]"
      ]
     },
     "metadata": {},
     "output_type": "display_data"
    },
    {
     "data": {
      "text/plain": [
       "0                 STANDING\n",
       "1                   LAYING\n",
       "2                 STANDING\n",
       "3                  WALKING\n",
       "4       WALKING_DOWNSTAIRS\n",
       "               ...        \n",
       "5876               SITTING\n",
       "5877      WALKING_UPSTAIRS\n",
       "5878                LAYING\n",
       "5879      WALKING_UPSTAIRS\n",
       "5880               SITTING\n",
       "Name: Activity, Length: 5881, dtype: object"
      ]
     },
     "metadata": {},
     "output_type": "display_data"
    }
   ],
   "source": [
    "display(x)\n",
    "display(y)"
   ]
  },
  {
   "cell_type": "markdown",
   "metadata": {},
   "source": [
    "##### < svc_model > AI 모델링"
   ]
  },
  {
   "cell_type": "markdown",
   "metadata": {},
   "source": [
    "##### < svc_pred > 예측값"
   ]
  },
  {
   "cell_type": "code",
   "execution_count": 11,
   "metadata": {
    "tags": []
   },
   "outputs": [
    {
     "data": {
      "text/plain": [
       "array(['WALKING', 'STANDING', 'LAYING', ..., 'WALKING', 'WALKING',\n",
       "       'LAYING'], dtype=object)"
      ]
     },
     "execution_count": 11,
     "metadata": {},
     "output_type": "execute_result"
    }
   ],
   "source": [
    "# AI 모델링\n",
    "## SVC 알고리즘 사용하여 svc_model 변수에 모델을 생성 및 초기화 합니다.\n",
    "## 이때 random_state 는 2023 으로 설정해 주세요.\n",
    "## 모델이 생성되면 x_train, y_train 으로 모델을 학습시켜 줍니다.\n",
    "## 모델 학습이 완료되면 x_val의 결과를 예측하고 출력 합니다.\n",
    "svc_model = SVC()\n",
    "svc_model.fit(x_train, y_train)\n",
    "svc_pred = svc_model.predict(x_val )\n",
    "svc_pred"
   ]
  },
  {
   "cell_type": "code",
   "execution_count": 12,
   "metadata": {
    "tags": []
   },
   "outputs": [
    {
     "name": "stdout",
     "output_type": "stream",
     "text": [
      "accuracy_score: 0.9427762039660057\n",
      "confusion_matrix:\n",
      " [[354   0   0   0   0   0]\n",
      " [  1 273  54   0   0   0]\n",
      " [  0  30 296   0   0   0]\n",
      " [  0   0   0 269   0   2]\n",
      " [  0   0   0   2 223   7]\n",
      " [  0   0   0   4   1 249]]\n",
      "classification_report:\n",
      "                     precision    recall  f1-score   support\n",
      "\n",
      "            LAYING       1.00      1.00      1.00       354\n",
      "           SITTING       0.90      0.83      0.87       328\n",
      "          STANDING       0.85      0.91      0.88       326\n",
      "           WALKING       0.98      0.99      0.99       271\n",
      "WALKING_DOWNSTAIRS       1.00      0.96      0.98       232\n",
      "  WALKING_UPSTAIRS       0.97      0.98      0.97       254\n",
      "\n",
      "          accuracy                           0.94      1765\n",
      "         macro avg       0.95      0.95      0.95      1765\n",
      "      weighted avg       0.94      0.94      0.94      1765\n",
      "\n"
     ]
    }
   ],
   "source": [
    "# SVC 모델 성능 평가 하기(accuracy_score, confusion_matrix, classification_report)\n",
    "## 모델이 결과를 잘 예측하였는지 3가지 성능지표로 결과를 평가 합니다.\n",
    "## 3가지 성능지표: accuracy_score, confusion_matrix, classification_report\n",
    "print(\"accuracy_score:\", accuracy_score(y_val, svc_pred))\n",
    "print(\"confusion_matrix:\\n\", confusion_matrix(y_val, svc_pred))\n",
    "print(\"classification_report:\\n\", classification_report(y_val, svc_pred))"
   ]
  },
  {
   "cell_type": "code",
   "execution_count": 13,
   "metadata": {
    "tags": []
   },
   "outputs": [
    {
     "data": {
      "text/html": [
       "<div>\n",
       "<style scoped>\n",
       "    .dataframe tbody tr th:only-of-type {\n",
       "        vertical-align: middle;\n",
       "    }\n",
       "\n",
       "    .dataframe tbody tr th {\n",
       "        vertical-align: top;\n",
       "    }\n",
       "\n",
       "    .dataframe thead th {\n",
       "        text-align: right;\n",
       "    }\n",
       "</style>\n",
       "<table border=\"1\" class=\"dataframe\">\n",
       "  <thead>\n",
       "    <tr style=\"text-align: right;\">\n",
       "      <th></th>\n",
       "      <th>model_name</th>\n",
       "      <th>valid_data</th>\n",
       "      <th>accuracy_score</th>\n",
       "      <th>f1_score</th>\n",
       "    </tr>\n",
       "  </thead>\n",
       "  <tbody>\n",
       "    <tr>\n",
       "      <th>0</th>\n",
       "      <td>svc</td>\n",
       "      <td>train</td>\n",
       "      <td>0.942776</td>\n",
       "      <td>0.945949</td>\n",
       "    </tr>\n",
       "  </tbody>\n",
       "</table>\n",
       "</div>"
      ],
      "text/plain": [
       "  model_name valid_data  accuracy_score  f1_score\n",
       "0        svc      train        0.942776  0.945949"
      ]
     },
     "execution_count": 13,
     "metadata": {},
     "output_type": "execute_result"
    }
   ],
   "source": [
    "# SVC 예측결과 저장\n",
    "## result 데이터프레임 0번 인덱스의 각 열에 SVC 예측결과인 'svc'(모델명), 'train'(검증 데이터명), accuracy_score 결과, f1_score 결과를 할당해 주세요.\n",
    "## 데이터프레임의 특정 행(인덱스)에 데이터를 삽입 하려면 .loc[인덱스] 매서드를 사용합니다.\n",
    "## f1_score의 평균은 'macro' 파라미터를 사용 합니다.\n",
    "## 예측 결과가 잘 할당 되었는지 확인해 주세요.\n",
    "result.loc[0] = ['svc', 'train', accuracy_score(y_val, svc_pred), f1_score(y_val, svc_pred, average = 'macro')]\n",
    "result"
   ]
  },
  {
   "cell_type": "markdown",
   "metadata": {},
   "source": [
    "* #### Logistic Regression 모델링"
   ]
  },
  {
   "cell_type": "code",
   "execution_count": 14,
   "metadata": {},
   "outputs": [],
   "source": [
    "# LogisticRegression 라이브러리 설치(scikit-learn에 포함)\n",
    "#!pip install scikit-learn"
   ]
  },
  {
   "cell_type": "code",
   "execution_count": 15,
   "metadata": {
    "tags": []
   },
   "outputs": [],
   "source": [
    "# LogisticRegression 알고리즘 모듈 호출\n",
    "## 분류 모델 생성을 위해 sklearn.linear_model 라이브러리의 LogisticRegression 알고리즘 호출 합니다.\n",
    "from sklearn.linear_model import LogisticRegression"
   ]
  },
  {
   "cell_type": "markdown",
   "metadata": {},
   "source": [
    "##### < If_model > LogisticRegression() 할당"
   ]
  },
  {
   "cell_type": "code",
   "execution_count": 16,
   "metadata": {
    "tags": []
   },
   "outputs": [],
   "source": [
    "from sklearn.linear_model import LogisticRegression"
   ]
  },
  {
   "cell_type": "markdown",
   "metadata": {},
   "source": [
    "##### < Ir_pred > LogisticRegression 예측값 할당"
   ]
  },
  {
   "cell_type": "code",
   "execution_count": 17,
   "metadata": {
    "tags": []
   },
   "outputs": [
    {
     "name": "stderr",
     "output_type": "stream",
     "text": [
      "C:\\Users\\user\\anaconda3\\Lib\\site-packages\\sklearn\\linear_model\\_logistic.py:458: ConvergenceWarning: lbfgs failed to converge (status=1):\n",
      "STOP: TOTAL NO. of ITERATIONS REACHED LIMIT.\n",
      "\n",
      "Increase the number of iterations (max_iter) or scale the data as shown in:\n",
      "    https://scikit-learn.org/stable/modules/preprocessing.html\n",
      "Please also refer to the documentation for alternative solver options:\n",
      "    https://scikit-learn.org/stable/modules/linear_model.html#logistic-regression\n",
      "  n_iter_i = _check_optimize_result(\n"
     ]
    },
    {
     "data": {
      "text/plain": [
       "array(['WALKING', 'STANDING', 'LAYING', ..., 'WALKING', 'WALKING',\n",
       "       'LAYING'], dtype=object)"
      ]
     },
     "execution_count": 17,
     "metadata": {},
     "output_type": "execute_result"
    }
   ],
   "source": [
    "# AI 모델링\n",
    "## LogisticRegression 사용하여 lr_model 변수에 모델을 생성 및 초기화 합니다.\n",
    "## 이때 random_state 는 2023 으로 설정해 주세요.\n",
    "## 모델이 생성되면 x_train, y_train 으로 모델을 학습시켜 줍니다.\n",
    "## 모델 학습이 완료되면 x_val의 결과를 예측하고 출력 합니다.\n",
    "lr_model = LogisticRegression()\n",
    "lr_model.fit(x_train, y_train)\n",
    "lr_pred = lr_model.predict(x_val)\n",
    "lr_pred"
   ]
  },
  {
   "cell_type": "code",
   "execution_count": 18,
   "metadata": {
    "tags": []
   },
   "outputs": [
    {
     "name": "stdout",
     "output_type": "stream",
     "text": [
      "accuracy_score: 0.9801699716713881\n",
      "confusion_matrix:\n",
      " [[353   0   0   0   0   1]\n",
      " [  0 315  13   0   0   0]\n",
      " [  0  16 309   1   0   0]\n",
      " [  0   0   0 270   0   1]\n",
      " [  0   0   0   0 231   1]\n",
      " [  0   0   0   2   0 252]]\n",
      "classification:\n",
      "                     precision    recall  f1-score   support\n",
      "\n",
      "            LAYING       1.00      1.00      1.00       354\n",
      "           SITTING       0.95      0.96      0.96       328\n",
      "          STANDING       0.96      0.95      0.95       326\n",
      "           WALKING       0.99      1.00      0.99       271\n",
      "WALKING_DOWNSTAIRS       1.00      1.00      1.00       232\n",
      "  WALKING_UPSTAIRS       0.99      0.99      0.99       254\n",
      "\n",
      "          accuracy                           0.98      1765\n",
      "         macro avg       0.98      0.98      0.98      1765\n",
      "      weighted avg       0.98      0.98      0.98      1765\n",
      "\n"
     ]
    }
   ],
   "source": [
    "# LogisticRegression 모델 성능 평가 하기\n",
    "## 모델이 결과를 잘 예측하였는지 3가지 성능지표로 결과를 평가 합니다.\n",
    "## 3가지 성능지표: accuracy_score, confusion_matrix, classification_report\n",
    "print('accuracy_score:', accuracy_score(y_val, lr_pred))\n",
    "print('confusion_matrix:\\n', confusion_matrix(y_val, lr_pred))\n",
    "print('classification:\\n', classification_report(y_val, lr_pred))"
   ]
  },
  {
   "cell_type": "code",
   "execution_count": 19,
   "metadata": {
    "tags": []
   },
   "outputs": [
    {
     "data": {
      "text/html": [
       "<div>\n",
       "<style scoped>\n",
       "    .dataframe tbody tr th:only-of-type {\n",
       "        vertical-align: middle;\n",
       "    }\n",
       "\n",
       "    .dataframe tbody tr th {\n",
       "        vertical-align: top;\n",
       "    }\n",
       "\n",
       "    .dataframe thead th {\n",
       "        text-align: right;\n",
       "    }\n",
       "</style>\n",
       "<table border=\"1\" class=\"dataframe\">\n",
       "  <thead>\n",
       "    <tr style=\"text-align: right;\">\n",
       "      <th></th>\n",
       "      <th>model_name</th>\n",
       "      <th>valid_data</th>\n",
       "      <th>accuracy_score</th>\n",
       "      <th>f1_score</th>\n",
       "    </tr>\n",
       "  </thead>\n",
       "  <tbody>\n",
       "    <tr>\n",
       "      <th>0</th>\n",
       "      <td>svc</td>\n",
       "      <td>train</td>\n",
       "      <td>0.942776</td>\n",
       "      <td>0.945949</td>\n",
       "    </tr>\n",
       "    <tr>\n",
       "      <th>1</th>\n",
       "      <td>lr</td>\n",
       "      <td>train</td>\n",
       "      <td>0.980170</td>\n",
       "      <td>0.981491</td>\n",
       "    </tr>\n",
       "  </tbody>\n",
       "</table>\n",
       "</div>"
      ],
      "text/plain": [
       "  model_name valid_data  accuracy_score  f1_score\n",
       "0        svc      train        0.942776  0.945949\n",
       "1         lr      train        0.980170  0.981491"
      ]
     },
     "execution_count": 19,
     "metadata": {},
     "output_type": "execute_result"
    }
   ],
   "source": [
    "# LogisticRegression 예측결과 저장\n",
    "## result 데이터프레임 1번 인덱스의 각 열에 LogisticRegression 예측결과인 'lr'(모델명), 'train'(검증 데이터명), accuracy_score 결과, f1_score 결과를 할당해 주세요.\n",
    "## 데이터프레임의 특정 행(인덱스)에 데이터를 삽입 하려면 .loc[인덱스] 매서드를 사용합니다.\n",
    "## f1_score의 평균은 'macro' 파라미터를 사용 합니다.\n",
    "## 예측 결과가 잘 할당 되었는지 확인해 주세요.\n",
    "result.loc[1] = ['lr','train',accuracy_score(y_val, lr_pred), f1_score(y_val, lr_pred, average='macro')]\n",
    "result"
   ]
  },
  {
   "cell_type": "markdown",
   "metadata": {},
   "source": [
    "* #### KNN(K-Nearest Neighbors) 모델링"
   ]
  },
  {
   "cell_type": "code",
   "execution_count": 20,
   "metadata": {},
   "outputs": [],
   "source": [
    "# NeighborsClassifier 라이브러리 설치(scikit-learn에 포함)\n",
    "#!pip install scikit-learn"
   ]
  },
  {
   "cell_type": "code",
   "execution_count": 21,
   "metadata": {
    "tags": []
   },
   "outputs": [],
   "source": [
    "# AI 모델링 필요 모듈 추가\n",
    "# NeighborsClassifier 알고리즘 사용을 위해 라이브러리를 호출 합니다.\n",
    "from sklearn.neighbors import KNeighborsClassifier"
   ]
  },
  {
   "cell_type": "markdown",
   "metadata": {},
   "source": [
    "##### < knn_model > KNeighborsClassifier() 할당"
   ]
  },
  {
   "cell_type": "markdown",
   "metadata": {
    "tags": []
   },
   "source": [
    "##### < knn_pred > KNeighborsClassifier() 예측값 할당"
   ]
  },
  {
   "cell_type": "code",
   "execution_count": 22,
   "metadata": {
    "tags": []
   },
   "outputs": [
    {
     "data": {
      "text/plain": [
       "array(['WALKING', 'STANDING', 'LAYING', ..., 'WALKING', 'WALKING',\n",
       "       'LAYING'], dtype=object)"
      ]
     },
     "execution_count": 22,
     "metadata": {},
     "output_type": "execute_result"
    }
   ],
   "source": [
    "# AI 모델링\n",
    "\n",
    "## KNeighborsClassifier 함수를 사용하여 knn_model 변수에 모델을 생성 및 초기화 합니다.\n",
    "\n",
    "## 이때 n_neighbors=3 으로 설정해 주세요.\n",
    "\n",
    "## 모델이 생성되면 x_train, y_train 으로 모델을 학습시켜 줍니다.\n",
    "\n",
    "## 모델 학습이 완료되면 x_val의 결과를 예측하고 출력 합니다.\n",
    "\n",
    "## knn 모델 초기화,학습,예측(파라미터: n_neighbors=3, random_state=2023)\n",
    "\n",
    "## AI모델 변수명: knn_model , 예측결과 변수명: knn_pred\n",
    "\n",
    "## predict 과정에서 아래의 에러가 날 경우 예측 데이터를 np.array 데이터 형식으로 바꾸어서 진행 보세요.\n",
    "\n",
    "## 에러 메세지: 'Flags' object has no attribute 'c_contiguous'\n",
    "\n",
    "## 해결 방법: predict(x_val) -> predict(np.array(x_val)) \n",
    "\n",
    "knn_model = KNeighborsClassifier(n_neighbors=3)\n",
    "\n",
    "knn_model.fit(x_train, y_train)\n",
    "\n",
    "knn_pred = knn_model.predict(x_val)\n",
    "\n",
    "knn_pred"
   ]
  },
  {
   "cell_type": "code",
   "execution_count": 23,
   "metadata": {
    "tags": []
   },
   "outputs": [
    {
     "name": "stdout",
     "output_type": "stream",
     "text": [
      "accuracy_score: 0.9609065155807366\n",
      "confusion_matrix:\n",
      " [[354   0   0   0   0   0]\n",
      " [  0 283  19   0   0   0]\n",
      " [  0  45 307   0   0   0]\n",
      " [  0   0   0 271   5   0]\n",
      " [  0   0   0   0 227   0]\n",
      " [  0   0   0   0   0 254]]\n",
      "classification_report:\n",
      "                     precision    recall  f1-score   support\n",
      "\n",
      "            LAYING       1.00      1.00      1.00       354\n",
      "           SITTING       0.86      0.94      0.90       302\n",
      "          STANDING       0.94      0.87      0.91       352\n",
      "           WALKING       1.00      0.98      0.99       276\n",
      "WALKING_DOWNSTAIRS       0.98      1.00      0.99       227\n",
      "  WALKING_UPSTAIRS       1.00      1.00      1.00       254\n",
      "\n",
      "          accuracy                           0.96      1765\n",
      "         macro avg       0.96      0.97      0.96      1765\n",
      "      weighted avg       0.96      0.96      0.96      1765\n",
      "\n"
     ]
    }
   ],
   "source": [
    "# KNN 모델 성능 평가 하기\n",
    "## 모델이 결과를 잘 예측하였는지 3가지 성능지표로 결과를 평가 합니다.\n",
    "## 3가지 성능지표: accuracy_score, confusion_matrix, classification_report\n",
    "print(\"accuracy_score:\", accuracy_score(knn_pred, y_val))\n",
    "print(\"confusion_matrix:\\n\", confusion_matrix(knn_pred, y_val))\n",
    "print(\"classification_report:\\n\", classification_report(knn_pred, y_val))"
   ]
  },
  {
   "cell_type": "markdown",
   "metadata": {},
   "source": [
    "##### < result >에 knn 성능 지표 할당"
   ]
  },
  {
   "cell_type": "code",
   "execution_count": 24,
   "metadata": {
    "tags": []
   },
   "outputs": [
    {
     "data": {
      "text/html": [
       "<div>\n",
       "<style scoped>\n",
       "    .dataframe tbody tr th:only-of-type {\n",
       "        vertical-align: middle;\n",
       "    }\n",
       "\n",
       "    .dataframe tbody tr th {\n",
       "        vertical-align: top;\n",
       "    }\n",
       "\n",
       "    .dataframe thead th {\n",
       "        text-align: right;\n",
       "    }\n",
       "</style>\n",
       "<table border=\"1\" class=\"dataframe\">\n",
       "  <thead>\n",
       "    <tr style=\"text-align: right;\">\n",
       "      <th></th>\n",
       "      <th>model_name</th>\n",
       "      <th>valid_data</th>\n",
       "      <th>accuracy_score</th>\n",
       "      <th>f1_score</th>\n",
       "    </tr>\n",
       "  </thead>\n",
       "  <tbody>\n",
       "    <tr>\n",
       "      <th>0</th>\n",
       "      <td>svc</td>\n",
       "      <td>train</td>\n",
       "      <td>0.942776</td>\n",
       "      <td>0.945949</td>\n",
       "    </tr>\n",
       "    <tr>\n",
       "      <th>1</th>\n",
       "      <td>lr</td>\n",
       "      <td>train</td>\n",
       "      <td>0.980170</td>\n",
       "      <td>0.981491</td>\n",
       "    </tr>\n",
       "    <tr>\n",
       "      <th>2</th>\n",
       "      <td>knn</td>\n",
       "      <td>train</td>\n",
       "      <td>0.942776</td>\n",
       "      <td>0.963997</td>\n",
       "    </tr>\n",
       "  </tbody>\n",
       "</table>\n",
       "</div>"
      ],
      "text/plain": [
       "  model_name valid_data  accuracy_score  f1_score\n",
       "0        svc      train        0.942776  0.945949\n",
       "1         lr      train        0.980170  0.981491\n",
       "2        knn      train        0.942776  0.963997"
      ]
     },
     "execution_count": 24,
     "metadata": {},
     "output_type": "execute_result"
    }
   ],
   "source": [
    "# KNeighborsClassifier 예측결과 저장\n",
    "## result 데이터프레임 2번 인덱스의 각 열에 KNeighborsClassifier 예측결과인 'knn'(모델명), 'train'(검증 데이터명), accuracy_score 결과, f1_score 결과를 할당해 주세요.\n",
    "## 데이터프레임의 특정 행(인덱스)에 데이터를 삽입 하려면 .loc[인덱스] 매서드를 사용합니다.\n",
    "## f1_score의 평균은 'macro' 파라미터를 사용 합니다.\n",
    "## 예측 결과가 잘 할당 되었는지 확인해 주세요.\n",
    "result.loc[2] = ['knn','train', accuracy_score(y_val, svc_pred), f1_score(y_val, knn_pred, average='macro')]\n",
    "result"
   ]
  },
  {
   "cell_type": "markdown",
   "metadata": {},
   "source": [
    "* ### GBM(Gradient Boosting Machine) 모델링"
   ]
  },
  {
   "cell_type": "code",
   "execution_count": 25,
   "metadata": {
    "tags": []
   },
   "outputs": [],
   "source": [
    "# GBM 라이브러리 설치(scikit-learn에 포함)\n",
    "#!pip install scikit-learn"
   ]
  },
  {
   "cell_type": "code",
   "execution_count": 26,
   "metadata": {
    "tags": []
   },
   "outputs": [],
   "source": [
    "# GradientBoostingClassifier 알고리즘 사용을 위한 모듈 추가\n",
    "from sklearn.ensemble import GradientBoostingClassifier"
   ]
  },
  {
   "cell_type": "markdown",
   "metadata": {},
   "source": [
    "##### < gbc_model >에 GradientBoostingClassifier() 할당\n",
    "##### < gbc_pred >에 예측값 할당"
   ]
  },
  {
   "cell_type": "code",
   "execution_count": 27,
   "metadata": {
    "tags": []
   },
   "outputs": [
    {
     "data": {
      "text/plain": [
       "array(['WALKING', 'STANDING', 'LAYING', ..., 'WALKING', 'WALKING',\n",
       "       'LAYING'], dtype=object)"
      ]
     },
     "execution_count": 27,
     "metadata": {},
     "output_type": "execute_result"
    }
   ],
   "source": [
    "# AI 모델링\n",
    "## GradientBoostingClassifier 함수를 사용하여 gbc_model 변수에 모델을 생성 및 초기화 합니다.\n",
    "## 이때 random_state 는 2023 으로 설정해 주세요.\n",
    "## 모델이 생성되면 x_train, y_train 으로 모델을 학습시켜 줍니다.\n",
    "## 모델 학습이 완료되면 x_val의 결과를 예측하고 출력 합니다.\n",
    "## GradientBoosting 모델 학습은 실습 노트북 기준 약 20분정도 소요 됩니다.(돌려 놓고 티타임~)\n",
    "gbc_model = GradientBoostingClassifier()\n",
    "gbc_model.fit(x_train, y_train)\n",
    "gbc_pred = gbc_model.predict(x_val)\n",
    "gbc_pred"
   ]
  },
  {
   "cell_type": "code",
   "execution_count": 28,
   "metadata": {
    "tags": []
   },
   "outputs": [
    {
     "name": "stdout",
     "output_type": "stream",
     "text": [
      "accuracy_score: 0.9807365439093484\n",
      "confusion_matrix:\n",
      " [[354   0   0   0   0   0]\n",
      " [  0 310  18   0   0   0]\n",
      " [  0  13 313   0   0   0]\n",
      " [  0   1   1 269   0   0]\n",
      " [  0   0   0   1 231   0]\n",
      " [  0   0   0   0   0 254]]\n",
      "classification_report:\n",
      "                     precision    recall  f1-score   support\n",
      "\n",
      "            LAYING       1.00      1.00      1.00       354\n",
      "           SITTING       0.96      0.95      0.95       328\n",
      "          STANDING       0.94      0.96      0.95       326\n",
      "           WALKING       1.00      0.99      0.99       271\n",
      "WALKING_DOWNSTAIRS       1.00      1.00      1.00       232\n",
      "  WALKING_UPSTAIRS       1.00      1.00      1.00       254\n",
      "\n",
      "          accuracy                           0.98      1765\n",
      "         macro avg       0.98      0.98      0.98      1765\n",
      "      weighted avg       0.98      0.98      0.98      1765\n",
      "\n"
     ]
    }
   ],
   "source": [
    "# GBM(GBC) 모델 성능 평가 하기\n",
    "## 모델이 결과를 잘 예측하였는지 3가지 성능지표로 결과를 평가 합니다.\n",
    "## 3가지 성능지표: accuracy_score, confusion_matrix, classification_report\n",
    "print(\"accuracy_score:\",accuracy_score(y_val, gbc_pred))\n",
    "print(\"confusion_matrix:\\n\",confusion_matrix(y_val, gbc_pred))\n",
    "print(\"classification_report:\\n\",classification_report(y_val, gbc_pred))"
   ]
  },
  {
   "cell_type": "markdown",
   "metadata": {},
   "source": [
    "##### result에 gbc 성능 지표 할당"
   ]
  },
  {
   "cell_type": "code",
   "execution_count": 37,
   "metadata": {
    "tags": []
   },
   "outputs": [
    {
     "data": {
      "text/html": [
       "<div>\n",
       "<style scoped>\n",
       "    .dataframe tbody tr th:only-of-type {\n",
       "        vertical-align: middle;\n",
       "    }\n",
       "\n",
       "    .dataframe tbody tr th {\n",
       "        vertical-align: top;\n",
       "    }\n",
       "\n",
       "    .dataframe thead th {\n",
       "        text-align: right;\n",
       "    }\n",
       "</style>\n",
       "<table border=\"1\" class=\"dataframe\">\n",
       "  <thead>\n",
       "    <tr style=\"text-align: right;\">\n",
       "      <th></th>\n",
       "      <th>model_name</th>\n",
       "      <th>valid_data</th>\n",
       "      <th>accuracy_score</th>\n",
       "      <th>f1_score</th>\n",
       "    </tr>\n",
       "  </thead>\n",
       "  <tbody>\n",
       "    <tr>\n",
       "      <th>0</th>\n",
       "      <td>svc</td>\n",
       "      <td>train</td>\n",
       "      <td>0.942776</td>\n",
       "      <td>0.945949</td>\n",
       "    </tr>\n",
       "    <tr>\n",
       "      <th>1</th>\n",
       "      <td>lr</td>\n",
       "      <td>train</td>\n",
       "      <td>0.980170</td>\n",
       "      <td>0.981491</td>\n",
       "    </tr>\n",
       "    <tr>\n",
       "      <th>2</th>\n",
       "      <td>knn</td>\n",
       "      <td>train</td>\n",
       "      <td>0.942776</td>\n",
       "      <td>0.963997</td>\n",
       "    </tr>\n",
       "    <tr>\n",
       "      <th>3</th>\n",
       "      <td>gbc</td>\n",
       "      <td>train</td>\n",
       "      <td>0.980737</td>\n",
       "      <td>0.982430</td>\n",
       "    </tr>\n",
       "    <tr>\n",
       "      <th>4</th>\n",
       "      <td>xgb</td>\n",
       "      <td>train</td>\n",
       "      <td>0.987535</td>\n",
       "      <td>0.988406</td>\n",
       "    </tr>\n",
       "  </tbody>\n",
       "</table>\n",
       "</div>"
      ],
      "text/plain": [
       "  model_name valid_data  accuracy_score  f1_score\n",
       "0        svc      train        0.942776  0.945949\n",
       "1         lr      train        0.980170  0.981491\n",
       "2        knn      train        0.942776  0.963997\n",
       "3        gbc      train        0.980737  0.982430\n",
       "4        xgb      train        0.987535  0.988406"
      ]
     },
     "execution_count": 37,
     "metadata": {},
     "output_type": "execute_result"
    }
   ],
   "source": [
    "# GradientBoostingClassifier 예측결과 저장\n",
    "## result 데이터프레임 3번 인덱스의 열에 GradientBoostingClassifier 예측결과인 'gbc'(모델명), 'train'(검증 데이터명), accuracy_score 결과, f1_score 결과를 할당해 주세요.\n",
    "## 데이터프레임의 특정 행(인덱스)에 데이터를 삽입 하려면 .loc[인덱스] 매서드를 사용합니다.\n",
    "## f1_score의 평균은 'macro' 파라미터를 사용 합니다.\n",
    "## 예측 결과가 잘 할당 되었는지 확인해 주세요.\n",
    "result.loc[3] = [\"gbc\",\"train\",accuracy_score(y_val, gbc_pred), f1_score(y_val, gbc_pred,average='macro')]\n",
    "result"
   ]
  },
  {
   "cell_type": "markdown",
   "metadata": {},
   "source": [
    "* ### XGBoost(eXtreme Gradient Boosting) 모델링"
   ]
  },
  {
   "cell_type": "code",
   "execution_count": 30,
   "metadata": {
    "tags": []
   },
   "outputs": [
    {
     "name": "stdout",
     "output_type": "stream",
     "text": [
      "Requirement already satisfied: xgboost in c:\\users\\user\\anaconda3\\lib\\site-packages (2.0.0)\n",
      "Requirement already satisfied: numpy in c:\\users\\user\\anaconda3\\lib\\site-packages (from xgboost) (1.25.0)\n",
      "Requirement already satisfied: scipy in c:\\users\\user\\anaconda3\\lib\\site-packages (from xgboost) (1.11.1)\n"
     ]
    }
   ],
   "source": [
    "# XGBClassifier 사용을 위한 xgboost 라이브러리 설치\n",
    "#!pip install xgboost\n",
    "!pip install xgboost"
   ]
  },
  {
   "cell_type": "code",
   "execution_count": 31,
   "metadata": {
    "tags": []
   },
   "outputs": [],
   "source": [
    "# XGBClassifier 알고리즘 사용을 위한 모듈 추가\n",
    "from xgboost import XGBClassifier"
   ]
  },
  {
   "cell_type": "code",
   "execution_count": 32,
   "metadata": {
    "tags": []
   },
   "outputs": [
    {
     "data": {
      "text/plain": [
       "5574    3\n",
       "2078    0\n",
       "1579    2\n",
       "4585    1\n",
       "5384    2\n",
       "       ..\n",
       "4461    1\n",
       "1671    0\n",
       "264     3\n",
       "3538    3\n",
       "4559    2\n",
       "Name: Activity, Length: 1765, dtype: int64"
      ]
     },
     "execution_count": 32,
     "metadata": {},
     "output_type": "execute_result"
    }
   ],
   "source": [
    "# target 값 변경\n",
    "## XGBoost 는 문자형 데이터로 학습할 수 없습니다. \n",
    "## target 데이터인 y_trian과 y_val 변수를 숫자형 형태로 치환하여 각각 y_train_map, y_val_map 변수에 할당해 주세요.\n",
    "## 데이터 치환 함수: map\n",
    "## 치환 데이터: 'STANDING':0, 'SITTING':1, 'LAYING':2, 'WALKING':3, 'WALKING_UPSTAIRS':4, 'WALKING_DOWNSTAIRS':5\n",
    "y_train_map = y_train.map({'STANDING':0, 'SITTING':1, 'LAYING':2, 'WALKING':3, 'WALKING_UPSTAIRS':4, 'WALKING_DOWNSTAIRS':5})\n",
    "y_val_map = y_val.map({'STANDING':0, 'SITTING':1, 'LAYING':2, 'WALKING':3, 'WALKING_UPSTAIRS':4, 'WALKING_DOWNSTAIRS':5})\n",
    "y_val_map"
   ]
  },
  {
   "cell_type": "markdown",
   "metadata": {},
   "source": [
    "##### < xgb_model >\n",
    "##### < xgb_pred >에 예측값 할당"
   ]
  },
  {
   "cell_type": "code",
   "execution_count": 33,
   "metadata": {
    "tags": []
   },
   "outputs": [
    {
     "data": {
      "text/plain": [
       "array([3, 0, 2, ..., 3, 3, 2], dtype=int64)"
      ]
     },
     "execution_count": 33,
     "metadata": {},
     "output_type": "execute_result"
    }
   ],
   "source": [
    "# AI 모델링\n",
    "## XGBClassifier 함수를 사용하여 xgb_model 변수에 모델을 생성 및 초기화 합니다.\n",
    "## 모델의 파라미터는 learning_rate=0.2, max_depth=2, random_state=2023 으로 설정해 주세요.\n",
    "## 모델이 생성되면 x_train, y_train 으로 모델을 학습시켜 줍니다.\n",
    "## 모델 학습이 완료되면 x_val의 결과를 예측하고 출력 합니다.\n",
    "xgb_model = XGBClassifier(learning_rate=0.2, max_depth=2, random_state=2023)\n",
    "xgb_model.fit(x_train, y_train_map)\n",
    "xgb_pred = xgb_model.predict(x_val)\n",
    "xgb_pred"
   ]
  },
  {
   "cell_type": "code",
   "execution_count": 34,
   "metadata": {
    "tags": []
   },
   "outputs": [
    {
     "name": "stdout",
     "output_type": "stream",
     "text": [
      "accuracy_score: 0.9875354107648725\n",
      "confusion_matrix:\n",
      " [[315  11   0   0   0   0]\n",
      " [  8 320   0   0   0   0]\n",
      " [  0   0 354   0   0   0]\n",
      " [  0   1   0 270   0   0]\n",
      " [  0   0   0   0 254   0]\n",
      " [  0   0   0   1   1 230]]\n",
      "classification_report:\n",
      "               precision    recall  f1-score   support\n",
      "\n",
      "           0       0.98      0.97      0.97       326\n",
      "           1       0.96      0.98      0.97       328\n",
      "           2       1.00      1.00      1.00       354\n",
      "           3       1.00      1.00      1.00       271\n",
      "           4       1.00      1.00      1.00       254\n",
      "           5       1.00      0.99      1.00       232\n",
      "\n",
      "    accuracy                           0.99      1765\n",
      "   macro avg       0.99      0.99      0.99      1765\n",
      "weighted avg       0.99      0.99      0.99      1765\n",
      "\n"
     ]
    }
   ],
   "source": [
    "# 모델 평가 출력(accuracy_score, confusion_matrix, classification_report)\n",
    "print(\"accuracy_score:\",accuracy_score(y_val_map, xgb_pred))\n",
    "print(\"confusion_matrix:\\n\",confusion_matrix(y_val_map, xgb_pred))\n",
    "print(\"classification_report:\\n\",classification_report(y_val_map, xgb_pred))"
   ]
  },
  {
   "cell_type": "markdown",
   "metadata": {},
   "source": [
    "##### < result.loc[4] >에 XGBClassifier 성능지표 할당"
   ]
  },
  {
   "cell_type": "code",
   "execution_count": 35,
   "metadata": {
    "tags": []
   },
   "outputs": [],
   "source": [
    "# XGBClassifier 예측결과 저장\n",
    "## result 데이터프레임 4번 인덱스에 모델 'xgb'(모델명), 'train'(검증 데이터명), accuracy_score 결과, f1_score 결과를 할당해 주세요.\n",
    "## 데이터프레임의 특정 행(인덱스)에 데이터를 삽입 하려면 .loc[인덱스] 매서드를 사용합니다.\n",
    "## f1_score의 평균은 'macro' 파라미터를 사용 합니다.\n",
    "## 예측 결과가 잘 할당 되었는지 확인해 주세요.\n",
    "result.loc[4] = [\"xgb\", \"train\", accuracy_score(y_val_map, xgb_pred), f1_score(y_val_map, xgb_pred, average = 'macro')]"
   ]
  },
  {
   "cell_type": "code",
   "execution_count": 38,
   "metadata": {
    "tags": []
   },
   "outputs": [
    {
     "data": {
      "text/html": [
       "<div>\n",
       "<style scoped>\n",
       "    .dataframe tbody tr th:only-of-type {\n",
       "        vertical-align: middle;\n",
       "    }\n",
       "\n",
       "    .dataframe tbody tr th {\n",
       "        vertical-align: top;\n",
       "    }\n",
       "\n",
       "    .dataframe thead th {\n",
       "        text-align: right;\n",
       "    }\n",
       "</style>\n",
       "<table border=\"1\" class=\"dataframe\">\n",
       "  <thead>\n",
       "    <tr style=\"text-align: right;\">\n",
       "      <th></th>\n",
       "      <th>model_name</th>\n",
       "      <th>valid_data</th>\n",
       "      <th>accuracy_score</th>\n",
       "      <th>f1_score</th>\n",
       "    </tr>\n",
       "  </thead>\n",
       "  <tbody>\n",
       "    <tr>\n",
       "      <th>0</th>\n",
       "      <td>svc</td>\n",
       "      <td>train</td>\n",
       "      <td>0.942776</td>\n",
       "      <td>0.945949</td>\n",
       "    </tr>\n",
       "    <tr>\n",
       "      <th>1</th>\n",
       "      <td>lr</td>\n",
       "      <td>train</td>\n",
       "      <td>0.980170</td>\n",
       "      <td>0.981491</td>\n",
       "    </tr>\n",
       "    <tr>\n",
       "      <th>2</th>\n",
       "      <td>knn</td>\n",
       "      <td>train</td>\n",
       "      <td>0.942776</td>\n",
       "      <td>0.963997</td>\n",
       "    </tr>\n",
       "    <tr>\n",
       "      <th>3</th>\n",
       "      <td>gbc</td>\n",
       "      <td>train</td>\n",
       "      <td>0.980737</td>\n",
       "      <td>0.982430</td>\n",
       "    </tr>\n",
       "    <tr>\n",
       "      <th>4</th>\n",
       "      <td>xgb</td>\n",
       "      <td>train</td>\n",
       "      <td>0.987535</td>\n",
       "      <td>0.988406</td>\n",
       "    </tr>\n",
       "  </tbody>\n",
       "</table>\n",
       "</div>"
      ],
      "text/plain": [
       "  model_name valid_data  accuracy_score  f1_score\n",
       "0        svc      train        0.942776  0.945949\n",
       "1         lr      train        0.980170  0.981491\n",
       "2        knn      train        0.942776  0.963997\n",
       "3        gbc      train        0.980737  0.982430\n",
       "4        xgb      train        0.987535  0.988406"
      ]
     },
     "execution_count": 38,
     "metadata": {},
     "output_type": "execute_result"
    }
   ],
   "source": [
    "result"
   ]
  },
  {
   "cell_type": "markdown",
   "metadata": {},
   "source": [
    "### [미션3] 결과 저장 및 시각화"
   ]
  },
  {
   "cell_type": "markdown",
   "metadata": {},
   "source": [
    "\t- 실습순서: 결과(result) 저장 -> 저장확인 -> 컬럼-인덱스 변환 -> 시각화(수직막대 그래프)"
   ]
  },
  {
   "cell_type": "markdown",
   "metadata": {
    "tags": []
   },
   "source": [
    "##### < result3.csv >로 저장"
   ]
  },
  {
   "cell_type": "code",
   "execution_count": 42,
   "metadata": {
    "tags": []
   },
   "outputs": [],
   "source": [
    "# 결과 저장\n",
    "# result 변수를 인덱스 미포함하여 'result3.csv' 파일로 저장 합니다.\n",
    "# 저장경로는 현재 경로의 하위 './data' 폴더로 지정해 주세요.\n",
    "result.to_csv('./data/result3.csv',index=False)"
   ]
  },
  {
   "cell_type": "markdown",
   "metadata": {},
   "source": [
    "##### < result3.csv >가 ./data에 들어있는지 확인"
   ]
  },
  {
   "cell_type": "code",
   "execution_count": 43,
   "metadata": {
    "tags": []
   },
   "outputs": [
    {
     "data": {
      "text/plain": [
       "['features 설명.xlsx', 'features.csv', 'result3.csv', 'train_data.csv']"
      ]
     },
     "execution_count": 43,
     "metadata": {},
     "output_type": "execute_result"
    }
   ],
   "source": [
    "os.listdir('./data')"
   ]
  },
  {
   "cell_type": "markdown",
   "metadata": {},
   "source": [
    "##### < save_check > 변수에 < result3.csv > 할당"
   ]
  },
  {
   "cell_type": "code",
   "execution_count": 44,
   "metadata": {
    "tags": []
   },
   "outputs": [
    {
     "data": {
      "text/html": [
       "<div>\n",
       "<style scoped>\n",
       "    .dataframe tbody tr th:only-of-type {\n",
       "        vertical-align: middle;\n",
       "    }\n",
       "\n",
       "    .dataframe tbody tr th {\n",
       "        vertical-align: top;\n",
       "    }\n",
       "\n",
       "    .dataframe thead th {\n",
       "        text-align: right;\n",
       "    }\n",
       "</style>\n",
       "<table border=\"1\" class=\"dataframe\">\n",
       "  <thead>\n",
       "    <tr style=\"text-align: right;\">\n",
       "      <th></th>\n",
       "      <th>model_name</th>\n",
       "      <th>valid_data</th>\n",
       "      <th>accuracy_score</th>\n",
       "      <th>f1_score</th>\n",
       "    </tr>\n",
       "  </thead>\n",
       "  <tbody>\n",
       "    <tr>\n",
       "      <th>0</th>\n",
       "      <td>svc</td>\n",
       "      <td>train</td>\n",
       "      <td>0.942776</td>\n",
       "      <td>0.945949</td>\n",
       "    </tr>\n",
       "    <tr>\n",
       "      <th>1</th>\n",
       "      <td>lr</td>\n",
       "      <td>train</td>\n",
       "      <td>0.980170</td>\n",
       "      <td>0.981491</td>\n",
       "    </tr>\n",
       "    <tr>\n",
       "      <th>2</th>\n",
       "      <td>knn</td>\n",
       "      <td>train</td>\n",
       "      <td>0.942776</td>\n",
       "      <td>0.963997</td>\n",
       "    </tr>\n",
       "    <tr>\n",
       "      <th>3</th>\n",
       "      <td>gbc</td>\n",
       "      <td>train</td>\n",
       "      <td>0.980737</td>\n",
       "      <td>0.982430</td>\n",
       "    </tr>\n",
       "    <tr>\n",
       "      <th>4</th>\n",
       "      <td>xgb</td>\n",
       "      <td>train</td>\n",
       "      <td>0.987535</td>\n",
       "      <td>0.988406</td>\n",
       "    </tr>\n",
       "  </tbody>\n",
       "</table>\n",
       "</div>"
      ],
      "text/plain": [
       "  model_name valid_data  accuracy_score  f1_score\n",
       "0        svc      train        0.942776  0.945949\n",
       "1         lr      train        0.980170  0.981491\n",
       "2        knn      train        0.942776  0.963997\n",
       "3        gbc      train        0.980737  0.982430\n",
       "4        xgb      train        0.987535  0.988406"
      ]
     },
     "execution_count": 44,
     "metadata": {},
     "output_type": "execute_result"
    }
   ],
   "source": [
    "# 저장 여부 확인\n",
    "## 데이터가 파일로 잘 저장 되었는지 result3.csv 파일을 로드하여 확인 합니다.\n",
    "## 로드한 데이터는 save_check 변수에 할당해 주세요.\n",
    "save_check = pd.read_csv(\"./data/result3.csv\")\n",
    "save_check"
   ]
  },
  {
   "cell_type": "markdown",
   "metadata": {},
   "source": [
    "##### < result_comp >에 컬럼-인덱스 변환 과정하여 할당"
   ]
  },
  {
   "cell_type": "code",
   "execution_count": 46,
   "metadata": {
    "tags": []
   },
   "outputs": [
    {
     "data": {
      "text/html": [
       "<div>\n",
       "<style scoped>\n",
       "    .dataframe tbody tr th:only-of-type {\n",
       "        vertical-align: middle;\n",
       "    }\n",
       "\n",
       "    .dataframe tbody tr th {\n",
       "        vertical-align: top;\n",
       "    }\n",
       "\n",
       "    .dataframe thead th {\n",
       "        text-align: right;\n",
       "    }\n",
       "</style>\n",
       "<table border=\"1\" class=\"dataframe\">\n",
       "  <thead>\n",
       "    <tr style=\"text-align: right;\">\n",
       "      <th></th>\n",
       "      <th></th>\n",
       "      <th>accuracy_score</th>\n",
       "      <th>f1_score</th>\n",
       "    </tr>\n",
       "    <tr>\n",
       "      <th>model_name</th>\n",
       "      <th>valid_data</th>\n",
       "      <th></th>\n",
       "      <th></th>\n",
       "    </tr>\n",
       "  </thead>\n",
       "  <tbody>\n",
       "    <tr>\n",
       "      <th>svc</th>\n",
       "      <th>train</th>\n",
       "      <td>0.942776</td>\n",
       "      <td>0.945949</td>\n",
       "    </tr>\n",
       "    <tr>\n",
       "      <th>lr</th>\n",
       "      <th>train</th>\n",
       "      <td>0.980170</td>\n",
       "      <td>0.981491</td>\n",
       "    </tr>\n",
       "    <tr>\n",
       "      <th>knn</th>\n",
       "      <th>train</th>\n",
       "      <td>0.942776</td>\n",
       "      <td>0.963997</td>\n",
       "    </tr>\n",
       "    <tr>\n",
       "      <th>gbc</th>\n",
       "      <th>train</th>\n",
       "      <td>0.980737</td>\n",
       "      <td>0.982430</td>\n",
       "    </tr>\n",
       "    <tr>\n",
       "      <th>xgb</th>\n",
       "      <th>train</th>\n",
       "      <td>0.987535</td>\n",
       "      <td>0.988406</td>\n",
       "    </tr>\n",
       "  </tbody>\n",
       "</table>\n",
       "</div>"
      ],
      "text/plain": [
       "                       accuracy_score  f1_score\n",
       "model_name valid_data                          \n",
       "svc        train             0.942776  0.945949\n",
       "lr         train             0.980170  0.981491\n",
       "knn        train             0.942776  0.963997\n",
       "gbc        train             0.980737  0.982430\n",
       "xgb        train             0.987535  0.988406"
      ]
     },
     "execution_count": 46,
     "metadata": {},
     "output_type": "execute_result"
    }
   ],
   "source": [
    "save_check.set_index([\"model_name\",\"valid_data\"])"
   ]
  },
  {
   "cell_type": "code",
   "execution_count": 47,
   "metadata": {
    "tags": []
   },
   "outputs": [
    {
     "data": {
      "text/html": [
       "<div>\n",
       "<style scoped>\n",
       "    .dataframe tbody tr th:only-of-type {\n",
       "        vertical-align: middle;\n",
       "    }\n",
       "\n",
       "    .dataframe tbody tr th {\n",
       "        vertical-align: top;\n",
       "    }\n",
       "\n",
       "    .dataframe thead th {\n",
       "        text-align: right;\n",
       "    }\n",
       "</style>\n",
       "<table border=\"1\" class=\"dataframe\">\n",
       "  <thead>\n",
       "    <tr style=\"text-align: right;\">\n",
       "      <th></th>\n",
       "      <th></th>\n",
       "      <th>accuracy_score</th>\n",
       "      <th>f1_score</th>\n",
       "    </tr>\n",
       "    <tr>\n",
       "      <th>model_name</th>\n",
       "      <th>valid_data</th>\n",
       "      <th></th>\n",
       "      <th></th>\n",
       "    </tr>\n",
       "  </thead>\n",
       "  <tbody>\n",
       "    <tr>\n",
       "      <th>svc</th>\n",
       "      <th>train</th>\n",
       "      <td>0.942776</td>\n",
       "      <td>0.945949</td>\n",
       "    </tr>\n",
       "    <tr>\n",
       "      <th>lr</th>\n",
       "      <th>train</th>\n",
       "      <td>0.980170</td>\n",
       "      <td>0.981491</td>\n",
       "    </tr>\n",
       "    <tr>\n",
       "      <th>knn</th>\n",
       "      <th>train</th>\n",
       "      <td>0.942776</td>\n",
       "      <td>0.963997</td>\n",
       "    </tr>\n",
       "    <tr>\n",
       "      <th>gbc</th>\n",
       "      <th>train</th>\n",
       "      <td>0.980737</td>\n",
       "      <td>0.982430</td>\n",
       "    </tr>\n",
       "    <tr>\n",
       "      <th>xgb</th>\n",
       "      <th>train</th>\n",
       "      <td>0.987535</td>\n",
       "      <td>0.988406</td>\n",
       "    </tr>\n",
       "  </tbody>\n",
       "</table>\n",
       "</div>"
      ],
      "text/plain": [
       "                       accuracy_score  f1_score\n",
       "model_name valid_data                          \n",
       "svc        train             0.942776  0.945949\n",
       "lr         train             0.980170  0.981491\n",
       "knn        train             0.942776  0.963997\n",
       "gbc        train             0.980737  0.982430\n",
       "xgb        train             0.987535  0.988406"
      ]
     },
     "execution_count": 47,
     "metadata": {},
     "output_type": "execute_result"
    }
   ],
   "source": [
    "# 컬럼-인덱스 변환\n",
    "## save_check 데이터 프레임의 ['model_name', 'valid_data'] 컬럼을 지정하여 인덱스로 설정해 줍니다.\n",
    "## 변환한 값은 result_comp 변수에 할당해 주세요.\n",
    "## 참고함수: set_index\n",
    "result_comp = save_check.set_index([\"model_name\",\"valid_data\"])\n",
    "result_comp"
   ]
  },
  {
   "cell_type": "markdown",
   "metadata": {},
   "source": [
    "##### < result_comp로 시각화 >"
   ]
  },
  {
   "cell_type": "code",
   "execution_count": 49,
   "metadata": {
    "tags": []
   },
   "outputs": [
    {
     "data": {
      "text/plain": [
       "(5, 2)"
      ]
     },
     "execution_count": 49,
     "metadata": {},
     "output_type": "execute_result"
    }
   ],
   "source": [
    "result_comp.shape"
   ]
  },
  {
   "cell_type": "code",
   "execution_count": 53,
   "metadata": {
    "tags": []
   },
   "outputs": [
    {
     "data": {
      "image/png": "[encoded data removed]",
      "text/plain": [
       "<Figure size 640x480 with 1 Axes>"
      ]
     },
     "metadata": {},
     "output_type": "display_data"
    }
   ],
   "source": [
    "# 모델별 결과 시각화\n",
    "# pandas의 plot 함수을 사용하여 AI모델 별 accuracy_score, f1_score 수직 그래프 시각화 합니다.\n",
    "# grid를 추가해 주세요.\n",
    "# legend를 표시하고, 위치는 center 입니다.\n",
    "import matplotlib.pyplot as plt\n",
    "result_comp.plot(kind= 'bar')\n",
    "plt.legend(loc= 'center'  )\n",
    "plt.grid()\n",
    "plt.show()"
   ]
  },
  {
   "cell_type": "markdown",
   "metadata": {},
   "source": [
    "---------"
   ]
  },
  {
   "cell_type": "markdown",
   "metadata": {},
   "source": [
    "## 수고하셨습니다."
   ]
  },
  {
   "cell_type": "markdown",
   "metadata": {},
   "source": [
    "----------"
   ]
  }
 ],
 "metadata": {
  "colab": {
   "collapsed_sections": [
    "qYbmMZar6VKS",
    "Zk42KHA18n6V"
   ],
   "provenance": []
  },
  "kernelspec": {
   "display_name": "Python 3 (ipykernel)",
   "language": "python",
   "name": "python3"
  },
  "language_info": {
   "codemirror_mode": {
    "name": "ipython",
    "version": 3
   },
   "file_extension": ".py",
   "mimetype": "text/x-python",
   "name": "python",
   "nbconvert_exporter": "python",
   "pygments_lexer": "ipython3",
   "version": "3.11.4"
  },
  "vscode": {
   "interpreter": {
    "hash": "f08154012ddadd8e950e6e9e035c7a7b32c136e7647e9b7c77e02eb723a8bedb"
   }
  }
 },
 "nbformat": 4,
 "nbformat_minor": 4
}
